{
 "cells": [
  {
   "cell_type": "code",
   "execution_count": 9,
   "outputs": [],
   "source": [
    "from nlp.recipes_utils import *\n",
    "import sys\n",
    "import os\n",
    "import ast\n",
    "import random\n",
    "import pandas as pd\n",
    "import numpy as np\n",
    "import pickle\n",
    "\n",
    "from matplotlib import pyplot as plt\n",
    "import tensorflow as tf\n",
    "\n",
    "from sklearn.feature_extraction.text import TfidfVectorizer\n",
    "from sklearn.model_selection import train_test_split\n",
    "from sklearn.metrics.pairwise import cosine_similarity\n",
    "\n",
    "import torch\n",
    "\n",
    "# !pip install bayesian-optimization\n",
    "from bayes_opt import BayesianOptimization"
   ],
   "metadata": {
    "collapsed": false,
    "ExecuteTime": {
     "end_time": "2024-04-30T12:34:48.773894Z",
     "start_time": "2024-04-30T12:34:48.449783Z"
    }
   },
   "id": "777c63fe724d0fe5"
  },
  {
   "cell_type": "code",
   "execution_count": 10,
   "id": "initial_id",
   "metadata": {
    "collapsed": true,
    "ExecuteTime": {
     "end_time": "2024-04-30T12:34:48.782754Z",
     "start_time": "2024-04-30T12:34:48.452709Z"
    }
   },
   "outputs": [
    {
     "name": "stdout",
     "output_type": "stream",
     "text": [
      "Python version:  3.8.19 (default, Mar 20 2024, 15:27:52) \n",
      "[Clang 14.0.6 ]\n",
      "sys.version_info(major=3, minor=8, micro=19, releaselevel='final', serial=0)\n"
     ]
    }
   ],
   "source": [
    "print(\"Python version: \", sys.version)\n",
    "print(sys.version_info)"
   ]
  },
  {
   "cell_type": "code",
   "execution_count": 11,
   "outputs": [
    {
     "name": "stdout",
     "output_type": "stream",
     "text": [
      "Device set to: mps\n"
     ]
    }
   ],
   "source": [
    "device = set_device()  # Set device to maximize performance"
   ],
   "metadata": {
    "collapsed": false,
    "ExecuteTime": {
     "end_time": "2024-04-30T12:34:48.782926Z",
     "start_time": "2024-04-30T12:34:48.455708Z"
    }
   },
   "id": "ecc9a6b47f73c310"
  },
  {
   "cell_type": "code",
   "execution_count": 12,
   "outputs": [],
   "source": [
    "clear_memory(device)  # Clear unused memory"
   ],
   "metadata": {
    "collapsed": false,
    "ExecuteTime": {
     "end_time": "2024-04-30T12:34:48.787176Z",
     "start_time": "2024-04-30T12:34:48.457996Z"
    }
   },
   "id": "2b908ad6a3385274"
  },
  {
   "cell_type": "code",
   "execution_count": 13,
   "outputs": [
    {
     "name": "stdout",
     "output_type": "stream",
     "text": [
      "Traceback (most recent call last):\r\n",
      "  File \"<string>\", line 1, in <module>\r\n",
      "NameError: name 'split_and_save_recipe_datasets' is not defined\r\n"
     ]
    }
   ],
   "source": [
    "# make sure ./data/recipes.pickle exists\n",
    "!python -c 'from recipes_utils import *; split_and_save_recipe_datasets(preprocess=True)'"
   ],
   "metadata": {
    "collapsed": false,
    "ExecuteTime": {
     "end_time": "2024-04-30T12:34:50.238254Z",
     "start_time": "2024-04-30T12:34:48.461566Z"
    }
   },
   "id": "239f355a71d174e6"
  },
  {
   "cell_type": "code",
   "execution_count": 14,
   "outputs": [],
   "source": [
    "# RECIPE DATASET PROCESSING\n",
    "DIR_DATA_PATH = '../data/recipes'\n",
    "FULL_RECIPES_PATH = f'{DIR_DATA_PATH}/full_dataset.csv'\n",
    "FULL_RECIPES_PICKLE_PATH = f'../data/recipes.pickle'\n",
    "TRAIN_PICKLE_PATH = f'{DIR_DATA_PATH}/train.pickle'\n",
    "VAL_PICKLE_PATH = f'{DIR_DATA_PATH}/val.pickle'\n",
    "TEST_PICKLE_PATH = f'{DIR_DATA_PATH}/test.pickle'\n",
    "\n",
    "KEEP_COLUMNS = ['title', 'ingredients', 'directions', 'NER']\n",
    "\n",
    "# Special markers to separate the recipe components\n",
    "MARKER_TITLE = '<t>'\n",
    "MARKER_INGREDIENTS = '<i>'\n",
    "MARKER_DIRECTIONS = '<d>'\n",
    "MARKER_STOP = '_'\n",
    "MAX_TEXT_LENGTH = 500"
   ],
   "metadata": {
    "collapsed": false,
    "ExecuteTime": {
     "end_time": "2024-04-30T12:34:50.241392Z",
     "start_time": "2024-04-30T12:34:50.239590Z"
    }
   },
   "id": "948e0f1b7975e22a"
  },
  {
   "cell_type": "code",
   "execution_count": 15,
   "outputs": [],
   "source": [
    "full_dataset = load_pickle(FULL_RECIPES_PICKLE_PATH)"
   ],
   "metadata": {
    "collapsed": false,
    "ExecuteTime": {
     "end_time": "2024-04-30T12:34:52.621156Z",
     "start_time": "2024-04-30T12:34:50.242033Z"
    }
   },
   "id": "12142ec8c8c5e09f"
  },
  {
   "cell_type": "code",
   "execution_count": 16,
   "outputs": [
    {
     "name": "stdout",
     "output_type": "stream",
     "text": [
      "<class 'pandas.core.frame.DataFrame'>\n",
      "Index: 2231141 entries, 0 to 2231141\n",
      "Data columns (total 6 columns):\n",
      " #   Column       Dtype \n",
      "---  ------       ----- \n",
      " 0   title        object\n",
      " 1   ingredients  object\n",
      " 2   directions   object\n",
      " 3   link         object\n",
      " 4   source       object\n",
      " 5   NER          object\n",
      "dtypes: object(6)\n",
      "memory usage: 119.2+ MB\n"
     ]
    }
   ],
   "source": [
    "# recipes = process_recipe_data(full_dataset)\n",
    "full_dataset = full_dataset.dropna()\n",
    "full_dataset.info()"
   ],
   "metadata": {
    "collapsed": false,
    "ExecuteTime": {
     "end_time": "2024-04-30T12:34:53.148326Z",
     "start_time": "2024-04-30T12:34:52.937204Z"
    }
   },
   "id": "cb7eb99a1e7c1879"
  },
  {
   "cell_type": "code",
   "execution_count": 17,
   "outputs": [],
   "source": [
    "def transform_list_to_string(list_str, as_list=True):\n",
    "    # Parse the string as a list\n",
    "    parsed_list = ast.literal_eval(list_str)\n",
    "    # Format as a bulleted list or join with semicolons based on the flag\n",
    "    if as_list:\n",
    "        return \"\\n\".join(f\"- {item}\" for item in parsed_list)\n",
    "    else:\n",
    "        return \" \".join(parsed_list)\n",
    "\n",
    "\n",
    "def recipe_to_str(data):\n",
    "    # Apply the transformation to ingredients and directions with list formatting\n",
    "    data['ingredients_string'] = data['ingredients'].apply(lambda x: transform_list_to_string(x, as_list=True))\n",
    "    data['directions_string'] = data['directions'].apply(lambda x: transform_list_to_string(x, as_list=False))\n",
    "\n",
    "    # Create a new column by concatenating title, ingredients, and directions with specific markers\n",
    "    data['combined'] = (MARKER_TITLE + \"Recipe: \" + data['title'] + \"\\n\\n\" +\n",
    "                        MARKER_INGREDIENTS + \"Ingredients:\\n\" + data['ingredients_string'] + \"\\n\\n\" +\n",
    "                        MARKER_DIRECTIONS + \"Directions: \" + data['directions_string'])\n",
    "\n",
    "    # Drop intermediate columns used for processing\n",
    "    data.drop(['ingredients_string', 'directions_string'], axis=1, inplace=True)\n",
    "\n",
    "    return data"
   ],
   "metadata": {
    "collapsed": false,
    "ExecuteTime": {
     "end_time": "2024-04-30T12:34:53.151228Z",
     "start_time": "2024-04-30T12:34:53.148580Z"
    }
   },
   "id": "29722806d628949"
  },
  {
   "cell_type": "code",
   "execution_count": 18,
   "outputs": [
    {
     "name": "stderr",
     "output_type": "stream",
     "text": [
      "/var/folders/v2/czt_wcgn5dl4yzd4vy94xpwh0000gn/T/ipykernel_18417/1096789508.py:13: SettingWithCopyWarning: \n",
      "A value is trying to be set on a copy of a slice from a DataFrame.\n",
      "Try using .loc[row_indexer,col_indexer] = value instead\n",
      "\n",
      "See the caveats in the documentation: https://pandas.pydata.org/pandas-docs/stable/user_guide/indexing.html#returning-a-view-versus-a-copy\n",
      "  data['ingredients_string'] = data['ingredients'].apply(lambda x: transform_list_to_string(x, as_list=True))\n"
     ]
    },
    {
     "data": {
      "text/plain": "                   title                                        ingredients  \\\n0    No-Bake Nut Cookies  [\"1 c. firmly packed brown sugar\", \"1/2 c. eva...   \n1  Jewell Ball'S Chicken  [\"1 small jar chipped beef, cut up\", \"4 boned ...   \n2            Creamy Corn  [\"2 (16 oz.) pkg. frozen corn\", \"1 (8 oz.) pkg...   \n3          Chicken Funny  [\"1 large whole chicken\", \"2 (10 1/2 oz.) cans...   \n4   Reeses Cups(Candy)    [\"1 c. peanut butter\", \"3/4 c. graham cracker ...   \n\n                                          directions  \\\n0  [\"In a heavy 2-quart saucepan, mix brown sugar...   \n1  [\"Place chipped beef on bottom of baking dish....   \n2  [\"In a slow cooker, combine all ingredients. C...   \n3  [\"Boil and debone chicken.\", \"Put bite size pi...   \n4  [\"Combine first four ingredients and press in ...   \n\n                                                 NER  \\\n0  [\"brown sugar\", \"milk\", \"vanilla\", \"nuts\", \"bu...   \n1  [\"beef\", \"chicken breasts\", \"cream of mushroom...   \n2  [\"frozen corn\", \"cream cheese\", \"butter\", \"gar...   \n3  [\"chicken\", \"chicken gravy\", \"cream of mushroo...   \n4  [\"peanut butter\", \"graham cracker crumbs\", \"bu...   \n\n                                            combined  \n0  <t>Recipe: No-Bake Nut Cookies\\n\\n<i>Ingredien...  \n1  <t>Recipe: Jewell Ball'S Chicken\\n\\n<i>Ingredi...  \n2  <t>Recipe: Creamy Corn\\n\\n<i>Ingredients:\\n- 2...  \n3  <t>Recipe: Chicken Funny\\n\\n<i>Ingredients:\\n-...  \n4  <t>Recipe: Reeses Cups(Candy)  \\n\\n<i>Ingredie...  ",
      "text/html": "<div>\n<style scoped>\n    .dataframe tbody tr th:only-of-type {\n        vertical-align: middle;\n    }\n\n    .dataframe tbody tr th {\n        vertical-align: top;\n    }\n\n    .dataframe thead th {\n        text-align: right;\n    }\n</style>\n<table border=\"1\" class=\"dataframe\">\n  <thead>\n    <tr style=\"text-align: right;\">\n      <th></th>\n      <th>title</th>\n      <th>ingredients</th>\n      <th>directions</th>\n      <th>NER</th>\n      <th>combined</th>\n    </tr>\n  </thead>\n  <tbody>\n    <tr>\n      <th>0</th>\n      <td>No-Bake Nut Cookies</td>\n      <td>[\"1 c. firmly packed brown sugar\", \"1/2 c. eva...</td>\n      <td>[\"In a heavy 2-quart saucepan, mix brown sugar...</td>\n      <td>[\"brown sugar\", \"milk\", \"vanilla\", \"nuts\", \"bu...</td>\n      <td>&lt;t&gt;Recipe: No-Bake Nut Cookies\\n\\n&lt;i&gt;Ingredien...</td>\n    </tr>\n    <tr>\n      <th>1</th>\n      <td>Jewell Ball'S Chicken</td>\n      <td>[\"1 small jar chipped beef, cut up\", \"4 boned ...</td>\n      <td>[\"Place chipped beef on bottom of baking dish....</td>\n      <td>[\"beef\", \"chicken breasts\", \"cream of mushroom...</td>\n      <td>&lt;t&gt;Recipe: Jewell Ball'S Chicken\\n\\n&lt;i&gt;Ingredi...</td>\n    </tr>\n    <tr>\n      <th>2</th>\n      <td>Creamy Corn</td>\n      <td>[\"2 (16 oz.) pkg. frozen corn\", \"1 (8 oz.) pkg...</td>\n      <td>[\"In a slow cooker, combine all ingredients. C...</td>\n      <td>[\"frozen corn\", \"cream cheese\", \"butter\", \"gar...</td>\n      <td>&lt;t&gt;Recipe: Creamy Corn\\n\\n&lt;i&gt;Ingredients:\\n- 2...</td>\n    </tr>\n    <tr>\n      <th>3</th>\n      <td>Chicken Funny</td>\n      <td>[\"1 large whole chicken\", \"2 (10 1/2 oz.) cans...</td>\n      <td>[\"Boil and debone chicken.\", \"Put bite size pi...</td>\n      <td>[\"chicken\", \"chicken gravy\", \"cream of mushroo...</td>\n      <td>&lt;t&gt;Recipe: Chicken Funny\\n\\n&lt;i&gt;Ingredients:\\n-...</td>\n    </tr>\n    <tr>\n      <th>4</th>\n      <td>Reeses Cups(Candy)</td>\n      <td>[\"1 c. peanut butter\", \"3/4 c. graham cracker ...</td>\n      <td>[\"Combine first four ingredients and press in ...</td>\n      <td>[\"peanut butter\", \"graham cracker crumbs\", \"bu...</td>\n      <td>&lt;t&gt;Recipe: Reeses Cups(Candy)  \\n\\n&lt;i&gt;Ingredie...</td>\n    </tr>\n  </tbody>\n</table>\n</div>"
     },
     "execution_count": 18,
     "metadata": {},
     "output_type": "execute_result"
    }
   ],
   "source": [
    "recipes = full_dataset[KEEP_COLUMNS]\n",
    "recipes = recipe_to_str(recipes)\n",
    "recipes.head()"
   ],
   "metadata": {
    "collapsed": false,
    "ExecuteTime": {
     "end_time": "2024-04-30T12:35:43.370877Z",
     "start_time": "2024-04-30T12:34:53.151140Z"
    }
   },
   "id": "2a2e1f7ec2506049"
  },
  {
   "cell_type": "code",
   "execution_count": 19,
   "outputs": [
    {
     "name": "stdout",
     "output_type": "stream",
     "text": [
      "<t>Recipe: No-Bake Nut Cookies\n",
      "\n",
      "<i>Ingredients:\n",
      "- 1 c. firmly packed brown sugar\n",
      "- 1/2 c. evaporated milk\n",
      "- 1/2 tsp. vanilla\n",
      "- 1/2 c. broken nuts (pecans)\n",
      "- 2 Tbsp. butter or margarine\n",
      "- 3 1/2 c. bite size shredded rice biscuits\n",
      "\n",
      "<d>Directions: In a heavy 2-quart saucepan, mix brown sugar, nuts, evaporated milk and butter or margarine. Stir over medium heat until mixture bubbles all over top. Boil and stir 5 minutes more. Take off heat. Stir in vanilla and cereal; mix well. Using 2 teaspoons, drop and shape into 30 clusters on wax paper. Let stand until firm, about 30 minutes.\n"
     ]
    }
   ],
   "source": [
    "# Sample Recipe as string\n",
    "print(recipes['combined'][0])"
   ],
   "metadata": {
    "collapsed": false,
    "ExecuteTime": {
     "end_time": "2024-04-30T12:35:43.377472Z",
     "start_time": "2024-04-30T12:35:43.370141Z"
    }
   },
   "id": "88e68a9c8f31230a"
  },
  {
   "cell_type": "code",
   "execution_count": 20,
   "outputs": [
    {
     "data": {
      "text/plain": "<Figure size 640x480 with 1 Axes>",
      "image/png": "[encoded data removed]"
     },
     "metadata": {},
     "output_type": "display_data"
    }
   ],
   "source": [
    "# Check which recipe length is best for sequence length limit\n",
    "recipe_lengths = [len(recipe_text) for recipe_text in recipes[\"combined\"]]\n",
    "plt.hist(recipe_lengths, bins=50)\n",
    "plt.show()"
   ],
   "metadata": {
    "collapsed": false,
    "ExecuteTime": {
     "end_time": "2024-04-30T12:35:45.674188Z",
     "start_time": "2024-04-30T12:35:43.433266Z"
    }
   },
   "id": "eab78cab644a2058"
  },
  {
   "cell_type": "code",
   "execution_count": 21,
   "outputs": [
    {
     "name": "stdout",
     "output_type": "stream",
     "text": [
      "Before filtering:  2231141\n",
      "After filtering:  736028\n"
     ]
    }
   ],
   "source": [
    "# Filter data based on the maximum text length for specified column. We keep those with MAX_TEXT_LENGTH\n",
    "recipes_filtered = recipes[recipes['combined'].apply(len) <= MAX_TEXT_LENGTH]\n",
    "print(\"Before filtering: \", len(full_dataset))\n",
    "print(\"After filtering: \", len(recipes_filtered))"
   ],
   "metadata": {
    "collapsed": false,
    "ExecuteTime": {
     "end_time": "2024-04-30T12:35:46.119488Z",
     "start_time": "2024-04-30T12:35:45.670568Z"
    }
   },
   "id": "1d7b57145d68b553"
  },
  {
   "cell_type": "code",
   "execution_count": 22,
   "outputs": [],
   "source": [
    "##################################################################################################################\n",
    "# RUN if ./data/recipes/ does not exist \n",
    "##################################################################################################################\n",
    "# Split the dataset into train, val and split\n",
    "# train_dataset, val_dataset, test_dataset = split_data(recipes, train_size=0.7, val_size=0.15, test_size=0.15)\n",
    "# \n",
    "# # Save the datasets to files\n",
    "# if not os.path.exists(DIR_DATA_PATH):\n",
    "#     os.makedirs(DIR_DATA_PATH)\n",
    "# \n",
    "# save_pickle(train_dataset, TRAIN_PICKLE_PATH)\n",
    "# save_pickle(val_dataset, VAL_PICKLE_PATH)\n",
    "# save_pickle(test_dataset, TEST_PICKLE_PATH)\n",
    "# save_pickle(recipes_filtered, DIR_DATA_PATH + '/recipes_processed.pickle')\n",
    "# \n",
    "##################################################################################################################"
   ],
   "metadata": {
    "collapsed": false,
    "ExecuteTime": {
     "end_time": "2024-04-30T12:35:46.121959Z",
     "start_time": "2024-04-30T12:35:46.120300Z"
    }
   },
   "id": "7251e3bcde043333"
  },
  {
   "cell_type": "code",
   "execution_count": 23,
   "outputs": [
    {
     "name": "stdout",
     "output_type": "stream",
     "text": [
      "MAX_RECIPE_LENGTH: 500\n",
      "TOTAL RECIPES: 222\n",
      "- Train: 156 \n",
      "- Val: 33 \n",
      "- Test: 33\n"
     ]
    }
   ],
   "source": [
    "# Load only a % of entries\n",
    "# Note: 0.001 approx. 1500+ entries; 0.0001% = 155/33/33; 0.00005% = 78/16/16\n",
    "\n",
    "keep_pct = 0.0001\n",
    "# train, val, test = load_splits(TRAIN_PICKLE_PATH, VAL_PICKLE_PATH, TEST_PICKLE_PATH, keep_pct=pct) \n",
    "\n",
    "train = load_pickle(TRAIN_PICKLE_PATH)\n",
    "val = load_pickle(VAL_PICKLE_PATH)\n",
    "test = load_pickle(TEST_PICKLE_PATH)\n",
    "\n",
    "train = train.sample(frac=keep_pct, random_state=42)\n",
    "val = val.sample(frac=keep_pct, random_state=42)\n",
    "test = test.sample(frac=keep_pct, random_state=42)\n",
    "\n",
    "print(f'MAX_RECIPE_LENGTH: {MAX_TEXT_LENGTH}')\n",
    "print(f'TOTAL RECIPES: {len(train) + len(val) + len(test)}')\n",
    "print(f\"- Train: {len(train)} \\n\"\n",
    "      f\"- Val: {len(val)} \\n\"\n",
    "      f\"- Test: {len(test)}\")"
   ],
   "metadata": {
    "collapsed": false,
    "ExecuteTime": {
     "end_time": "2024-04-30T12:35:50.290072Z",
     "start_time": "2024-04-30T12:35:46.122921Z"
    }
   },
   "id": "d68c645cc395c6b9"
  },
  {
   "cell_type": "code",
   "execution_count": 24,
   "outputs": [],
   "source": [
    "# only keep column with recipe texts\n",
    "train = train[\"combined\"]\n",
    "val = val['combined']\n",
    "test = test['combined']"
   ],
   "metadata": {
    "collapsed": false,
    "ExecuteTime": {
     "end_time": "2024-04-30T12:35:50.300759Z",
     "start_time": "2024-04-30T12:35:50.296628Z"
    }
   },
   "id": "356ff65cd37b263"
  },
  {
   "cell_type": "markdown",
   "source": [
    "https://www.tensorflow.org/text/tutorials/text_generation"
   ],
   "metadata": {
    "collapsed": false
   },
   "id": "5871d02daad5bc2b"
  },
  {
   "cell_type": "markdown",
   "source": [
    "## TOKEN"
   ],
   "metadata": {
    "collapsed": false
   },
   "id": "b20a605376b8b6f6"
  },
  {
   "cell_type": "code",
   "execution_count": 25,
   "outputs": [
    {
     "data": {
      "text/plain": "{'num_words': None,\n 'filters': '',\n 'lower': False,\n 'split': '',\n 'char_level': True,\n 'oov_token': None,\n 'document_count': 157,\n 'word_counts': '{\"_\": 1, \"<\": 468, \"t\": 4970, \">\": 468, \"R\": 239, \"e\": 8297, \"c\": 3064, \"i\": 5153, \"p\": 2444, \":\": 484, \" \": 15378, \"C\": 309, \"r\": 4618, \"a\": 5122, \"n\": 5038, \"b\": 1221, \"y\": 554, \"l\": 3237, \"s\": 4235, \"h\": 2061, \"\\\\n\": 1827, \"I\": 241, \"g\": 1899, \"d\": 3039, \"-\": 1371, \"1\": 1116, \"o\": 5170, \"2\": 596, \"u\": 2206, \"/\": 444, \".\": 1652, \"x\": 247, \"w\": 790, \"J\": 17, \"O\": 27, \"k\": 860, \"(\": 187, \")\": 188, \"D\": 223, \"W\": 51, \",\": 786, \"P\": 191, \"G\": 39, \"m\": 1547, \"A\": 185, \"f\": 887, \"S\": 280, \"4\": 261, \"3\": 290, \"v\": 603, \"T\": 143, \";\": 84, \"M\": 137, \"B\": 177, \"0\": 164, \"Y\": 10, \"\\'\": 25, \"F\": 88, \"q\": 69, \"j\": 125, \"6\": 76, \"z\": 149, \"H\": 41, \"N\": 8, \"5\": 147, \"\\\\u00b0\": 50, \"7\": 18, \"[\": 4, \"]\": 4, \"K\": 12, \"L\": 56, \"&\": 13, \"U\": 10, \"8\": 74, \"9\": 29, \"Q\": 5, \"E\": 26, \"V\": 17, \"!\": 6, \"Z\": 3, \"\\\\\"\": 10, \"#\": 3, \"%\": 7, \"\\\\u2019\": 1, \"\\\\t\": 6}',\n 'word_docs': '{\"_\": 1, \" \": 156, \"y\": 135, \"l\": 155, \"t\": 156, \"k\": 150, \"/\": 130, \"h\": 156, \":\": 156, \"R\": 156, \"O\": 16, \"J\": 14, \"2\": 141, \"o\": 156, \"e\": 156, \"d\": 156, \"P\": 99, \".\": 155, \"A\": 95, \"G\": 35, \"\\\\n\": 156, \"W\": 40, \")\": 93, \"c\": 156, \"1\": 153, \"<\": 156, \"(\": 92, \"a\": 156, \"D\": 156, \"m\": 156, \"-\": 156, \">\": 156, \"n\": 156, \"w\": 146, \"I\": 156, \"g\": 156, \"b\": 150, \"u\": 156, \",\": 131, \"C\": 135, \"x\": 118, \"s\": 156, \"i\": 156, \"p\": 156, \"f\": 146, \"r\": 156, \"3\": 114, \"T\": 81, \"4\": 115, \"v\": 136, \";\": 49, \"S\": 117, \"B\": 96, \"M\": 84, \"Y\": 10, \"0\": 84, \"q\": 36, \"F\": 59, \"j\": 62, \"\\'\": 21, \"6\": 58, \"5\": 81, \"N\": 8, \"H\": 30, \"\\\\u00b0\": 46, \"z\": 67, \"7\": 16, \"[\": 1, \"K\": 7, \"L\": 42, \"]\": 1, \"&\": 7, \"U\": 9, \"8\": 53, \"9\": 25, \"Q\": 5, \"E\": 14, \"V\": 10, \"!\": 5, \"Z\": 3, \"\\\\\"\": 6, \"#\": 1, \"%\": 2, \"\\\\u2019\": 1, \"\\\\t\": 3}',\n 'index_docs': '{\"1\": 156, \"84\": 1, \"29\": 135, \"10\": 155, \"7\": 156, \"24\": 150, \"33\": 130, \"15\": 156, \"30\": 156, \"40\": 156, \"64\": 16, \"68\": 14, \"28\": 141, \"3\": 156, \"2\": 156, \"12\": 156, \"42\": 99, \"18\": 155, \"45\": 95, \"62\": 35, \"17\": 156, \"59\": 40, \"43\": 93, \"11\": 156, \"22\": 153, \"31\": 156, \"44\": 92, \"5\": 156, \"41\": 156, \"19\": 156, \"20\": 156, \"32\": 156, \"6\": 156, \"25\": 146, \"39\": 156, \"16\": 156, \"21\": 150, \"14\": 156, \"26\": 131, \"34\": 135, \"38\": 118, \"9\": 156, \"4\": 156, \"13\": 156, \"23\": 146, \"8\": 156, \"35\": 114, \"50\": 81, \"37\": 115, \"27\": 136, \"54\": 49, \"36\": 117, \"46\": 96, \"51\": 84, \"72\": 10, \"47\": 84, \"57\": 36, \"53\": 59, \"52\": 62, \"66\": 21, \"55\": 58, \"49\": 81, \"75\": 8, \"61\": 30, \"60\": 46, \"48\": 67, \"67\": 16, \"80\": 1, \"71\": 7, \"58\": 42, \"81\": 1, \"70\": 7, \"73\": 9, \"56\": 53, \"63\": 25, \"79\": 5, \"65\": 14, \"69\": 10, \"77\": 5, \"82\": 3, \"74\": 6, \"83\": 1, \"76\": 2, \"85\": 1, \"78\": 3}',\n 'index_word': '{\"1\": \" \", \"2\": \"e\", \"3\": \"o\", \"4\": \"i\", \"5\": \"a\", \"6\": \"n\", \"7\": \"t\", \"8\": \"r\", \"9\": \"s\", \"10\": \"l\", \"11\": \"c\", \"12\": \"d\", \"13\": \"p\", \"14\": \"u\", \"15\": \"h\", \"16\": \"g\", \"17\": \"\\\\n\", \"18\": \".\", \"19\": \"m\", \"20\": \"-\", \"21\": \"b\", \"22\": \"1\", \"23\": \"f\", \"24\": \"k\", \"25\": \"w\", \"26\": \",\", \"27\": \"v\", \"28\": \"2\", \"29\": \"y\", \"30\": \":\", \"31\": \"<\", \"32\": \">\", \"33\": \"/\", \"34\": \"C\", \"35\": \"3\", \"36\": \"S\", \"37\": \"4\", \"38\": \"x\", \"39\": \"I\", \"40\": \"R\", \"41\": \"D\", \"42\": \"P\", \"43\": \")\", \"44\": \"(\", \"45\": \"A\", \"46\": \"B\", \"47\": \"0\", \"48\": \"z\", \"49\": \"5\", \"50\": \"T\", \"51\": \"M\", \"52\": \"j\", \"53\": \"F\", \"54\": \";\", \"55\": \"6\", \"56\": \"8\", \"57\": \"q\", \"58\": \"L\", \"59\": \"W\", \"60\": \"\\\\u00b0\", \"61\": \"H\", \"62\": \"G\", \"63\": \"9\", \"64\": \"O\", \"65\": \"E\", \"66\": \"\\'\", \"67\": \"7\", \"68\": \"J\", \"69\": \"V\", \"70\": \"&\", \"71\": \"K\", \"72\": \"Y\", \"73\": \"U\", \"74\": \"\\\\\"\", \"75\": \"N\", \"76\": \"%\", \"77\": \"!\", \"78\": \"\\\\t\", \"79\": \"Q\", \"80\": \"[\", \"81\": \"]\", \"82\": \"Z\", \"83\": \"#\", \"84\": \"_\", \"85\": \"\\\\u2019\"}',\n 'word_index': '{\" \": 1, \"e\": 2, \"o\": 3, \"i\": 4, \"a\": 5, \"n\": 6, \"t\": 7, \"r\": 8, \"s\": 9, \"l\": 10, \"c\": 11, \"d\": 12, \"p\": 13, \"u\": 14, \"h\": 15, \"g\": 16, \"\\\\n\": 17, \".\": 18, \"m\": 19, \"-\": 20, \"b\": 21, \"1\": 22, \"f\": 23, \"k\": 24, \"w\": 25, \",\": 26, \"v\": 27, \"2\": 28, \"y\": 29, \":\": 30, \"<\": 31, \">\": 32, \"/\": 33, \"C\": 34, \"3\": 35, \"S\": 36, \"4\": 37, \"x\": 38, \"I\": 39, \"R\": 40, \"D\": 41, \"P\": 42, \")\": 43, \"(\": 44, \"A\": 45, \"B\": 46, \"0\": 47, \"z\": 48, \"5\": 49, \"T\": 50, \"M\": 51, \"j\": 52, \"F\": 53, \";\": 54, \"6\": 55, \"8\": 56, \"q\": 57, \"L\": 58, \"W\": 59, \"\\\\u00b0\": 60, \"H\": 61, \"G\": 62, \"9\": 63, \"O\": 64, \"E\": 65, \"\\'\": 66, \"7\": 67, \"J\": 68, \"V\": 69, \"&\": 70, \"K\": 71, \"Y\": 72, \"U\": 73, \"\\\\\"\": 74, \"N\": 75, \"%\": 76, \"!\": 77, \"\\\\t\": 78, \"Q\": 79, \"[\": 80, \"]\": 81, \"Z\": 82, \"#\": 83, \"_\": 84, \"\\\\u2019\": 85}'}"
     },
     "execution_count": 25,
     "metadata": {},
     "output_type": "execute_result"
    }
   ],
   "source": [
    "tokenizer = tf.keras.preprocessing.text.Tokenizer(\n",
    "    char_level=True,\n",
    "    filters='',\n",
    "    lower=False,\n",
    "    split=''\n",
    ")\n",
    "\n",
    "tokenizer.fit_on_texts([MARKER_STOP])\n",
    "tokenizer.fit_on_texts(train)\n",
    "tokenizer.get_config()"
   ],
   "metadata": {
    "collapsed": false,
    "ExecuteTime": {
     "end_time": "2024-04-30T12:35:50.358056Z",
     "start_time": "2024-04-30T12:35:50.298868Z"
    }
   },
   "id": "d535f252fe941eb"
  },
  {
   "cell_type": "code",
   "execution_count": 26,
   "outputs": [
    {
     "name": "stdout",
     "output_type": "stream",
     "text": [
      "VOCABULARY_SIZE:  86\n"
     ]
    }
   ],
   "source": [
    "# @see: https://www.tensorflow.org/api_docs/python/tf/keras/preprocessing/text/Tokenizer\n",
    "VOCABULARY_SIZE = len(tokenizer.word_counts) + 1\n",
    "print('VOCABULARY_SIZE: ', VOCABULARY_SIZE)"
   ],
   "metadata": {
    "collapsed": false,
    "ExecuteTime": {
     "end_time": "2024-04-30T12:35:50.358657Z",
     "start_time": "2024-04-30T12:35:50.329488Z"
    }
   },
   "id": "3126f30781af85bf"
  },
  {
   "cell_type": "code",
   "execution_count": 27,
   "outputs": [
    {
     "name": "stdout",
     "output_type": "stream",
     "text": [
      "a\n"
     ]
    },
    {
     "data": {
      "text/plain": "9"
     },
     "execution_count": 27,
     "metadata": {},
     "output_type": "execute_result"
    }
   ],
   "source": [
    "print(tokenizer.index_word[5])\n",
    "tokenizer.word_index['s']"
   ],
   "metadata": {
    "collapsed": false,
    "ExecuteTime": {
     "end_time": "2024-04-30T12:35:50.358791Z",
     "start_time": "2024-04-30T12:35:50.331729Z"
    }
   },
   "id": "34710ea9099c48d4"
  },
  {
   "cell_type": "code",
   "execution_count": 28,
   "outputs": [
    {
     "name": "stdout",
     "output_type": "stream",
     "text": [
      "['', ' ', 'e', 'o', 'i', 'a', 'n', 't', 'r', 's', 'l', 'c', 'd', 'p', 'u', 'h', 'g', '\\n', '.', 'm', '-', 'b', '1', 'f', 'k', 'w', ',', 'v', '2', 'y', ':', '<', '>', '/', 'C', '3', 'S', '4', 'x', 'I', 'R', 'D', 'P', ')', '(', 'A', 'B', '0', 'z', '5', 'T', 'M', 'j', 'F', ';', '6', '8', 'q', 'L', 'W', '°', 'H', 'G', '9', 'O', 'E', \"'\", '7', 'J', 'V', '&', 'K', 'Y', 'U', '\"', 'N', '%', '!', '\\t', 'Q', '[', ']', 'Z', '#', '_', '’']\n"
     ]
    }
   ],
   "source": [
    "js_vocabulary = tokenizer.sequences_to_texts([[word_index] for word_index in range(VOCABULARY_SIZE)])\n",
    "print([char for char in js_vocabulary])"
   ],
   "metadata": {
    "collapsed": false,
    "ExecuteTime": {
     "end_time": "2024-04-30T12:35:50.358900Z",
     "start_time": "2024-04-30T12:35:50.334558Z"
    }
   },
   "id": "b189fe1fcbf59c61"
  },
  {
   "cell_type": "markdown",
   "source": [
    "## VECTORIZING FOR RNN"
   ],
   "metadata": {
    "collapsed": false
   },
   "id": "b70df294517bb090"
  },
  {
   "cell_type": "code",
   "execution_count": 29,
   "outputs": [],
   "source": [
    "def recipe_sequence_to_string(recipe_sequence):\n",
    "    recipe_str = tokenizer.sequences_to_texts([recipe_sequence])[0]\n",
    "    recipe_str = recipe_str.replace('   ', '_').replace(' ', '').replace('_', ' ')\n",
    "    print(recipe_str)"
   ],
   "metadata": {
    "collapsed": false,
    "ExecuteTime": {
     "end_time": "2024-04-30T12:35:50.358940Z",
     "start_time": "2024-04-30T12:35:50.336741Z"
    }
   },
   "id": "445095d29baeeb9e"
  },
  {
   "cell_type": "code",
   "execution_count": 30,
   "outputs": [
    {
     "name": "stdout",
     "output_type": "stream",
     "text": [
      "Vectorized train size 156\n",
      "[31, 7, 32, 40, 2, 11, 4, 13, 2, 30] ...\n"
     ]
    }
   ],
   "source": [
    "train_vectorized = tokenizer.texts_to_sequences(train)\n",
    "print('Vectorized train size', len(train_vectorized))\n",
    "print(train_vectorized[0][:10], '...')"
   ],
   "metadata": {
    "collapsed": false,
    "ExecuteTime": {
     "end_time": "2024-04-30T12:35:50.359034Z",
     "start_time": "2024-04-30T12:35:50.345060Z"
    }
   },
   "id": "4ab44a5f1234f6d2"
  },
  {
   "cell_type": "code",
   "execution_count": 31,
   "outputs": [
    {
     "name": "stdout",
     "output_type": "stream",
     "text": [
      "<t>Recipe: Country Apple Slaw\n",
      "\n",
      "<i>Ingredients:\n",
      "- 2 Granny Smith apples, thinly sliced\n",
      "- 4 cups shredded green cabbage (about 1/2 head)\n",
      "- 4 cups shredded red cabbage (about 1/2 head)\n",
      "- 1 cucumber, seeded and sliced\n",
      "- 3/4 cup dried cherries\n",
      "- 1/2 cup cider vinegar\n",
      "- 1/3 cup honey\n",
      "- 1/3 cup olive oil\n",
      "- 2 teaspoons salt\n",
      "- 1/2 teaspoon freshly ground black pepper\n",
      "- 1/4 cup roasted, salted pepitos (shelled pumpkin seeds)\n",
      "\n",
      "<d>Directions: Combine apples and next 4 ingredients in a large bowl. Whisk together vinegar and next 4 ingredients in a medium bowl. Toss vinaigrette with apple mixture; cover and chill up to 4 hours. Sprinkle with pepitos.\n"
     ]
    }
   ],
   "source": [
    "recipe_sequence_to_string(train_vectorized[1])"
   ],
   "metadata": {
    "collapsed": false,
    "ExecuteTime": {
     "end_time": "2024-04-30T12:35:50.359105Z",
     "start_time": "2024-04-30T12:35:50.346889Z"
    }
   },
   "id": "e37e4ef036824b7e"
  },
  {
   "cell_type": "markdown",
   "source": [
    "## PADDING"
   ],
   "metadata": {
    "collapsed": false
   },
   "id": "ab681e28048b95ba"
  },
  {
   "cell_type": "code",
   "execution_count": 32,
   "outputs": [
    {
     "name": "stdout",
     "output_type": "stream",
     "text": [
      "Recipe #1 length: 429\n",
      "Recipe #2 length: 644\n",
      "Recipe #3 length: 386\n",
      "Recipe #4 length: 292\n",
      "Recipe #5 length: 999\n"
     ]
    }
   ],
   "source": [
    "for i, recipe in enumerate(train_vectorized[:5]):\n",
    "    print('Recipe #{} length: {}'.format(i + 1, len(recipe)))"
   ],
   "metadata": {
    "collapsed": false,
    "ExecuteTime": {
     "end_time": "2024-04-30T12:35:50.359172Z",
     "start_time": "2024-04-30T12:35:50.349007Z"
    }
   },
   "id": "8a117027740ff2e7"
  },
  {
   "cell_type": "code",
   "execution_count": 33,
   "outputs": [],
   "source": [
    "# Use -1 and +1 to make sure that all recipes will have at least 1 stop sign at the end, since each sequence will be shifted and truncated afterwards (to generate X and Y sequences).\n",
    "\n",
    "trainVect_padded_no_stops = tf.keras.preprocessing.sequence.pad_sequences(\n",
    "    train_vectorized,\n",
    "    padding='post',\n",
    "    truncating='post',\n",
    "    maxlen=MAX_TEXT_LENGTH - 1,\n",
    "    value=tokenizer.texts_to_sequences([MARKER_STOP])[0]\n",
    ")\n",
    "\n",
    "trainVect_padded = tf.keras.preprocessing.sequence.pad_sequences(\n",
    "    trainVect_padded_no_stops,\n",
    "    padding='post',\n",
    "    truncating='post',\n",
    "    maxlen=MAX_TEXT_LENGTH + 1,\n",
    "    value=tokenizer.texts_to_sequences([MARKER_STOP])[0]\n",
    ")"
   ],
   "metadata": {
    "collapsed": false,
    "ExecuteTime": {
     "end_time": "2024-04-30T12:35:50.360747Z",
     "start_time": "2024-04-30T12:35:50.351599Z"
    }
   },
   "id": "2d33a701bcc3dccb"
  },
  {
   "cell_type": "code",
   "execution_count": 34,
   "outputs": [
    {
     "name": "stdout",
     "output_type": "stream",
     "text": [
      "Recipe #0 length: 501\n",
      "Recipe #1 length: 501\n",
      "Recipe #2 length: 501\n",
      "Recipe #3 length: 501\n",
      "Recipe #4 length: 501\n"
     ]
    }
   ],
   "source": [
    "for i, recipe in enumerate(trainVect_padded[:5]):\n",
    "    print('Recipe #{} length: {}'.format(i, len(recipe)))"
   ],
   "metadata": {
    "collapsed": false,
    "ExecuteTime": {
     "end_time": "2024-04-30T12:35:50.360823Z",
     "start_time": "2024-04-30T12:35:50.355474Z"
    }
   },
   "id": "319bdd21bd2e013b"
  },
  {
   "cell_type": "code",
   "execution_count": 35,
   "outputs": [
    {
     "name": "stdout",
     "output_type": "stream",
     "text": [
      "<t>Recipe: Country Apple Slaw\n",
      "\n",
      "<i>Ingredients:\n",
      "- 2 Granny Smith apples, thinly sliced\n",
      "- 4 cups shredded green cabbage (about 1/2 head)\n",
      "- 4 cups shredded red cabbage (about 1/2 head)\n",
      "- 1 cucumber, seeded and sliced\n",
      "- 3/4 cup dried cherries\n",
      "- 1/2 cup cider vinegar\n",
      "- 1/3 cup honey\n",
      "- 1/3 cup olive oil\n",
      "- 2 teaspoons salt\n",
      "- 1/2 teaspoon freshly ground black pepper\n",
      "- 1/4 cup roasted, salted pepitos (shelled pumpkin seeds)\n",
      "\n",
      "<d>Directions: Combine apples and next 4 ingredients in a large bowl. Whisk tog  \n"
     ]
    }
   ],
   "source": [
    "recipe_sequence_to_string(trainVect_padded[1])"
   ],
   "metadata": {
    "collapsed": false,
    "ExecuteTime": {
     "end_time": "2024-04-30T12:35:50.397647Z",
     "start_time": "2024-04-30T12:35:50.358121Z"
    }
   },
   "id": "50fee366b95e07f8"
  },
  {
   "cell_type": "code",
   "execution_count": 36,
   "outputs": [
    {
     "name": "stdout",
     "output_type": "stream",
     "text": [
      "<_TensorSliceDataset element_spec=TensorSpec(shape=(501,), dtype=tf.int32, name=None)>\n"
     ]
    }
   ],
   "source": [
    "dataset = tf.data.Dataset.from_tensor_slices(trainVect_padded)\n",
    "print(dataset)"
   ],
   "metadata": {
    "collapsed": false,
    "ExecuteTime": {
     "end_time": "2024-04-30T12:35:50.488638Z",
     "start_time": "2024-04-30T12:35:50.371919Z"
    }
   },
   "id": "7aff9904f7580642"
  },
  {
   "cell_type": "code",
   "execution_count": 37,
   "outputs": [
    {
     "name": "stdout",
     "output_type": "stream",
     "text": [
      "Raw Recipe:\n",
      " [31  7 32 40  2 11  4 13  2 30  1 34  8  5  6 21  2  8  8 29  1 40  2 10\n",
      "  4  9 15 17 17 31  4 32 39  6 16  8  2 12  4  2  6  7  9 30 17 20  1 22\n",
      "  1 13  2  2 10  2 12  1  3  8  5  6 16  2 17 20  1 28  1  5 13 13 10  2\n",
      "  9 17 20  1 22  1 11  5  6  1 11  8 14  9 15  2 12  1 13  4  6  2  5 13\n",
      " 13 10  2 17 20  1 28  1 22 33 28  1 11 18  1  9 14 16  5  8 17 20  1 22\n",
      "  1 10  5  8 16  2  1 21  3 38  1  9  7  8  5 25 21  2  8  8 29  1 68  2\n",
      " 10 10 20 64 17 20  1 22  1 10 21 18  1 13 24 16 18  1 11  8  5  6 21  2\n",
      "  8  8  4  2  9  1 44  8  5 25 43 17 20  1 28  1 11 18  1 21  3  4 10  4\n",
      "  6 16  1 25  5  7  2  8 17 17 31 12 32 41  4  8  2 11  7  4  3  6  9 30\n",
      "  1 59  5  9 15  1  5  6 12  1 16  8  4  6 12  1 11  8  5  6 21  2  8  8\n",
      "  4  2  9 18  1 34  3  8  2  1  5 13 13 10  2  9 26  1 21 14  7  1 12  3\n",
      "  1  6  3  7  1 13  2  2 10 18  1 42  2  2 10  1  3  8  5  6 16  2 18  1\n",
      " 62  8  4  6 12  1  7 15  2 19  1 25  4  7 15  1 11  8  5  6 21  2  8  8\n",
      "  4  2  9 18  1 41  8  5  4  6  1 13  4  6  2  5 13 13 10  2 18  1 45 12\n",
      " 12  1  7  3  1  8  2  9  7 18  1 45 12 12  1  9 14 16  5  8 18  1 45 12\n",
      " 12  1 28  1 11 14 13  9  1 21  3  4 10  4  6 16  1 25  5  7  2  8  1  7\n",
      "  3  1 68  2 10 10 20 64 26  1  7 15  2  6  1  5 12 12  1  5 10 10  1  7\n",
      "  3 16  2  7 15  2  8 18  1 40  2 23  8  4 16  2  8  5  7  2 18 84 84 84\n",
      " 84 84 84 84 84 84 84 84 84 84 84 84 84 84 84 84 84 84 84 84 84 84 84 84\n",
      " 84 84 84 84 84 84 84 84 84 84 84 84 84 84 84 84 84 84 84 84 84 84 84 84\n",
      " 84 84 84 84 84 84 84 84 84 84 84 84 84 84 84 84 84 84 84 84 84] \n",
      "\n",
      "\n",
      "\n",
      "Text Recipe:\n",
      "\n",
      "<t>Recipe: Cranberry Relish\n",
      "\n",
      "<i>Ingredients:\n",
      "- 1 peeled orange\n",
      "- 2 apples\n",
      "- 1 can crushed pineapple\n",
      "- 2 1/2 c. sugar\n",
      "- 1 large box strawberry Jell-O\n",
      "- 1 lb. pkg. cranberries (raw)\n",
      "- 2 c. boiling water\n",
      "\n",
      "<d>Directions: Wash and grind cranberries. Core apples, but do not peel. Peel orange. Grind them with cranberries. Drain pineapple. Add to rest. Add sugar. Add 2 cups boiling water to Jell-O, then add all together. Refrigerate.                                                                        \n"
     ]
    }
   ],
   "source": [
    "for recipe in dataset.take(1):\n",
    "    print('Raw Recipe:\\n', recipe.numpy(), '\\n\\n\\n')\n",
    "    print('Text Recipe:\\n')\n",
    "    recipe_sequence_to_string(recipe.numpy())"
   ],
   "metadata": {
    "collapsed": false,
    "ExecuteTime": {
     "end_time": "2024-04-30T12:35:50.488877Z",
     "start_time": "2024-04-30T12:35:50.375458Z"
    }
   },
   "id": "8c29f7a4057ba065"
  },
  {
   "cell_type": "markdown",
   "source": [
    "## Split INPUT and TARGET texts\n",
    "Each sequence is duplicated and shifted"
   ],
   "metadata": {
    "collapsed": false
   },
   "id": "8472f4c831900f74"
  },
  {
   "cell_type": "code",
   "execution_count": 38,
   "outputs": [],
   "source": [
    "def split_input_target(recipe):\n",
    "    input_text = recipe[:-1]\n",
    "    target_text = recipe[1:]\n",
    "\n",
    "    return input_text, target_text"
   ],
   "metadata": {
    "collapsed": false,
    "ExecuteTime": {
     "end_time": "2024-04-30T12:35:50.488932Z",
     "start_time": "2024-04-30T12:35:50.386371Z"
    }
   },
   "id": "abe39c17eccb7dab"
  },
  {
   "cell_type": "code",
   "execution_count": 39,
   "outputs": [
    {
     "name": "stdout",
     "output_type": "stream",
     "text": [
      "<_MapDataset element_spec=(TensorSpec(shape=(500,), dtype=tf.int32, name=None), TensorSpec(shape=(500,), dtype=tf.int32, name=None))>\n"
     ]
    },
    {
     "data": {
      "text/plain": "(['R', 'e', 'c', 'i', 'p'], ['e', 'c', 'i', 'p', 'e'])"
     },
     "execution_count": 39,
     "metadata": {},
     "output_type": "execute_result"
    }
   ],
   "source": [
    "dataset_target = dataset.map(split_input_target)\n",
    "print(dataset_target)\n",
    "\n",
    "split_input_target(list(\"Recipe\"))"
   ],
   "metadata": {
    "collapsed": false,
    "ExecuteTime": {
     "end_time": "2024-04-30T12:35:50.502591Z",
     "start_time": "2024-04-30T12:35:50.388127Z"
    }
   },
   "id": "3305ef569bed11d0"
  },
  {
   "cell_type": "code",
   "execution_count": 40,
   "outputs": [
    {
     "name": "stdout",
     "output_type": "stream",
     "text": [
      "Input sequence size: 500\n",
      "Target sequence size: 500\n",
      "\n",
      "Input:   '< t > R e c i p e :   C r a n b e r r y   R e l i s h \\n \\n < i > I n g r e d i e n t s : \\n -   1   p'\n",
      "Target:  't > R e c i p e :   C r a n b e r r y   R e l i s h \\n \\n < i > I n g r e d i e n t s : \\n -   1   p e'\n"
     ]
    }
   ],
   "source": [
    "for input_example, target_example in dataset_target.take(1):\n",
    "    print('Input sequence size:', repr(len(input_example.numpy())))\n",
    "    print('Target sequence size:', repr(len(target_example.numpy())))\n",
    "    print()\n",
    "\n",
    "    input_string = tokenizer.sequences_to_texts([input_example.numpy()[:50]])[0]\n",
    "    target_string = tokenizer.sequences_to_texts([target_example.numpy()[:50]])[0]\n",
    "\n",
    "    print('Input:  ', repr(''.join(input_string)))\n",
    "    print('Target: ', repr(''.join(target_string)))"
   ],
   "metadata": {
    "collapsed": false,
    "ExecuteTime": {
     "end_time": "2024-04-30T12:35:50.503030Z",
     "start_time": "2024-04-30T12:35:50.430244Z"
    }
   },
   "id": "945fae75571e40c0"
  },
  {
   "cell_type": "code",
   "execution_count": 41,
   "outputs": [
    {
     "name": "stdout",
     "output_type": "stream",
     "text": [
      "Step  1\n",
      "  input: 31 ('<')\n",
      "  expected output: 7 ('t')\n",
      "Step  2\n",
      "  input: 7 ('t')\n",
      "  expected output: 32 ('>')\n",
      "Step  3\n",
      "  input: 32 ('>')\n",
      "  expected output: 40 ('R')\n",
      "Step  4\n",
      "  input: 40 ('R')\n",
      "  expected output: 2 ('e')\n",
      "Step  5\n",
      "  input: 2 ('e')\n",
      "  expected output: 11 ('c')\n",
      "Step  6\n",
      "  input: 11 ('c')\n",
      "  expected output: 4 ('i')\n",
      "Step  7\n",
      "  input: 4 ('i')\n",
      "  expected output: 13 ('p')\n",
      "Step  8\n",
      "  input: 13 ('p')\n",
      "  expected output: 2 ('e')\n",
      "Step  9\n",
      "  input: 2 ('e')\n",
      "  expected output: 30 (':')\n",
      "Step 10\n",
      "  input: 30 (':')\n",
      "  expected output: 1 (' ')\n"
     ]
    }
   ],
   "source": [
    "for i, (input_idx, target_idx) in enumerate(zip(input_example[:10], target_example[:10])):\n",
    "    print('Step {:2d}'.format(i + 1))\n",
    "    print('  input: {} ({:s})'.format(input_idx, repr(tokenizer.sequences_to_texts([[input_idx.numpy()]])[0])))\n",
    "    print('  expected output: {} ({:s})'.format(target_idx,\n",
    "                                                repr(tokenizer.sequences_to_texts([[target_idx.numpy()]])[0])))"
   ],
   "metadata": {
    "collapsed": false,
    "ExecuteTime": {
     "end_time": "2024-04-30T12:35:50.503196Z",
     "start_time": "2024-04-30T12:35:50.442253Z"
    }
   },
   "id": "f7c47dca7714ecc4"
  },
  {
   "cell_type": "markdown",
   "source": [
    "## SPLIT IN BATCHES\n",
    "Before feeding this data into the model, shuffle the data and pack it into batches."
   ],
   "metadata": {
    "collapsed": false
   },
   "id": "dded4fd20fc3a2a4"
  },
  {
   "cell_type": "code",
   "execution_count": 42,
   "outputs": [
    {
     "name": "stdout",
     "output_type": "stream",
     "text": [
      "<_RepeatDataset element_spec=(TensorSpec(shape=(32, 500), dtype=tf.int32, name=None), TensorSpec(shape=(32, 500), dtype=tf.int32, name=None))>\n"
     ]
    }
   ],
   "source": [
    "BATCH_SIZE = 32\n",
    "SHUFFLE_BUFFER_SIZE = 1000\n",
    "\n",
    "dataset_train = (dataset_target\n",
    "                 .shuffle(SHUFFLE_BUFFER_SIZE)\n",
    "                 .batch(BATCH_SIZE, drop_remainder=True)\n",
    "                 .repeat())\n",
    "\n",
    "print(dataset_train)"
   ],
   "metadata": {
    "collapsed": false,
    "ExecuteTime": {
     "end_time": "2024-04-30T12:35:50.503283Z",
     "start_time": "2024-04-30T12:35:50.447621Z"
    }
   },
   "id": "b81d29740ad12444"
  },
  {
   "cell_type": "markdown",
   "source": [
    "## BUILD MODEL\n",
    "\n",
    "@see https://www.tensorflow.org/text/tutorials/text_generation\n",
    "\n",
    "Using tf.keras.Sequential we define:\n",
    "- tf.keras.layers.Embedding: The input layer. A trainable lookup table, maps each character's numbers to a vector with embedding_dim dimensions;\n",
    "- tf.keras.layers.LSTM\n",
    "- tf.keras.layers.Dense: The output layer, with vocab_size outputs.\n",
    "\n",
    "\n",
    "The model will take as input an integer matrix of size (batch, input_length).\n",
    "The largest integer (word index) in the input should be no larger than tmp_vocab_size.\n",
    "Now model.output_shape == (batch_dimension, tmp_vocab_size, batch_size)??"
   ],
   "metadata": {
    "collapsed": false
   },
   "id": "7fda9c87721f0b50"
  },
  {
   "cell_type": "code",
   "execution_count": 43,
   "outputs": [],
   "source": [
    "vocab_size = VOCABULARY_SIZE  # length of the vocabulary in chars\n",
    "embedding_dim = 256\n",
    "rnn_units = 1024"
   ],
   "metadata": {
    "collapsed": false,
    "ExecuteTime": {
     "end_time": "2024-04-30T12:35:50.503322Z",
     "start_time": "2024-04-30T12:35:50.451820Z"
    }
   },
   "id": "b2dab8b1a72cb282"
  },
  {
   "cell_type": "code",
   "execution_count": 44,
   "outputs": [],
   "source": [
    "def build_model_1(vocab_size, embedding_dim, rnn_units, batch_size):\n",
    "    model = tf.keras.models.Sequential()\n",
    "\n",
    "    model.add(tf.keras.layers.Embedding(\n",
    "        input_dim=vocab_size,\n",
    "        output_dim=embedding_dim,\n",
    "        batch_input_shape=[batch_size, None]\n",
    "    ))\n",
    "\n",
    "    model.add(tf.keras.layers.LSTM(\n",
    "        units=rnn_units,\n",
    "        return_sequences=True,\n",
    "        stateful=True,\n",
    "        recurrent_initializer=tf.keras.initializers.GlorotNormal()\n",
    "    ))\n",
    "\n",
    "    model.add(tf.keras.layers.Dense(vocab_size))\n",
    "\n",
    "    return model"
   ],
   "metadata": {
    "collapsed": false,
    "ExecuteTime": {
     "end_time": "2024-04-30T12:35:50.503362Z",
     "start_time": "2024-04-30T12:35:50.455086Z"
    }
   },
   "id": "4770226094ba45fe"
  },
  {
   "cell_type": "code",
   "execution_count": 45,
   "outputs": [
    {
     "name": "stdout",
     "output_type": "stream",
     "text": [
      "Model: \"sequential\"\n",
      "_________________________________________________________________\n",
      " Layer (type)                Output Shape              Param #   \n",
      "=================================================================\n",
      " embedding (Embedding)       (32, None, 256)           22016     \n",
      "                                                                 \n",
      " lstm (LSTM)                 (32, None, 1024)          5246976   \n",
      "                                                                 \n",
      " dense (Dense)               (32, None, 86)            88150     \n",
      "                                                                 \n",
      "=================================================================\n",
      "Total params: 5357142 (20.44 MB)\n",
      "Trainable params: 5357142 (20.44 MB)\n",
      "Non-trainable params: 0 (0.00 Byte)\n",
      "_________________________________________________________________\n"
     ]
    }
   ],
   "source": [
    "model_1 = build_model_1(vocab_size, embedding_dim, rnn_units, BATCH_SIZE)\n",
    "model_1.summary()"
   ],
   "metadata": {
    "collapsed": false,
    "ExecuteTime": {
     "end_time": "2024-04-30T12:35:50.624527Z",
     "start_time": "2024-04-30T12:35:50.457145Z"
    }
   },
   "id": "5ccdd4867a501388"
  },
  {
   "cell_type": "markdown",
   "source": [
    "For each character the model looks up the embedding, runs the LSTM one timestep with the embedding as input, and applies the dense layer to generate logits predicting the log-likelihood of the next character"
   ],
   "metadata": {
    "collapsed": false
   },
   "id": "37dd35a50ed06cd7"
  },
  {
   "cell_type": "code",
   "execution_count": 46,
   "outputs": [
    {
     "data": {
      "image/png": "[encoded data removed]",
      "text/plain": "<IPython.core.display.Image object>"
     },
     "execution_count": 46,
     "metadata": {},
     "output_type": "execute_result"
    }
   ],
   "source": [
    "# !pip install pydot\n",
    "# !pip install graphviz\n",
    "\n",
    "tf.keras.utils.plot_model(\n",
    "    model_1,\n",
    "    show_shapes=True,\n",
    "    show_layer_names=True,\n",
    "    to_file='model_1.png'\n",
    ")"
   ],
   "metadata": {
    "collapsed": false,
    "ExecuteTime": {
     "end_time": "2024-04-30T12:35:51.928757Z",
     "start_time": "2024-04-30T12:35:50.565776Z"
    }
   },
   "id": "61da144364531768"
  },
  {
   "cell_type": "code",
   "execution_count": 47,
   "outputs": [
    {
     "name": "stdout",
     "output_type": "stream",
     "text": [
      "(batch_size, sequence_length, vocab_size) =  (32, 500, 86)\n"
     ]
    }
   ],
   "source": [
    "for input_example_batch, target_example_batch in dataset_train.take(1):\n",
    "    example_batch_predictions = model_1(input_example_batch)\n",
    "    print(\"(batch_size, sequence_length, vocab_size) = \", example_batch_predictions.shape)"
   ],
   "metadata": {
    "collapsed": false,
    "ExecuteTime": {
     "end_time": "2024-04-30T12:35:53.062858Z",
     "start_time": "2024-04-30T12:35:51.930227Z"
    }
   },
   "id": "c122bb044a77f7a7"
  },
  {
   "cell_type": "code",
   "execution_count": 48,
   "outputs": [
    {
     "name": "stdout",
     "output_type": "stream",
     "text": [
      "Prediction for the 1st letter of batch 1st sequence:\n",
      "tf.Tensor(\n",
      "[ 2.6609777e-03 -4.0977853e-03  1.6481644e-03 -2.5033394e-03\n",
      "  1.6772640e-03  4.1064867e-03 -4.0609734e-03  3.4345549e-03\n",
      " -2.8874658e-03  6.2779482e-03  3.0968019e-03  4.0243608e-03\n",
      " -4.1553965e-03 -3.6822204e-03  4.9273930e-03 -3.0180707e-03\n",
      "  9.9015248e-05  3.2180076e-05 -1.2769136e-03 -3.8301807e-03\n",
      "  7.5633614e-04 -2.9286896e-03  2.2591664e-03 -1.8471553e-03\n",
      " -3.5613028e-03  3.3399311e-03  7.5623931e-05  3.5880955e-03\n",
      "  2.2603679e-03 -7.2711371e-03 -2.5320244e-03  9.6423621e-04\n",
      "  2.6436374e-03 -2.2648596e-03  6.6945463e-04  1.4285495e-03\n",
      " -1.5609738e-03 -4.7598383e-03  7.4870622e-05 -7.3536660e-04\n",
      "  4.6528862e-03  3.5212338e-03 -1.2191973e-04 -3.8568357e-03\n",
      " -2.1422638e-03 -1.1642801e-03 -5.9896440e-04  5.2938936e-03\n",
      " -2.3390278e-03 -7.8058913e-03 -2.5228148e-03 -3.9089592e-03\n",
      "  9.9223759e-04  1.8883820e-03  3.1550024e-03 -3.5848022e-03\n",
      " -3.4276526e-03 -4.9364176e-03 -2.6462972e-04 -3.4895896e-03\n",
      "  7.8855664e-06  3.1355375e-03 -5.9228325e-03 -5.7385867e-03\n",
      " -6.1830599e-03  5.7127932e-03 -3.8174028e-03 -3.1000348e-03\n",
      " -3.9593689e-03 -3.7203624e-03  1.0704685e-03  4.9039880e-03\n",
      "  2.2470385e-03 -4.9430584e-03  4.7935452e-03 -2.3032706e-03\n",
      "  1.8298835e-04  1.1263276e-03 -4.1340580e-03 -2.2552421e-03\n",
      " -2.3007726e-03 -1.5866368e-03  1.6430276e-04 -3.3852179e-05\n",
      "  1.6385305e-03  2.5682142e-03], shape=(86,), dtype=float32)\n"
     ]
    }
   ],
   "source": [
    "print('Prediction for the 1st letter of batch 1st sequence:')\n",
    "print(example_batch_predictions[0, 0])"
   ],
   "metadata": {
    "collapsed": false,
    "ExecuteTime": {
     "end_time": "2024-04-30T12:35:53.067221Z",
     "start_time": "2024-04-30T12:35:53.061647Z"
    }
   },
   "id": "efd7b68b936ecb12"
  },
  {
   "cell_type": "markdown",
   "source": [
    "## TRAINING"
   ],
   "metadata": {
    "collapsed": false
   },
   "id": "55302384b462f512"
  },
  {
   "cell_type": "code",
   "execution_count": 49,
   "outputs": [
    {
     "name": "stdout",
     "output_type": "stream",
     "text": [
      "Prediction shape:  (32, 500, 86)  # (batch_size, sequence_length, vocab_size)\n",
      "Loss shape:        (32, 500)\n",
      "scalar_loss:       4.453181\n"
     ]
    }
   ],
   "source": [
    "# An objective function with the signature scalar_loss = fn(y_true, y_pred).\n",
    "def loss(labels, logits):\n",
    "    entropy = tf.keras.losses.sparse_categorical_crossentropy(\n",
    "        y_true=labels,\n",
    "        y_pred=logits,\n",
    "        from_logits=True\n",
    "    )\n",
    "\n",
    "    return entropy\n",
    "\n",
    "\n",
    "example_batch_loss = loss(target_example_batch, example_batch_predictions)\n",
    "\n",
    "print(\"Prediction shape: \", example_batch_predictions.shape, \" # (batch_size, sequence_length, vocab_size)\")\n",
    "print(\"Loss shape:       \", example_batch_loss.shape)\n",
    "print(\"scalar_loss:      \", example_batch_loss.numpy().mean())"
   ],
   "metadata": {
    "collapsed": false,
    "ExecuteTime": {
     "end_time": "2024-04-30T12:35:53.077889Z",
     "start_time": "2024-04-30T12:35:53.070216Z"
    }
   },
   "id": "250769f158d4f6b1"
  },
  {
   "cell_type": "code",
   "execution_count": 59,
   "outputs": [],
   "source": [
    "# adam_optimizer = tf.keras.optimizers.Adam(learning_rate=0.001)  # v2.11+ optimizer runs slowly on M1/M2 Macs\n",
    "adam_optimizer = tf.keras.optimizers.legacy.Adam(learning_rate=0.05)\n",
    "\n",
    "model_1.compile(\n",
    "    optimizer=adam_optimizer,\n",
    "    loss=loss\n",
    ")"
   ],
   "metadata": {
    "collapsed": false,
    "ExecuteTime": {
     "end_time": "2024-04-30T12:37:16.127513Z",
     "start_time": "2024-04-30T12:37:16.108100Z"
    }
   },
   "id": "ac61e3959ffc4434"
  },
  {
   "cell_type": "code",
   "execution_count": 60,
   "outputs": [],
   "source": [
    "early_stopping_callback = tf.keras.callbacks.EarlyStopping(\n",
    "    patience=5,\n",
    "    monitor='loss',\n",
    "    restore_best_weights=True,\n",
    "    verbose=1\n",
    ")"
   ],
   "metadata": {
    "collapsed": false,
    "ExecuteTime": {
     "end_time": "2024-04-30T12:37:17.087739Z",
     "start_time": "2024-04-30T12:37:17.065745Z"
    }
   },
   "id": "c0845accd79cd5d9"
  },
  {
   "cell_type": "code",
   "execution_count": 61,
   "outputs": [],
   "source": [
    "CHECKPOINT_DIR = \"./checkpoints\"\n",
    "os.makedirs(CHECKPOINT_DIR, exist_ok=True)"
   ],
   "metadata": {
    "collapsed": false,
    "ExecuteTime": {
     "end_time": "2024-04-30T12:37:17.583600Z",
     "start_time": "2024-04-30T12:37:17.575132Z"
    }
   },
   "id": "b385e50c29c71ca"
  },
  {
   "cell_type": "code",
   "execution_count": 62,
   "outputs": [],
   "source": [
    "checkpoint_prefix = os.path.join(CHECKPOINT_DIR, 'ckpt_rnn_{epoch}')\n",
    "checkpoint_callback = tf.keras.callbacks.ModelCheckpoint(\n",
    "    filepath=checkpoint_prefix,\n",
    "    save_weights_only=True\n",
    ")"
   ],
   "metadata": {
    "collapsed": false,
    "ExecuteTime": {
     "end_time": "2024-04-30T12:37:17.906920Z",
     "start_time": "2024-04-30T12:37:17.887191Z"
    }
   },
   "id": "c593bd35f7ca3862"
  },
  {
   "cell_type": "code",
   "execution_count": 63,
   "outputs": [],
   "source": [
    "INITIAL_EPOCH = 0\n",
    "EPOCHS_DELTA = 10\n",
    "EPOCHS = INITIAL_EPOCH + EPOCHS_DELTA\n",
    "STEPS_PER_EPOCH = 200\n",
    "\n",
    "# print('\\n')\n",
    "# print('INITIAL_EPOCH:   ', INITIAL_EPOCH)\n",
    "# print('EPOCHS_DELTA:    ', EPOCHS_DELTA)\n",
    "# print('EPOCHS:          ', EPOCHS)\n",
    "# print('STEPS_PER_EPOCH: ', STEPS_PER_EPOCH)"
   ],
   "metadata": {
    "collapsed": false,
    "ExecuteTime": {
     "end_time": "2024-04-30T12:37:18.413634Z",
     "start_time": "2024-04-30T12:37:18.405547Z"
    }
   },
   "id": "5bd01045cf36d3c6"
  },
  {
   "cell_type": "code",
   "execution_count": 64,
   "outputs": [],
   "source": [
    "history_1 = {}"
   ],
   "metadata": {
    "collapsed": false,
    "ExecuteTime": {
     "end_time": "2024-04-30T12:37:20.168879Z",
     "start_time": "2024-04-30T12:37:20.154963Z"
    }
   },
   "id": "92ea36fffed80a11"
  },
  {
   "cell_type": "code",
   "execution_count": null,
   "outputs": [
    {
     "name": "stdout",
     "output_type": "stream",
     "text": [
      "Epoch 1/10\n",
      "156/200 [======================>.......] - ETA: 2:09 - loss: nan"
     ]
    }
   ],
   "source": [
    "history_1[INITIAL_EPOCH] = model_1.fit(\n",
    "    x=dataset_train,\n",
    "    epochs=EPOCHS,\n",
    "    steps_per_epoch=STEPS_PER_EPOCH,\n",
    "    initial_epoch=INITIAL_EPOCH,\n",
    "    callbacks=[checkpoint_callback, early_stopping_callback]\n",
    ")\n",
    "\n",
    "model_name = 'p2r_rnn_raw' + str(INITIAL_EPOCH) + '.h5'\n",
    "model_1.save(model_name, save_format='h5')"
   ],
   "metadata": {
    "collapsed": false,
    "is_executing": true,
    "ExecuteTime": {
     "start_time": "2024-04-30T12:37:21.238131Z"
    }
   },
   "id": "7d6760d125f20a29"
  },
  {
   "cell_type": "code",
   "execution_count": null,
   "outputs": [],
   "source": [
    "# rnn_model_name = f'./models/p2r_lstm_{INITIAL_EPOCH}.h5'\n",
    "# model_1.save(rnn_model_name, save_format='h5')"
   ],
   "metadata": {
    "collapsed": false,
    "ExecuteTime": {
     "end_time": "2024-04-30T12:36:33.755392Z",
     "start_time": "2024-04-30T12:36:33.751471Z"
    }
   },
   "id": "e1a72bbab4515ef9"
  },
  {
   "cell_type": "code",
   "execution_count": null,
   "outputs": [],
   "source": [],
   "metadata": {
    "collapsed": false,
    "ExecuteTime": {
     "start_time": "2024-04-30T12:36:33.752583Z"
    }
   },
   "id": "c6a229a2d560a914"
  },
  {
   "cell_type": "markdown",
   "source": [
    "## VISUALIZATION"
   ],
   "metadata": {
    "collapsed": false
   },
   "id": "27ee53ea8b2a2579"
  },
  {
   "cell_type": "code",
   "execution_count": null,
   "outputs": [],
   "source": [
    "def render_training_history(training_history):\n",
    "    if 'history' in training_history:\n",
    "        loss = training_history.history['loss']\n",
    "    else:\n",
    "        loss = []\n",
    "        for initial_epoch in training_history:\n",
    "            loss += training_history[initial_epoch].history['loss']\n",
    "\n",
    "    plt.title('Loss')\n",
    "    plt.xlabel('Epoch')\n",
    "    plt.ylabel('Loss')\n",
    "    plt.plot(loss, label='Training set')\n",
    "    plt.legend()\n",
    "    plt.grid(linestyle='--', linewidth=1, alpha=0.5)\n",
    "    plt.show()"
   ],
   "metadata": {
    "collapsed": false,
    "ExecuteTime": {
     "start_time": "2024-04-30T12:36:33.753721Z"
    }
   },
   "id": "1506bd5187f6c02c"
  },
  {
   "cell_type": "code",
   "execution_count": null,
   "outputs": [],
   "source": [
    "render_training_history(history_1)"
   ],
   "metadata": {
    "collapsed": false,
    "ExecuteTime": {
     "start_time": "2024-04-30T12:36:33.754801Z"
    }
   },
   "id": "dfe602eba71ff29b"
  },
  {
   "cell_type": "markdown",
   "source": [
    "## GENERATING A RECIPE"
   ],
   "metadata": {
    "collapsed": false
   },
   "id": "960bdacc13ba6860"
  },
  {
   "cell_type": "code",
   "execution_count": null,
   "outputs": [],
   "source": [
    "simplified_batch_size = 1\n",
    "\n",
    "model_1_simplified = build_model_1(vocab_size, embedding_dim, rnn_units, simplified_batch_size)\n",
    "model_1_simplified.load_weights(tf.train.latest_checkpoint(CHECKPOINT_DIR))\n",
    "model_1_simplified.build(tf.TensorShape([simplified_batch_size, None]))"
   ],
   "metadata": {
    "collapsed": false,
    "ExecuteTime": {
     "start_time": "2024-04-30T12:36:33.755704Z"
    }
   },
   "id": "5ac1a653c897b4f6"
  },
  {
   "cell_type": "code",
   "execution_count": null,
   "outputs": [],
   "source": [
    "model_1_simplified.summary()"
   ],
   "metadata": {
    "collapsed": false,
    "ExecuteTime": {
     "start_time": "2024-04-30T12:36:33.756969Z"
    }
   },
   "id": "4849bfa97f367709"
  },
  {
   "cell_type": "code",
   "execution_count": null,
   "outputs": [],
   "source": [
    "model_1_simplified.input_shape"
   ],
   "metadata": {
    "collapsed": false,
    "ExecuteTime": {
     "start_time": "2024-04-30T12:36:33.758017Z"
    }
   },
   "id": "675d73386cb345b"
  },
  {
   "cell_type": "code",
   "execution_count": null,
   "outputs": [],
   "source": [
    "model_name = 'p2r_rnn_2.h5'\n",
    "model_1_simplified.save(model_name, save_format='h5')"
   ],
   "metadata": {
    "collapsed": false,
    "ExecuteTime": {
     "end_time": "2024-04-30T12:36:33.774526Z",
     "start_time": "2024-04-30T12:36:33.759179Z"
    }
   },
   "id": "68a2a0cc91a92f61"
  },
  {
   "cell_type": "markdown",
   "source": [
    "# ------"
   ],
   "metadata": {
    "collapsed": false
   },
   "id": "681ce4c393ee9801"
  },
  {
   "cell_type": "code",
   "execution_count": null,
   "outputs": [],
   "source": [
    "def generate_text(model, start_string, num_generate=1000, temperature=1.0):\n",
    "    \"\"\"\n",
    "    Parameters:\n",
    "        - num_generate: number of characters to generate.\n",
    "        - temperature: \n",
    "            - Low temperatures results in more predictable text.\n",
    "            - Higher temperatures results in more surprising text.\n",
    "    \"\"\"\n",
    "    # Evaluation step\n",
    "    padded_start_string = MARKER_TITLE + start_string\n",
    "\n",
    "    # Vectorizing\n",
    "    input_indices = np.array(tokenizer.texts_to_sequences([padded_start_string]))\n",
    "\n",
    "    # Empty string to store our results.\n",
    "    text_generated = []\n",
    "\n",
    "    # Here batch size == 1.\n",
    "    model.reset_states()\n",
    "    for char_index in range(num_generate):\n",
    "        predictions = model(input_indices)\n",
    "        predictions = tf.squeeze(predictions, 0)  # remove the batch dimension\n",
    "\n",
    "        # Using a categorical distribution to predict the character returned by the model.\n",
    "        predictions = predictions / temperature\n",
    "        predicted_id = tf.random.categorical(\n",
    "            predictions,\n",
    "            num_samples=1\n",
    "        )[-1, 0].numpy()\n",
    "\n",
    "        # Pass predicted character as the next input to the model\n",
    "        # along with the previous hidden state.\n",
    "        input_indices = tf.expand_dims([predicted_id], 0)\n",
    "        next_character = tokenizer.sequences_to_texts(input_indices.numpy())[0]\n",
    "        text_generated.append(next_character)\n",
    "\n",
    "    return (padded_start_string + ''.join(text_generated))"
   ],
   "metadata": {
    "collapsed": false,
    "ExecuteTime": {
     "start_time": "2024-04-30T12:36:33.760126Z"
    }
   },
   "id": "fa50929fb77e6704"
  },
  {
   "cell_type": "code",
   "execution_count": null,
   "outputs": [],
   "source": [
    "def generate_combinations(model, input_list):\n",
    "    recipe_length = 1000\n",
    "    try_temperature = [1.0, 0.8, 0.4, 0.2]\n",
    "\n",
    "    for entry in input_list:\n",
    "        for temperature in try_temperature:\n",
    "            generated_text = generate_text(\n",
    "                model,\n",
    "                start_string=entry,\n",
    "                num_generate=recipe_length,\n",
    "                temperature=temperature\n",
    "            )\n",
    "\n",
    "            print('---------')\n",
    "            print(f'Attempt: \"{entry}\" + {temperature}')\n",
    "            print('---------')\n",
    "            print(generated_text)\n",
    "            print('\\n\\n')"
   ],
   "metadata": {
    "collapsed": false,
    "ExecuteTime": {
     "start_time": "2024-04-30T12:36:33.760724Z"
    }
   },
   "id": "4e9dae9655c4c62b"
  },
  {
   "cell_type": "code",
   "execution_count": null,
   "outputs": [],
   "source": [
    "input_ingredients1 = ['avocado', 'rice', 'shrimp', 'tomato'] \n",
    "generate_combinations(model_1_simplified, input_ingredients1)"
   ],
   "metadata": {
    "collapsed": false,
    "ExecuteTime": {
     "start_time": "2024-04-30T12:36:33.761312Z"
    }
   },
   "id": "19edf9b0c8895f5b"
  },
  {
   "cell_type": "code",
   "execution_count": null,
   "outputs": [],
   "source": [
    "input_ingredients2 = ['Mushroom', 'Apple', 'Slow', 'Banana', 'Homemade']\n",
    "generate_combinations(model_1_simplified, input_ingredients2)"
   ],
   "metadata": {
    "collapsed": false,
    "ExecuteTime": {
     "start_time": "2024-04-30T12:36:33.761917Z"
    }
   },
   "id": "4954eef4d3a076cd"
  },
  {
   "cell_type": "code",
   "execution_count": null,
   "outputs": [],
   "source": [
    "input_ingredients1 = ['avocado', 'rice', 'shrimp', 'tomato'] \n",
    "generate_combinations(model_1_simplified, input_ingredients1)"
   ],
   "metadata": {
    "collapsed": false,
    "ExecuteTime": {
     "start_time": "2024-04-30T12:36:33.762498Z"
    }
   },
   "id": "5bf61eb027fac57f"
  },
  {
   "cell_type": "markdown",
   "source": [
    "## Save"
   ],
   "metadata": {
    "collapsed": false
   },
   "id": "ba887a464ca4cb81"
  },
  {
   "cell_type": "code",
   "execution_count": null,
   "outputs": [],
   "source": [
    "# !pip install -U notebook-as-pdf\n",
    "# !conda install -c conda-forge pandoc\n",
    "\n",
    "nb_name = f\"./nlp/P2R_lstm_2.ipynb\"  # notebook name\n",
    "!jupyter-nbconvert --to pdf ./nlp/P2R_lstm_2.ipynb\n",
    "!jupyter-nbconvert --to html ./nlp/P2R_lstm_2.ipynb"
   ],
   "metadata": {
    "collapsed": false,
    "ExecuteTime": {
     "start_time": "2024-04-30T12:36:33.763055Z"
    }
   },
   "id": "298e8ba32d3729c7"
  },
  {
   "cell_type": "code",
   "execution_count": null,
   "outputs": [],
   "source": [],
   "metadata": {
    "collapsed": false,
    "ExecuteTime": {
     "start_time": "2024-04-30T12:36:33.763592Z"
    }
   },
   "id": "2bb1836af78b38d5"
  }
 ],
 "metadata": {
  "kernelspec": {
   "display_name": "Python 3",
   "language": "python",
   "name": "python3"
  },
  "language_info": {
   "codemirror_mode": {
    "name": "ipython",
    "version": 2
   },
   "file_extension": ".py",
   "mimetype": "text/x-python",
   "name": "python",
   "nbconvert_exporter": "python",
   "pygments_lexer": "ipython2",
   "version": "2.7.6"
  }
 },
 "nbformat": 4,
 "nbformat_minor": 5
}
