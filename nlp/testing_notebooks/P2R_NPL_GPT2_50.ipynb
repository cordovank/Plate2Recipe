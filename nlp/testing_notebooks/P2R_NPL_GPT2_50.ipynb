{
 "cells": [
  {
   "cell_type": "markdown",
   "source": [
    "# Plate2Recipe NLP Model: \n",
    "Recipe Generation from Ingredients List using GPT-2 and TF-IDF Similarity Matching\n",
    "\n",
    "@Author: Nellie Cordova"
   ],
   "metadata": {
    "collapsed": false
   }
  },
  {
   "cell_type": "markdown",
   "source": [
    "### NLP Model\n",
    "- Assume list of ingredients is provided, use this to generate the recipe. \n",
    "- Match input list of ingredients with the ingredients in the dataset and generate the recipe\n",
    "- Approach:\n",
    "        -- TF-IDF: Vectorization of ingredients.\n",
    "        -- Cosine Similarity: to find the recipe in the dataset that has the highest similarity to the provided ingredients.\n",
    "        -- GPT2 model: Generate the recipe based on the matched recipe."
   ],
   "metadata": {
    "collapsed": false
   }
  },
  {
   "cell_type": "code",
   "execution_count": 4,
   "outputs": [
    {
     "name": "stdout",
     "output_type": "stream",
     "text": [
      "Python version\n",
      "3.8.19 (default, Mar 20 2024, 15:27:52) \n",
      "[Clang 14.0.6 ]\n",
      "Version info.\n",
      "sys.version_info(major=3, minor=8, micro=19, releaselevel='final', serial=0)\n"
     ]
    }
   ],
   "source": [
    "import sys\n",
    "\n",
    "print(\"Python version\")\n",
    "print(sys.version)\n",
    "print(\"Version info.\")\n",
    "print(sys.version_info)"
   ],
   "metadata": {
    "collapsed": false,
    "ExecuteTime": {
     "end_time": "2024-04-28T00:21:07.824856Z",
     "start_time": "2024-04-28T00:21:07.812956Z"
    }
   }
  },
  {
   "cell_type": "code",
   "execution_count": 5,
   "outputs": [],
   "source": [
    "import os\n",
    "import random\n",
    "import pandas as pd\n",
    "from sklearn.feature_extraction.text import TfidfVectorizer\n",
    "from sklearn.model_selection import train_test_split\n",
    "from sklearn.metrics.pairwise import cosine_similarity\n",
    "from transformers import GPT2Tokenizer\n",
    "from transformers import GPT2LMHeadModel, AdamW, get_linear_schedule_with_warmup\n",
    "import torch\n",
    "from torch.utils.data import Dataset, DataLoader\n",
    "\n",
    "!pip install bayesian-optimization\n",
    "from bayes_opt import BayesianOptimization"
   ],
   "metadata": {
    "collapsed": false,
    "ExecuteTime": {
     "end_time": "2024-04-28T00:21:12.057072Z",
     "start_time": "2024-04-28T00:21:12.052896Z"
    }
   }
  },
  {
   "cell_type": "markdown",
   "source": [
    "### Data Collection and Preprocessing\n",
    "\n",
    "- Data loading: *use full_dataset.csv for NLP* (https://drive.google.com/drive/folders/1ui_zS11_ENZTCNLUsgg_UwAYr-ZaLbac)\n",
    "- Data cleaning\n",
    "- Data augmentation"
   ],
   "metadata": {
    "collapsed": false
   }
  },
  {
   "cell_type": "code",
   "execution_count": 6,
   "outputs": [
    {
     "name": "stdout",
     "output_type": "stream",
     "text": [
      "PYTORCH_MPS_HIGH_WATERMARK_RATIO set to: 0.0\n"
     ]
    }
   ],
   "source": [
    "# MPS memory management - Used to solve RuntimeError: MPS backend out of memory\n",
    "# source: https://pnote.eu/notes/pytorch-mac-setup/\n",
    "os.environ['PYTORCH_MPS_HIGH_WATERMARK_RATIO'] = '0.0'\n",
    "\n",
    "# Check that the environment variable is set correctly\n",
    "print(\"PYTORCH_MPS_HIGH_WATERMARK_RATIO set to:\", os.environ['PYTORCH_MPS_HIGH_WATERMARK_RATIO'])\n"
   ],
   "metadata": {
    "collapsed": false,
    "ExecuteTime": {
     "end_time": "2024-04-28T00:21:15.523377Z",
     "start_time": "2024-04-28T00:21:15.516872Z"
    }
   }
  },
  {
   "cell_type": "code",
   "execution_count": 7,
   "outputs": [],
   "source": [
    "# Set device to maximize performance\n",
    "\n",
    "if torch.cuda.is_available():\n",
    "    device = \"cuda\"\n",
    "elif torch.backends.mps.is_available():\n",
    "    device = \"mps\"\n",
    "else:\n",
    "    device = \"cpu\"\n",
    "    \n",
    "device = torch.device(device)"
   ],
   "metadata": {
    "collapsed": false,
    "ExecuteTime": {
     "end_time": "2024-04-28T00:21:17.026335Z",
     "start_time": "2024-04-28T00:21:17.024107Z"
    }
   }
  },
  {
   "cell_type": "code",
   "execution_count": 8,
   "outputs": [
    {
     "name": "stdout",
     "output_type": "stream",
     "text": [
      "mps\n"
     ]
    }
   ],
   "source": [
    "print(device)"
   ],
   "metadata": {
    "collapsed": false,
    "ExecuteTime": {
     "end_time": "2024-04-28T00:21:18.065164Z",
     "start_time": "2024-04-28T00:21:18.060393Z"
    }
   }
  },
  {
   "cell_type": "code",
   "execution_count": 9,
   "outputs": [],
   "source": [
    "# Helper function to clear unused memory\n",
    "def clear_memory():\n",
    "    if torch.cuda.is_available():\n",
    "        torch.cuda.empty_cache()\n",
    "    elif torch.backends.mps.is_available():\n",
    "        torch.mps.empty_cache()"
   ],
   "metadata": {
    "collapsed": false,
    "ExecuteTime": {
     "end_time": "2024-04-28T00:21:19.963937Z",
     "start_time": "2024-04-28T00:21:19.959450Z"
    }
   }
  },
  {
   "cell_type": "code",
   "execution_count": 10,
   "outputs": [],
   "source": [
    "clear_memory()"
   ],
   "metadata": {
    "collapsed": false,
    "ExecuteTime": {
     "end_time": "2024-04-28T00:21:21.062976Z",
     "start_time": "2024-04-28T00:21:21.055078Z"
    }
   }
  },
  {
   "cell_type": "code",
   "execution_count": 11,
   "outputs": [],
   "source": [
    "user_ingredients = ['avocado', 'rice', 'shrimp', 'tomato']\n",
    "dataset_path = './data/full_dataset.csv'\n",
    "\n",
    "n_recipes = 50\n",
    "model_path = \"gpt2\"\n",
    "best_model_path = f'./models/best_gpt2_model_{n_recipes}'"
   ],
   "metadata": {
    "collapsed": false,
    "ExecuteTime": {
     "end_time": "2024-04-28T00:21:23.088882Z",
     "start_time": "2024-04-28T00:21:23.084160Z"
    }
   }
  },
  {
   "cell_type": "code",
   "execution_count": 12,
   "outputs": [],
   "source": [
    "# Load the dataset\n",
    "def load_data(filepath):\n",
    "    return pd.read_csv(filepath).drop(['Unnamed: 0'], axis=1)\n",
    "\n",
    "recipes = load_data(dataset_path)"
   ],
   "metadata": {
    "collapsed": false,
    "ExecuteTime": {
     "end_time": "2024-04-28T00:21:50.928831Z",
     "start_time": "2024-04-28T00:21:24.518885Z"
    }
   }
  },
  {
   "cell_type": "code",
   "execution_count": 30,
   "outputs": [
    {
     "data": {
      "text/plain": "                          title  \\\n0        Tj'S Lentil Haystacks    \n1  California Hot Chicken Salad   \n2           Miniature Ham Puffs   \n3    Candy-Bar-Topped Brownies    \n4   German Chocolate Pound Cake   \n\n                                         ingredients  \\\n0  [\"cooked lentils\", \"chopped onion\", \"minced ga...   \n1  [\"3 cups cooked diced chicken\", \"2 cups thinly...   \n2  [\"1 c. water\", \"1/2 c. margarine or butter\", \"...   \n3  [\"3/4 cup (1 1/2 sticks) unsalted butter, dice...   \n4  [\"2 c. sugar\", \"1 c. butter\", \"4 eggs\", \"2 tsp...   \n\n                                          directions  \\\n0  [\"Saute onion and garlic until soft. Prepare r...   \n1  [\"Toss with a fork; chicken, celery, almonds, ...   \n2  [\"Heat oven to 400\\u00b0.\", \"Heat water and ma...   \n3  [\"Preheat oven to 325\\u00b0F. Line 13x9x2-inch...   \n4  [\"Melt chocolate in butter.\", \"Cool and add re...   \n\n                                                link    source  \\\n0  www.epicurious.com/recipes/member/views/tjs-le...  Gathered   \n1  www.food.com/recipe/california-hot-chicken-sal...  Gathered   \n2    www.cookbooks.com/Recipe-Details.aspx?id=972270  Gathered   \n3  www.epicurious.com/recipes/food/views/candy-ba...  Gathered   \n4    www.cookbooks.com/Recipe-Details.aspx?id=711693  Gathered   \n\n                                                 NER  \n0  [\"onion\", \"garlic\", \"chicken broth\", \"tomato s...  \n1  [\"chicken\", \"celery\", \"almond\", \"pimiento\", \"m...  \n2  [\"water\", \"margarine\", \"flour\", \"eggs\", \"ham\",...  \n3  [\"unsalted butter\", \"chocolate\", \"espresso pow...  \n4  [\"sugar\", \"butter\", \"eggs\", \"vanilla\", \"butter...  ",
      "text/html": "<div>\n<style scoped>\n    .dataframe tbody tr th:only-of-type {\n        vertical-align: middle;\n    }\n\n    .dataframe tbody tr th {\n        vertical-align: top;\n    }\n\n    .dataframe thead th {\n        text-align: right;\n    }\n</style>\n<table border=\"1\" class=\"dataframe\">\n  <thead>\n    <tr style=\"text-align: right;\">\n      <th></th>\n      <th>title</th>\n      <th>ingredients</th>\n      <th>directions</th>\n      <th>link</th>\n      <th>source</th>\n      <th>NER</th>\n    </tr>\n  </thead>\n  <tbody>\n    <tr>\n      <th>0</th>\n      <td>Tj'S Lentil Haystacks</td>\n      <td>[\"cooked lentils\", \"chopped onion\", \"minced ga...</td>\n      <td>[\"Saute onion and garlic until soft. Prepare r...</td>\n      <td>www.epicurious.com/recipes/member/views/tjs-le...</td>\n      <td>Gathered</td>\n      <td>[\"onion\", \"garlic\", \"chicken broth\", \"tomato s...</td>\n    </tr>\n    <tr>\n      <th>1</th>\n      <td>California Hot Chicken Salad</td>\n      <td>[\"3 cups cooked diced chicken\", \"2 cups thinly...</td>\n      <td>[\"Toss with a fork; chicken, celery, almonds, ...</td>\n      <td>www.food.com/recipe/california-hot-chicken-sal...</td>\n      <td>Gathered</td>\n      <td>[\"chicken\", \"celery\", \"almond\", \"pimiento\", \"m...</td>\n    </tr>\n    <tr>\n      <th>2</th>\n      <td>Miniature Ham Puffs</td>\n      <td>[\"1 c. water\", \"1/2 c. margarine or butter\", \"...</td>\n      <td>[\"Heat oven to 400\\u00b0.\", \"Heat water and ma...</td>\n      <td>www.cookbooks.com/Recipe-Details.aspx?id=972270</td>\n      <td>Gathered</td>\n      <td>[\"water\", \"margarine\", \"flour\", \"eggs\", \"ham\",...</td>\n    </tr>\n    <tr>\n      <th>3</th>\n      <td>Candy-Bar-Topped Brownies</td>\n      <td>[\"3/4 cup (1 1/2 sticks) unsalted butter, dice...</td>\n      <td>[\"Preheat oven to 325\\u00b0F. Line 13x9x2-inch...</td>\n      <td>www.epicurious.com/recipes/food/views/candy-ba...</td>\n      <td>Gathered</td>\n      <td>[\"unsalted butter\", \"chocolate\", \"espresso pow...</td>\n    </tr>\n    <tr>\n      <th>4</th>\n      <td>German Chocolate Pound Cake</td>\n      <td>[\"2 c. sugar\", \"1 c. butter\", \"4 eggs\", \"2 tsp...</td>\n      <td>[\"Melt chocolate in butter.\", \"Cool and add re...</td>\n      <td>www.cookbooks.com/Recipe-Details.aspx?id=711693</td>\n      <td>Gathered</td>\n      <td>[\"sugar\", \"butter\", \"eggs\", \"vanilla\", \"butter...</td>\n    </tr>\n  </tbody>\n</table>\n</div>"
     },
     "execution_count": 30,
     "metadata": {},
     "output_type": "execute_result"
    }
   ],
   "source": [
    "# Set a seed for reproducibility\n",
    "random.seed(42)\n",
    "\n",
    "# Shuffle the DataFrame\n",
    "recipes_shuffled = recipes.sample(frac=1).reset_index(drop=True)\n",
    "\n",
    "# Select 50% of the recipes randomly\n",
    "num_recipes_to_keep = n_recipes #int(len(recipes_shuffled) * 0.5)\n",
    "recipes = recipes_shuffled[:num_recipes_to_keep]\n",
    "\n",
    "# Print the new DataFrame\n",
    "recipes.head(5)"
   ],
   "metadata": {
    "collapsed": false,
    "ExecuteTime": {
     "end_time": "2024-04-28T00:31:45.044587Z",
     "start_time": "2024-04-28T00:31:45.026309Z"
    }
   }
  },
  {
   "cell_type": "code",
   "execution_count": 31,
   "outputs": [
    {
     "name": "stdout",
     "output_type": "stream",
     "text": [
      "<class 'pandas.core.frame.DataFrame'>\n",
      "RangeIndex: 10 entries, 0 to 9\n",
      "Data columns (total 6 columns):\n",
      " #   Column       Non-Null Count  Dtype \n",
      "---  ------       --------------  ----- \n",
      " 0   title        10 non-null     object\n",
      " 1   ingredients  10 non-null     object\n",
      " 2   directions   10 non-null     object\n",
      " 3   link         10 non-null     object\n",
      " 4   source       10 non-null     object\n",
      " 5   NER          10 non-null     object\n",
      "dtypes: object(6)\n",
      "memory usage: 608.0+ bytes\n",
      "None\n"
     ]
    }
   ],
   "source": [
    "print(recipes.info())"
   ],
   "metadata": {
    "collapsed": false,
    "ExecuteTime": {
     "end_time": "2024-04-28T00:31:46.732149Z",
     "start_time": "2024-04-28T00:31:46.721160Z"
    }
   }
  },
  {
   "cell_type": "markdown",
   "source": [
    "#### Tokenize, compute TF-IDF and prepare the similarity measure"
   ],
   "metadata": {
    "collapsed": false,
    "ExecuteTime": {
     "end_time": "2024-04-27T22:57:24.385130Z",
     "start_time": "2024-04-27T22:57:24.361939Z"
    }
   }
  },
  {
   "cell_type": "code",
   "execution_count": 32,
   "outputs": [],
   "source": [
    "def load_model(model_path):\n",
    "    model = GPT2LMHeadModel.from_pretrained(model_path)\n",
    "    tokenizer = GPT2Tokenizer.from_pretrained(model_path, padding_side='left')\n",
    "    return model, tokenizer"
   ],
   "metadata": {
    "collapsed": false,
    "ExecuteTime": {
     "end_time": "2024-04-28T00:31:52.728144Z",
     "start_time": "2024-04-28T00:31:52.721786Z"
    }
   }
  },
  {
   "cell_type": "code",
   "execution_count": 33,
   "outputs": [],
   "source": [
    "def prepare_similarity_matrix(recipes):\n",
    "    tfidf_vectorizer = TfidfVectorizer()\n",
    "    tfidf_matrix = tfidf_vectorizer.fit_transform(recipes['NER'])\n",
    "    return tfidf_vectorizer, tfidf_matrix\n",
    "\n",
    "tfidf_vectorizer, tfidf_matrix = prepare_similarity_matrix(recipes)"
   ],
   "metadata": {
    "collapsed": false,
    "ExecuteTime": {
     "end_time": "2024-04-28T00:31:53.072908Z",
     "start_time": "2024-04-28T00:31:53.063551Z"
    }
   }
  },
  {
   "cell_type": "code",
   "execution_count": 34,
   "outputs": [],
   "source": [
    "import ast\n",
    "\n",
    "def find_best_match(user_ingredients, recipes, tfidf_vectorizer, tfidf_matrix):\n",
    "    \"\"\"Calculate cosine similarity and return the best recipe match.\"\"\"\n",
    "    user_input_tfidf = tfidf_vectorizer.transform([' '.join(user_ingredients)])\n",
    "    cos_similarities = cosine_similarity(user_input_tfidf, tfidf_matrix)\n",
    "    best_recipe_index = cos_similarities.argmax()\n",
    "    return recipes.iloc[best_recipe_index]\n",
    "\n",
    "def remove_repetitions(text):\n",
    "    \"\"\"Helper function to remove repeated sentences in a list of directions.\"\"\"\n",
    "    seen = set()\n",
    "    result = []\n",
    "    for item in text:\n",
    "        if item not in seen:\n",
    "            seen.add(item)\n",
    "            result.append(item)\n",
    "    return result\n",
    "\n",
    "def generate_recipe_text(user_ingredients, recipes, tfidf_vectorizer, tfidf_matrix, model, tokenizer):\n",
    "    # Find the recipe that matches the user ingredients\n",
    "    best_recipe = find_best_match(user_ingredients, recipes, tfidf_vectorizer, tfidf_matrix)\n",
    "\n",
    "    # Parse ingredients and directions from the dataframe\n",
    "    ingredients_list = ast.literal_eval(best_recipe['ingredients'])\n",
    "    directions_list = ast.literal_eval(best_recipe['directions'])\n",
    "\n",
    "    # Reformat input to the model\n",
    "    ingredients_text = \"Ingredients:\\n\" + \"\\n\".join([f\"- {ingredient}\" for ingredient in ingredients_list])\n",
    "    directions_text = \"Directions:\\n\" + \"\\n\".join([f\"Step {i+1}: {step}\" for i, step in enumerate(directions_list)])\n",
    "    prompt_text = f\"Recipe Title: {best_recipe['title']}\\n\\n{ingredients_text}\\n\\n{directions_text}\"\n",
    "\n",
    "    # Generate the recipe text\n",
    "    encoded = tokenizer.encode_plus(prompt_text, return_tensors=\"pt\", padding='max_length', truncation=True)\n",
    "    input_ids = encoded['input_ids'].to(device)\n",
    "    attention_mask = encoded['attention_mask'].to(device)\n",
    "    pad_token_id = tokenizer.pad_token_id\n",
    "    outputs = model.generate(input_ids, attention_mask=attention_mask, pad_token_id=pad_token_id, max_length=1024 + 50, num_return_sequences=1, no_repeat_ngram_size=2)\n",
    "    generated_text = tokenizer.decode(outputs[0], skip_special_tokens=True)\n",
    "\n",
    "    # Remove repetitions from the directions in the generated text\n",
    "    final_text_lines = generated_text.split('\\n')\n",
    "    final_text_lines = remove_repetitions(final_text_lines)\n",
    "\n",
    "    return \"\\n\".join(final_text_lines)"
   ],
   "metadata": {
    "collapsed": false,
    "ExecuteTime": {
     "end_time": "2024-04-28T00:31:57.780350Z",
     "start_time": "2024-04-28T00:31:57.773419Z"
    }
   }
  },
  {
   "cell_type": "markdown",
   "source": [
    "- Prepare data for training the GPT-2 model.\n",
    "- DataLoader creation for training and validation sets.\n",
    "- Model Training & Validation methods"
   ],
   "metadata": {
    "collapsed": false,
    "ExecuteTime": {
     "end_time": "2024-04-27T22:59:10.944443Z",
     "start_time": "2024-04-27T22:59:10.939867Z"
    }
   }
  },
  {
   "cell_type": "code",
   "execution_count": 35,
   "outputs": [],
   "source": [
    "class RecipeDataset(Dataset):\n",
    "    def __init__(self, texts, tokenizer, max_length):\n",
    "        self.tokenizer = tokenizer\n",
    "        self.texts = texts\n",
    "        self.max_length = max_length\n",
    "\n",
    "    def __len__(self):\n",
    "        return len(self.texts)\n",
    "\n",
    "    def __getitem__(self, idx):\n",
    "        text = self.texts[idx]\n",
    "        encoded = self.tokenizer.encode_plus(\n",
    "            text,\n",
    "            add_special_tokens=True,\n",
    "            max_length=self.max_length,\n",
    "            return_token_type_ids=False,\n",
    "            padding='max_length',\n",
    "            return_attention_mask=True,\n",
    "            return_tensors='pt',\n",
    "            truncation=True\n",
    "        )\n",
    "        return {\n",
    "            'input_ids': encoded['input_ids'].flatten(),\n",
    "            'attention_mask': encoded['attention_mask'].flatten(),\n",
    "            'labels': encoded['input_ids'].flatten()  # Labels for language modeling\n",
    "        }\n",
    "\n",
    "\n",
    "def create_data_loaders(recipes, batch_size, tokenizer, max_length):\n",
    "    # Combine title, ingredients, and directions into a single text input for each recipe\n",
    "    combined_texts = recipes.apply(lambda row: f\"Recipe Title: {row['title']} Ingredients: {row['ingredients']} Directions: {row['directions']}\", axis=1)\n",
    "    \n",
    "    # Split data into training and validation sets\n",
    "    train_texts, val_texts = train_test_split(combined_texts, test_size=0.2, random_state=42)\n",
    "\n",
    "    # Create Dataset objects\n",
    "    train_dataset = RecipeDataset(train_texts.tolist(), tokenizer, max_length)\n",
    "    val_dataset = RecipeDataset(val_texts.tolist(), tokenizer, max_length)\n",
    "    \n",
    "    # Create DataLoaders\n",
    "    train_loader = DataLoader(train_dataset, batch_size=batch_size, shuffle=True)\n",
    "    val_loader = DataLoader(val_dataset, batch_size=batch_size, shuffle=False)\n",
    "    \n",
    "    return train_loader, val_loader"
   ],
   "metadata": {
    "collapsed": false,
    "ExecuteTime": {
     "end_time": "2024-04-28T00:31:58.786445Z",
     "start_time": "2024-04-28T00:31:58.774735Z"
    }
   }
  },
  {
   "cell_type": "code",
   "execution_count": 36,
   "outputs": [],
   "source": [
    "def train_and_validate(model, recipes, tokenizer, device, best_params):\n",
    "    # Cast batch size and num_train_epochs from best_params\n",
    "    batch_size = int(best_params.get('batch_size', 4))\n",
    "    num_train_epochs = int(best_params.get('num_train_epochs', 10))\n",
    "    learning_rate = best_params.get('learning_rate', 1e-5)\n",
    "    weight_decay = best_params.get('weight_decay', 0)  # Default to 0 if not specified\n",
    "    warmup_steps = int(best_params.get('warmup_steps', 0))  # Default to 0 if not specified\n",
    "\n",
    "\n",
    "    # Create data loaders with the best batch size\n",
    "    train_loader, val_loader = create_data_loaders(recipes, batch_size, tokenizer, max_length=512)\n",
    "\n",
    "    # Set up the optimizer and scheduler using the best learning rate\n",
    "    optimizer = torch.optim.AdamW(model.parameters(), lr=learning_rate, weight_decay=weight_decay)\n",
    "    total_steps = len(train_loader) * num_train_epochs\n",
    "    scheduler = get_linear_schedule_with_warmup(optimizer, num_warmup_steps=warmup_steps, num_training_steps=total_steps)\n",
    "\n",
    "    \n",
    "    # Use gradient accumulation to handle memory limits\n",
    "    accumulation_steps = 4  # Adjust based on your specific memory constraints\n",
    "\n",
    "\n",
    "    # Lists to store per-epoch metrics\n",
    "    training_losses = []\n",
    "    validation_losses = []\n",
    "    training_perplexities = []\n",
    "    validation_perplexities = []\n",
    "\n",
    "    # Training loop\n",
    "    model.train()\n",
    "    for epoch in range(num_train_epochs):\n",
    "        total_loss = 0\n",
    "        model.zero_grad()\n",
    "\n",
    "        for step, batch in enumerate(train_loader):\n",
    "            input_ids = batch['input_ids'].to(device)\n",
    "            attention_mask = batch['attention_mask'].to(device)\n",
    "            labels = batch['labels'].to(device)\n",
    "\n",
    "            outputs = model(input_ids, attention_mask=attention_mask, labels=labels)\n",
    "            loss = outputs.loss / accumulation_steps  # Normalize the loss to account for accumulation\n",
    "            \n",
    "            loss.backward()\n",
    "            total_loss += loss.item()\n",
    "            \n",
    "            if (step + 1) % accumulation_steps == 0:\n",
    "                optimizer.step()\n",
    "                scheduler.step()\n",
    "                model.zero_grad()\n",
    "\n",
    "            # loss.backward()\n",
    "            # optimizer.step()\n",
    "            # scheduler.step()\n",
    "\n",
    "        avg_train_loss = total_loss / len(train_loader)\n",
    "        train_ppl = torch.exp(torch.tensor(avg_train_loss)).item()\n",
    "        training_losses.append(avg_train_loss)\n",
    "        training_perplexities.append(train_ppl)\n",
    "\n",
    "        # Validation phase\n",
    "        model.eval()\n",
    "        val_loss = 0\n",
    "        with torch.no_grad():\n",
    "            for batch in val_loader:\n",
    "                input_ids = batch['input_ids'].to(device)\n",
    "                attention_mask = batch['attention_mask'].to(device)\n",
    "                labels = batch['labels'].to(device)\n",
    "                \n",
    "                outputs = model(input_ids, attention_mask=attention_mask, labels=labels)\n",
    "                loss = outputs.loss\n",
    "                val_loss += loss.item()\n",
    "\n",
    "        avg_val_loss = val_loss / len(val_loader)\n",
    "        val_ppl = torch.exp(torch.tensor(avg_val_loss)).item()\n",
    "        validation_losses.append(avg_val_loss)\n",
    "        validation_perplexities.append(val_ppl)\n",
    "\n",
    "        print(f\"Epoch {epoch + 1}/{num_train_epochs} | Train Loss: {avg_train_loss:.3f} | Train PPL: {train_ppl:.3f} | Val Loss: {avg_val_loss:.3f} | Val PPL: {val_ppl:.3f}\")\n",
    "        \n",
    "        # Clear memory at the end of each epoch\n",
    "        clear_memory()\n",
    "\n",
    "    return training_losses, validation_losses, training_perplexities, validation_perplexities"
   ],
   "metadata": {
    "collapsed": false,
    "ExecuteTime": {
     "end_time": "2024-04-28T00:31:59.252698Z",
     "start_time": "2024-04-28T00:31:59.246713Z"
    }
   }
  },
  {
   "cell_type": "code",
   "execution_count": 37,
   "outputs": [],
   "source": [
    "import matplotlib.pyplot as plt\n",
    "\n",
    "def plot_validation_curves(training_losses, validation_losses, training_perplexities, validation_perplexities):\n",
    "    epochs = range(1, len(training_losses) + 1)\n",
    "    \n",
    "    plt.figure(figsize=(12, 6))\n",
    "    plt.subplot(1, 2, 1)\n",
    "    plt.plot(epochs, training_losses, 'bo-', label='Training Loss')\n",
    "    plt.plot(epochs, validation_losses, 'ro-', label='Validation Loss')\n",
    "    plt.title('Training and Validation Loss')\n",
    "    plt.xlabel('Epochs')\n",
    "    plt.ylabel('Loss')\n",
    "    plt.grid()\n",
    "    plt.legend()\n",
    "\n",
    "    plt.subplot(1, 2, 2)\n",
    "    plt.plot(epochs, training_perplexities, 'bo-', label='Training Perplexity')\n",
    "    plt.plot(epochs, validation_perplexities, 'ro-', label='Validation Perplexity')\n",
    "    plt.title('Training and Validation Perplexity')\n",
    "    plt.xlabel('Epochs')\n",
    "    plt.ylabel('Perplexity')\n",
    "    plt.grid()\n",
    "    plt.legend()\n",
    "\n",
    "    plt.tight_layout()\n",
    "    plt.show()"
   ],
   "metadata": {
    "collapsed": false,
    "ExecuteTime": {
     "end_time": "2024-04-28T00:31:59.614640Z",
     "start_time": "2024-04-28T00:31:59.604546Z"
    }
   }
  },
  {
   "cell_type": "markdown",
   "source": [
    "## Model optimization with Bayesian Optimization: \n",
    "This approach combines traditional NLP techniques for ingredient matching with advanced language generation capabilities of GPT-2\n",
    "\n",
    "- Prepare data for fine-tuning: tokenize and format the data suitable for GPT-2\n",
    "- Hyperparameter Tuning: Explore different learning rates, batch sizes, and number of epochs\n",
    "    - Bayesian Optimization uses a probabilistic model to guide the search for the best hyperparameters. It balances exploration and exploitation to find the optimal hyperparameters efficiently. \n",
    "\n",
    "- Training: Train the model with recipes data, monitoring for convergence and performance.\n",
    "- Evaluation: Evaluate the model using validation data and metrics like perplexity.\n",
    "- Visualization of Results: Use plots to show training losses and evaluation metrics."
   ],
   "metadata": {
    "collapsed": false,
    "ExecuteTime": {
     "end_time": "2024-04-27T22:59:28.160404Z",
     "start_time": "2024-04-27T22:59:28.156625Z"
    }
   }
  },
  {
   "cell_type": "markdown",
   "source": [
    "### Hyperparameter Tuning\n",
    "\n",
    "Optimizer Selection\n",
    "- Adam is a popular choice due to its effectiveness in handling sparse gradients and adaptive learning rate techniques.\n",
    "\n",
    "Learning Rates\n",
    "- Initial Value: Starting learning rate in the range of 2e-5 to 5e-5, which are common starting points for fine-tuning language models.\n",
    "- Decay Strategy: Reduce the learning rate gradually as training progresses. This helps in fine-tuning the model to achieve better performance as it converges.\n",
    "- Warm-up Steps: Implementing a warm-up period for the learning rate can help stabilize the model's training early in the process, gradually increasing the learning rate from zero to the initial set learning rate.\n",
    "\n",
    "Batch Sizes\n",
    "- Size Range: Experiment with batch sizes, starting from smaller batches like 4 or 8, up to larger batches if your hardware supports it (e.g., 16, 32). Larger batch sizes provide a more stable gradient, but they require more memory.\n",
    "- Gradient Accumulation: If memory limits batch size, used to simulate larger batches. This means updating model weights less frequently, accumulating gradients over multiple forward passes.\n",
    "\n",
    "Number of Epochs\n",
    "- Epoch Count: Number of epochs is increased based on the initial results and if the model has not started overfitting. (See how quickly the model learns)\n",
    "- Early Stopping: Halt training when the validation metric (like perplexity or validation loss) stops improving. This prevents overfitting and saves computational resources.\n",
    "\n",
    "Weight Decay \n",
    "- (L2 Regularization): Prevents overfitting by penalizing large weights. Helps maintain a balance between model complexity and dataset simplicity.\n",
    "\n",
    "Gradient Clipping: \n",
    "- Prevents exploding gradients. By setting a threshold for gradient clipping, we ensure that gradients exceeding this threshold are scaled down to maintain stability in the training process.\n"
   ],
   "metadata": {
    "collapsed": false
   }
  },
  {
   "cell_type": "code",
   "execution_count": 38,
   "outputs": [],
   "source": [
    "def tune_model(learning_rate, weight_decay, num_train_epochs, warmup_steps, batch_size):\n",
    "    batch_size = int(batch_size)\n",
    "    num_train_epochs = int(num_train_epochs)\n",
    "    warmup_steps = int(warmup_steps)\n",
    "    \n",
    "    train_loader, val_loader = create_data_loaders(recipes, batch_size, tokenizer, max_length=512)\n",
    "    \n",
    "    # Set up optimizer and scheduler\n",
    "    optimizer = torch.optim.AdamW(model.parameters(), lr=learning_rate, weight_decay=weight_decay)\n",
    "    total_steps = len(train_loader) * num_train_epochs\n",
    "    scheduler = get_linear_schedule_with_warmup(optimizer, num_warmup_steps=warmup_steps, num_training_steps=total_steps)\n",
    "\n",
    "\n",
    "    # Define gradient accumulation steps to handle memory limits\n",
    "    accumulation_steps = 4  # Adjust based on your specific memory constraints\n",
    "    patience_limit = 3  # Early stopping after 3 epochs with no improvement\n",
    "    min_val_loss = float('inf')\n",
    "    gradient_clipping_norm = 1.0  # Common value for clipping gradients\n",
    "    patience = 0\n",
    "        \n",
    "    # Training loop\n",
    "    model.train()\n",
    "    for epoch in range(num_train_epochs):\n",
    "        total_loss = 0\n",
    "        model.zero_grad()\n",
    "\n",
    "        for step, batch in enumerate(train_loader):\n",
    "            input_ids = batch['input_ids'].to(device)\n",
    "            attention_mask = batch['attention_mask'].to(device)\n",
    "            labels = batch['labels'].to(device)\n",
    "\n",
    "            outputs = model(input_ids, attention_mask=attention_mask, labels=labels)\n",
    "            loss = outputs.loss / accumulation_steps  # Normalize the loss to account for accumulation\n",
    "            loss.backward()\n",
    "            total_loss += loss.item()\n",
    "\n",
    "            if (step + 1) % accumulation_steps == 0:\n",
    "                torch.nn.utils.clip_grad_norm_(model.parameters(), gradient_clipping_norm)\n",
    "                \n",
    "                optimizer.step()\n",
    "                scheduler.step()\n",
    "                model.zero_grad()\n",
    "\n",
    "        avg_train_loss = total_loss / len(train_loader)\n",
    "\n",
    "        # Validation phase\n",
    "        model.eval()\n",
    "        val_loss = 0\n",
    "        with torch.no_grad():\n",
    "            for batch in val_loader:\n",
    "                input_ids = batch['input_ids'].to(device)\n",
    "                attention_mask = batch['attention_mask'].to(device)\n",
    "                labels = batch['labels'].to(device)\n",
    "                \n",
    "                outputs = model(input_ids=input_ids, attention_mask=attention_mask, labels=labels)\n",
    "                loss = outputs.loss\n",
    "                val_loss += loss.item()\n",
    "\n",
    "        avg_val_loss = val_loss / len(val_loader)\n",
    "\n",
    "        # Early stopping logic\n",
    "        if avg_val_loss < min_val_loss:\n",
    "            min_val_loss = avg_val_loss\n",
    "            patience = 0\n",
    "        else:\n",
    "            patience += 1\n",
    "            if patience >= patience_limit:\n",
    "                print(f\"Stopping early at epoch {epoch+1}\")\n",
    "                break\n",
    "\n",
    "        print(f\"Epoch {epoch+1}: Train Loss: {avg_train_loss:.3f}, Val Loss: {avg_val_loss:.3f}\")\n",
    "        \n",
    "        # Clear memory at the end of each epoch\n",
    "        clear_memory()\n",
    "\n",
    "    return -min_val_loss  # Maximizing the negative loss in Bayesian optimization"
   ],
   "metadata": {
    "collapsed": false,
    "ExecuteTime": {
     "end_time": "2024-04-28T00:32:06.040320Z",
     "start_time": "2024-04-28T00:32:06.033884Z"
    }
   }
  },
  {
   "cell_type": "code",
   "execution_count": 39,
   "outputs": [
    {
     "data": {
      "text/plain": "GPT2LMHeadModel(\n  (transformer): GPT2Model(\n    (wte): Embedding(50257, 768)\n    (wpe): Embedding(1024, 768)\n    (drop): Dropout(p=0.1, inplace=False)\n    (h): ModuleList(\n      (0-11): 12 x GPT2Block(\n        (ln_1): LayerNorm((768,), eps=1e-05, elementwise_affine=True)\n        (attn): GPT2Attention(\n          (c_attn): Conv1D()\n          (c_proj): Conv1D()\n          (attn_dropout): Dropout(p=0.1, inplace=False)\n          (resid_dropout): Dropout(p=0.1, inplace=False)\n        )\n        (ln_2): LayerNorm((768,), eps=1e-05, elementwise_affine=True)\n        (mlp): GPT2MLP(\n          (c_fc): Conv1D()\n          (c_proj): Conv1D()\n          (act): NewGELUActivation()\n          (dropout): Dropout(p=0.1, inplace=False)\n        )\n      )\n    )\n    (ln_f): LayerNorm((768,), eps=1e-05, elementwise_affine=True)\n  )\n  (lm_head): Linear(in_features=768, out_features=50257, bias=False)\n)"
     },
     "execution_count": 39,
     "metadata": {},
     "output_type": "execute_result"
    }
   ],
   "source": [
    "model, tokenizer = load_model(model_path)\n",
    "tokenizer.pad_token = tokenizer.eos_token  # Set padding token as EOS token\n",
    "model.to(device)"
   ],
   "metadata": {
    "collapsed": false,
    "ExecuteTime": {
     "end_time": "2024-04-28T00:32:09.658960Z",
     "start_time": "2024-04-28T00:32:07.911799Z"
    }
   }
  },
  {
   "cell_type": "code",
   "execution_count": 43,
   "outputs": [
    {
     "name": "stdout",
     "output_type": "stream",
     "text": [
      "|   iter    |  target   | batch_... | learni... | num_tr... | warmup... | weight... |\n",
      "-------------------------------------------------------------------------------------\n",
      "Epoch 1: Train Loss: 1.740, Val Loss: 6.382\n",
      "| \u001B[0m1        \u001B[0m | \u001B[0m-6.382   \u001B[0m | \u001B[0m55.71    \u001B[0m | \u001B[0m7.231e-05\u001B[0m | \u001B[0m1.001    \u001B[0m | \u001B[0m3.023e+03\u001B[0m | \u001B[0m0.001553 \u001B[0m |\n",
      "Epoch 1: Train Loss: 1.627, Val Loss: 6.382\n",
      "Epoch 2: Train Loss: 1.653, Val Loss: 6.382\n",
      "Epoch 3: Train Loss: 1.653, Val Loss: 6.382\n",
      "Stopping early at epoch 4\n",
      "| \u001B[0m2        \u001B[0m | \u001B[0m-6.382   \u001B[0m | \u001B[0m15.45    \u001B[0m | \u001B[0m1.944e-05\u001B[0m | \u001B[0m4.11     \u001B[0m | \u001B[0m3.968e+03\u001B[0m | \u001B[0m0.005434 \u001B[0m |\n",
      "Epoch 1: Train Loss: 1.751, Val Loss: 6.382\n",
      "Epoch 2: Train Loss: 1.653, Val Loss: 6.382\n",
      "Epoch 3: Train Loss: 1.653, Val Loss: 6.382\n",
      "| \u001B[0m3        \u001B[0m | \u001B[0m-6.382   \u001B[0m | \u001B[0m100.8    \u001B[0m | \u001B[0m9.492e-05\u001B[0m | \u001B[0m3.107    \u001B[0m | \u001B[0m9.329e+03\u001B[0m | \u001B[0m0.002628 \u001B[0m |\n",
      "Epoch 1: Train Loss: 1.895, Val Loss: 6.382\n",
      "Epoch 2: Train Loss: 1.653, Val Loss: 6.382\n",
      "Epoch 3: Train Loss: 1.653, Val Loss: 6.382\n",
      "Stopping early at epoch 4\n",
      "| \u001B[0m4        \u001B[0m | \u001B[0m-6.382   \u001B[0m | \u001B[0m4.021    \u001B[0m | \u001B[0m6.524e-05\u001B[0m | \u001B[0m8.357    \u001B[0m | \u001B[0m4.758    \u001B[0m | \u001B[0m0.009484 \u001B[0m |\n",
      "Epoch 1: Train Loss: 1.725, Val Loss: 6.382\n",
      "Epoch 2: Train Loss: 1.653, Val Loss: 6.382\n",
      "Epoch 3: Train Loss: 1.653, Val Loss: 6.382\n",
      "Stopping early at epoch 4\n",
      "| \u001B[0m5        \u001B[0m | \u001B[0m-6.382   \u001B[0m | \u001B[0m4.903    \u001B[0m | \u001B[0m7.827e-05\u001B[0m | \u001B[0m5.232    \u001B[0m | \u001B[0m9.98e+03 \u001B[0m | \u001B[0m0.005804 \u001B[0m |\n",
      "Epoch 1: Train Loss: 1.731, Val Loss: 6.382\n",
      "Epoch 2: Train Loss: 1.653, Val Loss: 6.382\n",
      "Epoch 3: Train Loss: 1.653, Val Loss: 6.382\n",
      "Stopping early at epoch 4\n",
      "| \u001B[0m6        \u001B[0m | \u001B[0m-6.382   \u001B[0m | \u001B[0m126.4    \u001B[0m | \u001B[0m3.082e-05\u001B[0m | \u001B[0m7.784    \u001B[0m | \u001B[0m84.42    \u001B[0m | \u001B[0m0.006311 \u001B[0m |\n",
      "Epoch 1: Train Loss: 1.678, Val Loss: 6.382\n",
      "Epoch 2: Train Loss: 1.653, Val Loss: 6.382\n",
      "Epoch 3: Train Loss: 1.653, Val Loss: 6.382\n",
      "Stopping early at epoch 4\n",
      "| \u001B[0m7        \u001B[0m | \u001B[0m-6.382   \u001B[0m | \u001B[0m127.2    \u001B[0m | \u001B[0m2.219e-05\u001B[0m | \u001B[0m7.743    \u001B[0m | \u001B[0m6.464e+03\u001B[0m | \u001B[0m0.002704 \u001B[0m |\n",
      "Epoch 1: Train Loss: 1.757, Val Loss: 6.382\n",
      "Epoch 2: Train Loss: 1.653, Val Loss: 6.382\n",
      "Epoch 3: Train Loss: 1.653, Val Loss: 6.382\n",
      "Stopping early at epoch 4\n",
      "| \u001B[0m8        \u001B[0m | \u001B[0m-6.382   \u001B[0m | \u001B[0m125.8    \u001B[0m | \u001B[0m1.789e-05\u001B[0m | \u001B[0m8.991    \u001B[0m | \u001B[0m9.985e+03\u001B[0m | \u001B[0m0.001547 \u001B[0m |\n",
      "Epoch 1: Train Loss: 1.801, Val Loss: 6.382\n",
      "Epoch 2: Train Loss: 1.653, Val Loss: 6.382\n",
      "Epoch 3: Train Loss: 1.653, Val Loss: 6.382\n",
      "Stopping early at epoch 4\n",
      "| \u001B[0m9        \u001B[0m | \u001B[0m-6.382   \u001B[0m | \u001B[0m4.256    \u001B[0m | \u001B[0m6.411e-05\u001B[0m | \u001B[0m9.757    \u001B[0m | \u001B[0m7.01e+03 \u001B[0m | \u001B[0m0.009319 \u001B[0m |\n",
      "Epoch 1: Train Loss: 1.717, Val Loss: 6.382\n",
      "Epoch 2: Train Loss: 1.653, Val Loss: 6.382\n",
      "| \u001B[0m10       \u001B[0m | \u001B[0m-6.382   \u001B[0m | \u001B[0m126.9    \u001B[0m | \u001B[0m8.55e-05 \u001B[0m | \u001B[0m2.354    \u001B[0m | \u001B[0m3.224    \u001B[0m | \u001B[0m0.00748  \u001B[0m |\n",
      "Epoch 1: Train Loss: 1.751, Val Loss: 6.382\n",
      "| \u001B[0m11       \u001B[0m | \u001B[0m-6.382   \u001B[0m | \u001B[0m128.0    \u001B[0m | \u001B[0m7.257e-05\u001B[0m | \u001B[0m1.743    \u001B[0m | \u001B[0m3.191e+03\u001B[0m | \u001B[0m0.004457 \u001B[0m |\n",
      "Epoch 1: Train Loss: 1.730, Val Loss: 6.382\n",
      "| \u001B[0m12       \u001B[0m | \u001B[0m-6.382   \u001B[0m | \u001B[0m6.205    \u001B[0m | \u001B[0m9.021e-05\u001B[0m | \u001B[0m1.385    \u001B[0m | \u001B[0m9.994e+03\u001B[0m | \u001B[0m0.002833 \u001B[0m |\n",
      "=====================================================================================\n"
     ]
    }
   ],
   "source": [
    "# Define parameter bounds\n",
    "pbounds = {\n",
    "    'learning_rate': (1e-6, 1e-4),\n",
    "    'batch_size': (4, 128),\n",
    "    'num_train_epochs': (1, 10),\n",
    "    'weight_decay': (1e-4, 1e-2),\n",
    "    'warmup_steps': (0, 10000),\n",
    "}\n",
    "\n",
    "optimizer = BayesianOptimization(\n",
    "    f=tune_model,\n",
    "    pbounds=pbounds,\n",
    "    random_state=1,\n",
    ")\n",
    "\n",
    "optimizer.maximize(\n",
    "    init_points=2,\n",
    "    n_iter=10,\n",
    ")"
   ],
   "metadata": {
    "collapsed": false,
    "ExecuteTime": {
     "end_time": "2024-04-28T00:40:06.076092Z",
     "start_time": "2024-04-28T00:38:52.892719Z"
    }
   }
  },
  {
   "cell_type": "code",
   "execution_count": 44,
   "outputs": [
    {
     "name": "stdout",
     "output_type": "stream",
     "text": [
      "Best hyperparameters found:\n",
      "- Learning Rate: 7.231212485077366e-05\n",
      "- Batch Size: 55\n",
      "- Training Epochs: 1\n",
      "- Weight Decay: 0.0015528833190894193\n",
      "- Warmup Steps: 3023\n"
     ]
    }
   ],
   "source": [
    "print(f\"Recipes used: {n_recipes}\")\n",
    "print(f\"Best model in: {best_model_path}\")\n",
    "\n",
    "best_params = optimizer.max['params']\n",
    "print(\"Best hyperparameters found:\")\n",
    "print(f\"- Learning Rate: {best_params['learning_rate']}\")\n",
    "print(f\"- Batch Size: {int(best_params['batch_size'])}\")\n",
    "print(f\"- Training Epochs: {int(best_params['num_train_epochs'])}\")\n",
    "print(f\"- Weight Decay: {best_params['weight_decay']}\")\n",
    "print(f\"- Warmup Steps: {int(best_params['warmup_steps'])}\")"
   ],
   "metadata": {
    "collapsed": false,
    "ExecuteTime": {
     "end_time": "2024-04-28T00:40:18.541127Z",
     "start_time": "2024-04-28T00:40:18.528538Z"
    }
   }
  },
  {
   "cell_type": "markdown",
   "source": [
    "#### Optimized Model Training and Validation"
   ],
   "metadata": {
    "collapsed": false
   }
  },
  {
   "cell_type": "code",
   "execution_count": 45,
   "outputs": [
    {
     "data": {
      "text/plain": "GPT2LMHeadModel(\n  (transformer): GPT2Model(\n    (wte): Embedding(50257, 768)\n    (wpe): Embedding(1024, 768)\n    (drop): Dropout(p=0.1, inplace=False)\n    (h): ModuleList(\n      (0-11): 12 x GPT2Block(\n        (ln_1): LayerNorm((768,), eps=1e-05, elementwise_affine=True)\n        (attn): GPT2Attention(\n          (c_attn): Conv1D()\n          (c_proj): Conv1D()\n          (attn_dropout): Dropout(p=0.1, inplace=False)\n          (resid_dropout): Dropout(p=0.1, inplace=False)\n        )\n        (ln_2): LayerNorm((768,), eps=1e-05, elementwise_affine=True)\n        (mlp): GPT2MLP(\n          (c_fc): Conv1D()\n          (c_proj): Conv1D()\n          (act): NewGELUActivation()\n          (dropout): Dropout(p=0.1, inplace=False)\n        )\n      )\n    )\n    (ln_f): LayerNorm((768,), eps=1e-05, elementwise_affine=True)\n  )\n  (lm_head): Linear(in_features=768, out_features=50257, bias=False)\n)"
     },
     "execution_count": 45,
     "metadata": {},
     "output_type": "execute_result"
    }
   ],
   "source": [
    "best_model, tokenizer = load_model(best_model_path)\n",
    "best_model.to(device)"
   ],
   "metadata": {
    "collapsed": false,
    "ExecuteTime": {
     "end_time": "2024-04-28T00:41:19.933370Z",
     "start_time": "2024-04-28T00:41:18.574017Z"
    }
   }
  },
  {
   "cell_type": "code",
   "execution_count": 46,
   "outputs": [
    {
     "name": "stdout",
     "output_type": "stream",
     "text": [
      "Epoch 1/1 | Train Loss: 1.318 | Train PPL: 3.738 | Val Loss: 3.482 | Val PPL: 32.519\n"
     ]
    }
   ],
   "source": [
    "best_batch_size = int(best_params['batch_size'])\n",
    "train_loader, val_loader = create_data_loaders(recipes, best_batch_size, tokenizer, max_length=512)\n",
    "\n",
    "training_losses, validation_losses, training_perplexities, validation_perplexities = train_and_validate(best_model, recipes, tokenizer, device, best_params)"
   ],
   "metadata": {
    "collapsed": false,
    "ExecuteTime": {
     "start_time": "2024-04-28T00:41:28.942581Z"
    }
   }
  },
  {
   "cell_type": "markdown",
   "source": [
    "### Visualizing Results\n",
    "\n",
    "- Training Loss: Plot the training and validation loss over epochs to visualize learning progress and diagnose issues like overfitting or underfitting.\n",
    "- BLEU Scores or Perplexity Over Time: Similarly, track and plot BLEU scores or perplexity over epochs to assess language model performance improvements."
   ],
   "metadata": {
    "collapsed": false
   }
  },
  {
   "cell_type": "code",
   "execution_count": 47,
   "outputs": [
    {
     "data": {
      "text/plain": "<Figure size 1200x600 with 2 Axes>",
      "image/png": "[encoded data removed]"
     },
     "metadata": {},
     "output_type": "display_data"
    }
   ],
   "source": [
    "plot_validation_curves(training_losses, validation_losses, training_perplexities, validation_perplexities)"
   ],
   "metadata": {
    "collapsed": false,
    "ExecuteTime": {
     "start_time": "2024-04-28T00:41:42.400615Z"
    }
   }
  },
  {
   "cell_type": "markdown",
   "source": [
    "### Example: Generating a Recipe with Optimized model"
   ],
   "metadata": {
    "collapsed": false
   }
  },
  {
   "cell_type": "code",
   "execution_count": 48,
   "outputs": [],
   "source": [
    "# Load the best model\n",
    "best_model, tokenizer = load_model(best_model_path)\n",
    "tokenizer.pad_token = tokenizer.eos_token\n",
    "best_model.to(device)\n",
    "\n",
    "tfidf_vectorizer, tfidf_matrix = prepare_similarity_matrix(recipes)"
   ],
   "metadata": {
    "collapsed": false,
    "ExecuteTime": {
     "end_time": "2024-04-28T00:41:50.865752Z",
     "start_time": "2024-04-28T00:41:49.503103Z"
    }
   }
  },
  {
   "cell_type": "code",
   "execution_count": 49,
   "outputs": [
    {
     "name": "stdout",
     "output_type": "stream",
     "text": [
      "Recipe Title: Tj'S Lentil Haystacks \n",
      "\n",
      "Ingredients:\n",
      "- cooked lentils\n",
      "- chopped onion\n",
      "- minced garlic\n",
      "- 1/2 c chicken broth\n",
      "- 1/2 c tomato sauce\n",
      "- brown rice\n",
      "- lemon/olive oil\n",
      "- toppings like: feta, avocado, zucchini, eggplant, salsa, mango salsa -- good way to use up veggies\n",
      "Directions:\n",
      "Step 1: Saute onion and garlic until soft. Prepare rice.\n",
      "Step 2: Add lentils, broth, and marinara to onion and garlic. Cook until warm.\n",
      "Step 3: Put down cooked rice, top with lentils and toppings. Drizzle w lemon juice/olive oil.\n"
     ]
    }
   ],
   "source": [
    "# Generate the recipe\n",
    "recipe_text = generate_recipe_text(user_ingredients, recipes, tfidf_vectorizer, tfidf_matrix, best_model, tokenizer)\n",
    "\n",
    "print(recipe_text)"
   ],
   "metadata": {
    "collapsed": false,
    "ExecuteTime": {
     "end_time": "2024-04-28T00:41:51.056305Z",
     "start_time": "2024-04-28T00:41:50.868358Z"
    }
   }
  },
  {
   "cell_type": "markdown",
   "source": [
    "### If best N epochs = 1, then train for 1 epoch to visualize the training process"
   ],
   "metadata": {
    "collapsed": false
   }
  },
  {
   "cell_type": "code",
   "execution_count": 54,
   "outputs": [],
   "source": [
    "# Train for 1 epoch to visualize the training process\n",
    "\n",
    "def train_for_one_epoch(model, train_loader, val_loader, optimizer, device):\n",
    "    model.train()\n",
    "    total_train_loss = 0\n",
    "\n",
    "    for batch_idx, batch in enumerate(train_loader):\n",
    "        input_ids = batch['input_ids'].to(device)\n",
    "        attention_mask = batch['attention_mask'].to(device)\n",
    "        labels = batch['labels'].to(device)\n",
    "\n",
    "        optimizer.zero_grad()\n",
    "        outputs = model(input_ids, attention_mask=attention_mask, labels=labels)\n",
    "        loss = outputs.loss\n",
    "        loss.backward()\n",
    "        optimizer.step()\n",
    "\n",
    "        total_train_loss += loss.item()\n",
    "        if (batch_idx + 1) % 10 == 0:  # Log every 10 batches\n",
    "            print(f'Batch {batch_idx + 1}, Loss: {loss.item()}')\n",
    "\n",
    "    avg_train_loss = total_train_loss / len(train_loader)\n",
    "\n",
    "    # Validation phase\n",
    "    model.eval()\n",
    "    total_val_loss = 0\n",
    "    with torch.no_grad():\n",
    "        for batch in val_loader:\n",
    "            input_ids = batch['input_ids'].to(device)\n",
    "            attention_mask = batch['attention_mask'].to(device)\n",
    "            labels = batch['labels'].to(device)\n",
    "\n",
    "            outputs = model(input_ids, attention_mask=attention_mask, labels=labels)\n",
    "            loss = outputs.loss\n",
    "            total_val_loss += loss.item()\n",
    "\n",
    "    avg_val_loss = total_val_loss / len(val_loader)\n",
    "    \n",
    "    print('Training for 1 Epoch:')\n",
    "    print(f'- Average Training Loss: {avg_train_loss}')\n",
    "    print(f'- Validation Loss: {avg_val_loss}')"
   ],
   "metadata": {
    "collapsed": false,
    "ExecuteTime": {
     "start_time": "2024-04-28T00:50:51.376853Z"
    }
   }
  },
  {
   "cell_type": "code",
   "execution_count": 55,
   "outputs": [
    {
     "name": "stdout",
     "output_type": "stream",
     "text": [
      "Training for 1 Epoch:\n",
      "- Average Training Loss: 6.456393718719482\n",
      "- Validation Loss: 6.381645679473877\n"
     ]
    }
   ],
   "source": [
    "best_batch_size = int(best_params['batch_size'])\n",
    "train_loader_1E, val_loader_1E = create_data_loaders(recipes, best_batch_size, tokenizer, max_length=512)\n",
    "\n",
    "optimizer = torch.optim.AdamW(best_model.parameters(), lr=best_params['learning_rate'], weight_decay=best_params['weight_decay'])\n",
    "train_for_one_epoch(model, train_loader_1E, val_loader_1E, optimizer, device)"
   ],
   "metadata": {
    "collapsed": false,
    "ExecuteTime": {
     "start_time": "2024-04-28T00:50:52.557360Z"
    }
   }
  },
  {
   "cell_type": "code",
   "execution_count": 57,
   "outputs": [
    {
     "name": "stderr",
     "output_type": "stream",
     "text": [
      "[nltk_data] Downloading package punkt to /Users/nc/nltk_data...\n",
      "[nltk_data]   Package punkt is already up-to-date!\n",
      "Setting `pad_token_id` to `eos_token_id`:50256 for open-end generation.\n",
      "/Applications/anaconda3/envs/p2r/lib/python3.8/site-packages/transformers/generation/utils.py:1133: UserWarning: Using the model-agnostic default `max_length` (=20) to control the generation length. We recommend setting `max_new_tokens` to control the maximum length of the generation.\n",
      "  warnings.warn(\n",
      "/Applications/anaconda3/envs/p2r/lib/python3.8/site-packages/transformers/generation/utils.py:1141: UserWarning: Input length of input_ids is 512, but `max_length` is set to 20. This can lead to unexpected behavior. You should consider increasing `max_new_tokens`.\n",
      "  warnings.warn(\n"
     ]
    },
    {
     "name": "stdout",
     "output_type": "stream",
     "text": [
      "{'perplexity': 32.51880950736368, 'bleu': 1.0}\n"
     ]
    }
   ],
   "source": [
    "import torch\n",
    "from transformers import GPT2LMHeadModel, GPT2Tokenizer\n",
    "from nltk.translate.bleu_score import corpus_bleu\n",
    "from nltk.translate.bleu_score import SmoothingFunction\n",
    "import nltk\n",
    "import numpy as np\n",
    "\n",
    "# Ensure that NLTK resources are downloaded\n",
    "# nltk.download('punkt')\n",
    "\n",
    "def calculate_bleu(references, hypotheses):\n",
    "    \"\"\"\n",
    "    Calculate BLEU score between actual and predicted sentences.\n",
    "    \"\"\"\n",
    "    smoothie = SmoothingFunction().method4\n",
    "    return corpus_bleu([[ref.split()] for ref in references], [hyp.split() for hyp in hypotheses], smoothing_function=smoothie)\n",
    "\n",
    "\n",
    "def evaluate_model(model, tokenizer, device, val_loader):\n",
    "    \"\"\"\n",
    "    Evaluate the model on the validation set after one epoch of training.\n",
    "    \"\"\"\n",
    "    model.eval()\n",
    "    hypotheses = []\n",
    "    references = []\n",
    "    total_loss = 0\n",
    "\n",
    "    with torch.no_grad():\n",
    "        for batch in val_loader:\n",
    "            input_ids = batch['input_ids'].to(device)\n",
    "            attention_mask = batch['attention_mask'].to(device)\n",
    "            labels = batch['labels'].to(device)\n",
    "            \n",
    "            outputs = model(input_ids, attention_mask=attention_mask, labels=labels)\n",
    "            loss = outputs.loss\n",
    "            total_loss += loss.item()\n",
    "            \n",
    "            # Generate text from input ids\n",
    "            generated_ids = model.generate(input_ids, attention_mask=attention_mask)\n",
    "            generated_text = [tokenizer.decode(g_id, skip_special_tokens=True) for g_id in generated_ids]\n",
    "            actual_text = [tokenizer.decode(a_id, skip_special_tokens=True) for a_id in labels]\n",
    "            \n",
    "            hypotheses.extend(generated_text)\n",
    "            references.extend(actual_text)\n",
    "\n",
    "    # Calculate Perplexity \n",
    "    perplexity = np.exp(total_loss / len(val_loader))\n",
    "    \n",
    "    # Calculate BLEU score\n",
    "    bleu_score = calculate_bleu(references, hypotheses)\n",
    "    \n",
    "    return {\n",
    "        'perplexity': perplexity,\n",
    "        'bleu': bleu_score,\n",
    "    }\n",
    "\n",
    "\n",
    "results = evaluate_model(best_model, tokenizer, device, val_loader_1E)\n",
    "print(results)"
   ],
   "metadata": {
    "collapsed": false,
    "ExecuteTime": {
     "end_time": "2024-04-28T01:02:13.048383Z",
     "start_time": "2024-04-28T01:02:10.118526Z"
    }
   }
  },
  {
   "cell_type": "code",
   "execution_count": null,
   "outputs": [],
   "source": [],
   "metadata": {
    "collapsed": false
   }
  },
  {
   "cell_type": "markdown",
   "source": [
    "## Pre-trained GPT-2 Model"
   ],
   "metadata": {
    "collapsed": false
   }
  },
  {
   "cell_type": "code",
   "execution_count": 58,
   "outputs": [
    {
     "data": {
      "text/plain": "GPT2LMHeadModel(\n  (transformer): GPT2Model(\n    (wte): Embedding(50257, 768)\n    (wpe): Embedding(1024, 768)\n    (drop): Dropout(p=0.1, inplace=False)\n    (h): ModuleList(\n      (0-11): 12 x GPT2Block(\n        (ln_1): LayerNorm((768,), eps=1e-05, elementwise_affine=True)\n        (attn): GPT2Attention(\n          (c_attn): Conv1D()\n          (c_proj): Conv1D()\n          (attn_dropout): Dropout(p=0.1, inplace=False)\n          (resid_dropout): Dropout(p=0.1, inplace=False)\n        )\n        (ln_2): LayerNorm((768,), eps=1e-05, elementwise_affine=True)\n        (mlp): GPT2MLP(\n          (c_fc): Conv1D()\n          (c_proj): Conv1D()\n          (act): NewGELUActivation()\n          (dropout): Dropout(p=0.1, inplace=False)\n        )\n      )\n    )\n    (ln_f): LayerNorm((768,), eps=1e-05, elementwise_affine=True)\n  )\n  (lm_head): Linear(in_features=768, out_features=50257, bias=False)\n)"
     },
     "execution_count": 58,
     "metadata": {},
     "output_type": "execute_result"
    }
   ],
   "source": [
    "# Load the GPT-2 model and tokenizer\n",
    "# model = GPT2LMHeadModel.from_pretrained('gpt2')\n",
    "# tokenizer = GPT2Tokenizer.from_pretrained('gpt2')\n",
    "model, tokenizer = load_model('gpt2')\n",
    "tokenizer.pad_token = tokenizer.eos_token  # Set padding token as EOS token\n",
    "model.to(device)"
   ],
   "metadata": {
    "collapsed": false,
    "ExecuteTime": {
     "start_time": "2024-04-28T01:04:36.461346Z"
    }
   }
  },
  {
   "cell_type": "code",
   "execution_count": 59,
   "outputs": [
    {
     "name": "stdout",
     "output_type": "stream",
     "text": [
      "Epoch 1/10 | Train Loss: 1.735 | Train PPL: 5.671 | Val Loss: 6.382 | Val PPL: 590.899\n",
      "Epoch 2/10 | Train Loss: 1.653 | Train PPL: 5.224 | Val Loss: 6.382 | Val PPL: 590.899\n",
      "Epoch 3/10 | Train Loss: 1.653 | Train PPL: 5.224 | Val Loss: 6.382 | Val PPL: 590.899\n",
      "Epoch 4/10 | Train Loss: 1.653 | Train PPL: 5.224 | Val Loss: 6.382 | Val PPL: 590.899\n",
      "Epoch 5/10 | Train Loss: 1.653 | Train PPL: 5.224 | Val Loss: 6.382 | Val PPL: 590.899\n",
      "Epoch 6/10 | Train Loss: 1.653 | Train PPL: 5.224 | Val Loss: 6.382 | Val PPL: 590.899\n",
      "Epoch 7/10 | Train Loss: 1.653 | Train PPL: 5.224 | Val Loss: 6.382 | Val PPL: 590.899\n",
      "Epoch 8/10 | Train Loss: 1.653 | Train PPL: 5.224 | Val Loss: 6.382 | Val PPL: 590.899\n",
      "Epoch 9/10 | Train Loss: 1.653 | Train PPL: 5.224 | Val Loss: 6.382 | Val PPL: 590.899\n",
      "Epoch 10/10 | Train Loss: 1.653 | Train PPL: 5.224 | Val Loss: 6.382 | Val PPL: 590.899\n"
     ]
    }
   ],
   "source": [
    "batch_size = 4\n",
    "train_loader, val_loader = create_data_loaders(recipes, batch_size, tokenizer, max_length=512)\n",
    "training_losses, validation_losses, training_perplexities, validation_perplexities = train_and_validate(model, recipes, tokenizer, device, params={})"
   ],
   "metadata": {
    "collapsed": false,
    "ExecuteTime": {
     "start_time": "2024-04-28T01:05:49.132635Z"
    }
   }
  },
  {
   "cell_type": "code",
   "execution_count": 64,
   "outputs": [
    {
     "data": {
      "text/plain": "<Figure size 1200x600 with 2 Axes>",
      "image/png": "[encoded data removed]"
     },
     "metadata": {},
     "output_type": "display_data"
    }
   ],
   "source": [
    "plot_validation_curves(training_losses, validation_losses, training_perplexities, validation_perplexities)"
   ],
   "metadata": {
    "collapsed": false,
    "ExecuteTime": {
     "start_time": "2024-04-28T01:13:13.789043Z"
    }
   }
  },
  {
   "cell_type": "markdown",
   "source": [
    "#### Example: Using pretrained GPT-2 with Cosine Similarity for Recipe Generation"
   ],
   "metadata": {
    "collapsed": false
   }
  },
  {
   "cell_type": "code",
   "execution_count": 65,
   "outputs": [
    {
     "ename": "RuntimeError",
     "evalue": "3'th index 1024 of condition tensor does not match the other tensors",
     "output_type": "error",
     "traceback": [
      "\u001B[0;31m---------------------------------------------------------------------------\u001B[0m",
      "\u001B[0;31mRuntimeError\u001B[0m                              Traceback (most recent call last)",
      "Cell \u001B[0;32mIn[65], line 3\u001B[0m\n\u001B[1;32m      1\u001B[0m tfidf_vectorizer, tfidf_matrix \u001B[38;5;241m=\u001B[39m prepare_similarity_matrix(recipes)\n\u001B[0;32m----> 3\u001B[0m recipe_text \u001B[38;5;241m=\u001B[39m \u001B[43mgenerate_recipe_text\u001B[49m\u001B[43m(\u001B[49m\u001B[43muser_ingredients\u001B[49m\u001B[43m,\u001B[49m\u001B[43m \u001B[49m\u001B[43mrecipes\u001B[49m\u001B[43m,\u001B[49m\u001B[43m \u001B[49m\u001B[43mtfidf_vectorizer\u001B[49m\u001B[43m,\u001B[49m\u001B[43m \u001B[49m\u001B[43mtfidf_matrix\u001B[49m\u001B[43m,\u001B[49m\u001B[43m \u001B[49m\u001B[43mmodel\u001B[49m\u001B[43m,\u001B[49m\u001B[43m \u001B[49m\u001B[43mtokenizer\u001B[49m\u001B[43m)\u001B[49m\n\u001B[1;32m      4\u001B[0m \u001B[38;5;28mprint\u001B[39m(recipe_text)\n",
      "Cell \u001B[0;32mIn[34], line 38\u001B[0m, in \u001B[0;36mgenerate_recipe_text\u001B[0;34m(user_ingredients, recipes, tfidf_vectorizer, tfidf_matrix, model, tokenizer)\u001B[0m\n\u001B[1;32m     36\u001B[0m attention_mask \u001B[38;5;241m=\u001B[39m encoded[\u001B[38;5;124m'\u001B[39m\u001B[38;5;124mattention_mask\u001B[39m\u001B[38;5;124m'\u001B[39m]\u001B[38;5;241m.\u001B[39mto(device)\n\u001B[1;32m     37\u001B[0m pad_token_id \u001B[38;5;241m=\u001B[39m tokenizer\u001B[38;5;241m.\u001B[39mpad_token_id\n\u001B[0;32m---> 38\u001B[0m outputs \u001B[38;5;241m=\u001B[39m \u001B[43mmodel\u001B[49m\u001B[38;5;241;43m.\u001B[39;49m\u001B[43mgenerate\u001B[49m\u001B[43m(\u001B[49m\u001B[43minput_ids\u001B[49m\u001B[43m,\u001B[49m\u001B[43m \u001B[49m\u001B[43mattention_mask\u001B[49m\u001B[38;5;241;43m=\u001B[39;49m\u001B[43mattention_mask\u001B[49m\u001B[43m,\u001B[49m\u001B[43m \u001B[49m\u001B[43mpad_token_id\u001B[49m\u001B[38;5;241;43m=\u001B[39;49m\u001B[43mpad_token_id\u001B[49m\u001B[43m,\u001B[49m\u001B[43m \u001B[49m\u001B[43mmax_length\u001B[49m\u001B[38;5;241;43m=\u001B[39;49m\u001B[38;5;241;43m1024\u001B[39;49m\u001B[43m \u001B[49m\u001B[38;5;241;43m+\u001B[39;49m\u001B[43m \u001B[49m\u001B[38;5;241;43m50\u001B[39;49m\u001B[43m,\u001B[49m\u001B[43m \u001B[49m\u001B[43mnum_return_sequences\u001B[49m\u001B[38;5;241;43m=\u001B[39;49m\u001B[38;5;241;43m1\u001B[39;49m\u001B[43m,\u001B[49m\u001B[43m \u001B[49m\u001B[43mno_repeat_ngram_size\u001B[49m\u001B[38;5;241;43m=\u001B[39;49m\u001B[38;5;241;43m2\u001B[39;49m\u001B[43m)\u001B[49m\n\u001B[1;32m     39\u001B[0m generated_text \u001B[38;5;241m=\u001B[39m tokenizer\u001B[38;5;241m.\u001B[39mdecode(outputs[\u001B[38;5;241m0\u001B[39m], skip_special_tokens\u001B[38;5;241m=\u001B[39m\u001B[38;5;28;01mTrue\u001B[39;00m)\n\u001B[1;32m     41\u001B[0m \u001B[38;5;66;03m# Remove repetitions from the directions in the generated text\u001B[39;00m\n",
      "File \u001B[0;32m/Applications/anaconda3/envs/p2r/lib/python3.8/site-packages/torch/utils/_contextlib.py:115\u001B[0m, in \u001B[0;36mcontext_decorator.<locals>.decorate_context\u001B[0;34m(*args, **kwargs)\u001B[0m\n\u001B[1;32m    112\u001B[0m \u001B[38;5;129m@functools\u001B[39m\u001B[38;5;241m.\u001B[39mwraps(func)\n\u001B[1;32m    113\u001B[0m \u001B[38;5;28;01mdef\u001B[39;00m \u001B[38;5;21mdecorate_context\u001B[39m(\u001B[38;5;241m*\u001B[39margs, \u001B[38;5;241m*\u001B[39m\u001B[38;5;241m*\u001B[39mkwargs):\n\u001B[1;32m    114\u001B[0m     \u001B[38;5;28;01mwith\u001B[39;00m ctx_factory():\n\u001B[0;32m--> 115\u001B[0m         \u001B[38;5;28;01mreturn\u001B[39;00m \u001B[43mfunc\u001B[49m\u001B[43m(\u001B[49m\u001B[38;5;241;43m*\u001B[39;49m\u001B[43margs\u001B[49m\u001B[43m,\u001B[49m\u001B[43m \u001B[49m\u001B[38;5;241;43m*\u001B[39;49m\u001B[38;5;241;43m*\u001B[39;49m\u001B[43mkwargs\u001B[49m\u001B[43m)\u001B[49m\n",
      "File \u001B[0;32m/Applications/anaconda3/envs/p2r/lib/python3.8/site-packages/transformers/generation/utils.py:1479\u001B[0m, in \u001B[0;36mGenerationMixin.generate\u001B[0;34m(self, inputs, generation_config, logits_processor, stopping_criteria, prefix_allowed_tokens_fn, synced_gpus, assistant_model, streamer, negative_prompt_ids, negative_prompt_attention_mask, **kwargs)\u001B[0m\n\u001B[1;32m   1462\u001B[0m     \u001B[38;5;28;01mreturn\u001B[39;00m \u001B[38;5;28mself\u001B[39m\u001B[38;5;241m.\u001B[39massisted_decoding(\n\u001B[1;32m   1463\u001B[0m         input_ids,\n\u001B[1;32m   1464\u001B[0m         candidate_generator\u001B[38;5;241m=\u001B[39mcandidate_generator,\n\u001B[0;32m   (...)\u001B[0m\n\u001B[1;32m   1475\u001B[0m         \u001B[38;5;241m*\u001B[39m\u001B[38;5;241m*\u001B[39mmodel_kwargs,\n\u001B[1;32m   1476\u001B[0m     )\n\u001B[1;32m   1477\u001B[0m \u001B[38;5;28;01mif\u001B[39;00m generation_mode \u001B[38;5;241m==\u001B[39m GenerationMode\u001B[38;5;241m.\u001B[39mGREEDY_SEARCH:\n\u001B[1;32m   1478\u001B[0m     \u001B[38;5;66;03m# 11. run greedy search\u001B[39;00m\n\u001B[0;32m-> 1479\u001B[0m     \u001B[38;5;28;01mreturn\u001B[39;00m \u001B[38;5;28;43mself\u001B[39;49m\u001B[38;5;241;43m.\u001B[39;49m\u001B[43mgreedy_search\u001B[49m\u001B[43m(\u001B[49m\n\u001B[1;32m   1480\u001B[0m \u001B[43m        \u001B[49m\u001B[43minput_ids\u001B[49m\u001B[43m,\u001B[49m\n\u001B[1;32m   1481\u001B[0m \u001B[43m        \u001B[49m\u001B[43mlogits_processor\u001B[49m\u001B[38;5;241;43m=\u001B[39;49m\u001B[43mprepared_logits_processor\u001B[49m\u001B[43m,\u001B[49m\n\u001B[1;32m   1482\u001B[0m \u001B[43m        \u001B[49m\u001B[43mstopping_criteria\u001B[49m\u001B[38;5;241;43m=\u001B[39;49m\u001B[43mprepared_stopping_criteria\u001B[49m\u001B[43m,\u001B[49m\n\u001B[1;32m   1483\u001B[0m \u001B[43m        \u001B[49m\u001B[43mpad_token_id\u001B[49m\u001B[38;5;241;43m=\u001B[39;49m\u001B[43mgeneration_config\u001B[49m\u001B[38;5;241;43m.\u001B[39;49m\u001B[43mpad_token_id\u001B[49m\u001B[43m,\u001B[49m\n\u001B[1;32m   1484\u001B[0m \u001B[43m        \u001B[49m\u001B[43meos_token_id\u001B[49m\u001B[38;5;241;43m=\u001B[39;49m\u001B[43mgeneration_config\u001B[49m\u001B[38;5;241;43m.\u001B[39;49m\u001B[43meos_token_id\u001B[49m\u001B[43m,\u001B[49m\n\u001B[1;32m   1485\u001B[0m \u001B[43m        \u001B[49m\u001B[43moutput_scores\u001B[49m\u001B[38;5;241;43m=\u001B[39;49m\u001B[43mgeneration_config\u001B[49m\u001B[38;5;241;43m.\u001B[39;49m\u001B[43moutput_scores\u001B[49m\u001B[43m,\u001B[49m\n\u001B[1;32m   1486\u001B[0m \u001B[43m        \u001B[49m\u001B[43mreturn_dict_in_generate\u001B[49m\u001B[38;5;241;43m=\u001B[39;49m\u001B[43mgeneration_config\u001B[49m\u001B[38;5;241;43m.\u001B[39;49m\u001B[43mreturn_dict_in_generate\u001B[49m\u001B[43m,\u001B[49m\n\u001B[1;32m   1487\u001B[0m \u001B[43m        \u001B[49m\u001B[43msynced_gpus\u001B[49m\u001B[38;5;241;43m=\u001B[39;49m\u001B[43msynced_gpus\u001B[49m\u001B[43m,\u001B[49m\n\u001B[1;32m   1488\u001B[0m \u001B[43m        \u001B[49m\u001B[43mstreamer\u001B[49m\u001B[38;5;241;43m=\u001B[39;49m\u001B[43mstreamer\u001B[49m\u001B[43m,\u001B[49m\n\u001B[1;32m   1489\u001B[0m \u001B[43m        \u001B[49m\u001B[38;5;241;43m*\u001B[39;49m\u001B[38;5;241;43m*\u001B[39;49m\u001B[43mmodel_kwargs\u001B[49m\u001B[43m,\u001B[49m\n\u001B[1;32m   1490\u001B[0m \u001B[43m    \u001B[49m\u001B[43m)\u001B[49m\n\u001B[1;32m   1492\u001B[0m \u001B[38;5;28;01melif\u001B[39;00m generation_mode \u001B[38;5;241m==\u001B[39m GenerationMode\u001B[38;5;241m.\u001B[39mCONTRASTIVE_SEARCH:\n\u001B[1;32m   1493\u001B[0m     \u001B[38;5;28;01mif\u001B[39;00m \u001B[38;5;129;01mnot\u001B[39;00m model_kwargs[\u001B[38;5;124m\"\u001B[39m\u001B[38;5;124muse_cache\u001B[39m\u001B[38;5;124m\"\u001B[39m]:\n",
      "File \u001B[0;32m/Applications/anaconda3/envs/p2r/lib/python3.8/site-packages/transformers/generation/utils.py:2340\u001B[0m, in \u001B[0;36mGenerationMixin.greedy_search\u001B[0;34m(self, input_ids, logits_processor, stopping_criteria, max_length, pad_token_id, eos_token_id, output_attentions, output_hidden_states, output_scores, return_dict_in_generate, synced_gpus, streamer, **model_kwargs)\u001B[0m\n\u001B[1;32m   2337\u001B[0m model_inputs \u001B[38;5;241m=\u001B[39m \u001B[38;5;28mself\u001B[39m\u001B[38;5;241m.\u001B[39mprepare_inputs_for_generation(input_ids, \u001B[38;5;241m*\u001B[39m\u001B[38;5;241m*\u001B[39mmodel_kwargs)\n\u001B[1;32m   2339\u001B[0m \u001B[38;5;66;03m# forward pass to get next token\u001B[39;00m\n\u001B[0;32m-> 2340\u001B[0m outputs \u001B[38;5;241m=\u001B[39m \u001B[38;5;28;43mself\u001B[39;49m\u001B[43m(\u001B[49m\n\u001B[1;32m   2341\u001B[0m \u001B[43m    \u001B[49m\u001B[38;5;241;43m*\u001B[39;49m\u001B[38;5;241;43m*\u001B[39;49m\u001B[43mmodel_inputs\u001B[49m\u001B[43m,\u001B[49m\n\u001B[1;32m   2342\u001B[0m \u001B[43m    \u001B[49m\u001B[43mreturn_dict\u001B[49m\u001B[38;5;241;43m=\u001B[39;49m\u001B[38;5;28;43;01mTrue\u001B[39;49;00m\u001B[43m,\u001B[49m\n\u001B[1;32m   2343\u001B[0m \u001B[43m    \u001B[49m\u001B[43moutput_attentions\u001B[49m\u001B[38;5;241;43m=\u001B[39;49m\u001B[43moutput_attentions\u001B[49m\u001B[43m,\u001B[49m\n\u001B[1;32m   2344\u001B[0m \u001B[43m    \u001B[49m\u001B[43moutput_hidden_states\u001B[49m\u001B[38;5;241;43m=\u001B[39;49m\u001B[43moutput_hidden_states\u001B[49m\u001B[43m,\u001B[49m\n\u001B[1;32m   2345\u001B[0m \u001B[43m\u001B[49m\u001B[43m)\u001B[49m\n\u001B[1;32m   2347\u001B[0m \u001B[38;5;28;01mif\u001B[39;00m synced_gpus \u001B[38;5;129;01mand\u001B[39;00m this_peer_finished:\n\u001B[1;32m   2348\u001B[0m     \u001B[38;5;28;01mcontinue\u001B[39;00m  \u001B[38;5;66;03m# don't waste resources running the code we don't need\u001B[39;00m\n",
      "File \u001B[0;32m/Applications/anaconda3/envs/p2r/lib/python3.8/site-packages/torch/nn/modules/module.py:1511\u001B[0m, in \u001B[0;36mModule._wrapped_call_impl\u001B[0;34m(self, *args, **kwargs)\u001B[0m\n\u001B[1;32m   1509\u001B[0m     \u001B[38;5;28;01mreturn\u001B[39;00m \u001B[38;5;28mself\u001B[39m\u001B[38;5;241m.\u001B[39m_compiled_call_impl(\u001B[38;5;241m*\u001B[39margs, \u001B[38;5;241m*\u001B[39m\u001B[38;5;241m*\u001B[39mkwargs)  \u001B[38;5;66;03m# type: ignore[misc]\u001B[39;00m\n\u001B[1;32m   1510\u001B[0m \u001B[38;5;28;01melse\u001B[39;00m:\n\u001B[0;32m-> 1511\u001B[0m     \u001B[38;5;28;01mreturn\u001B[39;00m \u001B[38;5;28;43mself\u001B[39;49m\u001B[38;5;241;43m.\u001B[39;49m\u001B[43m_call_impl\u001B[49m\u001B[43m(\u001B[49m\u001B[38;5;241;43m*\u001B[39;49m\u001B[43margs\u001B[49m\u001B[43m,\u001B[49m\u001B[43m \u001B[49m\u001B[38;5;241;43m*\u001B[39;49m\u001B[38;5;241;43m*\u001B[39;49m\u001B[43mkwargs\u001B[49m\u001B[43m)\u001B[49m\n",
      "File \u001B[0;32m/Applications/anaconda3/envs/p2r/lib/python3.8/site-packages/torch/nn/modules/module.py:1520\u001B[0m, in \u001B[0;36mModule._call_impl\u001B[0;34m(self, *args, **kwargs)\u001B[0m\n\u001B[1;32m   1515\u001B[0m \u001B[38;5;66;03m# If we don't have any hooks, we want to skip the rest of the logic in\u001B[39;00m\n\u001B[1;32m   1516\u001B[0m \u001B[38;5;66;03m# this function, and just call forward.\u001B[39;00m\n\u001B[1;32m   1517\u001B[0m \u001B[38;5;28;01mif\u001B[39;00m \u001B[38;5;129;01mnot\u001B[39;00m (\u001B[38;5;28mself\u001B[39m\u001B[38;5;241m.\u001B[39m_backward_hooks \u001B[38;5;129;01mor\u001B[39;00m \u001B[38;5;28mself\u001B[39m\u001B[38;5;241m.\u001B[39m_backward_pre_hooks \u001B[38;5;129;01mor\u001B[39;00m \u001B[38;5;28mself\u001B[39m\u001B[38;5;241m.\u001B[39m_forward_hooks \u001B[38;5;129;01mor\u001B[39;00m \u001B[38;5;28mself\u001B[39m\u001B[38;5;241m.\u001B[39m_forward_pre_hooks\n\u001B[1;32m   1518\u001B[0m         \u001B[38;5;129;01mor\u001B[39;00m _global_backward_pre_hooks \u001B[38;5;129;01mor\u001B[39;00m _global_backward_hooks\n\u001B[1;32m   1519\u001B[0m         \u001B[38;5;129;01mor\u001B[39;00m _global_forward_hooks \u001B[38;5;129;01mor\u001B[39;00m _global_forward_pre_hooks):\n\u001B[0;32m-> 1520\u001B[0m     \u001B[38;5;28;01mreturn\u001B[39;00m \u001B[43mforward_call\u001B[49m\u001B[43m(\u001B[49m\u001B[38;5;241;43m*\u001B[39;49m\u001B[43margs\u001B[49m\u001B[43m,\u001B[49m\u001B[43m \u001B[49m\u001B[38;5;241;43m*\u001B[39;49m\u001B[38;5;241;43m*\u001B[39;49m\u001B[43mkwargs\u001B[49m\u001B[43m)\u001B[49m\n\u001B[1;32m   1522\u001B[0m \u001B[38;5;28;01mtry\u001B[39;00m:\n\u001B[1;32m   1523\u001B[0m     result \u001B[38;5;241m=\u001B[39m \u001B[38;5;28;01mNone\u001B[39;00m\n",
      "File \u001B[0;32m/Applications/anaconda3/envs/p2r/lib/python3.8/site-packages/transformers/models/gpt2/modeling_gpt2.py:1074\u001B[0m, in \u001B[0;36mGPT2LMHeadModel.forward\u001B[0;34m(self, input_ids, past_key_values, attention_mask, token_type_ids, position_ids, head_mask, inputs_embeds, encoder_hidden_states, encoder_attention_mask, labels, use_cache, output_attentions, output_hidden_states, return_dict)\u001B[0m\n\u001B[1;32m   1066\u001B[0m \u001B[38;5;250m\u001B[39m\u001B[38;5;124mr\u001B[39m\u001B[38;5;124;03m\"\"\"\u001B[39;00m\n\u001B[1;32m   1067\u001B[0m \u001B[38;5;124;03mlabels (`torch.LongTensor` of shape `(batch_size, sequence_length)`, *optional*):\u001B[39;00m\n\u001B[1;32m   1068\u001B[0m \u001B[38;5;124;03m    Labels for language modeling. Note that the labels **are shifted** inside the model, i.e. you can set\u001B[39;00m\n\u001B[1;32m   1069\u001B[0m \u001B[38;5;124;03m    `labels = input_ids` Indices are selected in `[-100, 0, ..., config.vocab_size]` All labels set to `-100`\u001B[39;00m\n\u001B[1;32m   1070\u001B[0m \u001B[38;5;124;03m    are ignored (masked), the loss is only computed for labels in `[0, ..., config.vocab_size]`\u001B[39;00m\n\u001B[1;32m   1071\u001B[0m \u001B[38;5;124;03m\"\"\"\u001B[39;00m\n\u001B[1;32m   1072\u001B[0m return_dict \u001B[38;5;241m=\u001B[39m return_dict \u001B[38;5;28;01mif\u001B[39;00m return_dict \u001B[38;5;129;01mis\u001B[39;00m \u001B[38;5;129;01mnot\u001B[39;00m \u001B[38;5;28;01mNone\u001B[39;00m \u001B[38;5;28;01melse\u001B[39;00m \u001B[38;5;28mself\u001B[39m\u001B[38;5;241m.\u001B[39mconfig\u001B[38;5;241m.\u001B[39muse_return_dict\n\u001B[0;32m-> 1074\u001B[0m transformer_outputs \u001B[38;5;241m=\u001B[39m \u001B[38;5;28;43mself\u001B[39;49m\u001B[38;5;241;43m.\u001B[39;49m\u001B[43mtransformer\u001B[49m\u001B[43m(\u001B[49m\n\u001B[1;32m   1075\u001B[0m \u001B[43m    \u001B[49m\u001B[43minput_ids\u001B[49m\u001B[43m,\u001B[49m\n\u001B[1;32m   1076\u001B[0m \u001B[43m    \u001B[49m\u001B[43mpast_key_values\u001B[49m\u001B[38;5;241;43m=\u001B[39;49m\u001B[43mpast_key_values\u001B[49m\u001B[43m,\u001B[49m\n\u001B[1;32m   1077\u001B[0m \u001B[43m    \u001B[49m\u001B[43mattention_mask\u001B[49m\u001B[38;5;241;43m=\u001B[39;49m\u001B[43mattention_mask\u001B[49m\u001B[43m,\u001B[49m\n\u001B[1;32m   1078\u001B[0m \u001B[43m    \u001B[49m\u001B[43mtoken_type_ids\u001B[49m\u001B[38;5;241;43m=\u001B[39;49m\u001B[43mtoken_type_ids\u001B[49m\u001B[43m,\u001B[49m\n\u001B[1;32m   1079\u001B[0m \u001B[43m    \u001B[49m\u001B[43mposition_ids\u001B[49m\u001B[38;5;241;43m=\u001B[39;49m\u001B[43mposition_ids\u001B[49m\u001B[43m,\u001B[49m\n\u001B[1;32m   1080\u001B[0m \u001B[43m    \u001B[49m\u001B[43mhead_mask\u001B[49m\u001B[38;5;241;43m=\u001B[39;49m\u001B[43mhead_mask\u001B[49m\u001B[43m,\u001B[49m\n\u001B[1;32m   1081\u001B[0m \u001B[43m    \u001B[49m\u001B[43minputs_embeds\u001B[49m\u001B[38;5;241;43m=\u001B[39;49m\u001B[43minputs_embeds\u001B[49m\u001B[43m,\u001B[49m\n\u001B[1;32m   1082\u001B[0m \u001B[43m    \u001B[49m\u001B[43mencoder_hidden_states\u001B[49m\u001B[38;5;241;43m=\u001B[39;49m\u001B[43mencoder_hidden_states\u001B[49m\u001B[43m,\u001B[49m\n\u001B[1;32m   1083\u001B[0m \u001B[43m    \u001B[49m\u001B[43mencoder_attention_mask\u001B[49m\u001B[38;5;241;43m=\u001B[39;49m\u001B[43mencoder_attention_mask\u001B[49m\u001B[43m,\u001B[49m\n\u001B[1;32m   1084\u001B[0m \u001B[43m    \u001B[49m\u001B[43muse_cache\u001B[49m\u001B[38;5;241;43m=\u001B[39;49m\u001B[43muse_cache\u001B[49m\u001B[43m,\u001B[49m\n\u001B[1;32m   1085\u001B[0m \u001B[43m    \u001B[49m\u001B[43moutput_attentions\u001B[49m\u001B[38;5;241;43m=\u001B[39;49m\u001B[43moutput_attentions\u001B[49m\u001B[43m,\u001B[49m\n\u001B[1;32m   1086\u001B[0m \u001B[43m    \u001B[49m\u001B[43moutput_hidden_states\u001B[49m\u001B[38;5;241;43m=\u001B[39;49m\u001B[43moutput_hidden_states\u001B[49m\u001B[43m,\u001B[49m\n\u001B[1;32m   1087\u001B[0m \u001B[43m    \u001B[49m\u001B[43mreturn_dict\u001B[49m\u001B[38;5;241;43m=\u001B[39;49m\u001B[43mreturn_dict\u001B[49m\u001B[43m,\u001B[49m\n\u001B[1;32m   1088\u001B[0m \u001B[43m\u001B[49m\u001B[43m)\u001B[49m\n\u001B[1;32m   1089\u001B[0m hidden_states \u001B[38;5;241m=\u001B[39m transformer_outputs[\u001B[38;5;241m0\u001B[39m]\n\u001B[1;32m   1091\u001B[0m \u001B[38;5;66;03m# Set device for model parallelism\u001B[39;00m\n",
      "File \u001B[0;32m/Applications/anaconda3/envs/p2r/lib/python3.8/site-packages/torch/nn/modules/module.py:1511\u001B[0m, in \u001B[0;36mModule._wrapped_call_impl\u001B[0;34m(self, *args, **kwargs)\u001B[0m\n\u001B[1;32m   1509\u001B[0m     \u001B[38;5;28;01mreturn\u001B[39;00m \u001B[38;5;28mself\u001B[39m\u001B[38;5;241m.\u001B[39m_compiled_call_impl(\u001B[38;5;241m*\u001B[39margs, \u001B[38;5;241m*\u001B[39m\u001B[38;5;241m*\u001B[39mkwargs)  \u001B[38;5;66;03m# type: ignore[misc]\u001B[39;00m\n\u001B[1;32m   1510\u001B[0m \u001B[38;5;28;01melse\u001B[39;00m:\n\u001B[0;32m-> 1511\u001B[0m     \u001B[38;5;28;01mreturn\u001B[39;00m \u001B[38;5;28;43mself\u001B[39;49m\u001B[38;5;241;43m.\u001B[39;49m\u001B[43m_call_impl\u001B[49m\u001B[43m(\u001B[49m\u001B[38;5;241;43m*\u001B[39;49m\u001B[43margs\u001B[49m\u001B[43m,\u001B[49m\u001B[43m \u001B[49m\u001B[38;5;241;43m*\u001B[39;49m\u001B[38;5;241;43m*\u001B[39;49m\u001B[43mkwargs\u001B[49m\u001B[43m)\u001B[49m\n",
      "File \u001B[0;32m/Applications/anaconda3/envs/p2r/lib/python3.8/site-packages/torch/nn/modules/module.py:1520\u001B[0m, in \u001B[0;36mModule._call_impl\u001B[0;34m(self, *args, **kwargs)\u001B[0m\n\u001B[1;32m   1515\u001B[0m \u001B[38;5;66;03m# If we don't have any hooks, we want to skip the rest of the logic in\u001B[39;00m\n\u001B[1;32m   1516\u001B[0m \u001B[38;5;66;03m# this function, and just call forward.\u001B[39;00m\n\u001B[1;32m   1517\u001B[0m \u001B[38;5;28;01mif\u001B[39;00m \u001B[38;5;129;01mnot\u001B[39;00m (\u001B[38;5;28mself\u001B[39m\u001B[38;5;241m.\u001B[39m_backward_hooks \u001B[38;5;129;01mor\u001B[39;00m \u001B[38;5;28mself\u001B[39m\u001B[38;5;241m.\u001B[39m_backward_pre_hooks \u001B[38;5;129;01mor\u001B[39;00m \u001B[38;5;28mself\u001B[39m\u001B[38;5;241m.\u001B[39m_forward_hooks \u001B[38;5;129;01mor\u001B[39;00m \u001B[38;5;28mself\u001B[39m\u001B[38;5;241m.\u001B[39m_forward_pre_hooks\n\u001B[1;32m   1518\u001B[0m         \u001B[38;5;129;01mor\u001B[39;00m _global_backward_pre_hooks \u001B[38;5;129;01mor\u001B[39;00m _global_backward_hooks\n\u001B[1;32m   1519\u001B[0m         \u001B[38;5;129;01mor\u001B[39;00m _global_forward_hooks \u001B[38;5;129;01mor\u001B[39;00m _global_forward_pre_hooks):\n\u001B[0;32m-> 1520\u001B[0m     \u001B[38;5;28;01mreturn\u001B[39;00m \u001B[43mforward_call\u001B[49m\u001B[43m(\u001B[49m\u001B[38;5;241;43m*\u001B[39;49m\u001B[43margs\u001B[49m\u001B[43m,\u001B[49m\u001B[43m \u001B[49m\u001B[38;5;241;43m*\u001B[39;49m\u001B[38;5;241;43m*\u001B[39;49m\u001B[43mkwargs\u001B[49m\u001B[43m)\u001B[49m\n\u001B[1;32m   1522\u001B[0m \u001B[38;5;28;01mtry\u001B[39;00m:\n\u001B[1;32m   1523\u001B[0m     result \u001B[38;5;241m=\u001B[39m \u001B[38;5;28;01mNone\u001B[39;00m\n",
      "File \u001B[0;32m/Applications/anaconda3/envs/p2r/lib/python3.8/site-packages/transformers/models/gpt2/modeling_gpt2.py:888\u001B[0m, in \u001B[0;36mGPT2Model.forward\u001B[0;34m(self, input_ids, past_key_values, attention_mask, token_type_ids, position_ids, head_mask, inputs_embeds, encoder_hidden_states, encoder_attention_mask, use_cache, output_attentions, output_hidden_states, return_dict)\u001B[0m\n\u001B[1;32m    876\u001B[0m     outputs \u001B[38;5;241m=\u001B[39m \u001B[38;5;28mself\u001B[39m\u001B[38;5;241m.\u001B[39m_gradient_checkpointing_func(\n\u001B[1;32m    877\u001B[0m         block\u001B[38;5;241m.\u001B[39m\u001B[38;5;21m__call__\u001B[39m,\n\u001B[1;32m    878\u001B[0m         hidden_states,\n\u001B[0;32m   (...)\u001B[0m\n\u001B[1;32m    885\u001B[0m         output_attentions,\n\u001B[1;32m    886\u001B[0m     )\n\u001B[1;32m    887\u001B[0m \u001B[38;5;28;01melse\u001B[39;00m:\n\u001B[0;32m--> 888\u001B[0m     outputs \u001B[38;5;241m=\u001B[39m \u001B[43mblock\u001B[49m\u001B[43m(\u001B[49m\n\u001B[1;32m    889\u001B[0m \u001B[43m        \u001B[49m\u001B[43mhidden_states\u001B[49m\u001B[43m,\u001B[49m\n\u001B[1;32m    890\u001B[0m \u001B[43m        \u001B[49m\u001B[43mlayer_past\u001B[49m\u001B[38;5;241;43m=\u001B[39;49m\u001B[43mlayer_past\u001B[49m\u001B[43m,\u001B[49m\n\u001B[1;32m    891\u001B[0m \u001B[43m        \u001B[49m\u001B[43mattention_mask\u001B[49m\u001B[38;5;241;43m=\u001B[39;49m\u001B[43mattention_mask\u001B[49m\u001B[43m,\u001B[49m\n\u001B[1;32m    892\u001B[0m \u001B[43m        \u001B[49m\u001B[43mhead_mask\u001B[49m\u001B[38;5;241;43m=\u001B[39;49m\u001B[43mhead_mask\u001B[49m\u001B[43m[\u001B[49m\u001B[43mi\u001B[49m\u001B[43m]\u001B[49m\u001B[43m,\u001B[49m\n\u001B[1;32m    893\u001B[0m \u001B[43m        \u001B[49m\u001B[43mencoder_hidden_states\u001B[49m\u001B[38;5;241;43m=\u001B[39;49m\u001B[43mencoder_hidden_states\u001B[49m\u001B[43m,\u001B[49m\n\u001B[1;32m    894\u001B[0m \u001B[43m        \u001B[49m\u001B[43mencoder_attention_mask\u001B[49m\u001B[38;5;241;43m=\u001B[39;49m\u001B[43mencoder_attention_mask\u001B[49m\u001B[43m,\u001B[49m\n\u001B[1;32m    895\u001B[0m \u001B[43m        \u001B[49m\u001B[43muse_cache\u001B[49m\u001B[38;5;241;43m=\u001B[39;49m\u001B[43muse_cache\u001B[49m\u001B[43m,\u001B[49m\n\u001B[1;32m    896\u001B[0m \u001B[43m        \u001B[49m\u001B[43moutput_attentions\u001B[49m\u001B[38;5;241;43m=\u001B[39;49m\u001B[43moutput_attentions\u001B[49m\u001B[43m,\u001B[49m\n\u001B[1;32m    897\u001B[0m \u001B[43m    \u001B[49m\u001B[43m)\u001B[49m\n\u001B[1;32m    899\u001B[0m hidden_states \u001B[38;5;241m=\u001B[39m outputs[\u001B[38;5;241m0\u001B[39m]\n\u001B[1;32m    900\u001B[0m \u001B[38;5;28;01mif\u001B[39;00m use_cache \u001B[38;5;129;01mis\u001B[39;00m \u001B[38;5;28;01mTrue\u001B[39;00m:\n",
      "File \u001B[0;32m/Applications/anaconda3/envs/p2r/lib/python3.8/site-packages/torch/nn/modules/module.py:1511\u001B[0m, in \u001B[0;36mModule._wrapped_call_impl\u001B[0;34m(self, *args, **kwargs)\u001B[0m\n\u001B[1;32m   1509\u001B[0m     \u001B[38;5;28;01mreturn\u001B[39;00m \u001B[38;5;28mself\u001B[39m\u001B[38;5;241m.\u001B[39m_compiled_call_impl(\u001B[38;5;241m*\u001B[39margs, \u001B[38;5;241m*\u001B[39m\u001B[38;5;241m*\u001B[39mkwargs)  \u001B[38;5;66;03m# type: ignore[misc]\u001B[39;00m\n\u001B[1;32m   1510\u001B[0m \u001B[38;5;28;01melse\u001B[39;00m:\n\u001B[0;32m-> 1511\u001B[0m     \u001B[38;5;28;01mreturn\u001B[39;00m \u001B[38;5;28;43mself\u001B[39;49m\u001B[38;5;241;43m.\u001B[39;49m\u001B[43m_call_impl\u001B[49m\u001B[43m(\u001B[49m\u001B[38;5;241;43m*\u001B[39;49m\u001B[43margs\u001B[49m\u001B[43m,\u001B[49m\u001B[43m \u001B[49m\u001B[38;5;241;43m*\u001B[39;49m\u001B[38;5;241;43m*\u001B[39;49m\u001B[43mkwargs\u001B[49m\u001B[43m)\u001B[49m\n",
      "File \u001B[0;32m/Applications/anaconda3/envs/p2r/lib/python3.8/site-packages/torch/nn/modules/module.py:1520\u001B[0m, in \u001B[0;36mModule._call_impl\u001B[0;34m(self, *args, **kwargs)\u001B[0m\n\u001B[1;32m   1515\u001B[0m \u001B[38;5;66;03m# If we don't have any hooks, we want to skip the rest of the logic in\u001B[39;00m\n\u001B[1;32m   1516\u001B[0m \u001B[38;5;66;03m# this function, and just call forward.\u001B[39;00m\n\u001B[1;32m   1517\u001B[0m \u001B[38;5;28;01mif\u001B[39;00m \u001B[38;5;129;01mnot\u001B[39;00m (\u001B[38;5;28mself\u001B[39m\u001B[38;5;241m.\u001B[39m_backward_hooks \u001B[38;5;129;01mor\u001B[39;00m \u001B[38;5;28mself\u001B[39m\u001B[38;5;241m.\u001B[39m_backward_pre_hooks \u001B[38;5;129;01mor\u001B[39;00m \u001B[38;5;28mself\u001B[39m\u001B[38;5;241m.\u001B[39m_forward_hooks \u001B[38;5;129;01mor\u001B[39;00m \u001B[38;5;28mself\u001B[39m\u001B[38;5;241m.\u001B[39m_forward_pre_hooks\n\u001B[1;32m   1518\u001B[0m         \u001B[38;5;129;01mor\u001B[39;00m _global_backward_pre_hooks \u001B[38;5;129;01mor\u001B[39;00m _global_backward_hooks\n\u001B[1;32m   1519\u001B[0m         \u001B[38;5;129;01mor\u001B[39;00m _global_forward_hooks \u001B[38;5;129;01mor\u001B[39;00m _global_forward_pre_hooks):\n\u001B[0;32m-> 1520\u001B[0m     \u001B[38;5;28;01mreturn\u001B[39;00m \u001B[43mforward_call\u001B[49m\u001B[43m(\u001B[49m\u001B[38;5;241;43m*\u001B[39;49m\u001B[43margs\u001B[49m\u001B[43m,\u001B[49m\u001B[43m \u001B[49m\u001B[38;5;241;43m*\u001B[39;49m\u001B[38;5;241;43m*\u001B[39;49m\u001B[43mkwargs\u001B[49m\u001B[43m)\u001B[49m\n\u001B[1;32m   1522\u001B[0m \u001B[38;5;28;01mtry\u001B[39;00m:\n\u001B[1;32m   1523\u001B[0m     result \u001B[38;5;241m=\u001B[39m \u001B[38;5;28;01mNone\u001B[39;00m\n",
      "File \u001B[0;32m/Applications/anaconda3/envs/p2r/lib/python3.8/site-packages/transformers/models/gpt2/modeling_gpt2.py:390\u001B[0m, in \u001B[0;36mGPT2Block.forward\u001B[0;34m(self, hidden_states, layer_past, attention_mask, head_mask, encoder_hidden_states, encoder_attention_mask, use_cache, output_attentions)\u001B[0m\n\u001B[1;32m    388\u001B[0m residual \u001B[38;5;241m=\u001B[39m hidden_states\n\u001B[1;32m    389\u001B[0m hidden_states \u001B[38;5;241m=\u001B[39m \u001B[38;5;28mself\u001B[39m\u001B[38;5;241m.\u001B[39mln_1(hidden_states)\n\u001B[0;32m--> 390\u001B[0m attn_outputs \u001B[38;5;241m=\u001B[39m \u001B[38;5;28;43mself\u001B[39;49m\u001B[38;5;241;43m.\u001B[39;49m\u001B[43mattn\u001B[49m\u001B[43m(\u001B[49m\n\u001B[1;32m    391\u001B[0m \u001B[43m    \u001B[49m\u001B[43mhidden_states\u001B[49m\u001B[43m,\u001B[49m\n\u001B[1;32m    392\u001B[0m \u001B[43m    \u001B[49m\u001B[43mlayer_past\u001B[49m\u001B[38;5;241;43m=\u001B[39;49m\u001B[43mlayer_past\u001B[49m\u001B[43m,\u001B[49m\n\u001B[1;32m    393\u001B[0m \u001B[43m    \u001B[49m\u001B[43mattention_mask\u001B[49m\u001B[38;5;241;43m=\u001B[39;49m\u001B[43mattention_mask\u001B[49m\u001B[43m,\u001B[49m\n\u001B[1;32m    394\u001B[0m \u001B[43m    \u001B[49m\u001B[43mhead_mask\u001B[49m\u001B[38;5;241;43m=\u001B[39;49m\u001B[43mhead_mask\u001B[49m\u001B[43m,\u001B[49m\n\u001B[1;32m    395\u001B[0m \u001B[43m    \u001B[49m\u001B[43muse_cache\u001B[49m\u001B[38;5;241;43m=\u001B[39;49m\u001B[43muse_cache\u001B[49m\u001B[43m,\u001B[49m\n\u001B[1;32m    396\u001B[0m \u001B[43m    \u001B[49m\u001B[43moutput_attentions\u001B[49m\u001B[38;5;241;43m=\u001B[39;49m\u001B[43moutput_attentions\u001B[49m\u001B[43m,\u001B[49m\n\u001B[1;32m    397\u001B[0m \u001B[43m\u001B[49m\u001B[43m)\u001B[49m\n\u001B[1;32m    398\u001B[0m attn_output \u001B[38;5;241m=\u001B[39m attn_outputs[\u001B[38;5;241m0\u001B[39m]  \u001B[38;5;66;03m# output_attn: a, present, (attentions)\u001B[39;00m\n\u001B[1;32m    399\u001B[0m outputs \u001B[38;5;241m=\u001B[39m attn_outputs[\u001B[38;5;241m1\u001B[39m:]\n",
      "File \u001B[0;32m/Applications/anaconda3/envs/p2r/lib/python3.8/site-packages/torch/nn/modules/module.py:1511\u001B[0m, in \u001B[0;36mModule._wrapped_call_impl\u001B[0;34m(self, *args, **kwargs)\u001B[0m\n\u001B[1;32m   1509\u001B[0m     \u001B[38;5;28;01mreturn\u001B[39;00m \u001B[38;5;28mself\u001B[39m\u001B[38;5;241m.\u001B[39m_compiled_call_impl(\u001B[38;5;241m*\u001B[39margs, \u001B[38;5;241m*\u001B[39m\u001B[38;5;241m*\u001B[39mkwargs)  \u001B[38;5;66;03m# type: ignore[misc]\u001B[39;00m\n\u001B[1;32m   1510\u001B[0m \u001B[38;5;28;01melse\u001B[39;00m:\n\u001B[0;32m-> 1511\u001B[0m     \u001B[38;5;28;01mreturn\u001B[39;00m \u001B[38;5;28;43mself\u001B[39;49m\u001B[38;5;241;43m.\u001B[39;49m\u001B[43m_call_impl\u001B[49m\u001B[43m(\u001B[49m\u001B[38;5;241;43m*\u001B[39;49m\u001B[43margs\u001B[49m\u001B[43m,\u001B[49m\u001B[43m \u001B[49m\u001B[38;5;241;43m*\u001B[39;49m\u001B[38;5;241;43m*\u001B[39;49m\u001B[43mkwargs\u001B[49m\u001B[43m)\u001B[49m\n",
      "File \u001B[0;32m/Applications/anaconda3/envs/p2r/lib/python3.8/site-packages/torch/nn/modules/module.py:1520\u001B[0m, in \u001B[0;36mModule._call_impl\u001B[0;34m(self, *args, **kwargs)\u001B[0m\n\u001B[1;32m   1515\u001B[0m \u001B[38;5;66;03m# If we don't have any hooks, we want to skip the rest of the logic in\u001B[39;00m\n\u001B[1;32m   1516\u001B[0m \u001B[38;5;66;03m# this function, and just call forward.\u001B[39;00m\n\u001B[1;32m   1517\u001B[0m \u001B[38;5;28;01mif\u001B[39;00m \u001B[38;5;129;01mnot\u001B[39;00m (\u001B[38;5;28mself\u001B[39m\u001B[38;5;241m.\u001B[39m_backward_hooks \u001B[38;5;129;01mor\u001B[39;00m \u001B[38;5;28mself\u001B[39m\u001B[38;5;241m.\u001B[39m_backward_pre_hooks \u001B[38;5;129;01mor\u001B[39;00m \u001B[38;5;28mself\u001B[39m\u001B[38;5;241m.\u001B[39m_forward_hooks \u001B[38;5;129;01mor\u001B[39;00m \u001B[38;5;28mself\u001B[39m\u001B[38;5;241m.\u001B[39m_forward_pre_hooks\n\u001B[1;32m   1518\u001B[0m         \u001B[38;5;129;01mor\u001B[39;00m _global_backward_pre_hooks \u001B[38;5;129;01mor\u001B[39;00m _global_backward_hooks\n\u001B[1;32m   1519\u001B[0m         \u001B[38;5;129;01mor\u001B[39;00m _global_forward_hooks \u001B[38;5;129;01mor\u001B[39;00m _global_forward_pre_hooks):\n\u001B[0;32m-> 1520\u001B[0m     \u001B[38;5;28;01mreturn\u001B[39;00m \u001B[43mforward_call\u001B[49m\u001B[43m(\u001B[49m\u001B[38;5;241;43m*\u001B[39;49m\u001B[43margs\u001B[49m\u001B[43m,\u001B[49m\u001B[43m \u001B[49m\u001B[38;5;241;43m*\u001B[39;49m\u001B[38;5;241;43m*\u001B[39;49m\u001B[43mkwargs\u001B[49m\u001B[43m)\u001B[49m\n\u001B[1;32m   1522\u001B[0m \u001B[38;5;28;01mtry\u001B[39;00m:\n\u001B[1;32m   1523\u001B[0m     result \u001B[38;5;241m=\u001B[39m \u001B[38;5;28;01mNone\u001B[39;00m\n",
      "File \u001B[0;32m/Applications/anaconda3/envs/p2r/lib/python3.8/site-packages/transformers/models/gpt2/modeling_gpt2.py:331\u001B[0m, in \u001B[0;36mGPT2Attention.forward\u001B[0;34m(self, hidden_states, layer_past, attention_mask, head_mask, encoder_hidden_states, encoder_attention_mask, use_cache, output_attentions)\u001B[0m\n\u001B[1;32m    329\u001B[0m     attn_output, attn_weights \u001B[38;5;241m=\u001B[39m \u001B[38;5;28mself\u001B[39m\u001B[38;5;241m.\u001B[39m_upcast_and_reordered_attn(query, key, value, attention_mask, head_mask)\n\u001B[1;32m    330\u001B[0m \u001B[38;5;28;01melse\u001B[39;00m:\n\u001B[0;32m--> 331\u001B[0m     attn_output, attn_weights \u001B[38;5;241m=\u001B[39m \u001B[38;5;28;43mself\u001B[39;49m\u001B[38;5;241;43m.\u001B[39;49m\u001B[43m_attn\u001B[49m\u001B[43m(\u001B[49m\u001B[43mquery\u001B[49m\u001B[43m,\u001B[49m\u001B[43m \u001B[49m\u001B[43mkey\u001B[49m\u001B[43m,\u001B[49m\u001B[43m \u001B[49m\u001B[43mvalue\u001B[49m\u001B[43m,\u001B[49m\u001B[43m \u001B[49m\u001B[43mattention_mask\u001B[49m\u001B[43m,\u001B[49m\u001B[43m \u001B[49m\u001B[43mhead_mask\u001B[49m\u001B[43m)\u001B[49m\n\u001B[1;32m    333\u001B[0m attn_output \u001B[38;5;241m=\u001B[39m \u001B[38;5;28mself\u001B[39m\u001B[38;5;241m.\u001B[39m_merge_heads(attn_output, \u001B[38;5;28mself\u001B[39m\u001B[38;5;241m.\u001B[39mnum_heads, \u001B[38;5;28mself\u001B[39m\u001B[38;5;241m.\u001B[39mhead_dim)\n\u001B[1;32m    334\u001B[0m attn_output \u001B[38;5;241m=\u001B[39m \u001B[38;5;28mself\u001B[39m\u001B[38;5;241m.\u001B[39mc_proj(attn_output)\n",
      "File \u001B[0;32m/Applications/anaconda3/envs/p2r/lib/python3.8/site-packages/transformers/models/gpt2/modeling_gpt2.py:202\u001B[0m, in \u001B[0;36mGPT2Attention._attn\u001B[0;34m(self, query, key, value, attention_mask, head_mask)\u001B[0m\n\u001B[1;32m    199\u001B[0m     \u001B[38;5;66;03m# Need to be a tensor, otherwise we get error: `RuntimeError: expected scalar type float but found double`.\u001B[39;00m\n\u001B[1;32m    200\u001B[0m     \u001B[38;5;66;03m# Need to be on the same device, otherwise `RuntimeError: ..., x and y to be on the same device`\u001B[39;00m\n\u001B[1;32m    201\u001B[0m     mask_value \u001B[38;5;241m=\u001B[39m torch\u001B[38;5;241m.\u001B[39mfull([], mask_value, dtype\u001B[38;5;241m=\u001B[39mattn_weights\u001B[38;5;241m.\u001B[39mdtype, device\u001B[38;5;241m=\u001B[39mattn_weights\u001B[38;5;241m.\u001B[39mdevice)\n\u001B[0;32m--> 202\u001B[0m     attn_weights \u001B[38;5;241m=\u001B[39m \u001B[43mtorch\u001B[49m\u001B[38;5;241;43m.\u001B[39;49m\u001B[43mwhere\u001B[49m\u001B[43m(\u001B[49m\u001B[43mcausal_mask\u001B[49m\u001B[43m,\u001B[49m\u001B[43m \u001B[49m\u001B[43mattn_weights\u001B[49m\u001B[38;5;241;43m.\u001B[39;49m\u001B[43mto\u001B[49m\u001B[43m(\u001B[49m\u001B[43mattn_weights\u001B[49m\u001B[38;5;241;43m.\u001B[39;49m\u001B[43mdtype\u001B[49m\u001B[43m)\u001B[49m\u001B[43m,\u001B[49m\u001B[43m \u001B[49m\u001B[43mmask_value\u001B[49m\u001B[43m)\u001B[49m\n\u001B[1;32m    204\u001B[0m \u001B[38;5;28;01mif\u001B[39;00m attention_mask \u001B[38;5;129;01mis\u001B[39;00m \u001B[38;5;129;01mnot\u001B[39;00m \u001B[38;5;28;01mNone\u001B[39;00m:\n\u001B[1;32m    205\u001B[0m     \u001B[38;5;66;03m# Apply the attention mask\u001B[39;00m\n\u001B[1;32m    206\u001B[0m     attn_weights \u001B[38;5;241m=\u001B[39m attn_weights \u001B[38;5;241m+\u001B[39m attention_mask\n",
      "\u001B[0;31mRuntimeError\u001B[0m: 3'th index 1024 of condition tensor does not match the other tensors"
     ]
    }
   ],
   "source": [
    "tfidf_vectorizer, tfidf_matrix = prepare_similarity_matrix(recipes)\n",
    "\n",
    "recipe_text = generate_recipe_text(user_ingredients, recipes, tfidf_vectorizer, tfidf_matrix, model, tokenizer)\n",
    "print(recipe_text)"
   ],
   "metadata": {
    "collapsed": false,
    "ExecuteTime": {
     "start_time": "2024-04-28T01:13:30.401790Z"
    }
   }
  }
 ],
 "metadata": {
  "kernelspec": {
   "name": "conda-env-p2r-py",
   "language": "python",
   "display_name": "Python [conda env:p2r] *"
  },
  "language_info": {
   "codemirror_mode": {
    "name": "ipython",
    "version": 3
   },
   "file_extension": ".py",
   "mimetype": "text/x-python",
   "name": "python",
   "nbconvert_exporter": "python",
   "pygments_lexer": "ipython3",
   "version": "3.8.19"
  }
 },
 "nbformat": 4,
 "nbformat_minor": 2
}
