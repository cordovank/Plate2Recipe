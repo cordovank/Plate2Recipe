{
 "cells": [
  {
   "cell_type": "code",
   "execution_count": 31,
   "outputs": [
    {
     "name": "stdout",
     "output_type": "stream",
     "text": [
      "Requirement already satisfied: bayesian-optimization in /Applications/anaconda3/envs/p2r/lib/python3.8/site-packages (1.4.3)\r\n",
      "Requirement already satisfied: numpy>=1.9.0 in /Applications/anaconda3/envs/p2r/lib/python3.8/site-packages (from bayesian-optimization) (1.24.3)\r\n",
      "Requirement already satisfied: scipy>=1.0.0 in /Users/nc/.local/lib/python3.8/site-packages (from bayesian-optimization) (1.10.1)\r\n",
      "Requirement already satisfied: scikit-learn>=0.18.0 in /Applications/anaconda3/envs/p2r/lib/python3.8/site-packages (from bayesian-optimization) (1.3.0)\r\n",
      "Requirement already satisfied: colorama>=0.4.6 in /Applications/anaconda3/envs/p2r/lib/python3.8/site-packages (from bayesian-optimization) (0.4.6)\r\n",
      "Requirement already satisfied: joblib>=1.1.1 in /Applications/anaconda3/envs/p2r/lib/python3.8/site-packages (from scikit-learn>=0.18.0->bayesian-optimization) (1.2.0)\r\n",
      "Requirement already satisfied: threadpoolctl>=2.0.0 in /Applications/anaconda3/envs/p2r/lib/python3.8/site-packages (from scikit-learn>=0.18.0->bayesian-optimization) (2.2.0)\r\n"
     ]
    }
   ],
   "source": [
    "from recipes_utils import *\n",
    "\n",
    "import os\n",
    "import random\n",
    "import pandas as pd\n",
    "import pickle\n",
    "\n",
    "from sklearn.feature_extraction.text import TfidfVectorizer\n",
    "from sklearn.model_selection import train_test_split\n",
    "from sklearn.metrics.pairwise import cosine_similarity\n",
    "from transformers import GPT2Tokenizer\n",
    "from transformers import GPT2LMHeadModel, AdamW, get_linear_schedule_with_warmup\n",
    "import torch\n",
    "from torch.utils.data import Dataset, DataLoader\n",
    "\n",
    "!pip install bayesian-optimization\n",
    "from bayes_opt import BayesianOptimization"
   ],
   "metadata": {
    "collapsed": false,
    "ExecuteTime": {
     "end_time": "2024-04-28T11:52:28.223419Z",
     "start_time": "2024-04-28T11:52:26.362489Z"
    }
   }
  },
  {
   "cell_type": "code",
   "execution_count": 4,
   "outputs": [
    {
     "name": "stdout",
     "output_type": "stream",
     "text": [
      "Python version\n",
      "3.8.19 (default, Mar 20 2024, 15:27:52) \n",
      "[Clang 14.0.6 ]\n",
      "Version info.\n",
      "sys.version_info(major=3, minor=8, micro=19, releaselevel='final', serial=0)\n"
     ]
    }
   ],
   "source": [
    "import sys\n",
    "\n",
    "print(\"Python version\")\n",
    "print(sys.version)\n",
    "print(\"Version info.\")\n",
    "print(sys.version_info)"
   ],
   "metadata": {
    "collapsed": false,
    "ExecuteTime": {
     "end_time": "2024-04-28T11:41:07.040426Z",
     "start_time": "2024-04-28T11:41:07.025214Z"
    }
   }
  },
  {
   "cell_type": "markdown",
   "source": [
    "# Plate2Recipe NLP Model: \n",
    "Recipe Generation from Ingredients List using GPT-2 and TF-IDF Similarity Matching\n",
    "\n",
    "@Author: Nellie Cordova"
   ],
   "metadata": {
    "collapsed": false
   }
  },
  {
   "cell_type": "markdown",
   "source": [
    "### NLP Model\n",
    "- Assume list of ingredients is provided, use this to generate the recipe. \n",
    "- Match input list of ingredients with the ingredients in the dataset and generate the recipe\n",
    "- Approach:\n",
    "        -- TF-IDF: Vectorization of ingredients.\n",
    "        -- Cosine Similarity: to find the recipe in the dataset that has the highest similarity to the provided ingredients.\n",
    "        -- GPT2 model: Generate the recipe based on the matched recipe."
   ],
   "metadata": {
    "collapsed": false
   }
  },
  {
   "cell_type": "markdown",
   "source": [
    "### Data Collection and Preprocessing\n",
    "\n",
    "- Data loading: *use full_dataset.csv for NLP* (https://drive.google.com/drive/folders/1ui_zS11_ENZTCNLUsgg_UwAYr-ZaLbac)\n",
    "- Data cleaning\n",
    "- Data augmentation"
   ],
   "metadata": {
    "collapsed": false
   }
  },
  {
   "cell_type": "code",
   "execution_count": 5,
   "outputs": [
    {
     "name": "stdout",
     "output_type": "stream",
     "text": [
      "PYTORCH_MPS_HIGH_WATERMARK_RATIO set to: 0.0\n"
     ]
    }
   ],
   "source": [
    "# MPS memory management - Used to solve RuntimeError: MPS backend out of memory\n",
    "# source: https://pnote.eu/notes/pytorch-mac-setup/\n",
    "os.environ['PYTORCH_MPS_HIGH_WATERMARK_RATIO'] = '0.0'\n",
    "\n",
    "# Check that the environment variable is set correctly\n",
    "print(\"PYTORCH_MPS_HIGH_WATERMARK_RATIO set to:\", os.environ['PYTORCH_MPS_HIGH_WATERMARK_RATIO'])"
   ],
   "metadata": {
    "collapsed": false,
    "ExecuteTime": {
     "end_time": "2024-04-28T11:41:13.453809Z",
     "start_time": "2024-04-28T11:41:13.437176Z"
    }
   }
  },
  {
   "cell_type": "code",
   "execution_count": 6,
   "outputs": [],
   "source": [
    "# Set device to maximize performance\n",
    "\n",
    "if torch.cuda.is_available():\n",
    "    device = \"cuda\"\n",
    "elif torch.backends.mps.is_available():\n",
    "    device = \"mps\"\n",
    "else:\n",
    "    device = \"cpu\"\n",
    "    \n",
    "device = torch.device(device)"
   ],
   "metadata": {
    "collapsed": false,
    "ExecuteTime": {
     "end_time": "2024-04-28T11:41:15.462426Z",
     "start_time": "2024-04-28T11:41:15.458390Z"
    }
   }
  },
  {
   "cell_type": "code",
   "execution_count": 7,
   "outputs": [
    {
     "name": "stdout",
     "output_type": "stream",
     "text": [
      "mps\n"
     ]
    }
   ],
   "source": [
    "print(device)"
   ],
   "metadata": {
    "collapsed": false,
    "ExecuteTime": {
     "end_time": "2024-04-28T11:41:16.619963Z",
     "start_time": "2024-04-28T11:41:16.603665Z"
    }
   }
  },
  {
   "cell_type": "code",
   "execution_count": 8,
   "outputs": [],
   "source": [
    "# Helper function to clear unused memory\n",
    "def clear_memory():\n",
    "    if torch.cuda.is_available():\n",
    "        torch.cuda.empty_cache()\n",
    "    elif torch.backends.mps.is_available():\n",
    "        torch.mps.empty_cache()"
   ],
   "metadata": {
    "collapsed": false,
    "ExecuteTime": {
     "end_time": "2024-04-28T11:41:18.381466Z",
     "start_time": "2024-04-28T11:41:18.369648Z"
    }
   }
  },
  {
   "cell_type": "code",
   "execution_count": 9,
   "outputs": [],
   "source": [
    "clear_memory()"
   ],
   "metadata": {
    "collapsed": false,
    "ExecuteTime": {
     "end_time": "2024-04-28T11:41:18.891056Z",
     "start_time": "2024-04-28T11:41:18.885890Z"
    }
   }
  },
  {
   "cell_type": "code",
   "execution_count": 10,
   "outputs": [],
   "source": [
    "user_ingredients = ['avocado', 'rice', 'shrimp', 'tomato'] # temporary input\n",
    "\n",
    "pickle_path = './data/recipes.pickle'\n",
    "recipes = load_pickle(pickle_path)  # Load dataset\n",
    "n_recipes = 25  # define number of instances to be used\n",
    "\n",
    "model_path = \"gpt2\"\n",
    "best_model_path = f'./models/best_gpt2_model_{n_recipes}'\n",
    "nb_name = f\"P2R_NPL_GPT2.ipynb\"   # notebook name for checkpoints\n"
   ],
   "metadata": {
    "collapsed": false,
    "ExecuteTime": {
     "end_time": "2024-04-28T11:41:34.266056Z",
     "start_time": "2024-04-28T11:41:32.734151Z"
    }
   }
  },
  {
   "cell_type": "code",
   "execution_count": 11,
   "outputs": [
    {
     "data": {
      "text/plain": "                                     title  \\\n0                              Irish Cream   \n1        Chicken and Black Bean Enchiladas   \n2  Terrific And Tasty Tidy Friday Pan Fry!   \n3                           Cooler Sangria   \n4                    Darcy'S Ginger Scones   \n\n                                         ingredients  \\\n0  [\"3 eggs\", \"1 12 cups heavy cream\", \"1 (11 oun...   \n1  [\"4 cups cooked shredded chicken\", \"1 large on...   \n2  [\"1 -2 tablespoon olive oil\", \"6 bacon, rasher...   \n3  [\"Two 750-milliliter bottles red wine (or one ...   \n4  [\"2 cups all-purpose flour\", \"1/3 cup sugar\", ...   \n\n                                          directions  \\\n0  [\"Place each ingredient in a blender and mix b...   \n1  [\"In skillet mix chicken, onion, garlic, and c...   \n2  [\"Heat some olive oil in a non-stick pan. Roug...   \n3  [\"Special equipment: a cooler with a spout\", \"...   \n4  [\"In a medium bowl, whisk together flour, suga...   \n\n                                                link     source  \\\n0             www.food.com/recipe/irish-cream-149916  Recipes1M   \n1  www.food.com/recipe/chicken-and-black-bean-enc...  Recipes1M   \n2  www.food.com/recipe/terrific-and-tasty-tidy-fr...   Gathered   \n3    www.foodnetwork.com/recipes/cooler-sangria.html  Recipes1M   \n4    www.food.com/recipe/darcys-ginger-scones-108609   Gathered   \n\n                                                 NER  \n0  [\"eggs\", \"heavy cream\", \"condensed milk\", \"cho...  \n1  [\"chicken\", \"onion\", \"garlic\", \"green chilies\"...  \n2  [\"olive oil\", \"bacon\", \"sausages\", \"onions\", \"...  \n3  [\"bottles red wine\", \"freshly squeezed orange ...  \n4  [\"flour\", \"sugar\", \"baking powder\", \"salt\", \"u...  ",
      "text/html": "<div>\n<style scoped>\n    .dataframe tbody tr th:only-of-type {\n        vertical-align: middle;\n    }\n\n    .dataframe tbody tr th {\n        vertical-align: top;\n    }\n\n    .dataframe thead th {\n        text-align: right;\n    }\n</style>\n<table border=\"1\" class=\"dataframe\">\n  <thead>\n    <tr style=\"text-align: right;\">\n      <th></th>\n      <th>title</th>\n      <th>ingredients</th>\n      <th>directions</th>\n      <th>link</th>\n      <th>source</th>\n      <th>NER</th>\n    </tr>\n  </thead>\n  <tbody>\n    <tr>\n      <th>0</th>\n      <td>Irish Cream</td>\n      <td>[\"3 eggs\", \"1 12 cups heavy cream\", \"1 (11 oun...</td>\n      <td>[\"Place each ingredient in a blender and mix b...</td>\n      <td>www.food.com/recipe/irish-cream-149916</td>\n      <td>Recipes1M</td>\n      <td>[\"eggs\", \"heavy cream\", \"condensed milk\", \"cho...</td>\n    </tr>\n    <tr>\n      <th>1</th>\n      <td>Chicken and Black Bean Enchiladas</td>\n      <td>[\"4 cups cooked shredded chicken\", \"1 large on...</td>\n      <td>[\"In skillet mix chicken, onion, garlic, and c...</td>\n      <td>www.food.com/recipe/chicken-and-black-bean-enc...</td>\n      <td>Recipes1M</td>\n      <td>[\"chicken\", \"onion\", \"garlic\", \"green chilies\"...</td>\n    </tr>\n    <tr>\n      <th>2</th>\n      <td>Terrific And Tasty Tidy Friday Pan Fry!</td>\n      <td>[\"1 -2 tablespoon olive oil\", \"6 bacon, rasher...</td>\n      <td>[\"Heat some olive oil in a non-stick pan. Roug...</td>\n      <td>www.food.com/recipe/terrific-and-tasty-tidy-fr...</td>\n      <td>Gathered</td>\n      <td>[\"olive oil\", \"bacon\", \"sausages\", \"onions\", \"...</td>\n    </tr>\n    <tr>\n      <th>3</th>\n      <td>Cooler Sangria</td>\n      <td>[\"Two 750-milliliter bottles red wine (or one ...</td>\n      <td>[\"Special equipment: a cooler with a spout\", \"...</td>\n      <td>www.foodnetwork.com/recipes/cooler-sangria.html</td>\n      <td>Recipes1M</td>\n      <td>[\"bottles red wine\", \"freshly squeezed orange ...</td>\n    </tr>\n    <tr>\n      <th>4</th>\n      <td>Darcy'S Ginger Scones</td>\n      <td>[\"2 cups all-purpose flour\", \"1/3 cup sugar\", ...</td>\n      <td>[\"In a medium bowl, whisk together flour, suga...</td>\n      <td>www.food.com/recipe/darcys-ginger-scones-108609</td>\n      <td>Gathered</td>\n      <td>[\"flour\", \"sugar\", \"baking powder\", \"salt\", \"u...</td>\n    </tr>\n  </tbody>\n</table>\n</div>"
     },
     "execution_count": 11,
     "metadata": {},
     "output_type": "execute_result"
    }
   ],
   "source": [
    "# Set a seed for reproducibility\n",
    "random.seed(42)\n",
    "\n",
    "# Shuffle the DataFrame\n",
    "recipes_shuffled = recipes.sample(frac=1).reset_index(drop=True)\n",
    "\n",
    "# Select 50% of the recipes randomly\n",
    "num_recipes_to_keep = n_recipes #int(len(recipes_shuffled) * 0.5)\n",
    "recipes = recipes_shuffled[:num_recipes_to_keep]\n",
    "\n",
    "# Print the new DataFrame\n",
    "recipes.head(5)"
   ],
   "metadata": {
    "collapsed": false,
    "ExecuteTime": {
     "end_time": "2024-04-28T11:41:36.117370Z",
     "start_time": "2024-04-28T11:41:35.487139Z"
    }
   }
  },
  {
   "cell_type": "code",
   "execution_count": 12,
   "outputs": [
    {
     "name": "stdout",
     "output_type": "stream",
     "text": [
      "<class 'pandas.core.frame.DataFrame'>\n",
      "RangeIndex: 25 entries, 0 to 24\n",
      "Data columns (total 6 columns):\n",
      " #   Column       Non-Null Count  Dtype \n",
      "---  ------       --------------  ----- \n",
      " 0   title        25 non-null     object\n",
      " 1   ingredients  25 non-null     object\n",
      " 2   directions   25 non-null     object\n",
      " 3   link         25 non-null     object\n",
      " 4   source       25 non-null     object\n",
      " 5   NER          25 non-null     object\n",
      "dtypes: object(6)\n",
      "memory usage: 1.3+ KB\n",
      "None\n"
     ]
    }
   ],
   "source": [
    "print(recipes.info())"
   ],
   "metadata": {
    "collapsed": false,
    "ExecuteTime": {
     "end_time": "2024-04-28T11:41:37.889236Z",
     "start_time": "2024-04-28T11:41:37.882131Z"
    }
   }
  },
  {
   "cell_type": "markdown",
   "source": [
    "#### Tokenize, compute TF-IDF and prepare the similarity measure"
   ],
   "metadata": {
    "collapsed": false
   }
  },
  {
   "cell_type": "code",
   "execution_count": 13,
   "outputs": [],
   "source": [
    "def load_model(model_path):\n",
    "    model = GPT2LMHeadModel.from_pretrained(model_path)\n",
    "    tokenizer = GPT2Tokenizer.from_pretrained(model_path, padding_side='left')\n",
    "    return model, tokenizer"
   ],
   "metadata": {
    "collapsed": false,
    "ExecuteTime": {
     "end_time": "2024-04-28T11:41:40.809580Z",
     "start_time": "2024-04-28T11:41:40.804001Z"
    }
   }
  },
  {
   "cell_type": "code",
   "execution_count": 14,
   "outputs": [],
   "source": [
    "def prepare_similarity_matrix(recipes):\n",
    "    tfidf_vectorizer = TfidfVectorizer()\n",
    "    tfidf_matrix = tfidf_vectorizer.fit_transform(recipes['NER'])\n",
    "    return tfidf_vectorizer, tfidf_matrix\n",
    "\n",
    "tfidf_vectorizer, tfidf_matrix = prepare_similarity_matrix(recipes)"
   ],
   "metadata": {
    "collapsed": false,
    "ExecuteTime": {
     "end_time": "2024-04-28T11:41:44.141982Z",
     "start_time": "2024-04-28T11:41:44.129682Z"
    }
   }
  },
  {
   "cell_type": "code",
   "execution_count": 15,
   "outputs": [],
   "source": [
    "import ast\n",
    "\n",
    "def find_best_match(user_ingredients, recipes, tfidf_vectorizer, tfidf_matrix):\n",
    "    \"\"\"Calculate cosine similarity and return the best recipe match.\"\"\"\n",
    "    user_input_tfidf = tfidf_vectorizer.transform([' '.join(user_ingredients)])\n",
    "    cos_similarities = cosine_similarity(user_input_tfidf, tfidf_matrix)\n",
    "    best_recipe_index = cos_similarities.argmax()\n",
    "    return recipes.iloc[best_recipe_index]\n",
    "\n",
    "def remove_repetitions(text):\n",
    "    \"\"\"Helper function to remove repeated sentences in a list of directions.\"\"\"\n",
    "    seen = set()\n",
    "    result = []\n",
    "    for item in text:\n",
    "        if item not in seen:\n",
    "            seen.add(item)\n",
    "            result.append(item)\n",
    "    return result\n",
    "\n",
    "def generate_recipe_text(user_ingredients, recipes, tfidf_vectorizer, tfidf_matrix, model, tokenizer):\n",
    "    # Find the recipe that matches the user ingredients\n",
    "    best_recipe = find_best_match(user_ingredients, recipes, tfidf_vectorizer, tfidf_matrix)\n",
    "\n",
    "    # Parse ingredients and directions from the dataframe\n",
    "    ingredients_list = ast.literal_eval(best_recipe['ingredients'])\n",
    "    directions_list = ast.literal_eval(best_recipe['directions'])\n",
    "\n",
    "    # Reformat input to the model\n",
    "    ingredients_text = \"Ingredients:\\n\" + \"\\n\".join([f\"- {ingredient}\" for ingredient in ingredients_list])\n",
    "    directions_text = \"Directions:\\n\" + \"\\n\".join([f\"Step {i+1}: {step}\" for i, step in enumerate(directions_list)])\n",
    "    prompt_text = f\"Recipe Title: {best_recipe['title']}\\n\\n{ingredients_text}\\n\\n{directions_text}\"\n",
    "\n",
    "    # Generate the recipe text\n",
    "    encoded = tokenizer.encode_plus(prompt_text, return_tensors=\"pt\", padding='max_length', truncation=True)\n",
    "    input_ids = encoded['input_ids'].to(device)\n",
    "    attention_mask = encoded['attention_mask'].to(device)\n",
    "    pad_token_id = tokenizer.pad_token_id\n",
    "    outputs = model.generate(input_ids, attention_mask=attention_mask, pad_token_id=pad_token_id, max_length=1024 + 50, num_return_sequences=1, no_repeat_ngram_size=2)\n",
    "    generated_text = tokenizer.decode(outputs[0], skip_special_tokens=True)\n",
    "\n",
    "    # Remove repetitions in the generated text\n",
    "    final_text_lines = generated_text.split('\\n')\n",
    "    final_text_lines = remove_repetitions(final_text_lines)\n",
    "\n",
    "    return \"\\n\".join(final_text_lines)"
   ],
   "metadata": {
    "collapsed": false,
    "ExecuteTime": {
     "end_time": "2024-04-28T11:41:44.670629Z",
     "start_time": "2024-04-28T11:41:44.660777Z"
    }
   }
  },
  {
   "cell_type": "markdown",
   "source": [
    "- Prepare data for training the GPT-2 model.\n",
    "- DataLoader creation for training and validation sets.\n",
    "- Model Training & Validation methods"
   ],
   "metadata": {
    "collapsed": false
   }
  },
  {
   "cell_type": "code",
   "execution_count": 16,
   "outputs": [],
   "source": [
    "class RecipeDataset(Dataset):\n",
    "    def __init__(self, texts, tokenizer, max_length):\n",
    "        self.tokenizer = tokenizer\n",
    "        self.texts = texts\n",
    "        self.max_length = max_length\n",
    "\n",
    "    def __len__(self):\n",
    "        return len(self.texts)\n",
    "\n",
    "    def __getitem__(self, idx):\n",
    "        text = self.texts[idx]\n",
    "        encoded = self.tokenizer.encode_plus(\n",
    "            text,\n",
    "            add_special_tokens=True,\n",
    "            max_length=self.max_length,\n",
    "            return_token_type_ids=False,\n",
    "            padding='max_length',\n",
    "            return_attention_mask=True,\n",
    "            return_tensors='pt',\n",
    "            truncation=True\n",
    "        )\n",
    "        return {\n",
    "            'input_ids': encoded['input_ids'].flatten(),\n",
    "            'attention_mask': encoded['attention_mask'].flatten(),\n",
    "            'labels': encoded['input_ids'].flatten()  # Labels for language modeling\n",
    "        }\n",
    "\n",
    "\n",
    "def create_data_loaders(recipes, batch_size, tokenizer, max_length):\n",
    "    # Combine title, ingredients, and directions into a single text input for each recipe\n",
    "    combined_texts = recipes.apply(lambda row: f\"Recipe Title: {row['title']} Ingredients: {row['ingredients']} Directions: {row['directions']}\", axis=1)\n",
    "    \n",
    "    # Split data into training and validation sets\n",
    "    train_texts, val_texts = train_test_split(combined_texts, test_size=0.2, random_state=42)\n",
    "\n",
    "    # Create Dataset objects\n",
    "    train_dataset = RecipeDataset(train_texts.tolist(), tokenizer, max_length)\n",
    "    val_dataset = RecipeDataset(val_texts.tolist(), tokenizer, max_length)\n",
    "    \n",
    "    # Create DataLoaders\n",
    "    train_loader = DataLoader(train_dataset, batch_size=batch_size, shuffle=True)\n",
    "    val_loader = DataLoader(val_dataset, batch_size=batch_size, shuffle=False)\n",
    "    \n",
    "    return train_loader, val_loader"
   ],
   "metadata": {
    "collapsed": false,
    "ExecuteTime": {
     "end_time": "2024-04-28T11:41:47.107333Z",
     "start_time": "2024-04-28T11:41:47.096726Z"
    }
   }
  },
  {
   "cell_type": "code",
   "execution_count": 17,
   "outputs": [],
   "source": [
    "def train_and_validate(model, device, train_loader, val_loader, best_params=None):\n",
    "    print(\"Training optimized model...\")\n",
    "\n",
    "    if best_params is None:\n",
    "        best_params = {}\n",
    "    \n",
    "    num_train_epochs = int(best_params.get('num_train_epochs', 10))\n",
    "    learning_rate = best_params.get('learning_rate', 1e-5)\n",
    "    weight_decay = best_params.get('weight_decay', 0)  # Default 0 if not specified\n",
    "    warmup_steps = int(best_params.get('warmup_steps', 0))  # Default 0 if not specified\n",
    "\n",
    "    # Set up the optimizer and scheduler using the best learning rate\n",
    "    optimizer = torch.optim.AdamW(model.parameters(), lr=learning_rate, weight_decay=weight_decay)\n",
    "    total_steps = len(train_loader) * num_train_epochs\n",
    "    scheduler = get_linear_schedule_with_warmup(optimizer, num_warmup_steps=warmup_steps, num_training_steps=total_steps)\n",
    "\n",
    "    \n",
    "    # Use gradient accumulation to handle memory limits\n",
    "    accumulation_steps = 4  # Adjust based on specific memory constraints\n",
    "\n",
    "\n",
    "    # Lists to store per-epoch metrics\n",
    "    training_losses = []\n",
    "    validation_losses = []\n",
    "    training_perplexities = []\n",
    "    validation_perplexities = []\n",
    "    best_val_loss = float('inf')\n",
    "\n",
    "\n",
    "    # Training loop\n",
    "    model.train()\n",
    "    for epoch in range(num_train_epochs):\n",
    "        total_loss = 0\n",
    "        model.zero_grad()\n",
    "\n",
    "        for step, batch in enumerate(train_loader):\n",
    "            input_ids = batch['input_ids'].to(device)\n",
    "            attention_mask = batch['attention_mask'].to(device)\n",
    "            labels = batch['labels'].to(device)\n",
    "\n",
    "            outputs = model(input_ids, attention_mask=attention_mask, labels=labels)\n",
    "            loss = outputs.loss / accumulation_steps  # Normalize the loss to account for accumulation\n",
    "            \n",
    "            loss.backward()\n",
    "            total_loss += loss.item()\n",
    "            \n",
    "            if (step + 1) % accumulation_steps == 0:\n",
    "                optimizer.step()\n",
    "                scheduler.step()\n",
    "                model.zero_grad()\n",
    "\n",
    "            # loss.backward()\n",
    "            # optimizer.step()\n",
    "            # scheduler.step()\n",
    "\n",
    "        avg_train_loss = total_loss / len(train_loader)\n",
    "        train_ppl = torch.exp(torch.tensor(avg_train_loss)).item()\n",
    "        training_losses.append(avg_train_loss)\n",
    "        training_perplexities.append(train_ppl)\n",
    "\n",
    "        # Validation phase\n",
    "        model.eval()\n",
    "        val_loss = 0\n",
    "        with torch.no_grad():\n",
    "            for batch in val_loader:\n",
    "                input_ids = batch['input_ids'].to(device)\n",
    "                attention_mask = batch['attention_mask'].to(device)\n",
    "                labels = batch['labels'].to(device)\n",
    "                \n",
    "                outputs = model(input_ids, attention_mask=attention_mask, labels=labels)\n",
    "                loss = outputs.loss\n",
    "                val_loss += loss.item()\n",
    "\n",
    "        avg_val_loss = val_loss / len(val_loader)\n",
    "        val_ppl = torch.exp(torch.tensor(avg_val_loss)).item()\n",
    "        validation_losses.append(avg_val_loss)\n",
    "        validation_perplexities.append(val_ppl)\n",
    "\n",
    "        print(f\"Epoch {epoch + 1}/{num_train_epochs} | Train Loss: {avg_train_loss:.3f} | Train PPL: {train_ppl:.3f} | Val Loss: {avg_val_loss:.3f} | Val PPL: {val_ppl:.3f}\")\n",
    "        \n",
    "        # Save the best model if validation loss improved\n",
    "        if avg_val_loss < best_val_loss:\n",
    "            best_val_loss = avg_val_loss\n",
    "            torch.save(model.state_dict(), best_model_path)\n",
    "            # print(f\"Saved new best model at {best_model_path}\")\n",
    "            \n",
    "        # Clear memory at the end of each epoch\n",
    "        clear_memory()\n",
    "    \n",
    "    # print(f\"Saved new best model at {best_model_path}\")\n",
    "    \n",
    "    return training_losses, validation_losses, training_perplexities, validation_perplexities, model"
   ],
   "metadata": {
    "collapsed": false,
    "ExecuteTime": {
     "end_time": "2024-04-28T11:41:50.270830Z",
     "start_time": "2024-04-28T11:41:50.268568Z"
    }
   }
  },
  {
   "cell_type": "code",
   "execution_count": 18,
   "outputs": [],
   "source": [
    "import matplotlib.pyplot as plt\n",
    "\n",
    "def plot_validation_curves(training_losses, validation_losses, training_perplexities, validation_perplexities):\n",
    "    epochs = range(1, len(training_losses) + 1)\n",
    "    \n",
    "    plt.figure(figsize=(12, 6))\n",
    "    plt.subplot(1, 2, 1)\n",
    "    plt.plot(epochs, training_losses, 'bo-', label='Training Loss')\n",
    "    plt.plot(epochs, validation_losses, 'ro-', label='Validation Loss')\n",
    "    plt.title('Training and Validation Loss')\n",
    "    plt.xlabel('Epochs')\n",
    "    plt.ylabel('Loss')\n",
    "    plt.grid()\n",
    "    plt.legend()\n",
    "\n",
    "    plt.subplot(1, 2, 2)\n",
    "    plt.plot(epochs, training_perplexities, 'bo-', label='Training Perplexity')\n",
    "    plt.plot(epochs, validation_perplexities, 'ro-', label='Validation Perplexity')\n",
    "    plt.title('Training and Validation Perplexity')\n",
    "    plt.xlabel('Epochs')\n",
    "    plt.ylabel('Perplexity')\n",
    "    plt.grid()\n",
    "    plt.legend()\n",
    "\n",
    "    plt.tight_layout()\n",
    "    plt.show()"
   ],
   "metadata": {
    "collapsed": false,
    "ExecuteTime": {
     "end_time": "2024-04-28T11:41:51.966223Z",
     "start_time": "2024-04-28T11:41:51.687539Z"
    }
   }
  },
  {
   "cell_type": "markdown",
   "source": [
    "## Model optimization with Bayesian Optimization: \n",
    "This approach combines traditional NLP techniques for ingredient matching with advanced language generation capabilities of GPT-2\n",
    "\n",
    "- Prepare data for fine-tuning: tokenize and format the data suitable for GPT-2\n",
    "- Hyperparameter Tuning: Explore different learning rates, batch sizes, and number of epochs\n",
    "    - Bayesian Optimization uses a probabilistic model to guide the search for the best hyperparameters. It balances exploration and exploitation to find the optimal hyperparameters efficiently. \n",
    "\n",
    "- Training: Train the model with recipes data, monitoring for convergence and performance.\n",
    "- Evaluation: Evaluate the model using validation data and metrics like perplexity.\n",
    "- Visualization of Results: Use plots to show training losses and evaluation metrics."
   ],
   "metadata": {
    "collapsed": false
   }
  },
  {
   "cell_type": "markdown",
   "source": [
    "### Hyperparameter Tuning\n",
    "\n",
    "Optimizer Selection\n",
    "- Adam is a popular choice due to its effectiveness in handling sparse gradients and adaptive learning rate techniques.\n",
    "\n",
    "Learning Rates\n",
    "- Initial Value: Starting learning rate in the range of 2e-5 to 5e-5, which are common starting points for fine-tuning language models.\n",
    "- Decay Strategy: Reduce the learning rate gradually as training progresses. This helps in fine-tuning the model to achieve better performance as it converges.\n",
    "- Warm-up Steps: Implementing a warm-up period for the learning rate can help stabilize the model's training early in the process, gradually increasing the learning rate from zero to the initial set learning rate.\n",
    "\n",
    "Batch Sizes\n",
    "- Size Range: Experiment with batch sizes, starting from smaller batches like 4 or 8, up to larger batches if your hardware supports it (e.g., 16, 32). Larger batch sizes provide a more stable gradient, but they require more memory.\n",
    "- Gradient Accumulation: If memory limits batch size, used to simulate larger batches. This means updating model weights less frequently, accumulating gradients over multiple forward passes.\n",
    "\n",
    "Number of Epochs\n",
    "- Epoch Count: Number of epochs is increased based on the initial results and if the model has not started overfitting. (See how quickly the model learns)\n",
    "- Early Stopping: Halt training when the validation metric (like perplexity or validation loss) stops improving. This prevents overfitting and saves computational resources.\n",
    "\n",
    "Weight Decay \n",
    "- (L2 Regularization): Prevents overfitting by penalizing large weights. Helps maintain a balance between model complexity and dataset simplicity.\n",
    "\n",
    "Gradient Clipping: \n",
    "- Prevents exploding gradients. By setting a threshold for gradient clipping, we ensure that gradients exceeding this threshold are scaled down to maintain stability in the training process.\n"
   ],
   "metadata": {
    "collapsed": false
   }
  },
  {
   "cell_type": "code",
   "execution_count": 35,
   "outputs": [],
   "source": [
    "def tune_model(learning_rate, weight_decay, num_train_epochs, warmup_steps, batch_size):\n",
    "    \n",
    "    print(\"Starting Model Optimization...\")\n",
    "    \n",
    "    hyperparams = {\n",
    "        'learning_rate': learning_rate,\n",
    "        'weight_decay': weight_decay,\n",
    "        'num_train_epochs': int(num_train_epochs),\n",
    "        'warmup_steps': int(warmup_steps),\n",
    "        'batch_size': int(batch_size),\n",
    "        'gradient_clipping_norm': 1.0,\n",
    "        'accumulation_steps': 4\n",
    "    }\n",
    "    \n",
    "    train_loader, val_loader = create_data_loaders(recipes, hyperparams['batch_size'], tokenizer, max_length=512)\n",
    "    \n",
    "    # Set up optimizer and scheduler\n",
    "    optimizer = torch.optim.AdamW(model.parameters(), lr=hyperparams['learning_rate'], weight_decay=hyperparams['weight_decay'])\n",
    "    total_steps = len(train_loader) * hyperparams['num_train_epochs']\n",
    "    scheduler = get_linear_schedule_with_warmup(optimizer, num_warmup_steps=hyperparams['warmup_steps'], num_training_steps=total_steps)\n",
    "\n",
    "    min_val_loss = float('inf')\n",
    "    patience_limit = 3  # Early stopping after 3 epochs with no improvement\n",
    "    patience = 0\n",
    "        \n",
    "    # Training loop\n",
    "    model.train()\n",
    "    for epoch in range(hyperparams['num_train_epochs']):\n",
    "        total_loss = 0\n",
    "        model.zero_grad()\n",
    "\n",
    "        for step, batch in enumerate(train_loader):\n",
    "            input_ids = batch['input_ids'].to(device)\n",
    "            attention_mask = batch['attention_mask'].to(device)\n",
    "            labels = batch['labels'].to(device)\n",
    "\n",
    "            outputs = model(input_ids, attention_mask=attention_mask, labels=labels)\n",
    "            loss = outputs.loss / hyperparams['accumulation_steps']  # Normalize the loss to account for accumulation\n",
    "            loss.backward()\n",
    "            total_loss += loss.item()\n",
    "\n",
    "            if (step + 1) % hyperparams['accumulation_steps'] == 0:\n",
    "                torch.nn.utils.clip_grad_norm_(model.parameters(), hyperparams['gradient_clipping_norm'])\n",
    "                \n",
    "                optimizer.step()\n",
    "                scheduler.step()\n",
    "                model.zero_grad()\n",
    "\n",
    "        avg_train_loss = total_loss / len(train_loader)\n",
    "\n",
    "        # Validation phase\n",
    "        model.eval()\n",
    "        val_loss = 0\n",
    "        with torch.no_grad():\n",
    "            for batch in val_loader:\n",
    "                input_ids = batch['input_ids'].to(device)\n",
    "                attention_mask = batch['attention_mask'].to(device)\n",
    "                labels = batch['labels'].to(device)\n",
    "                \n",
    "                outputs = model(input_ids=input_ids, attention_mask=attention_mask, labels=labels)\n",
    "                val_loss += outputs.loss.item()\n",
    "\n",
    "        avg_val_loss = val_loss / len(val_loader)\n",
    "\n",
    "        # Early stopping logic\n",
    "        if avg_val_loss < min_val_loss:\n",
    "            min_val_loss = avg_val_loss\n",
    "            patience = 0\n",
    "            \n",
    "            # Save the best model\n",
    "            save_model_checkpoint(model, optimizer, epoch, avg_val_loss, hyperparams, best_model_path)\n",
    "        else:\n",
    "            patience += 1\n",
    "            if patience >= patience_limit:\n",
    "                print(f\"Stopping early at epoch {epoch+1}\")\n",
    "                break\n",
    "\n",
    "        print(f\"Epoch {epoch+1}: Train Loss: {avg_train_loss:.3f}, Val Loss: {avg_val_loss:.3f}\")\n",
    "        \n",
    "        # Clear memory at the end of each epoch\n",
    "        clear_memory()\n",
    "    \n",
    "    # print(f\"Best model saved at {best_model_path}\")\n",
    "\n",
    "    return -min_val_loss  # Maximizing the negative loss in Bayesian optimization"
   ],
   "metadata": {
    "collapsed": false,
    "ExecuteTime": {
     "end_time": "2024-04-28T11:54:54.509606Z",
     "start_time": "2024-04-28T11:54:54.491548Z"
    }
   }
  },
  {
   "cell_type": "code",
   "execution_count": 36,
   "outputs": [
    {
     "data": {
      "text/plain": "GPT2LMHeadModel(\n  (transformer): GPT2Model(\n    (wte): Embedding(50257, 768)\n    (wpe): Embedding(1024, 768)\n    (drop): Dropout(p=0.1, inplace=False)\n    (h): ModuleList(\n      (0-11): 12 x GPT2Block(\n        (ln_1): LayerNorm((768,), eps=1e-05, elementwise_affine=True)\n        (attn): GPT2Attention(\n          (c_attn): Conv1D()\n          (c_proj): Conv1D()\n          (attn_dropout): Dropout(p=0.1, inplace=False)\n          (resid_dropout): Dropout(p=0.1, inplace=False)\n        )\n        (ln_2): LayerNorm((768,), eps=1e-05, elementwise_affine=True)\n        (mlp): GPT2MLP(\n          (c_fc): Conv1D()\n          (c_proj): Conv1D()\n          (act): NewGELUActivation()\n          (dropout): Dropout(p=0.1, inplace=False)\n        )\n      )\n    )\n    (ln_f): LayerNorm((768,), eps=1e-05, elementwise_affine=True)\n  )\n  (lm_head): Linear(in_features=768, out_features=50257, bias=False)\n)"
     },
     "execution_count": 36,
     "metadata": {},
     "output_type": "execute_result"
    }
   ],
   "source": [
    "model, tokenizer = load_model(model_path)\n",
    "tokenizer.pad_token = tokenizer.eos_token\n",
    "model.to(device)"
   ],
   "metadata": {
    "collapsed": false,
    "ExecuteTime": {
     "end_time": "2024-04-28T11:55:01.898011Z",
     "start_time": "2024-04-28T11:54:54.790622Z"
    }
   }
  },
  {
   "cell_type": "code",
   "execution_count": 37,
   "outputs": [
    {
     "name": "stdout",
     "output_type": "stream",
     "text": [
      "|   iter    |  target   | batch_... | learni... | num_tr... | warmup... | weight... |\n",
      "-------------------------------------------------------------------------------------\n",
      "Starting Model Optimization...\n",
      "Checkpoint saved at ./models/best_gpt2_model_25\n",
      "Epoch 1: Train Loss: 5.608, Val Loss: 6.824\n",
      "| \u001B[0m1        \u001B[0m | \u001B[0m-6.824   \u001B[0m | \u001B[0m55.71    \u001B[0m | \u001B[0m7.231e-05\u001B[0m | \u001B[0m1.001    \u001B[0m | \u001B[0m3.023e+03\u001B[0m | \u001B[0m0.001553 \u001B[0m |\n",
      "Starting Model Optimization...\n",
      "Checkpoint saved at ./models/best_gpt2_model_25\n",
      "Epoch 1: Train Loss: 1.811, Val Loss: 6.824\n",
      "Epoch 2: Train Loss: 1.699, Val Loss: 6.824\n",
      "Epoch 3: Train Loss: 1.731, Val Loss: 6.824\n",
      "Stopping early at epoch 4\n",
      "| \u001B[0m2        \u001B[0m | \u001B[0m-6.824   \u001B[0m | \u001B[0m15.45    \u001B[0m | \u001B[0m1.944e-05\u001B[0m | \u001B[0m4.11     \u001B[0m | \u001B[0m3.968e+03\u001B[0m | \u001B[0m0.005434 \u001B[0m |\n",
      "Starting Model Optimization...\n",
      "Checkpoint saved at ./models/best_gpt2_model_25\n",
      "Epoch 1: Train Loss: 5.392, Val Loss: 6.824\n",
      "Epoch 2: Train Loss: 5.874, Val Loss: 6.824\n",
      "Epoch 3: Train Loss: 5.873, Val Loss: 6.824\n",
      "| \u001B[0m3        \u001B[0m | \u001B[0m-6.824   \u001B[0m | \u001B[0m100.8    \u001B[0m | \u001B[0m9.492e-05\u001B[0m | \u001B[0m3.107    \u001B[0m | \u001B[0m9.329e+03\u001B[0m | \u001B[0m0.002628 \u001B[0m |\n",
      "Starting Model Optimization...\n",
      "Checkpoint saved at ./models/best_gpt2_model_25\n",
      "Epoch 1: Train Loss: 1.754, Val Loss: 6.648\n",
      "Checkpoint saved at ./models/best_gpt2_model_25\n",
      "Epoch 2: Train Loss: 1.548, Val Loss: 3.652\n",
      "Checkpoint saved at ./models/best_gpt2_model_25\n",
      "Epoch 3: Train Loss: 0.957, Val Loss: 2.303\n",
      "Checkpoint saved at ./models/best_gpt2_model_25\n",
      "Epoch 4: Train Loss: 0.672, Val Loss: 1.860\n",
      "Checkpoint saved at ./models/best_gpt2_model_25\n",
      "Epoch 5: Train Loss: 0.563, Val Loss: 1.553\n",
      "Epoch 6: Train Loss: 0.548, Val Loss: 2.549\n",
      "Epoch 7: Train Loss: 0.728, Val Loss: 2.799\n",
      "Stopping early at epoch 8\n",
      "| \u001B[95m4        \u001B[0m | \u001B[95m-1.553   \u001B[0m | \u001B[95m4.021    \u001B[0m | \u001B[95m6.524e-05\u001B[0m | \u001B[95m8.357    \u001B[0m | \u001B[95m4.758    \u001B[0m | \u001B[95m0.009484 \u001B[0m |\n",
      "Starting Model Optimization...\n",
      "Checkpoint saved at ./models/best_gpt2_model_25\n",
      "Epoch 1: Train Loss: 7.712, Val Loss: 2.143\n",
      "| \u001B[0m5        \u001B[0m | \u001B[0m-2.143   \u001B[0m | \u001B[0m128.0    \u001B[0m | \u001B[0m9.15e-06 \u001B[0m | \u001B[0m1.0      \u001B[0m | \u001B[0m867.7    \u001B[0m | \u001B[0m0.008189 \u001B[0m |\n",
      "Starting Model Optimization...\n",
      "Checkpoint saved at ./models/best_gpt2_model_25\n",
      "Epoch 1: Train Loss: 0.754, Val Loss: 2.143\n",
      "Epoch 2: Train Loss: 0.642, Val Loss: 2.143\n",
      "Epoch 3: Train Loss: 0.644, Val Loss: 2.143\n",
      "Stopping early at epoch 4\n",
      "| \u001B[0m6        \u001B[0m | \u001B[0m-2.143   \u001B[0m | \u001B[0m8.85     \u001B[0m | \u001B[0m4.531e-05\u001B[0m | \u001B[0m9.268    \u001B[0m | \u001B[0m7.29     \u001B[0m | \u001B[0m0.009398 \u001B[0m |\n",
      "Starting Model Optimization...\n",
      "Checkpoint saved at ./models/best_gpt2_model_25\n",
      "Epoch 1: Train Loss: 7.781, Val Loss: 2.143\n",
      "Epoch 2: Train Loss: 8.223, Val Loss: 2.143\n",
      "Epoch 3: Train Loss: 8.223, Val Loss: 2.143\n",
      "Stopping early at epoch 4\n",
      "| \u001B[0m7        \u001B[0m | \u001B[0m-2.143   \u001B[0m | \u001B[0m101.3    \u001B[0m | \u001B[0m6.792e-05\u001B[0m | \u001B[0m4.836    \u001B[0m | \u001B[0m838.4    \u001B[0m | \u001B[0m0.001378 \u001B[0m |\n",
      "Starting Model Optimization...\n",
      "Checkpoint saved at ./models/best_gpt2_model_25\n",
      "Epoch 1: Train Loss: 7.583, Val Loss: 2.143\n",
      "Epoch 2: Train Loss: 8.223, Val Loss: 2.143\n",
      "Epoch 3: Train Loss: 8.223, Val Loss: 2.143\n",
      "Stopping early at epoch 4\n",
      "| \u001B[0m8        \u001B[0m | \u001B[0m-2.143   \u001B[0m | \u001B[0m82.66    \u001B[0m | \u001B[0m5.06e-05 \u001B[0m | \u001B[0m7.991    \u001B[0m | \u001B[0m885.9    \u001B[0m | \u001B[0m0.005738 \u001B[0m |\n",
      "Starting Model Optimization...\n",
      "Checkpoint saved at ./models/best_gpt2_model_25\n",
      "Epoch 1: Train Loss: 7.626, Val Loss: 2.143\n",
      "Epoch 2: Train Loss: 8.223, Val Loss: 2.143\n",
      "Epoch 3: Train Loss: 8.222, Val Loss: 2.143\n",
      "Stopping early at epoch 4\n",
      "| \u001B[0m9        \u001B[0m | \u001B[0m-2.143   \u001B[0m | \u001B[0m30.72    \u001B[0m | \u001B[0m5.307e-05\u001B[0m | \u001B[0m6.768    \u001B[0m | \u001B[0m846.8    \u001B[0m | \u001B[0m0.002967 \u001B[0m |\n",
      "Starting Model Optimization...\n",
      "Checkpoint saved at ./models/best_gpt2_model_25\n",
      "Epoch 1: Train Loss: 0.738, Val Loss: 2.143\n",
      "Epoch 2: Train Loss: 0.630, Val Loss: 2.143\n",
      "Epoch 3: Train Loss: 0.630, Val Loss: 2.143\n",
      "Stopping early at epoch 4\n",
      "| \u001B[0m10       \u001B[0m | \u001B[0m-2.143   \u001B[0m | \u001B[0m10.34    \u001B[0m | \u001B[0m6.398e-05\u001B[0m | \u001B[0m6.854    \u001B[0m | \u001B[0m910.7    \u001B[0m | \u001B[0m0.003915 \u001B[0m |\n",
      "Starting Model Optimization...\n",
      "Checkpoint saved at ./models/best_gpt2_model_25\n",
      "Epoch 1: Train Loss: 7.554, Val Loss: 2.143\n",
      "Epoch 2: Train Loss: 8.223, Val Loss: 2.143\n",
      "Epoch 3: Train Loss: 8.223, Val Loss: 2.143\n",
      "Stopping early at epoch 4\n",
      "| \u001B[0m11       \u001B[0m | \u001B[0m-2.143   \u001B[0m | \u001B[0m65.24    \u001B[0m | \u001B[0m9.75e-05 \u001B[0m | \u001B[0m5.151    \u001B[0m | \u001B[0m964.5    \u001B[0m | \u001B[0m0.008627 \u001B[0m |\n",
      "Starting Model Optimization...\n",
      "Checkpoint saved at ./models/best_gpt2_model_25\n",
      "Epoch 1: Train Loss: 0.751, Val Loss: 2.143\n",
      "Epoch 2: Train Loss: 0.610, Val Loss: 2.143\n",
      "Epoch 3: Train Loss: 0.615, Val Loss: 2.143\n",
      "Stopping early at epoch 4\n",
      "| \u001B[0m12       \u001B[0m | \u001B[0m-2.143   \u001B[0m | \u001B[0m8.727    \u001B[0m | \u001B[0m5.193e-05\u001B[0m | \u001B[0m4.858    \u001B[0m | \u001B[0m1.012e+03\u001B[0m | \u001B[0m0.001577 \u001B[0m |\n",
      "=====================================================================================\n"
     ]
    }
   ],
   "source": [
    "# Define parameter bounds\n",
    "pbounds = {\n",
    "    'learning_rate': (1e-6, 1e-4),\n",
    "    'batch_size': (4, 128),\n",
    "    'num_train_epochs': (1, 10),\n",
    "    'weight_decay': (1e-4, 1e-2),\n",
    "    'warmup_steps': (0, 10000),\n",
    "}\n",
    "\n",
    "optimizer = BayesianOptimization(\n",
    "    f=tune_model,\n",
    "    pbounds=pbounds,\n",
    "    random_state=1,\n",
    ")\n",
    "\n",
    "optimizer.maximize(\n",
    "    init_points=2,\n",
    "    n_iter=10,\n",
    ")"
   ],
   "metadata": {
    "collapsed": false,
    "ExecuteTime": {
     "end_time": "2024-04-28T12:43:37.046385Z",
     "start_time": "2024-04-28T11:55:01.897636Z"
    }
   }
  },
  {
   "cell_type": "code",
   "execution_count": 38,
   "outputs": [
    {
     "name": "stdout",
     "output_type": "stream",
     "text": [
      "# Recipes used: 25\n",
      "Best model in: ./models/best_gpt2_model_25\n",
      "\n",
      "Best hyperparameters found:\n",
      "- Learning Rate: 6.5243e-05\n",
      "- Batch Size: 4\n",
      "- Training Epochs: 8\n",
      "- Weight Decay: 9.4844e-03\n",
      "- Warmup Steps: 4\n"
     ]
    }
   ],
   "source": [
    "print(f\"# Recipes used: {n_recipes}\")\n",
    "print(f\"Best model in: {best_model_path}\")\n",
    "\n",
    "best_params = optimizer.max['params']\n",
    "print(\"\\nBest hyperparameters found:\")\n",
    "print(f\"- Learning Rate: {best_params['learning_rate']:.4e}\")\n",
    "print(f\"- Batch Size: {int(best_params['batch_size'])}\")\n",
    "print(f\"- Training Epochs: {int(best_params['num_train_epochs'])}\")\n",
    "print(f\"- Weight Decay: {best_params['weight_decay']:.4e}\")\n",
    "print(f\"- Warmup Steps: {int(best_params['warmup_steps'])}\")"
   ],
   "metadata": {
    "collapsed": false,
    "ExecuteTime": {
     "end_time": "2024-04-28T19:22:12.490222Z",
     "start_time": "2024-04-28T19:22:12.453551Z"
    }
   }
  },
  {
   "cell_type": "code",
   "execution_count": 40,
   "outputs": [
    {
     "name": "stdout",
     "output_type": "stream",
     "text": [
      "Checkpoint saved as P2R_NPL_GPT2_25_checkpoint_2024-04-28_15-25-06.ipynb\n"
     ]
    }
   ],
   "source": [
    "# Save the notebook\n",
    "checkpoint_name = save_checkpoint(nb_name, n_recipes)\n",
    "\n",
    "# Load the checkpoint\n",
    "# nb = load_checkpoint(f'{checkpoint_name}')"
   ],
   "metadata": {
    "collapsed": false,
    "ExecuteTime": {
     "end_time": "2024-04-28T19:25:06.628132Z",
     "start_time": "2024-04-28T19:25:06.534271Z"
    }
   }
  },
  {
   "cell_type": "markdown",
   "source": [
    "#### Optimized Model Training and Validation"
   ],
   "metadata": {
    "collapsed": false
   }
  },
  {
   "cell_type": "code",
   "execution_count": 41,
   "outputs": [
    {
     "name": "stdout",
     "output_type": "stream",
     "text": [
      "Training optimized model...\n",
      "Epoch 1/8 | Train Loss: 0.739 | Train PPL: 2.095 | Val Loss: 2.115 | Val PPL: 8.292\n",
      "Epoch 2/8 | Train Loss: 0.624 | Train PPL: 1.867 | Val Loss: 1.969 | Val PPL: 7.163\n",
      "Epoch 3/8 | Train Loss: 0.595 | Train PPL: 1.813 | Val Loss: 1.852 | Val PPL: 6.372\n",
      "Epoch 4/8 | Train Loss: 0.574 | Train PPL: 1.775 | Val Loss: 1.810 | Val PPL: 6.111\n",
      "Epoch 5/8 | Train Loss: 0.568 | Train PPL: 1.765 | Val Loss: 1.851 | Val PPL: 6.366\n",
      "Epoch 6/8 | Train Loss: 0.581 | Train PPL: 1.788 | Val Loss: 1.941 | Val PPL: 6.965\n",
      "Epoch 7/8 | Train Loss: 0.610 | Train PPL: 1.841 | Val Loss: 2.105 | Val PPL: 8.206\n",
      "Epoch 8/8 | Train Loss: 0.653 | Train PPL: 1.922 | Val Loss: 2.314 | Val PPL: 10.117\n"
     ]
    }
   ],
   "source": [
    "# best_batch_size = int(best_params['batch_size'])\n",
    "# train_loader, val_loader = create_data_loaders(recipes, best_batch_size, tokenizer, max_length=512)\n",
    "\n",
    "# Create data loaders with the best batch size\n",
    "batch_size = int(best_params['batch_size'])\n",
    "train_loader_opt, val_loader_opt = create_data_loaders(recipes, batch_size, tokenizer, max_length=512)\n",
    "    \n",
    "training_losses, validation_losses, training_perplexities, validation_perplexities, model_optim = train_and_validate(model, device, train_loader_opt, val_loader_opt, best_params)"
   ],
   "metadata": {
    "collapsed": false,
    "ExecuteTime": {
     "end_time": "2024-04-28T19:28:45.054241Z",
     "start_time": "2024-04-28T19:26:26.417908Z"
    }
   }
  },
  {
   "cell_type": "code",
   "execution_count": 67,
   "outputs": [],
   "source": [
    "# print(model_optim)"
   ],
   "metadata": {
    "collapsed": false,
    "ExecuteTime": {
     "end_time": "2024-04-28T10:17:18.514999Z",
     "start_time": "2024-04-28T10:17:18.495813Z"
    }
   }
  },
  {
   "cell_type": "markdown",
   "source": [
    "### Visualizing Results\n",
    "\n",
    "- Training Loss: Plot the training and validation loss over epochs to visualize learning progress and diagnose issues like overfitting or underfitting.\n",
    "- BLEU Scores or Perplexity Over Time: Similarly, track and plot BLEU scores or perplexity over epochs to assess language model performance improvements."
   ],
   "metadata": {
    "collapsed": false
   }
  },
  {
   "cell_type": "code",
   "execution_count": 42,
   "outputs": [
    {
     "data": {
      "text/plain": "<Figure size 1200x600 with 2 Axes>",
      "image/png": "[encoded data removed]"
     },
     "metadata": {},
     "output_type": "display_data"
    }
   ],
   "source": [
    "plot_validation_curves(training_losses, validation_losses, training_perplexities, validation_perplexities)"
   ],
   "metadata": {
    "collapsed": false,
    "ExecuteTime": {
     "end_time": "2024-04-28T19:31:37.356907Z",
     "start_time": "2024-04-28T19:31:36.962911Z"
    }
   }
  },
  {
   "cell_type": "markdown",
   "source": [
    "### Example: Generating a Recipe with Optimized model"
   ],
   "metadata": {
    "collapsed": false
   }
  },
  {
   "cell_type": "code",
   "execution_count": 43,
   "outputs": [],
   "source": [
    "# # Load the best model\n",
    "# best_model, tokenizer = load_model(best_model_path)\n",
    "# tokenizer.pad_token = tokenizer.eos_token\n",
    "# best_model.to(device)"
   ],
   "metadata": {
    "collapsed": false,
    "ExecuteTime": {
     "end_time": "2024-04-28T19:31:47.071519Z",
     "start_time": "2024-04-28T19:31:47.047957Z"
    }
   }
  },
  {
   "cell_type": "code",
   "execution_count": 44,
   "outputs": [
    {
     "name": "stderr",
     "output_type": "stream",
     "text": [
      "This is a friendly reminder - the current text generation call will exceed the model's predefined maximum length (1024). Depending on the model, you may observe exceptions, performance degradation, or nothing at all.\n"
     ]
    },
    {
     "name": "stdout",
     "output_type": "stream",
     "text": [
      "Recipe Title: Irish Cream\n",
      "\n",
      "Ingredients:\n",
      "- 3 eggs\n",
      "- 1 12 cups heavy cream\n",
      "- 1 (11 ounce) can sweetened condensed milk\n",
      "- 1 tablespoon chocolate syrup\n",
      "- 14 teaspoon coconut extract\n",
      "- 1 cup of cheap whiskey\n",
      "Directions:\n",
      "Step 1: Place each ingredient in a blender and mix briefly after each one.\n",
      "Step 2: After adding the whiskey, blend for about 3 minutes\n",
      "Step 3: Shake well before serving.\n"
     ]
    }
   ],
   "source": [
    "# Generate the recipe\n",
    "recipe_text = generate_recipe_text(user_ingredients, recipes, tfidf_vectorizer, tfidf_matrix, model_optim, tokenizer)\n",
    "\n",
    "print(recipe_text)"
   ],
   "metadata": {
    "collapsed": false,
    "ExecuteTime": {
     "end_time": "2024-04-28T19:32:06.212440Z",
     "start_time": "2024-04-28T19:31:55.801802Z"
    }
   }
  },
  {
   "cell_type": "markdown",
   "source": [
    "### If best N epochs = 1, then train for 1 epoch to visualize the training process"
   ],
   "metadata": {
    "collapsed": false
   }
  },
  {
   "cell_type": "code",
   "execution_count": 54,
   "outputs": [],
   "source": [
    "# Train for 1 epoch to visualize the training process\n",
    "\n",
    "def train_for_one_epoch(model, train_loader, val_loader, optimizer, device):\n",
    "    model.train()\n",
    "    total_train_loss = 0\n",
    "\n",
    "    for batch_idx, batch in enumerate(train_loader):\n",
    "        input_ids = batch['input_ids'].to(device)\n",
    "        attention_mask = batch['attention_mask'].to(device)\n",
    "        labels = batch['labels'].to(device)\n",
    "\n",
    "        optimizer.zero_grad()\n",
    "        outputs = model(input_ids, attention_mask=attention_mask, labels=labels)\n",
    "        loss = outputs.loss\n",
    "        loss.backward()\n",
    "        optimizer.step()\n",
    "\n",
    "        total_train_loss += loss.item()\n",
    "        if (batch_idx + 1) % 10 == 0:  # Log every 10 batches\n",
    "            print(f'Batch {batch_idx + 1}, Loss: {loss.item()}')\n",
    "\n",
    "    avg_train_loss = total_train_loss / len(train_loader)\n",
    "\n",
    "    # Validation phase\n",
    "    model.eval()\n",
    "    total_val_loss = 0\n",
    "    with torch.no_grad():\n",
    "        for batch in val_loader:\n",
    "            input_ids = batch['input_ids'].to(device)\n",
    "            attention_mask = batch['attention_mask'].to(device)\n",
    "            labels = batch['labels'].to(device)\n",
    "\n",
    "            outputs = model(input_ids, attention_mask=attention_mask, labels=labels)\n",
    "            loss = outputs.loss\n",
    "            total_val_loss += loss.item()\n",
    "\n",
    "    avg_val_loss = total_val_loss / len(val_loader)\n",
    "    \n",
    "    print('Training for 1 Epoch:')\n",
    "    print(f'- Average Training Loss: {avg_train_loss}')\n",
    "    print(f'- Validation Loss: {avg_val_loss}')"
   ],
   "metadata": {
    "collapsed": false,
    "ExecuteTime": {
     "start_time": "2024-04-28T00:50:51.376853Z"
    }
   }
  },
  {
   "cell_type": "code",
   "execution_count": 55,
   "outputs": [
    {
     "name": "stdout",
     "output_type": "stream",
     "text": [
      "Training for 1 Epoch:\n",
      "- Average Training Loss: 6.456393718719482\n",
      "- Validation Loss: 6.381645679473877\n"
     ]
    }
   ],
   "source": [
    "best_batch_size = int(best_params['batch_size'])\n",
    "train_loader_1E, val_loader_1E = create_data_loaders(recipes, best_batch_size, tokenizer, max_length=512)\n",
    "\n",
    "optimizer = torch.optim.AdamW(model_optim.parameters(), lr=best_params['learning_rate'], weight_decay=best_params['weight_decay'])\n",
    "train_for_one_epoch(model, train_loader_1E, val_loader_1E, optimizer, device)"
   ],
   "metadata": {
    "collapsed": false,
    "ExecuteTime": {
     "start_time": "2024-04-28T00:50:52.557360Z"
    }
   }
  },
  {
   "cell_type": "code",
   "execution_count": 57,
   "outputs": [
    {
     "name": "stderr",
     "output_type": "stream",
     "text": [
      "[nltk_data] Downloading package punkt to /Users/nc/nltk_data...\n",
      "[nltk_data]   Package punkt is already up-to-date!\n",
      "Setting `pad_token_id` to `eos_token_id`:50256 for open-end generation.\n",
      "/Applications/anaconda3/envs/p2r/lib/python3.8/site-packages/transformers/generation/utils.py:1133: UserWarning: Using the model-agnostic default `max_length` (=20) to control the generation length. We recommend setting `max_new_tokens` to control the maximum length of the generation.\n",
      "  warnings.warn(\n",
      "/Applications/anaconda3/envs/p2r/lib/python3.8/site-packages/transformers/generation/utils.py:1141: UserWarning: Input length of input_ids is 512, but `max_length` is set to 20. This can lead to unexpected behavior. You should consider increasing `max_new_tokens`.\n",
      "  warnings.warn(\n"
     ]
    },
    {
     "name": "stdout",
     "output_type": "stream",
     "text": [
      "{'perplexity': 32.51880950736368, 'bleu': 1.0}\n"
     ]
    }
   ],
   "source": [
    "import torch\n",
    "from transformers import GPT2LMHeadModel, GPT2Tokenizer\n",
    "from nltk.translate.bleu_score import corpus_bleu\n",
    "from nltk.translate.bleu_score import SmoothingFunction\n",
    "import nltk\n",
    "import numpy as np\n",
    "\n",
    "# Ensure that NLTK resources are downloaded\n",
    "# nltk.download('punkt')\n",
    "\n",
    "def calculate_bleu(references, hypotheses):\n",
    "    \"\"\"\n",
    "    Calculate BLEU score between actual and predicted sentences.\n",
    "    \"\"\"\n",
    "    smoothie = SmoothingFunction().method4\n",
    "    return corpus_bleu([[ref.split()] for ref in references], [hyp.split() for hyp in hypotheses], smoothing_function=smoothie)\n",
    "\n",
    "\n",
    "def evaluate_model(model, tokenizer, device, val_loader):\n",
    "    \"\"\"\n",
    "    Evaluate the model on the validation set after one epoch of training.\n",
    "    \"\"\"\n",
    "    model.eval()\n",
    "    hypotheses = []\n",
    "    references = []\n",
    "    total_loss = 0\n",
    "\n",
    "    with torch.no_grad():\n",
    "        for batch in val_loader:\n",
    "            input_ids = batch['input_ids'].to(device)\n",
    "            attention_mask = batch['attention_mask'].to(device)\n",
    "            labels = batch['labels'].to(device)\n",
    "            \n",
    "            outputs = model(input_ids, attention_mask=attention_mask, labels=labels)\n",
    "            loss = outputs.loss\n",
    "            total_loss += loss.item()\n",
    "            \n",
    "            # Generate text from input ids\n",
    "            generated_ids = model.generate(input_ids, attention_mask=attention_mask)\n",
    "            generated_text = [tokenizer.decode(g_id, skip_special_tokens=True) for g_id in generated_ids]\n",
    "            actual_text = [tokenizer.decode(a_id, skip_special_tokens=True) for a_id in labels]\n",
    "            \n",
    "            hypotheses.extend(generated_text)\n",
    "            references.extend(actual_text)\n",
    "\n",
    "    # Calculate Perplexity \n",
    "    perplexity = np.exp(total_loss / len(val_loader))\n",
    "    \n",
    "    # Calculate BLEU score\n",
    "    bleu_score = calculate_bleu(references, hypotheses)\n",
    "    \n",
    "    return {\n",
    "        'perplexity': perplexity,\n",
    "        'bleu': bleu_score,\n",
    "    }\n",
    "\n",
    "\n",
    "results = evaluate_model(model_optim, tokenizer, device, val_loader_1E)\n",
    "print(results)"
   ],
   "metadata": {
    "collapsed": false,
    "ExecuteTime": {
     "end_time": "2024-04-28T01:02:13.048383Z",
     "start_time": "2024-04-28T01:02:10.118526Z"
    }
   }
  },
  {
   "cell_type": "code",
   "execution_count": null,
   "outputs": [],
   "source": [],
   "metadata": {
    "collapsed": false
   }
  },
  {
   "cell_type": "markdown",
   "source": [
    "## Pre-trained GPT-2 Model"
   ],
   "metadata": {
    "collapsed": false
   }
  },
  {
   "cell_type": "code",
   "execution_count": 45,
   "outputs": [
    {
     "data": {
      "text/plain": "GPT2LMHeadModel(\n  (transformer): GPT2Model(\n    (wte): Embedding(50257, 768)\n    (wpe): Embedding(1024, 768)\n    (drop): Dropout(p=0.1, inplace=False)\n    (h): ModuleList(\n      (0-11): 12 x GPT2Block(\n        (ln_1): LayerNorm((768,), eps=1e-05, elementwise_affine=True)\n        (attn): GPT2Attention(\n          (c_attn): Conv1D()\n          (c_proj): Conv1D()\n          (attn_dropout): Dropout(p=0.1, inplace=False)\n          (resid_dropout): Dropout(p=0.1, inplace=False)\n        )\n        (ln_2): LayerNorm((768,), eps=1e-05, elementwise_affine=True)\n        (mlp): GPT2MLP(\n          (c_fc): Conv1D()\n          (c_proj): Conv1D()\n          (act): NewGELUActivation()\n          (dropout): Dropout(p=0.1, inplace=False)\n        )\n      )\n    )\n    (ln_f): LayerNorm((768,), eps=1e-05, elementwise_affine=True)\n  )\n  (lm_head): Linear(in_features=768, out_features=50257, bias=False)\n)"
     },
     "execution_count": 45,
     "metadata": {},
     "output_type": "execute_result"
    }
   ],
   "source": [
    "# Load the GPT-2 model and tokenizer\n",
    "# model = GPT2LMHeadModel.from_pretrained('gpt2')\n",
    "# tokenizer = GPT2Tokenizer.from_pretrained('gpt2')\n",
    "model, tokenizer = load_model('gpt2')\n",
    "tokenizer.pad_token = tokenizer.eos_token\n",
    "model.to(device)"
   ],
   "metadata": {
    "collapsed": false,
    "ExecuteTime": {
     "end_time": "2024-04-28T19:33:25.611695Z",
     "start_time": "2024-04-28T19:33:20.023048Z"
    }
   }
  },
  {
   "cell_type": "code",
   "execution_count": 46,
   "outputs": [
    {
     "name": "stdout",
     "output_type": "stream",
     "text": [
      "Training optimized model...\n",
      "Epoch 1/10 | Train Loss: 1.666 | Train PPL: 5.290 | Val Loss: 4.587 | Val PPL: 98.195\n",
      "Epoch 2/10 | Train Loss: 1.193 | Train PPL: 3.296 | Val Loss: 3.174 | Val PPL: 23.900\n",
      "Epoch 3/10 | Train Loss: 0.885 | Train PPL: 2.423 | Val Loss: 2.486 | Val PPL: 12.009\n",
      "Epoch 4/10 | Train Loss: 0.734 | Train PPL: 2.084 | Val Loss: 2.283 | Val PPL: 9.802\n",
      "Epoch 5/10 | Train Loss: 0.687 | Train PPL: 1.987 | Val Loss: 2.223 | Val PPL: 9.239\n",
      "Epoch 6/10 | Train Loss: 0.668 | Train PPL: 1.950 | Val Loss: 2.177 | Val PPL: 8.819\n",
      "Epoch 7/10 | Train Loss: 0.653 | Train PPL: 1.922 | Val Loss: 2.121 | Val PPL: 8.340\n",
      "Epoch 8/10 | Train Loss: 0.638 | Train PPL: 1.892 | Val Loss: 2.057 | Val PPL: 7.819\n",
      "Epoch 9/10 | Train Loss: 0.621 | Train PPL: 1.861 | Val Loss: 1.991 | Val PPL: 7.320\n",
      "Epoch 10/10 | Train Loss: 0.605 | Train PPL: 1.832 | Val Loss: 1.928 | Val PPL: 6.877\n"
     ]
    }
   ],
   "source": [
    "batch_size = 4\n",
    "train_loader, val_loader = create_data_loaders(recipes, batch_size, tokenizer, max_length=512)\n",
    "\n",
    "training_losses, validation_losses, training_perplexities, validation_perplexities, model = train_and_validate(model, device, train_loader, val_loader)"
   ],
   "metadata": {
    "collapsed": false,
    "ExecuteTime": {
     "end_time": "2024-04-28T19:34:44.297927Z",
     "start_time": "2024-04-28T19:33:33.973164Z"
    }
   }
  },
  {
   "cell_type": "code",
   "execution_count": 47,
   "outputs": [
    {
     "data": {
      "text/plain": "<Figure size 1200x600 with 2 Axes>",
      "image/png": "[encoded data removed]"
     },
     "metadata": {},
     "output_type": "display_data"
    }
   ],
   "source": [
    "plot_validation_curves(training_losses, validation_losses, training_perplexities, validation_perplexities)"
   ],
   "metadata": {
    "collapsed": false,
    "ExecuteTime": {
     "end_time": "2024-04-28T19:35:06.287674Z",
     "start_time": "2024-04-28T19:35:06.089802Z"
    }
   }
  },
  {
   "cell_type": "markdown",
   "source": [
    "#### Example: Using pretrained GPT-2 with Cosine Similarity for Recipe Generation"
   ],
   "metadata": {
    "collapsed": false
   }
  },
  {
   "cell_type": "code",
   "execution_count": 48,
   "outputs": [
    {
     "name": "stdout",
     "output_type": "stream",
     "text": [
      "Recipe Title: Irish Cream\n",
      "\n",
      "Ingredients:\n",
      "- 3 eggs\n",
      "- 1 12 cups heavy cream\n",
      "- 1 (11 ounce) can sweetened condensed milk\n",
      "- 1 tablespoon chocolate syrup\n",
      "- 14 teaspoon coconut extract\n",
      "- 1 cup of cheap whiskey\n",
      "Directions:\n",
      "Step 1: Place each ingredient in a blender and mix briefly after each one.\n",
      "Step 2: After adding the whiskey, blend for about 3 minutes\n",
      "Step 3: Shake well before serving.\n"
     ]
    }
   ],
   "source": [
    "recipe_text = generate_recipe_text(user_ingredients, recipes, tfidf_vectorizer, tfidf_matrix, model, tokenizer)\n",
    "print(recipe_text)"
   ],
   "metadata": {
    "collapsed": false,
    "ExecuteTime": {
     "end_time": "2024-04-28T19:35:16.151514Z",
     "start_time": "2024-04-28T19:35:13.986044Z"
    }
   }
  },
  {
   "cell_type": "code",
   "execution_count": null,
   "outputs": [],
   "source": [],
   "metadata": {
    "collapsed": false
   }
  }
 ],
 "metadata": {
  "kernelspec": {
   "name": "conda-env-p2r-py",
   "language": "python",
   "display_name": "Python [conda env:p2r] *"
  },
  "language_info": {
   "codemirror_mode": {
    "name": "ipython",
    "version": 3
   },
   "file_extension": ".py",
   "mimetype": "text/x-python",
   "name": "python",
   "nbconvert_exporter": "python",
   "pygments_lexer": "ipython3",
   "version": "3.8.19"
  }
 },
 "nbformat": 4,
 "nbformat_minor": 2
}
