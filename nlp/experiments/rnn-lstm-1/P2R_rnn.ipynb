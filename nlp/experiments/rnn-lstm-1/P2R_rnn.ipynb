{
 "cells": [
  {
   "cell_type": "code",
   "execution_count": 1,
   "outputs": [],
   "source": [
    "from nlp.recipes_utils import *\n",
    "import sys\n",
    "import os\n",
    "import ast\n",
    "import random\n",
    "import pandas as pd\n",
    "import numpy as np\n",
    "import pickle\n",
    "\n",
    "from matplotlib import pyplot as plt\n",
    "import tensorflow as tf\n",
    "\n",
    "from sklearn.feature_extraction.text import TfidfVectorizer\n",
    "from sklearn.model_selection import train_test_split\n",
    "from sklearn.metrics.pairwise import cosine_similarity\n",
    "\n",
    "import torch\n",
    "\n",
    "# !pip install bayesian-optimization\n",
    "from bayes_opt import BayesianOptimization"
   ],
   "metadata": {
    "collapsed": false,
    "ExecuteTime": {
     "end_time": "2024-04-30T05:12:58.557425Z",
     "start_time": "2024-04-30T05:12:56.942688Z"
    }
   },
   "id": "777c63fe724d0fe5"
  },
  {
   "cell_type": "code",
   "execution_count": 2,
   "id": "initial_id",
   "metadata": {
    "collapsed": true,
    "ExecuteTime": {
     "end_time": "2024-04-30T05:03:28.762767Z",
     "start_time": "2024-04-30T05:03:28.760559Z"
    }
   },
   "outputs": [
    {
     "name": "stdout",
     "output_type": "stream",
     "text": [
      "Python version:  3.8.19 (default, Mar 20 2024, 15:27:52) \n",
      "[Clang 14.0.6 ]\n",
      "sys.version_info(major=3, minor=8, micro=19, releaselevel='final', serial=0)\n"
     ]
    }
   ],
   "source": [
    "print(\"Python version: \", sys.version)\n",
    "print(sys.version_info)"
   ]
  },
  {
   "cell_type": "code",
   "execution_count": null,
   "outputs": [],
   "source": [
    "device = set_device()  # Set device to maximize performance"
   ],
   "metadata": {
    "collapsed": false
   },
   "id": "ecc9a6b47f73c310"
  },
  {
   "cell_type": "code",
   "execution_count": null,
   "outputs": [],
   "source": [
    "clear_memory(device)  # Clear unused memory"
   ],
   "metadata": {
    "collapsed": false
   },
   "id": "2b908ad6a3385274"
  },
  {
   "cell_type": "code",
   "execution_count": 2,
   "outputs": [
    {
     "name": "stdout",
     "output_type": "stream",
     "text": [
      "Traceback (most recent call last):\r\n",
      "  File \"<string>\", line 1, in <module>\r\n",
      "  File \"/Users/nc/Library/CloudStorage/OneDrive-Personal/gt/DL/final_project_p2r/nlp/recipes_utils.py\", line 156, in split_and_save_recipe_datasets\r\n",
      "    recipes = process_recipe_data(recipes, MAX_TEXT_LENGTH=500, filter=True)\r\n",
      "  File \"/Users/nc/Library/CloudStorage/OneDrive-Personal/gt/DL/final_project_p2r/nlp/recipes_utils.py\", line 138, in process_recipe_data\r\n",
      "    recipe = filter_by_text_length(recipe, 'combined', MAX_TEXT_LENGTH)\r\n",
      "  File \"/Users/nc/Library/CloudStorage/OneDrive-Personal/gt/DL/final_project_p2r/nlp/recipes_utils.py\", line 126, in filter_by_text_length\r\n",
      "    data_filtered = data[data[column].apply(len) <= MAX_TEXT_LENGTH]\r\n",
      "  File \"/Applications/anaconda3/envs/p2r/lib/python3.8/site-packages/pandas/core/series.py\", line 4630, in apply\r\n",
      "    return SeriesApply(self, func, convert_dtype, args, kwargs).apply()\r\n",
      "  File \"/Applications/anaconda3/envs/p2r/lib/python3.8/site-packages/pandas/core/apply.py\", line 1025, in apply\r\n",
      "    return self.apply_standard()\r\n",
      "  File \"/Applications/anaconda3/envs/p2r/lib/python3.8/site-packages/pandas/core/apply.py\", line 1076, in apply_standard\r\n",
      "    mapped = lib.map_infer(\r\n",
      "  File \"pandas/_libs/lib.pyx\", line 2834, in pandas._libs.lib.map_infer\r\n",
      "TypeError: object of type 'float' has no len()\r\n"
     ]
    }
   ],
   "source": [
    "# make sure ./data/recipes.pickle exists\n",
    "!python -c 'from recipes_utils import *; split_and_save_recipe_datasets(preprocess=True)'"
   ],
   "metadata": {
    "collapsed": false,
    "ExecuteTime": {
     "end_time": "2024-04-30T05:13:54.115692Z",
     "start_time": "2024-04-30T05:13:03.267296Z"
    }
   },
   "id": "239f355a71d174e6"
  },
  {
   "cell_type": "code",
   "execution_count": 111,
   "outputs": [],
   "source": [
    "# RECIPE DATASET PROCESSING\n",
    "DIR_DATA_PATH = '../data/recipes'\n",
    "FULL_RECIPES_PATH = f'{DIR_DATA_PATH}/full_dataset.csv'\n",
    "FULL_RECIPES_PICKLE_PATH = f'../data/recipes.pickle'\n",
    "TRAIN_PICKLE_PATH = f'{DIR_DATA_PATH}/train.pickle'\n",
    "VAL_PICKLE_PATH = f'{DIR_DATA_PATH}/val.pickle'\n",
    "TEST_PICKLE_PATH = f'{DIR_DATA_PATH}/test.pickle'\n",
    "\n",
    "KEEP_COLUMNS = ['title', 'ingredients', 'directions', 'NER']\n",
    "\n",
    "# Special markers to separate the recipe components\n",
    "MARKER_TITLE = '<t>'\n",
    "MARKER_INGREDIENTS = '<i>'\n",
    "MARKER_DIRECTIONS = '<d>'\n",
    "MARKER_STOP = '_'\n",
    "MAX_TEXT_LENGTH = 500"
   ],
   "metadata": {
    "collapsed": false,
    "ExecuteTime": {
     "end_time": "2024-04-30T07:30:05.234915Z",
     "start_time": "2024-04-30T07:30:05.215843Z"
    }
   },
   "id": "948e0f1b7975e22a"
  },
  {
   "cell_type": "code",
   "execution_count": 5,
   "outputs": [],
   "source": [
    "full_dataset = load_pickle(FULL_RECIPES_PICKLE_PATH, columns=KEEP_COLUMNS)"
   ],
   "metadata": {
    "collapsed": false,
    "ExecuteTime": {
     "end_time": "2024-04-30T05:25:26.163579Z",
     "start_time": "2024-04-30T05:25:24.606586Z"
    }
   },
   "id": "12142ec8c8c5e09f"
  },
  {
   "cell_type": "code",
   "execution_count": 29,
   "outputs": [
    {
     "name": "stdout",
     "output_type": "stream",
     "text": [
      "<class 'pandas.core.frame.DataFrame'>\n",
      "Index: 2231141 entries, 0 to 2231141\n",
      "Data columns (total 4 columns):\n",
      " #   Column       Dtype \n",
      "---  ------       ----- \n",
      " 0   title        object\n",
      " 1   ingredients  object\n",
      " 2   directions   object\n",
      " 3   NER          object\n",
      "dtypes: object(4)\n",
      "memory usage: 85.1+ MB\n"
     ]
    }
   ],
   "source": [
    "# recipes = process_recipe_data(full_dataset)\n",
    "full_dataset = full_dataset.dropna()\n",
    "full_dataset.info()"
   ],
   "metadata": {
    "collapsed": false,
    "ExecuteTime": {
     "end_time": "2024-04-30T05:56:16.029943Z",
     "start_time": "2024-04-30T05:56:15.872663Z"
    }
   },
   "id": "cb7eb99a1e7c1879"
  },
  {
   "cell_type": "code",
   "execution_count": 114,
   "outputs": [],
   "source": [
    "def transform_list_to_string(list_str, as_list=True):\n",
    "    # Parse the string as a list\n",
    "    parsed_list = ast.literal_eval(list_str)\n",
    "    # Format as a bulleted list or join with semicolons based on the flag\n",
    "    if as_list:\n",
    "        return \"\\n\".join(f\"- {item}\" for item in parsed_list)\n",
    "    else:\n",
    "        return \" \".join(parsed_list)\n",
    "\n",
    "\n",
    "def recipe_to_str(data):\n",
    "    # Apply the transformation to ingredients and directions with list formatting\n",
    "    data['ingredients_string'] = data['ingredients'].apply(lambda x: transform_list_to_string(x, as_list=True))\n",
    "    data['directions_string'] = data['directions'].apply(lambda x: transform_list_to_string(x, as_list=False))\n",
    "\n",
    "    # Create a new column by concatenating title, ingredients, and directions with specific markers\n",
    "    data['combined'] = (MARKER_TITLE + \"Recipe: \" + data['title'] + \"\\n\\n\" +\n",
    "                        MARKER_INGREDIENTS + \"Ingredients:\\n\" + data['ingredients_string'] + \"\\n\\n\" +\n",
    "                        MARKER_DIRECTIONS + \"Directions: \" + data['directions_string'])\n",
    "\n",
    "    # Drop intermediate columns used for processing\n",
    "    data.drop(['ingredients_string', 'directions_string'], axis=1, inplace=True)\n",
    "\n",
    "    return data"
   ],
   "metadata": {
    "collapsed": false,
    "ExecuteTime": {
     "end_time": "2024-04-30T07:32:20.102371Z",
     "start_time": "2024-04-30T07:32:20.082990Z"
    }
   },
   "id": "29722806d628949"
  },
  {
   "cell_type": "code",
   "execution_count": 115,
   "outputs": [
    {
     "data": {
      "text/plain": "                   title                                        ingredients  \\\n0    No-Bake Nut Cookies  [\"1 c. firmly packed brown sugar\", \"1/2 c. eva...   \n1  Jewell Ball'S Chicken  [\"1 small jar chipped beef, cut up\", \"4 boned ...   \n2            Creamy Corn  [\"2 (16 oz.) pkg. frozen corn\", \"1 (8 oz.) pkg...   \n3          Chicken Funny  [\"1 large whole chicken\", \"2 (10 1/2 oz.) cans...   \n4   Reeses Cups(Candy)    [\"1 c. peanut butter\", \"3/4 c. graham cracker ...   \n\n                                          directions  \\\n0  [\"In a heavy 2-quart saucepan, mix brown sugar...   \n1  [\"Place chipped beef on bottom of baking dish....   \n2  [\"In a slow cooker, combine all ingredients. C...   \n3  [\"Boil and debone chicken.\", \"Put bite size pi...   \n4  [\"Combine first four ingredients and press in ...   \n\n                                                 NER  \\\n0  [\"brown sugar\", \"milk\", \"vanilla\", \"nuts\", \"bu...   \n1  [\"beef\", \"chicken breasts\", \"cream of mushroom...   \n2  [\"frozen corn\", \"cream cheese\", \"butter\", \"gar...   \n3  [\"chicken\", \"chicken gravy\", \"cream of mushroo...   \n4  [\"peanut butter\", \"graham cracker crumbs\", \"bu...   \n\n                                            combined  \n0  <t>Recipe: No-Bake Nut Cookies\\n\\n<i>Ingredien...  \n1  <t>Recipe: Jewell Ball'S Chicken\\n\\n<i>Ingredi...  \n2  <t>Recipe: Creamy Corn\\n\\n<i>Ingredients:\\n- 2...  \n3  <t>Recipe: Chicken Funny\\n\\n<i>Ingredients:\\n-...  \n4  <t>Recipe: Reeses Cups(Candy)  \\n\\n<i>Ingredie...  ",
      "text/html": "<div>\n<style scoped>\n    .dataframe tbody tr th:only-of-type {\n        vertical-align: middle;\n    }\n\n    .dataframe tbody tr th {\n        vertical-align: top;\n    }\n\n    .dataframe thead th {\n        text-align: right;\n    }\n</style>\n<table border=\"1\" class=\"dataframe\">\n  <thead>\n    <tr style=\"text-align: right;\">\n      <th></th>\n      <th>title</th>\n      <th>ingredients</th>\n      <th>directions</th>\n      <th>NER</th>\n      <th>combined</th>\n    </tr>\n  </thead>\n  <tbody>\n    <tr>\n      <th>0</th>\n      <td>No-Bake Nut Cookies</td>\n      <td>[\"1 c. firmly packed brown sugar\", \"1/2 c. eva...</td>\n      <td>[\"In a heavy 2-quart saucepan, mix brown sugar...</td>\n      <td>[\"brown sugar\", \"milk\", \"vanilla\", \"nuts\", \"bu...</td>\n      <td>&lt;t&gt;Recipe: No-Bake Nut Cookies\\n\\n&lt;i&gt;Ingredien...</td>\n    </tr>\n    <tr>\n      <th>1</th>\n      <td>Jewell Ball'S Chicken</td>\n      <td>[\"1 small jar chipped beef, cut up\", \"4 boned ...</td>\n      <td>[\"Place chipped beef on bottom of baking dish....</td>\n      <td>[\"beef\", \"chicken breasts\", \"cream of mushroom...</td>\n      <td>&lt;t&gt;Recipe: Jewell Ball'S Chicken\\n\\n&lt;i&gt;Ingredi...</td>\n    </tr>\n    <tr>\n      <th>2</th>\n      <td>Creamy Corn</td>\n      <td>[\"2 (16 oz.) pkg. frozen corn\", \"1 (8 oz.) pkg...</td>\n      <td>[\"In a slow cooker, combine all ingredients. C...</td>\n      <td>[\"frozen corn\", \"cream cheese\", \"butter\", \"gar...</td>\n      <td>&lt;t&gt;Recipe: Creamy Corn\\n\\n&lt;i&gt;Ingredients:\\n- 2...</td>\n    </tr>\n    <tr>\n      <th>3</th>\n      <td>Chicken Funny</td>\n      <td>[\"1 large whole chicken\", \"2 (10 1/2 oz.) cans...</td>\n      <td>[\"Boil and debone chicken.\", \"Put bite size pi...</td>\n      <td>[\"chicken\", \"chicken gravy\", \"cream of mushroo...</td>\n      <td>&lt;t&gt;Recipe: Chicken Funny\\n\\n&lt;i&gt;Ingredients:\\n-...</td>\n    </tr>\n    <tr>\n      <th>4</th>\n      <td>Reeses Cups(Candy)</td>\n      <td>[\"1 c. peanut butter\", \"3/4 c. graham cracker ...</td>\n      <td>[\"Combine first four ingredients and press in ...</td>\n      <td>[\"peanut butter\", \"graham cracker crumbs\", \"bu...</td>\n      <td>&lt;t&gt;Recipe: Reeses Cups(Candy)  \\n\\n&lt;i&gt;Ingredie...</td>\n    </tr>\n  </tbody>\n</table>\n</div>"
     },
     "execution_count": 115,
     "metadata": {},
     "output_type": "execute_result"
    }
   ],
   "source": [
    "recipes = full_dataset[KEEP_COLUMNS]\n",
    "recipes = recipe_to_str(recipes)\n",
    "recipes.head()"
   ],
   "metadata": {
    "collapsed": false,
    "ExecuteTime": {
     "end_time": "2024-04-30T07:33:15.121540Z",
     "start_time": "2024-04-30T07:32:25.331571Z"
    }
   },
   "id": "2a2e1f7ec2506049"
  },
  {
   "cell_type": "code",
   "execution_count": 116,
   "outputs": [
    {
     "name": "stdout",
     "output_type": "stream",
     "text": [
      "<t>Recipe: No-Bake Nut Cookies\n",
      "\n",
      "<i>Ingredients:\n",
      "- 1 c. firmly packed brown sugar\n",
      "- 1/2 c. evaporated milk\n",
      "- 1/2 tsp. vanilla\n",
      "- 1/2 c. broken nuts (pecans)\n",
      "- 2 Tbsp. butter or margarine\n",
      "- 3 1/2 c. bite size shredded rice biscuits\n",
      "\n",
      "<d>Directions: In a heavy 2-quart saucepan, mix brown sugar, nuts, evaporated milk and butter or margarine. Stir over medium heat until mixture bubbles all over top. Boil and stir 5 minutes more. Take off heat. Stir in vanilla and cereal; mix well. Using 2 teaspoons, drop and shape into 30 clusters on wax paper. Let stand until firm, about 30 minutes.\n"
     ]
    }
   ],
   "source": [
    "# Sample Recipe as string\n",
    "print(recipes['combined'][0])"
   ],
   "metadata": {
    "collapsed": false,
    "ExecuteTime": {
     "end_time": "2024-04-30T07:37:06.262796Z",
     "start_time": "2024-04-30T07:37:06.249909Z"
    }
   },
   "id": "88e68a9c8f31230a"
  },
  {
   "cell_type": "code",
   "execution_count": 117,
   "outputs": [
    {
     "data": {
      "text/plain": "<Figure size 640x480 with 1 Axes>",
      "image/png": "[encoded data removed]"
     },
     "metadata": {},
     "output_type": "display_data"
    }
   ],
   "source": [
    "# Check which recipe length is best for sequence length limit\n",
    "recipe_lengths = [len(recipe_text) for recipe_text in recipes[\"combined\"]]\n",
    "plt.hist(recipe_lengths, bins=50)\n",
    "plt.show()"
   ],
   "metadata": {
    "collapsed": false,
    "ExecuteTime": {
     "end_time": "2024-04-30T07:37:10.345663Z",
     "start_time": "2024-04-30T07:37:07.692014Z"
    }
   },
   "id": "eab78cab644a2058"
  },
  {
   "cell_type": "code",
   "execution_count": 118,
   "outputs": [
    {
     "name": "stdout",
     "output_type": "stream",
     "text": [
      "Before filtering:  2231141\n",
      "After filtering:  736028\n"
     ]
    }
   ],
   "source": [
    "# Filter data based on the maximum text length for specified column. We keep those with MAX_TEXT_LENGTH\n",
    "recipes_filtered = recipes[recipes['combined'].apply(len) <= MAX_TEXT_LENGTH]\n",
    "print(\"Before filtering: \", len(full_dataset))\n",
    "print(\"After filtering: \", len(recipes_filtered))"
   ],
   "metadata": {
    "collapsed": false,
    "ExecuteTime": {
     "end_time": "2024-04-30T07:37:16.007136Z",
     "start_time": "2024-04-30T07:37:15.146140Z"
    }
   },
   "id": "1d7b57145d68b553"
  },
  {
   "cell_type": "code",
   "execution_count": 119,
   "outputs": [],
   "source": [
    "##################################################################################################################\n",
    "# RUN if ./data/recipes/ does not exist \n",
    "##################################################################################################################\n",
    "# Split the dataset into train, val and split\n",
    "# train_dataset, val_dataset, test_dataset = split_data(recipes, train_size=0.7, val_size=0.15, test_size=0.15)\n",
    "# \n",
    "# # Save the datasets to files\n",
    "# if not os.path.exists(DIR_DATA_PATH):\n",
    "#     os.makedirs(DIR_DATA_PATH)\n",
    "# \n",
    "# save_pickle(train_dataset, TRAIN_PICKLE_PATH)\n",
    "# save_pickle(val_dataset, VAL_PICKLE_PATH)\n",
    "# save_pickle(test_dataset, TEST_PICKLE_PATH)\n",
    "# save_pickle(recipes_filtered, DIR_DATA_PATH + '/recipes_processed.pickle')\n",
    "# \n",
    "##################################################################################################################"
   ],
   "metadata": {
    "collapsed": false,
    "ExecuteTime": {
     "end_time": "2024-04-30T07:37:53.800037Z",
     "start_time": "2024-04-30T07:37:48.718996Z"
    }
   },
   "id": "7251e3bcde043333"
  },
  {
   "cell_type": "code",
   "execution_count": 130,
   "outputs": [
    {
     "name": "stdout",
     "output_type": "stream",
     "text": [
      "MAX_RECIPE_LENGTH: 500\n",
      "TOTAL RECIPES: 222\n",
      "- Train: 156 \n",
      "- Val: 33 \n",
      "- Test: 33\n"
     ]
    }
   ],
   "source": [
    "# Load only a % of entries\n",
    "# Note: 0.001 approx. 1500+ entries; 0.0001% = 155/33/33; 0.00005% = 78/16/16\n",
    "\n",
    "keep_pct = 0.0001\n",
    "# train, val, test = load_splits(TRAIN_PICKLE_PATH, VAL_PICKLE_PATH, TEST_PICKLE_PATH, keep_pct=pct) \n",
    "\n",
    "train = load_pickle(TRAIN_PICKLE_PATH)\n",
    "val = load_pickle(VAL_PICKLE_PATH)\n",
    "test = load_pickle(TEST_PICKLE_PATH)\n",
    "\n",
    "train = train.sample(frac=keep_pct, random_state=42)\n",
    "val = val.sample(frac=keep_pct, random_state=42)\n",
    "test = test.sample(frac=keep_pct, random_state=42)\n",
    "\n",
    "print(f'MAX_RECIPE_LENGTH: {MAX_TEXT_LENGTH}')\n",
    "print(f'TOTAL RECIPES: {len(train) + len(val) + len(test)}')\n",
    "print(f\"- Train: {len(train)} \\n\"\n",
    "      f\"- Val: {len(val)} \\n\"\n",
    "      f\"- Test: {len(test)}\")"
   ],
   "metadata": {
    "collapsed": false,
    "ExecuteTime": {
     "end_time": "2024-04-30T07:41:58.273446Z",
     "start_time": "2024-04-30T07:41:55.045266Z"
    }
   },
   "id": "d68c645cc395c6b9"
  },
  {
   "cell_type": "code",
   "execution_count": 131,
   "outputs": [],
   "source": [
    "# only keep column with recipe texts\n",
    "train = train[\"combined\"]\n",
    "val = val['combined']\n",
    "test = test['combined']"
   ],
   "metadata": {
    "collapsed": false,
    "ExecuteTime": {
     "end_time": "2024-04-30T07:42:08.367069Z",
     "start_time": "2024-04-30T07:42:08.357664Z"
    }
   },
   "id": "356ff65cd37b263"
  },
  {
   "cell_type": "markdown",
   "source": [
    "https://www.tensorflow.org/text/tutorials/text_generation"
   ],
   "metadata": {
    "collapsed": false
   },
   "id": "5871d02daad5bc2b"
  },
  {
   "cell_type": "markdown",
   "source": [
    "## TOKEN"
   ],
   "metadata": {
    "collapsed": false
   },
   "id": "b20a605376b8b6f6"
  },
  {
   "cell_type": "code",
   "execution_count": 132,
   "outputs": [
    {
     "data": {
      "text/plain": "{'num_words': None,\n 'filters': '',\n 'lower': False,\n 'split': '',\n 'char_level': True,\n 'oov_token': None,\n 'document_count': 157,\n 'word_counts': '{\"_\": 1, \"<\": 468, \"t\": 4970, \">\": 468, \"R\": 239, \"e\": 8297, \"c\": 3064, \"i\": 5153, \"p\": 2444, \":\": 484, \" \": 15378, \"C\": 309, \"r\": 4618, \"a\": 5122, \"n\": 5038, \"b\": 1221, \"y\": 554, \"l\": 3237, \"s\": 4235, \"h\": 2061, \"\\\\n\": 1827, \"I\": 241, \"g\": 1899, \"d\": 3039, \"-\": 1371, \"1\": 1116, \"o\": 5170, \"2\": 596, \"u\": 2206, \"/\": 444, \".\": 1652, \"x\": 247, \"w\": 790, \"J\": 17, \"O\": 27, \"k\": 860, \"(\": 187, \")\": 188, \"D\": 223, \"W\": 51, \",\": 786, \"P\": 191, \"G\": 39, \"m\": 1547, \"A\": 185, \"f\": 887, \"S\": 280, \"4\": 261, \"3\": 290, \"v\": 603, \"T\": 143, \";\": 84, \"M\": 137, \"B\": 177, \"0\": 164, \"Y\": 10, \"\\'\": 25, \"F\": 88, \"q\": 69, \"j\": 125, \"6\": 76, \"z\": 149, \"H\": 41, \"N\": 8, \"5\": 147, \"\\\\u00b0\": 50, \"7\": 18, \"[\": 4, \"]\": 4, \"K\": 12, \"L\": 56, \"&\": 13, \"U\": 10, \"8\": 74, \"9\": 29, \"Q\": 5, \"E\": 26, \"V\": 17, \"!\": 6, \"Z\": 3, \"\\\\\"\": 10, \"#\": 3, \"%\": 7, \"\\\\u2019\": 1, \"\\\\t\": 6}',\n 'word_docs': '{\"_\": 1, \"i\": 156, \")\": 93, \"t\": 156, \"y\": 135, \"e\": 156, \"C\": 135, \"g\": 156, \".\": 155, \"k\": 150, \" \": 156, \"P\": 99, \"W\": 40, \"d\": 156, \"s\": 156, \",\": 131, \"<\": 156, \"b\": 150, \"O\": 16, \"A\": 95, \"n\": 156, \"w\": 146, \"h\": 156, \"\\\\n\": 156, \"-\": 156, \"2\": 141, \"1\": 153, \"x\": 118, \"f\": 146, \"r\": 156, \"a\": 156, \"l\": 155, \"p\": 156, \"D\": 156, \"(\": 92, \"I\": 156, \"R\": 156, \"m\": 156, \"G\": 35, \"o\": 156, \"/\": 130, \"u\": 156, \":\": 156, \"J\": 14, \">\": 156, \"c\": 156, \"v\": 136, \"S\": 117, \";\": 49, \"T\": 81, \"3\": 114, \"4\": 115, \"Y\": 10, \"0\": 84, \"B\": 96, \"M\": 84, \"q\": 36, \"\\'\": 21, \"j\": 62, \"F\": 59, \"6\": 58, \"\\\\u00b0\": 46, \"5\": 81, \"N\": 8, \"7\": 16, \"z\": 67, \"H\": 30, \"]\": 1, \"[\": 1, \"L\": 42, \"K\": 7, \"&\": 7, \"U\": 9, \"8\": 53, \"9\": 25, \"Q\": 5, \"E\": 14, \"V\": 10, \"!\": 5, \"Z\": 3, \"\\\\\"\": 6, \"#\": 1, \"%\": 2, \"\\\\u2019\": 1, \"\\\\t\": 3}',\n 'index_docs': '{\"1\": 156, \"84\": 1, \"4\": 156, \"43\": 93, \"7\": 156, \"29\": 135, \"2\": 156, \"34\": 135, \"16\": 156, \"18\": 155, \"24\": 150, \"42\": 99, \"59\": 40, \"12\": 156, \"9\": 156, \"26\": 131, \"31\": 156, \"21\": 150, \"64\": 16, \"45\": 95, \"6\": 156, \"25\": 146, \"15\": 156, \"17\": 156, \"20\": 156, \"28\": 141, \"22\": 153, \"38\": 118, \"23\": 146, \"8\": 156, \"5\": 156, \"10\": 155, \"13\": 156, \"41\": 156, \"44\": 92, \"39\": 156, \"40\": 156, \"19\": 156, \"62\": 35, \"3\": 156, \"33\": 130, \"14\": 156, \"30\": 156, \"68\": 14, \"32\": 156, \"11\": 156, \"27\": 136, \"36\": 117, \"54\": 49, \"50\": 81, \"35\": 114, \"37\": 115, \"72\": 10, \"47\": 84, \"46\": 96, \"51\": 84, \"57\": 36, \"66\": 21, \"52\": 62, \"53\": 59, \"55\": 58, \"60\": 46, \"49\": 81, \"75\": 8, \"67\": 16, \"48\": 67, \"61\": 30, \"81\": 1, \"80\": 1, \"58\": 42, \"71\": 7, \"70\": 7, \"73\": 9, \"56\": 53, \"63\": 25, \"79\": 5, \"65\": 14, \"69\": 10, \"77\": 5, \"82\": 3, \"74\": 6, \"83\": 1, \"76\": 2, \"85\": 1, \"78\": 3}',\n 'index_word': '{\"1\": \" \", \"2\": \"e\", \"3\": \"o\", \"4\": \"i\", \"5\": \"a\", \"6\": \"n\", \"7\": \"t\", \"8\": \"r\", \"9\": \"s\", \"10\": \"l\", \"11\": \"c\", \"12\": \"d\", \"13\": \"p\", \"14\": \"u\", \"15\": \"h\", \"16\": \"g\", \"17\": \"\\\\n\", \"18\": \".\", \"19\": \"m\", \"20\": \"-\", \"21\": \"b\", \"22\": \"1\", \"23\": \"f\", \"24\": \"k\", \"25\": \"w\", \"26\": \",\", \"27\": \"v\", \"28\": \"2\", \"29\": \"y\", \"30\": \":\", \"31\": \"<\", \"32\": \">\", \"33\": \"/\", \"34\": \"C\", \"35\": \"3\", \"36\": \"S\", \"37\": \"4\", \"38\": \"x\", \"39\": \"I\", \"40\": \"R\", \"41\": \"D\", \"42\": \"P\", \"43\": \")\", \"44\": \"(\", \"45\": \"A\", \"46\": \"B\", \"47\": \"0\", \"48\": \"z\", \"49\": \"5\", \"50\": \"T\", \"51\": \"M\", \"52\": \"j\", \"53\": \"F\", \"54\": \";\", \"55\": \"6\", \"56\": \"8\", \"57\": \"q\", \"58\": \"L\", \"59\": \"W\", \"60\": \"\\\\u00b0\", \"61\": \"H\", \"62\": \"G\", \"63\": \"9\", \"64\": \"O\", \"65\": \"E\", \"66\": \"\\'\", \"67\": \"7\", \"68\": \"J\", \"69\": \"V\", \"70\": \"&\", \"71\": \"K\", \"72\": \"Y\", \"73\": \"U\", \"74\": \"\\\\\"\", \"75\": \"N\", \"76\": \"%\", \"77\": \"!\", \"78\": \"\\\\t\", \"79\": \"Q\", \"80\": \"[\", \"81\": \"]\", \"82\": \"Z\", \"83\": \"#\", \"84\": \"_\", \"85\": \"\\\\u2019\"}',\n 'word_index': '{\" \": 1, \"e\": 2, \"o\": 3, \"i\": 4, \"a\": 5, \"n\": 6, \"t\": 7, \"r\": 8, \"s\": 9, \"l\": 10, \"c\": 11, \"d\": 12, \"p\": 13, \"u\": 14, \"h\": 15, \"g\": 16, \"\\\\n\": 17, \".\": 18, \"m\": 19, \"-\": 20, \"b\": 21, \"1\": 22, \"f\": 23, \"k\": 24, \"w\": 25, \",\": 26, \"v\": 27, \"2\": 28, \"y\": 29, \":\": 30, \"<\": 31, \">\": 32, \"/\": 33, \"C\": 34, \"3\": 35, \"S\": 36, \"4\": 37, \"x\": 38, \"I\": 39, \"R\": 40, \"D\": 41, \"P\": 42, \")\": 43, \"(\": 44, \"A\": 45, \"B\": 46, \"0\": 47, \"z\": 48, \"5\": 49, \"T\": 50, \"M\": 51, \"j\": 52, \"F\": 53, \";\": 54, \"6\": 55, \"8\": 56, \"q\": 57, \"L\": 58, \"W\": 59, \"\\\\u00b0\": 60, \"H\": 61, \"G\": 62, \"9\": 63, \"O\": 64, \"E\": 65, \"\\'\": 66, \"7\": 67, \"J\": 68, \"V\": 69, \"&\": 70, \"K\": 71, \"Y\": 72, \"U\": 73, \"\\\\\"\": 74, \"N\": 75, \"%\": 76, \"!\": 77, \"\\\\t\": 78, \"Q\": 79, \"[\": 80, \"]\": 81, \"Z\": 82, \"#\": 83, \"_\": 84, \"\\\\u2019\": 85}'}"
     },
     "execution_count": 132,
     "metadata": {},
     "output_type": "execute_result"
    }
   ],
   "source": [
    "tokenizer = tf.keras.preprocessing.text.Tokenizer(\n",
    "    char_level=True,\n",
    "    filters='',\n",
    "    lower=False,\n",
    "    split=''\n",
    ")\n",
    "\n",
    "tokenizer.fit_on_texts([MARKER_STOP])\n",
    "tokenizer.fit_on_texts(train)\n",
    "tokenizer.get_config()"
   ],
   "metadata": {
    "collapsed": false,
    "ExecuteTime": {
     "end_time": "2024-04-30T07:42:10.320533Z",
     "start_time": "2024-04-30T07:42:10.316187Z"
    }
   },
   "id": "d535f252fe941eb"
  },
  {
   "cell_type": "code",
   "execution_count": 133,
   "outputs": [
    {
     "name": "stdout",
     "output_type": "stream",
     "text": [
      "VOCABULARY_SIZE:  86\n"
     ]
    }
   ],
   "source": [
    "# @see: https://www.tensorflow.org/api_docs/python/tf/keras/preprocessing/text/Tokenizer\n",
    "VOCABULARY_SIZE = len(tokenizer.word_counts) + 1\n",
    "print('VOCABULARY_SIZE: ', VOCABULARY_SIZE)"
   ],
   "metadata": {
    "collapsed": false,
    "ExecuteTime": {
     "end_time": "2024-04-30T07:42:12.229366Z",
     "start_time": "2024-04-30T07:42:12.217452Z"
    }
   },
   "id": "3126f30781af85bf"
  },
  {
   "cell_type": "code",
   "execution_count": 134,
   "outputs": [
    {
     "name": "stdout",
     "output_type": "stream",
     "text": [
      "a\n"
     ]
    },
    {
     "data": {
      "text/plain": "9"
     },
     "execution_count": 134,
     "metadata": {},
     "output_type": "execute_result"
    }
   ],
   "source": [
    "print(tokenizer.index_word[5])\n",
    "tokenizer.word_index['s']"
   ],
   "metadata": {
    "collapsed": false,
    "ExecuteTime": {
     "end_time": "2024-04-30T07:42:15.600539Z",
     "start_time": "2024-04-30T07:42:15.587136Z"
    }
   },
   "id": "34710ea9099c48d4"
  },
  {
   "cell_type": "code",
   "execution_count": 135,
   "outputs": [
    {
     "name": "stdout",
     "output_type": "stream",
     "text": [
      "['', ' ', 'e', 'o', 'i', 'a', 'n', 't', 'r', 's', 'l', 'c', 'd', 'p', 'u', 'h', 'g', '\\n', '.', 'm', '-', 'b', '1', 'f', 'k', 'w', ',', 'v', '2', 'y', ':', '<', '>', '/', 'C', '3', 'S', '4', 'x', 'I', 'R', 'D', 'P', ')', '(', 'A', 'B', '0', 'z', '5', 'T', 'M', 'j', 'F', ';', '6', '8', 'q', 'L', 'W', '°', 'H', 'G', '9', 'O', 'E', \"'\", '7', 'J', 'V', '&', 'K', 'Y', 'U', '\"', 'N', '%', '!', '\\t', 'Q', '[', ']', 'Z', '#', '_', '’']\n"
     ]
    }
   ],
   "source": [
    "js_vocabulary = tokenizer.sequences_to_texts([[word_index] for word_index in range(VOCABULARY_SIZE)])\n",
    "print([char for char in js_vocabulary])"
   ],
   "metadata": {
    "collapsed": false,
    "ExecuteTime": {
     "end_time": "2024-04-30T07:42:16.311343Z",
     "start_time": "2024-04-30T07:42:16.298142Z"
    }
   },
   "id": "b189fe1fcbf59c61"
  },
  {
   "cell_type": "markdown",
   "source": [
    "## VECTORIZING FOR RNN"
   ],
   "metadata": {
    "collapsed": false
   },
   "id": "b70df294517bb090"
  },
  {
   "cell_type": "code",
   "execution_count": 136,
   "outputs": [],
   "source": [
    "def recipe_sequence_to_string(recipe_sequence):\n",
    "    recipe_str = tokenizer.sequences_to_texts([recipe_sequence])[0]\n",
    "    recipe_str = recipe_str.replace('   ', '_').replace(' ', '').replace('_', ' ')\n",
    "    print(recipe_str)"
   ],
   "metadata": {
    "collapsed": false,
    "ExecuteTime": {
     "end_time": "2024-04-30T07:42:17.909155Z",
     "start_time": "2024-04-30T07:42:17.892447Z"
    }
   },
   "id": "445095d29baeeb9e"
  },
  {
   "cell_type": "code",
   "execution_count": 137,
   "outputs": [
    {
     "name": "stdout",
     "output_type": "stream",
     "text": [
      "Vectorized train size 156\n",
      "[31, 7, 32, 40, 2, 11, 4, 13, 2, 30] ...\n"
     ]
    }
   ],
   "source": [
    "train_vectorized = tokenizer.texts_to_sequences(train)\n",
    "print('Vectorized train size', len(train_vectorized))\n",
    "print(train_vectorized[0][:10], '...')"
   ],
   "metadata": {
    "collapsed": false,
    "ExecuteTime": {
     "end_time": "2024-04-30T07:42:18.440463Z",
     "start_time": "2024-04-30T07:42:18.433997Z"
    }
   },
   "id": "4ab44a5f1234f6d2"
  },
  {
   "cell_type": "code",
   "execution_count": 138,
   "outputs": [
    {
     "name": "stdout",
     "output_type": "stream",
     "text": [
      "<t>Recipe: Country Apple Slaw\n",
      "\n",
      "<i>Ingredients:\n",
      "- 2 Granny Smith apples, thinly sliced\n",
      "- 4 cups shredded green cabbage (about 1/2 head)\n",
      "- 4 cups shredded red cabbage (about 1/2 head)\n",
      "- 1 cucumber, seeded and sliced\n",
      "- 3/4 cup dried cherries\n",
      "- 1/2 cup cider vinegar\n",
      "- 1/3 cup honey\n",
      "- 1/3 cup olive oil\n",
      "- 2 teaspoons salt\n",
      "- 1/2 teaspoon freshly ground black pepper\n",
      "- 1/4 cup roasted, salted pepitos (shelled pumpkin seeds)\n",
      "\n",
      "<d>Directions: Combine apples and next 4 ingredients in a large bowl. Whisk together vinegar and next 4 ingredients in a medium bowl. Toss vinaigrette with apple mixture; cover and chill up to 4 hours. Sprinkle with pepitos.\n"
     ]
    }
   ],
   "source": [
    "recipe_sequence_to_string(train_vectorized[1])"
   ],
   "metadata": {
    "collapsed": false,
    "ExecuteTime": {
     "end_time": "2024-04-30T07:42:19.059536Z",
     "start_time": "2024-04-30T07:42:19.055814Z"
    }
   },
   "id": "e37e4ef036824b7e"
  },
  {
   "cell_type": "markdown",
   "source": [
    "## PADDING"
   ],
   "metadata": {
    "collapsed": false
   },
   "id": "ab681e28048b95ba"
  },
  {
   "cell_type": "code",
   "execution_count": 139,
   "outputs": [
    {
     "name": "stdout",
     "output_type": "stream",
     "text": [
      "Recipe #1 length: 429\n",
      "Recipe #2 length: 644\n",
      "Recipe #3 length: 386\n",
      "Recipe #4 length: 292\n",
      "Recipe #5 length: 999\n"
     ]
    }
   ],
   "source": [
    "for i, recipe in enumerate(train_vectorized[:5]):\n",
    "    print('Recipe #{} length: {}'.format(i + 1, len(recipe)))"
   ],
   "metadata": {
    "collapsed": false,
    "ExecuteTime": {
     "end_time": "2024-04-30T07:42:20.449241Z",
     "start_time": "2024-04-30T07:42:20.445485Z"
    }
   },
   "id": "8a117027740ff2e7"
  },
  {
   "cell_type": "code",
   "execution_count": 140,
   "outputs": [],
   "source": [
    "# Use -1 and +1 to make sure that all recipes will have at least 1 stop sign at the end, since each sequence will be shifted and truncated afterwards (to generate X and Y sequences).\n",
    "\n",
    "trainVect_padded_no_stops = tf.keras.preprocessing.sequence.pad_sequences(\n",
    "    train_vectorized,\n",
    "    padding='post',\n",
    "    truncating='post',\n",
    "    maxlen=MAX_TEXT_LENGTH - 1,\n",
    "    value=tokenizer.texts_to_sequences([MARKER_STOP])[0]\n",
    ")\n",
    "\n",
    "trainVect_padded = tf.keras.preprocessing.sequence.pad_sequences(\n",
    "    trainVect_padded_no_stops,\n",
    "    padding='post',\n",
    "    truncating='post',\n",
    "    maxlen=MAX_TEXT_LENGTH + 1,\n",
    "    value=tokenizer.texts_to_sequences([MARKER_STOP])[0]\n",
    ")"
   ],
   "metadata": {
    "collapsed": false,
    "ExecuteTime": {
     "end_time": "2024-04-30T07:42:21.224395Z",
     "start_time": "2024-04-30T07:42:21.216462Z"
    }
   },
   "id": "2d33a701bcc3dccb"
  },
  {
   "cell_type": "code",
   "execution_count": 141,
   "outputs": [
    {
     "name": "stdout",
     "output_type": "stream",
     "text": [
      "Recipe #0 length: 501\n",
      "Recipe #1 length: 501\n",
      "Recipe #2 length: 501\n",
      "Recipe #3 length: 501\n",
      "Recipe #4 length: 501\n"
     ]
    }
   ],
   "source": [
    "for i, recipe in enumerate(trainVect_padded[:5]):\n",
    "    print('Recipe #{} length: {}'.format(i, len(recipe)))"
   ],
   "metadata": {
    "collapsed": false,
    "ExecuteTime": {
     "end_time": "2024-04-30T07:42:21.866421Z",
     "start_time": "2024-04-30T07:42:21.862468Z"
    }
   },
   "id": "319bdd21bd2e013b"
  },
  {
   "cell_type": "code",
   "execution_count": 142,
   "outputs": [
    {
     "name": "stdout",
     "output_type": "stream",
     "text": [
      "<t>Recipe: Country Apple Slaw\n",
      "\n",
      "<i>Ingredients:\n",
      "- 2 Granny Smith apples, thinly sliced\n",
      "- 4 cups shredded green cabbage (about 1/2 head)\n",
      "- 4 cups shredded red cabbage (about 1/2 head)\n",
      "- 1 cucumber, seeded and sliced\n",
      "- 3/4 cup dried cherries\n",
      "- 1/2 cup cider vinegar\n",
      "- 1/3 cup honey\n",
      "- 1/3 cup olive oil\n",
      "- 2 teaspoons salt\n",
      "- 1/2 teaspoon freshly ground black pepper\n",
      "- 1/4 cup roasted, salted pepitos (shelled pumpkin seeds)\n",
      "\n",
      "<d>Directions: Combine apples and next 4 ingredients in a large bowl. Whisk tog  \n"
     ]
    }
   ],
   "source": [
    "recipe_sequence_to_string(trainVect_padded[1])"
   ],
   "metadata": {
    "collapsed": false,
    "ExecuteTime": {
     "end_time": "2024-04-30T07:42:22.836148Z",
     "start_time": "2024-04-30T07:42:22.832624Z"
    }
   },
   "id": "50fee366b95e07f8"
  },
  {
   "cell_type": "code",
   "execution_count": 143,
   "outputs": [
    {
     "name": "stdout",
     "output_type": "stream",
     "text": [
      "<_TensorSliceDataset element_spec=TensorSpec(shape=(501,), dtype=tf.int32, name=None)>\n"
     ]
    }
   ],
   "source": [
    "dataset = tf.data.Dataset.from_tensor_slices(trainVect_padded)\n",
    "print(dataset)"
   ],
   "metadata": {
    "collapsed": false,
    "ExecuteTime": {
     "end_time": "2024-04-30T07:42:23.899147Z",
     "start_time": "2024-04-30T07:42:23.896785Z"
    }
   },
   "id": "7aff9904f7580642"
  },
  {
   "cell_type": "code",
   "execution_count": 144,
   "outputs": [
    {
     "name": "stdout",
     "output_type": "stream",
     "text": [
      "Raw Recipe:\n",
      " [31  7 32 40  2 11  4 13  2 30  1 34  8  5  6 21  2  8  8 29  1 40  2 10\n",
      "  4  9 15 17 17 31  4 32 39  6 16  8  2 12  4  2  6  7  9 30 17 20  1 22\n",
      "  1 13  2  2 10  2 12  1  3  8  5  6 16  2 17 20  1 28  1  5 13 13 10  2\n",
      "  9 17 20  1 22  1 11  5  6  1 11  8 14  9 15  2 12  1 13  4  6  2  5 13\n",
      " 13 10  2 17 20  1 28  1 22 33 28  1 11 18  1  9 14 16  5  8 17 20  1 22\n",
      "  1 10  5  8 16  2  1 21  3 38  1  9  7  8  5 25 21  2  8  8 29  1 68  2\n",
      " 10 10 20 64 17 20  1 22  1 10 21 18  1 13 24 16 18  1 11  8  5  6 21  2\n",
      "  8  8  4  2  9  1 44  8  5 25 43 17 20  1 28  1 11 18  1 21  3  4 10  4\n",
      "  6 16  1 25  5  7  2  8 17 17 31 12 32 41  4  8  2 11  7  4  3  6  9 30\n",
      "  1 59  5  9 15  1  5  6 12  1 16  8  4  6 12  1 11  8  5  6 21  2  8  8\n",
      "  4  2  9 18  1 34  3  8  2  1  5 13 13 10  2  9 26  1 21 14  7  1 12  3\n",
      "  1  6  3  7  1 13  2  2 10 18  1 42  2  2 10  1  3  8  5  6 16  2 18  1\n",
      " 62  8  4  6 12  1  7 15  2 19  1 25  4  7 15  1 11  8  5  6 21  2  8  8\n",
      "  4  2  9 18  1 41  8  5  4  6  1 13  4  6  2  5 13 13 10  2 18  1 45 12\n",
      " 12  1  7  3  1  8  2  9  7 18  1 45 12 12  1  9 14 16  5  8 18  1 45 12\n",
      " 12  1 28  1 11 14 13  9  1 21  3  4 10  4  6 16  1 25  5  7  2  8  1  7\n",
      "  3  1 68  2 10 10 20 64 26  1  7 15  2  6  1  5 12 12  1  5 10 10  1  7\n",
      "  3 16  2  7 15  2  8 18  1 40  2 23  8  4 16  2  8  5  7  2 18 84 84 84\n",
      " 84 84 84 84 84 84 84 84 84 84 84 84 84 84 84 84 84 84 84 84 84 84 84 84\n",
      " 84 84 84 84 84 84 84 84 84 84 84 84 84 84 84 84 84 84 84 84 84 84 84 84\n",
      " 84 84 84 84 84 84 84 84 84 84 84 84 84 84 84 84 84 84 84 84 84] \n",
      "\n",
      "\n",
      "\n",
      "Text Recipe:\n",
      "\n",
      "<t>Recipe: Cranberry Relish\n",
      "\n",
      "<i>Ingredients:\n",
      "- 1 peeled orange\n",
      "- 2 apples\n",
      "- 1 can crushed pineapple\n",
      "- 2 1/2 c. sugar\n",
      "- 1 large box strawberry Jell-O\n",
      "- 1 lb. pkg. cranberries (raw)\n",
      "- 2 c. boiling water\n",
      "\n",
      "<d>Directions: Wash and grind cranberries. Core apples, but do not peel. Peel orange. Grind them with cranberries. Drain pineapple. Add to rest. Add sugar. Add 2 cups boiling water to Jell-O, then add all together. Refrigerate.                                                                        \n"
     ]
    }
   ],
   "source": [
    "for recipe in dataset.take(1):\n",
    "    print('Raw Recipe:\\n', recipe.numpy(), '\\n\\n\\n')\n",
    "    print('Text Recipe:\\n')\n",
    "    recipe_sequence_to_string(recipe.numpy())"
   ],
   "metadata": {
    "collapsed": false,
    "ExecuteTime": {
     "end_time": "2024-04-30T07:42:24.439922Z",
     "start_time": "2024-04-30T07:42:24.432022Z"
    }
   },
   "id": "8c29f7a4057ba065"
  },
  {
   "cell_type": "markdown",
   "source": [
    "## Split INPUT and TARGET texts\n",
    "Each sequence is duplicated and shifted"
   ],
   "metadata": {
    "collapsed": false
   },
   "id": "8472f4c831900f74"
  },
  {
   "cell_type": "code",
   "execution_count": 145,
   "outputs": [],
   "source": [
    "def split_input_target(recipe):\n",
    "    input_text = recipe[:-1]\n",
    "    target_text = recipe[1:]\n",
    "\n",
    "    return input_text, target_text"
   ],
   "metadata": {
    "collapsed": false,
    "ExecuteTime": {
     "end_time": "2024-04-30T07:42:27.905181Z",
     "start_time": "2024-04-30T07:42:27.901095Z"
    }
   },
   "id": "abe39c17eccb7dab"
  },
  {
   "cell_type": "code",
   "execution_count": 161,
   "outputs": [
    {
     "name": "stdout",
     "output_type": "stream",
     "text": [
      "<_MapDataset element_spec=(TensorSpec(shape=(500,), dtype=tf.int32, name=None), TensorSpec(shape=(500,), dtype=tf.int32, name=None))>\n"
     ]
    },
    {
     "data": {
      "text/plain": "(['R', 'e', 'c', 'i', 'p'], ['e', 'c', 'i', 'p', 'e'])"
     },
     "execution_count": 161,
     "metadata": {},
     "output_type": "execute_result"
    }
   ],
   "source": [
    "dataset_target = dataset.map(split_input_target)\n",
    "print(dataset_target)\n",
    "\n",
    "split_input_target(list(\"Recipe\"))"
   ],
   "metadata": {
    "collapsed": false,
    "ExecuteTime": {
     "end_time": "2024-04-30T08:10:29.133205Z",
     "start_time": "2024-04-30T08:10:29.113393Z"
    }
   },
   "id": "3305ef569bed11d0"
  },
  {
   "cell_type": "code",
   "execution_count": 162,
   "outputs": [
    {
     "name": "stdout",
     "output_type": "stream",
     "text": [
      "Input sequence size: 500\n",
      "Target sequence size: 500\n",
      "\n",
      "Input:   '< t > R e c i p e :   C r a n b e r r y   R e l i s h \\n \\n < i > I n g r e d i e n t s : \\n -   1   p'\n",
      "Target:  't > R e c i p e :   C r a n b e r r y   R e l i s h \\n \\n < i > I n g r e d i e n t s : \\n -   1   p e'\n"
     ]
    }
   ],
   "source": [
    "for input_example, target_example in dataset_target.take(1):\n",
    "    print('Input sequence size:', repr(len(input_example.numpy())))\n",
    "    print('Target sequence size:', repr(len(target_example.numpy())))\n",
    "    print()\n",
    "\n",
    "    input_string = tokenizer.sequences_to_texts([input_example.numpy()[:50]])[0]\n",
    "    target_string = tokenizer.sequences_to_texts([target_example.numpy()[:50]])[0]\n",
    "\n",
    "    print('Input:  ', repr(''.join(input_string)))\n",
    "    print('Target: ', repr(''.join(target_string)))"
   ],
   "metadata": {
    "collapsed": false,
    "ExecuteTime": {
     "end_time": "2024-04-30T08:10:32.954149Z",
     "start_time": "2024-04-30T08:10:32.935345Z"
    }
   },
   "id": "945fae75571e40c0"
  },
  {
   "cell_type": "code",
   "execution_count": 163,
   "outputs": [
    {
     "name": "stdout",
     "output_type": "stream",
     "text": [
      "Step  1\n",
      "  input: 31 ('<')\n",
      "  expected output: 7 ('t')\n",
      "Step  2\n",
      "  input: 7 ('t')\n",
      "  expected output: 32 ('>')\n",
      "Step  3\n",
      "  input: 32 ('>')\n",
      "  expected output: 40 ('R')\n",
      "Step  4\n",
      "  input: 40 ('R')\n",
      "  expected output: 2 ('e')\n",
      "Step  5\n",
      "  input: 2 ('e')\n",
      "  expected output: 11 ('c')\n",
      "Step  6\n",
      "  input: 11 ('c')\n",
      "  expected output: 4 ('i')\n",
      "Step  7\n",
      "  input: 4 ('i')\n",
      "  expected output: 13 ('p')\n",
      "Step  8\n",
      "  input: 13 ('p')\n",
      "  expected output: 2 ('e')\n",
      "Step  9\n",
      "  input: 2 ('e')\n",
      "  expected output: 30 (':')\n",
      "Step 10\n",
      "  input: 30 (':')\n",
      "  expected output: 1 (' ')\n"
     ]
    }
   ],
   "source": [
    "for i, (input_idx, target_idx) in enumerate(zip(input_example[:10], target_example[:10])):\n",
    "    print('Step {:2d}'.format(i + 1))\n",
    "    print('  input: {} ({:s})'.format(input_idx, repr(tokenizer.sequences_to_texts([[input_idx.numpy()]])[0])))\n",
    "    print('  expected output: {} ({:s})'.format(target_idx,\n",
    "                                                repr(tokenizer.sequences_to_texts([[target_idx.numpy()]])[0])))"
   ],
   "metadata": {
    "collapsed": false,
    "ExecuteTime": {
     "end_time": "2024-04-30T08:10:33.596973Z",
     "start_time": "2024-04-30T08:10:33.583850Z"
    }
   },
   "id": "f7c47dca7714ecc4"
  },
  {
   "cell_type": "markdown",
   "source": [
    "## SPLIT IN BATCHES\n",
    "Before feeding this data into the model, shuffle the data and pack it into batches."
   ],
   "metadata": {
    "collapsed": false
   },
   "id": "dded4fd20fc3a2a4"
  },
  {
   "cell_type": "code",
   "execution_count": 164,
   "outputs": [
    {
     "name": "stdout",
     "output_type": "stream",
     "text": [
      "<_RepeatDataset element_spec=(TensorSpec(shape=(32, 500), dtype=tf.int32, name=None), TensorSpec(shape=(32, 500), dtype=tf.int32, name=None))>\n"
     ]
    }
   ],
   "source": [
    "BATCH_SIZE = 32\n",
    "SHUFFLE_BUFFER_SIZE = 1000\n",
    "\n",
    "dataset_train = (dataset_target\n",
    "                 .shuffle(SHUFFLE_BUFFER_SIZE)\n",
    "                 .batch(BATCH_SIZE, drop_remainder=True)\n",
    "                 .repeat())\n",
    "\n",
    "print(dataset_train)"
   ],
   "metadata": {
    "collapsed": false,
    "ExecuteTime": {
     "end_time": "2024-04-30T08:10:34.956666Z",
     "start_time": "2024-04-30T08:10:34.947290Z"
    }
   },
   "id": "b81d29740ad12444"
  },
  {
   "cell_type": "markdown",
   "source": [
    "## BUILD MODEL\n",
    "\n",
    "@see https://www.tensorflow.org/text/tutorials/text_generation\n",
    "\n",
    "Using tf.keras.Sequential we define:\n",
    "- tf.keras.layers.Embedding: The input layer. A trainable lookup table, maps each character's numbers to a vector with embedding_dim dimensions;\n",
    "- tf.keras.layers.LSTM\n",
    "- tf.keras.layers.Dense: The output layer, with vocab_size outputs.\n",
    "\n",
    "\n",
    "The model will take as input an integer matrix of size (batch, input_length).\n",
    "The largest integer (word index) in the input should be no larger than tmp_vocab_size.\n",
    "Now model.output_shape == (batch_dimension, tmp_vocab_size, batch_size)??"
   ],
   "metadata": {
    "collapsed": false
   },
   "id": "7fda9c87721f0b50"
  },
  {
   "cell_type": "code",
   "execution_count": 165,
   "outputs": [],
   "source": [
    "vocab_size = VOCABULARY_SIZE  # length of the vocabulary in chars\n",
    "embedding_dim = 256\n",
    "rnn_units = 1024"
   ],
   "metadata": {
    "collapsed": false,
    "ExecuteTime": {
     "end_time": "2024-04-30T08:10:35.509075Z",
     "start_time": "2024-04-30T08:10:35.505001Z"
    }
   },
   "id": "b2dab8b1a72cb282"
  },
  {
   "cell_type": "code",
   "execution_count": 166,
   "outputs": [],
   "source": [
    "def build_model_1(vocab_size, embedding_dim, rnn_units, batch_size):\n",
    "    model = tf.keras.models.Sequential()\n",
    "\n",
    "    model.add(tf.keras.layers.Embedding(\n",
    "        input_dim=vocab_size,\n",
    "        output_dim=embedding_dim,\n",
    "        batch_input_shape=[batch_size, None]\n",
    "    ))\n",
    "\n",
    "    model.add(tf.keras.layers.LSTM(\n",
    "        units=rnn_units,\n",
    "        return_sequences=True,\n",
    "        stateful=True,\n",
    "        recurrent_initializer=tf.keras.initializers.GlorotNormal()\n",
    "    ))\n",
    "\n",
    "    model.add(tf.keras.layers.Dense(vocab_size))\n",
    "\n",
    "    return model"
   ],
   "metadata": {
    "collapsed": false,
    "ExecuteTime": {
     "end_time": "2024-04-30T08:10:36.776803Z",
     "start_time": "2024-04-30T08:10:36.765874Z"
    }
   },
   "id": "4770226094ba45fe"
  },
  {
   "cell_type": "code",
   "execution_count": 167,
   "outputs": [
    {
     "name": "stdout",
     "output_type": "stream",
     "text": [
      "Model: \"sequential_1\"\n",
      "_________________________________________________________________\n",
      " Layer (type)                Output Shape              Param #   \n",
      "=================================================================\n",
      " embedding_1 (Embedding)     (32, None, 256)           22016     \n",
      "                                                                 \n",
      " lstm_1 (LSTM)               (32, None, 1024)          5246976   \n",
      "                                                                 \n",
      " dense_1 (Dense)             (32, None, 86)            88150     \n",
      "                                                                 \n",
      "=================================================================\n",
      "Total params: 5357142 (20.44 MB)\n",
      "Trainable params: 5357142 (20.44 MB)\n",
      "Non-trainable params: 0 (0.00 Byte)\n",
      "_________________________________________________________________\n"
     ]
    }
   ],
   "source": [
    "model_1 = build_model_1(vocab_size, embedding_dim, rnn_units, BATCH_SIZE)\n",
    "model_1.summary()"
   ],
   "metadata": {
    "collapsed": false,
    "ExecuteTime": {
     "end_time": "2024-04-30T08:10:37.519390Z",
     "start_time": "2024-04-30T08:10:37.394230Z"
    }
   },
   "id": "5ccdd4867a501388"
  },
  {
   "cell_type": "markdown",
   "source": [
    "For each character the model looks up the embedding, runs the LSTM one timestep with the embedding as input, and applies the dense layer to generate logits predicting the log-likelihood of the next character"
   ],
   "metadata": {
    "collapsed": false
   },
   "id": "37dd35a50ed06cd7"
  },
  {
   "cell_type": "code",
   "execution_count": 168,
   "outputs": [
    {
     "name": "stdout",
     "output_type": "stream",
     "text": [
      "You must install pydot (`pip install pydot`) and install graphviz (see instructions at https://graphviz.gitlab.io/download/) for plot_model to work.\n"
     ]
    }
   ],
   "source": [
    "# !pip install pydot\n",
    "# !pip install graphviz\n",
    "\n",
    "tf.keras.utils.plot_model(\n",
    "    model_1,\n",
    "    show_shapes=True,\n",
    "    show_layer_names=True,\n",
    "    to_file='model_1.png'\n",
    ")"
   ],
   "metadata": {
    "collapsed": false,
    "ExecuteTime": {
     "end_time": "2024-04-30T08:10:40.079892Z",
     "start_time": "2024-04-30T08:10:40.070521Z"
    }
   },
   "id": "61da144364531768"
  },
  {
   "cell_type": "code",
   "execution_count": 170,
   "outputs": [
    {
     "name": "stdout",
     "output_type": "stream",
     "text": [
      "(batch_size, sequence_length, vocab_size) =  (32, 500, 86)\n"
     ]
    }
   ],
   "source": [
    "for input_example_batch, target_example_batch in dataset_train.take(1):\n",
    "    example_batch_predictions = model_1(input_example_batch)\n",
    "    print(\"(batch_size, sequence_length, vocab_size) = \", example_batch_predictions.shape)"
   ],
   "metadata": {
    "collapsed": false,
    "ExecuteTime": {
     "end_time": "2024-04-30T08:13:01.546403Z",
     "start_time": "2024-04-30T08:13:00.249958Z"
    }
   },
   "id": "c122bb044a77f7a7"
  },
  {
   "cell_type": "code",
   "execution_count": 171,
   "outputs": [
    {
     "name": "stdout",
     "output_type": "stream",
     "text": [
      "Prediction for the 1st letter of the batch 1st sequense:\n",
      "tf.Tensor(\n",
      "[-0.00140358  0.00259074  0.00891904 -0.01520341  0.01623035 -0.00243362\n",
      " -0.01448181  0.0106629   0.00697443  0.01969678  0.01065725  0.00618893\n",
      "  0.00176394 -0.00709569 -0.0206212   0.00508396 -0.01972833 -0.02285493\n",
      "  0.00100469  0.00383437  0.01187887 -0.01494261  0.03559244  0.00801092\n",
      " -0.01532706 -0.01000398  0.00880224  0.01399882  0.00863353  0.01410829\n",
      "  0.00994116  0.00568161 -0.0256719   0.01485433  0.00734585 -0.00839514\n",
      "  0.001781    0.0012694  -0.00048264  0.00371801 -0.02856719  0.01499597\n",
      "  0.00194854 -0.00566038  0.00686628  0.01064852 -0.0043367  -0.00539365\n",
      " -0.01363399  0.00015457 -0.01453467 -0.00054858 -0.00506167  0.00383148\n",
      "  0.00516334  0.01610614 -0.02501759 -0.01092247 -0.01415366  0.00451942\n",
      "  0.0052682  -0.01194449 -0.01596361 -0.00163683  0.01104035  0.00059822\n",
      " -0.01685531  0.00906828 -0.01151857 -0.00045008 -0.00466816  0.01540542\n",
      "  0.02122791 -0.00463165  0.00974108  0.01287864 -0.00759264 -0.00562551\n",
      "  0.00643799 -0.00075074  0.01258999 -0.00155468 -0.02149971 -0.01060661\n",
      "  0.00365201 -0.00917164], shape=(86,), dtype=float32)\n"
     ]
    }
   ],
   "source": [
    "print('Prediction for the 1st letter of batch 1st sequence:')\n",
    "print(example_batch_predictions[0, 0])"
   ],
   "metadata": {
    "collapsed": false,
    "ExecuteTime": {
     "end_time": "2024-04-30T08:14:08.713360Z",
     "start_time": "2024-04-30T08:14:08.701952Z"
    }
   },
   "id": "efd7b68b936ecb12"
  },
  {
   "cell_type": "markdown",
   "source": [
    "## TRAINING"
   ],
   "metadata": {
    "collapsed": false
   },
   "id": "55302384b462f512"
  },
  {
   "cell_type": "code",
   "execution_count": 175,
   "outputs": [
    {
     "name": "stdout",
     "output_type": "stream",
     "text": [
      "Prediction shape:  (32, 500, 86)  # (batch_size, sequence_length, vocab_size)\n",
      "Loss shape:        (32, 500)\n",
      "scalar_loss:       4.4540215\n"
     ]
    }
   ],
   "source": [
    "# An objective function with the signature scalar_loss = fn(y_true, y_pred).\n",
    "def loss(labels, logits):\n",
    "    entropy = tf.keras.losses.sparse_categorical_crossentropy(\n",
    "        y_true=labels,\n",
    "        y_pred=logits,\n",
    "        from_logits=True\n",
    "    )\n",
    "\n",
    "    return entropy\n",
    "\n",
    "\n",
    "example_batch_loss = loss(target_example_batch, example_batch_predictions)\n",
    "\n",
    "print(\"Prediction shape: \", example_batch_predictions.shape, \" # (batch_size, sequence_length, vocab_size)\")\n",
    "print(\"Loss shape:       \", example_batch_loss.shape)\n",
    "print(\"scalar_loss:      \", example_batch_loss.numpy().mean())"
   ],
   "metadata": {
    "collapsed": false,
    "ExecuteTime": {
     "end_time": "2024-04-30T08:20:59.756246Z",
     "start_time": "2024-04-30T08:20:59.740541Z"
    }
   },
   "id": "250769f158d4f6b1"
  },
  {
   "cell_type": "code",
   "execution_count": 177,
   "outputs": [],
   "source": [
    "# adam_optimizer = tf.keras.optimizers.Adam(learning_rate=0.001)  # v2.11+ optimizer runs slowly on M1/M2 Macs\n",
    "adam_optimizer = tf.keras.optimizers.legacy.Adam(learning_rate=0.001)\n",
    "\n",
    "model_1.compile(\n",
    "    optimizer=adam_optimizer,\n",
    "    loss=loss\n",
    ")"
   ],
   "metadata": {
    "collapsed": false,
    "ExecuteTime": {
     "end_time": "2024-04-30T08:22:46.522127Z",
     "start_time": "2024-04-30T08:22:46.508231Z"
    }
   },
   "id": "ac61e3959ffc4434"
  },
  {
   "cell_type": "code",
   "execution_count": 180,
   "outputs": [],
   "source": [
    "early_stopping_callback = tf.keras.callbacks.EarlyStopping(\n",
    "    patience=5,\n",
    "    monitor='loss',\n",
    "    restore_best_weights=True,\n",
    "    verbose=1\n",
    ")"
   ],
   "metadata": {
    "collapsed": false,
    "ExecuteTime": {
     "end_time": "2024-04-30T08:30:51.177729Z",
     "start_time": "2024-04-30T08:30:51.161301Z"
    }
   },
   "id": "c0845accd79cd5d9"
  },
  {
   "cell_type": "code",
   "execution_count": null,
   "outputs": [],
   "source": [
    "CHECKPOINT_DIR = \"./checkpoints\"\n",
    "os.makedirs(CHECKPOINT_DIR, exist_ok=True)"
   ],
   "metadata": {
    "collapsed": false
   },
   "id": "b385e50c29c71ca"
  },
  {
   "cell_type": "code",
   "execution_count": 201,
   "outputs": [],
   "source": [
    "checkpoint_prefix = os.path.join(CHECKPOINT_DIR, 'ckpt_rnn_{epoch}')\n",
    "checkpoint_callback = tf.keras.callbacks.ModelCheckpoint(\n",
    "    filepath=checkpoint_prefix,\n",
    "    save_weights_only=True\n",
    ")"
   ],
   "metadata": {
    "collapsed": false,
    "ExecuteTime": {
     "end_time": "2024-04-30T08:54:56.242717Z",
     "start_time": "2024-04-30T08:54:56.220257Z"
    }
   },
   "id": "c593bd35f7ca3862"
  },
  {
   "cell_type": "code",
   "execution_count": 205,
   "outputs": [],
   "source": [
    "INITIAL_EPOCH = 0\n",
    "EPOCHS_DELTA = 10\n",
    "EPOCHS = INITIAL_EPOCH + EPOCHS_DELTA\n",
    "STEPS_PER_EPOCH = 200\n",
    "\n",
    "# print('\\n')\n",
    "# print('INITIAL_EPOCH:   ', INITIAL_EPOCH)\n",
    "# print('EPOCHS_DELTA:    ', EPOCHS_DELTA)\n",
    "# print('EPOCHS:          ', EPOCHS)\n",
    "# print('STEPS_PER_EPOCH: ', STEPS_PER_EPOCH)"
   ],
   "metadata": {
    "collapsed": false,
    "ExecuteTime": {
     "end_time": "2024-04-30T10:02:24.904662Z",
     "start_time": "2024-04-30T10:02:24.882604Z"
    }
   },
   "id": "5bd01045cf36d3c6"
  },
  {
   "cell_type": "code",
   "execution_count": 206,
   "outputs": [],
   "source": [
    "history_1 = {}"
   ],
   "metadata": {
    "collapsed": false,
    "ExecuteTime": {
     "end_time": "2024-04-30T10:02:26.222503Z",
     "start_time": "2024-04-30T10:02:26.201679Z"
    }
   },
   "id": "92ea36fffed80a11"
  },
  {
   "cell_type": "code",
   "execution_count": 207,
   "outputs": [
    {
     "name": "stdout",
     "output_type": "stream",
     "text": [
      "Epoch 1/10\n",
      "200/200 [==============================] - 686s 3s/step - loss: 0.0140\n",
      "Epoch 2/10\n",
      "200/200 [==============================] - 676s 3s/step - loss: 0.0344\n",
      "Epoch 3/10\n",
      "200/200 [==============================] - 699s 3s/step - loss: 0.4600\n",
      "Epoch 4/10\n",
      "200/200 [==============================] - 692s 3s/step - loss: 0.0233\n",
      "Epoch 5/10\n",
      "200/200 [==============================] - 706s 4s/step - loss: 0.0151\n",
      "Epoch 6/10\n",
      "200/200 [==============================] - ETA: 0s - loss: 0.1032Restoring model weights from the end of the best epoch: 1.\n",
      "200/200 [==============================] - 671s 3s/step - loss: 0.1032\n",
      "Epoch 6: early stopping\n"
     ]
    },
    {
     "name": "stderr",
     "output_type": "stream",
     "text": [
      "/Applications/anaconda3/envs/p2r/lib/python3.8/site-packages/keras/src/engine/training.py:3000: UserWarning: You are saving your model as an HDF5 file via `model.save()`. This file format is considered legacy. We recommend using instead the native Keras format, e.g. `model.save('my_model.keras')`.\n",
      "  saving_api.save_model(\n"
     ]
    }
   ],
   "source": [
    "history_1[INITIAL_EPOCH] = model_1.fit(\n",
    "    x=dataset_train,\n",
    "    epochs=EPOCHS,\n",
    "    steps_per_epoch=STEPS_PER_EPOCH,\n",
    "    initial_epoch=INITIAL_EPOCH,\n",
    "    callbacks=[checkpoint_callback, early_stopping_callback]\n",
    ")\n",
    "\n",
    "model_name = 'p2r_rnn_raw_' + str(INITIAL_EPOCH) + '.h5'\n",
    "model_1.save(model_name, save_format='h5')"
   ],
   "metadata": {
    "collapsed": false,
    "ExecuteTime": {
     "end_time": "2024-04-30T11:11:20.130340Z",
     "start_time": "2024-04-30T10:02:29.452263Z"
    }
   },
   "id": "7d6760d125f20a29"
  },
  {
   "cell_type": "code",
   "execution_count": null,
   "outputs": [],
   "source": [
    "# rnn_model_name = f'./models/p2r_lstm_{INITIAL_EPOCH}.h5'\n",
    "# model_1.save(rnn_model_name, save_format='h5')"
   ],
   "metadata": {
    "collapsed": false
   },
   "id": "e1a72bbab4515ef9"
  },
  {
   "cell_type": "code",
   "execution_count": null,
   "outputs": [],
   "source": [],
   "metadata": {
    "collapsed": false
   },
   "id": "c6a229a2d560a914"
  },
  {
   "cell_type": "markdown",
   "source": [
    "## VISUALIZATION"
   ],
   "metadata": {
    "collapsed": false
   },
   "id": "27ee53ea8b2a2579"
  },
  {
   "cell_type": "code",
   "execution_count": 208,
   "outputs": [],
   "source": [
    "def render_training_history(training_history):\n",
    "    if 'history' in training_history:\n",
    "        loss = training_history.history['loss']\n",
    "    else:\n",
    "        loss = []\n",
    "        for initial_epoch in training_history:\n",
    "            loss += training_history[initial_epoch].history['loss']\n",
    "\n",
    "    plt.title('Loss')\n",
    "    plt.xlabel('Epoch')\n",
    "    plt.ylabel('Loss')\n",
    "    plt.plot(loss, label='Training set')\n",
    "    plt.legend()\n",
    "    plt.grid(linestyle='--', linewidth=1, alpha=0.5)\n",
    "    plt.show()"
   ],
   "metadata": {
    "collapsed": false,
    "ExecuteTime": {
     "end_time": "2024-04-30T11:12:04.839011Z",
     "start_time": "2024-04-30T11:12:04.821242Z"
    }
   },
   "id": "1506bd5187f6c02c"
  },
  {
   "cell_type": "code",
   "execution_count": 209,
   "outputs": [
    {
     "data": {
      "text/plain": "<Figure size 640x480 with 1 Axes>",
      "image/png": "[encoded data removed]"
     },
     "metadata": {},
     "output_type": "display_data"
    }
   ],
   "source": [
    "render_training_history(history_1)"
   ],
   "metadata": {
    "collapsed": false,
    "ExecuteTime": {
     "end_time": "2024-04-30T11:12:07.151710Z",
     "start_time": "2024-04-30T11:12:07.016519Z"
    }
   },
   "id": "dfe602eba71ff29b"
  },
  {
   "cell_type": "markdown",
   "source": [
    "## GENERATING A RECIPE"
   ],
   "metadata": {
    "collapsed": false
   },
   "id": "960bdacc13ba6860"
  },
  {
   "cell_type": "code",
   "execution_count": 210,
   "outputs": [],
   "source": [
    "simplified_batch_size = 1\n",
    "\n",
    "model_1_simplified = build_model_1(vocab_size, embedding_dim, rnn_units, simplified_batch_size)\n",
    "model_1_simplified.load_weights(tf.train.latest_checkpoint(CHECKPOINT_DIR))\n",
    "model_1_simplified.build(tf.TensorShape([simplified_batch_size, None]))"
   ],
   "metadata": {
    "collapsed": false,
    "ExecuteTime": {
     "end_time": "2024-04-30T11:12:21.644598Z",
     "start_time": "2024-04-30T11:12:21.503025Z"
    }
   },
   "id": "5ac1a653c897b4f6"
  },
  {
   "cell_type": "code",
   "execution_count": 211,
   "outputs": [
    {
     "name": "stdout",
     "output_type": "stream",
     "text": [
      "Model: \"sequential_2\"\n",
      "_________________________________________________________________\n",
      " Layer (type)                Output Shape              Param #   \n",
      "=================================================================\n",
      " embedding_2 (Embedding)     (1, None, 256)            22016     \n",
      "                                                                 \n",
      " lstm_2 (LSTM)               (1, None, 1024)           5246976   \n",
      "                                                                 \n",
      " dense_2 (Dense)             (1, None, 86)             88150     \n",
      "                                                                 \n",
      "=================================================================\n",
      "Total params: 5357142 (20.44 MB)\n",
      "Trainable params: 5357142 (20.44 MB)\n",
      "Non-trainable params: 0 (0.00 Byte)\n",
      "_________________________________________________________________\n"
     ]
    }
   ],
   "source": [
    "model_1_simplified.summary()"
   ],
   "metadata": {
    "collapsed": false,
    "ExecuteTime": {
     "end_time": "2024-04-30T11:12:23.353327Z",
     "start_time": "2024-04-30T11:12:23.332988Z"
    }
   },
   "id": "4849bfa97f367709"
  },
  {
   "cell_type": "code",
   "execution_count": 212,
   "outputs": [
    {
     "data": {
      "text/plain": "(1, None)"
     },
     "execution_count": 212,
     "metadata": {},
     "output_type": "execute_result"
    }
   ],
   "source": [
    "model_1_simplified.input_shape"
   ],
   "metadata": {
    "collapsed": false,
    "ExecuteTime": {
     "end_time": "2024-04-30T11:12:28.382132Z",
     "start_time": "2024-04-30T11:12:28.365126Z"
    }
   },
   "id": "675d73386cb345b"
  },
  {
   "cell_type": "code",
   "execution_count": 213,
   "outputs": [
    {
     "name": "stdout",
     "output_type": "stream",
     "text": [
      "WARNING:tensorflow:Compiled the loaded model, but the compiled metrics have yet to be built. `model.compile_metrics` will be empty until you train or evaluate the model.\n"
     ]
    },
    {
     "name": "stderr",
     "output_type": "stream",
     "text": [
      "/Applications/anaconda3/envs/p2r/lib/python3.8/site-packages/keras/src/engine/training.py:3000: UserWarning: You are saving your model as an HDF5 file via `model.save()`. This file format is considered legacy. We recommend using instead the native Keras format, e.g. `model.save('my_model.keras')`.\n",
      "  saving_api.save_model(\n",
      "WARNING:tensorflow:Compiled the loaded model, but the compiled metrics have yet to be built. `model.compile_metrics` will be empty until you train or evaluate the model.\n"
     ]
    }
   ],
   "source": [
    "model_name = 'p2r_rnn.h5'\n",
    "model_1_simplified.save(model_name, save_format='h5')"
   ],
   "metadata": {
    "collapsed": false,
    "ExecuteTime": {
     "end_time": "2024-04-30T11:12:35.634935Z",
     "start_time": "2024-04-30T11:12:35.614930Z"
    }
   },
   "id": "68a2a0cc91a92f61"
  },
  {
   "cell_type": "markdown",
   "source": [
    "# ------"
   ],
   "metadata": {
    "collapsed": false
   },
   "id": "681ce4c393ee9801"
  },
  {
   "cell_type": "code",
   "execution_count": 214,
   "outputs": [],
   "source": [
    "def generate_text(model, start_string, num_generate=1000, temperature=1.0):\n",
    "    \"\"\"\n",
    "    Parameters:\n",
    "        - num_generate: number of characters to generate.\n",
    "        - temperature: \n",
    "            - Low temperatures results in more predictable text.\n",
    "            - Higher temperatures results in more surprising text.\n",
    "    \"\"\"\n",
    "    # Evaluation step\n",
    "    padded_start_string = MARKER_TITLE + start_string\n",
    "\n",
    "    # Vectorizing\n",
    "    input_indices = np.array(tokenizer.texts_to_sequences([padded_start_string]))\n",
    "\n",
    "    # Empty string to store our results.\n",
    "    text_generated = []\n",
    "\n",
    "    # Here batch size == 1.\n",
    "    model.reset_states()\n",
    "    for char_index in range(num_generate):\n",
    "        predictions = model(input_indices)\n",
    "        predictions = tf.squeeze(predictions, 0)  # remove the batch dimension\n",
    "\n",
    "        # Using a categorical distribution to predict the character returned by the model.\n",
    "        predictions = predictions / temperature\n",
    "        predicted_id = tf.random.categorical(\n",
    "            predictions,\n",
    "            num_samples=1\n",
    "        )[-1, 0].numpy()\n",
    "\n",
    "        # Pass predicted character as the next input to the model\n",
    "        # along with the previous hidden state.\n",
    "        input_indices = tf.expand_dims([predicted_id], 0)\n",
    "        next_character = tokenizer.sequences_to_texts(input_indices.numpy())[0]\n",
    "        text_generated.append(next_character)\n",
    "\n",
    "    return (padded_start_string + ''.join(text_generated))"
   ],
   "metadata": {
    "collapsed": false,
    "ExecuteTime": {
     "end_time": "2024-04-30T11:13:41.803352Z",
     "start_time": "2024-04-30T11:13:41.783393Z"
    }
   },
   "id": "fa50929fb77e6704"
  },
  {
   "cell_type": "code",
   "execution_count": 215,
   "outputs": [],
   "source": [
    "def generate_combinations(model, input_list):\n",
    "    recipe_length = 1000\n",
    "    try_temperature = [1.0, 0.8, 0.4, 0.2]\n",
    "\n",
    "    for entry in input_list:\n",
    "        for temperature in try_temperature:\n",
    "            generated_text = generate_text(\n",
    "                model,\n",
    "                start_string=entry,\n",
    "                num_generate=recipe_length,\n",
    "                temperature=temperature\n",
    "            )\n",
    "\n",
    "            print('---------')\n",
    "            print(f'Attempt: \"{entry}\" + {temperature}')\n",
    "            print('---------')\n",
    "            print(generated_text)\n",
    "            print('\\n\\n')"
   ],
   "metadata": {
    "collapsed": false,
    "ExecuteTime": {
     "end_time": "2024-04-30T11:13:44.076342Z",
     "start_time": "2024-04-30T11:13:44.049223Z"
    }
   },
   "id": "4e9dae9655c4c62b"
  },
  {
   "cell_type": "code",
   "execution_count": 217,
   "outputs": [
    {
     "name": "stdout",
     "output_type": "stream",
     "text": [
      "---------\n",
      "Attempt: \"avocado\" + 1.0\n",
      "---------\n",
      "<t>avocado Calaman Bars\n",
      "\n",
      "<i>Ingredients:\n",
      "- 3 lb. ground chuck\n",
      "- 1 1/2 lb. lean eggs, floured\n",
      "- 3 tsp. salt\n",
      "- 1 2 gre. bell sed oring to pea stress\n",
      "- 1 panche salsh in sealt, stirling\n",
      "- 3 eggs\n",
      "- 1 cup grated cheese\n",
      "\n",
      "<d>Directions: Preheat oven to 350° der ispredients in smupt butter. Mis whill grush 1/2 Gup wate 2i>I lith and let to flo rmeased. Bak____________________________________________________________________________________________________________________________________________________________________________________________________________________________________________________________________________________________________________________________________________________________________________________________________________________________________________________________________________________________________________________________________________________________________________________________________________________________________________________________________________________\n",
      "\n",
      "\n",
      "---------\n",
      "Attempt: \"avocado\" + 0.8\n",
      "---------\n",
      "<t>avocado Sausage Cootoot Cake\n",
      "- 1 pep anilla to das\n",
      "- 1 teaspoon dried Osmanthuc salted pot oit\n",
      "- 1 grees onionsthinchs linges\n",
      "- 1 stall spread cheese\n",
      "- 2 lb. cottage cheese\n",
      "- 1/2 cup hanted baking powder\n",
      "- 1/4 teaspoon salt\n",
      "\n",
      "<d>Directions: Preheat the oven to 400 degrees. Cut the potatoes lengthwise into 1/4 inch thick slices, then cut the slices lengthwise into 1/4 inch wide sticks. Place the potatoes in a large bowl, lightly spray with nontsing and alt together. Add to dris mixture. Cook peas with first. Fol____________________________________________________________________________________________________________________________________________________________________________________________________________________________________________________________________________________________________________________________________________________________________________________________________________________________________________________________________________________________________________\n",
      "\n",
      "\n",
      "---------\n",
      "Attempt: \"avocado\" + 0.4\n",
      "---------\n",
      "<t>avocado-Hashed and Cool Whip\n",
      "\n",
      "<i>Ingredients:\n",
      "- 1 c. sugar\n",
      "- 1/2 c. white syrup\n",
      "- 1 can (12 oz.) peanuts\n",
      "- 1 tsp. baking soda\n",
      "\n",
      "<d>Directions: Cover the bottom of 9 x 13-inch pan with rice. Sprinkle salt over rice. Cover rice with broccoli. Lay cleaned chicken over top. Mix soup and water. Pour over other layers. Cover with foil. Bake at 350° for 45 minutes. Check to see if meat falls off bones.__________________________________________________________________________________________________________________________________________________________________________________________________________________________________________________________________________________________________________________________________________________________________________________________________________________________________________________________________________________________________________________________________________________________________________________________________________________________________\n",
      "\n",
      "\n",
      "---------\n",
      "Attempt: \"avocado\" + 0.2\n",
      "---------\n",
      "<t>avocado-Hasher Cake With seeded Pace\n",
      "\n",
      "<i>Ingredients:\n",
      "- 1 cup flour\n",
      "- 1 cup (packed) brown sugar\n",
      "- 1/2 cup unsweetened cocoa powder\n",
      "- 1 Tbsp. instant coffee\n",
      "- 1 1/2 tsp. baking powder\n",
      "- 1/2 tsp. salt\n",
      "- 1/2 cup butterscotch chips\n",
      "- 1/2 cup milk\n",
      "- 2 Tbsp. vegetable oil\n",
      "- 1 tsp. vanilla extract\n",
      "- 1 cup hot water\n",
      "- whipped cream (optional)\n",
      "\n",
      "<d>Directions: Preheat oven to 350. Toss garlic with olive oil and place in oven dish, cover and roast for 15 minutes. Let cool and chop. Mix shrimp, goat cheese, egg _____________________________________________________________________________________________________________________________________________________________________________________________________________________________________________________________________________________________________________________________________________________________________________________________________________________________________________________________________________________________________________________\n",
      "\n",
      "\n",
      "---------\n",
      "Attempt: \"rice\" + 1.0\n",
      "---------\n",
      "<t>ricep: Olive And Tomato Care\n",
      "\n",
      "<i>Ingredients:\n",
      "- 2 c. flour\n",
      "- 1 1/2 tsp. baking soda\n",
      "- 1/2 tsp. cloves\n",
      "- 1/2 tsp. cinnamon\n",
      "- 1 c. walnuts\n",
      "- 1 c. brown sugar\n",
      "- 1 c. butter\n",
      "- 1 st. ange zucharo margeh tho oul pie dissolice squars, lemon epan, skineded, cut in 1/2-inch pieces\n",
      "- 1 (8 ounce) package sugar soak panad\n",
      "\n",
      "<d>Directions: Cook butter and mix until blends. Spray with Kitchen Bouquett mirrilie press in pinkt in the fridge cofte. varing a deply ground blef ap laghtle soda on to 375 ° minut.____________________________________________________________________________________________________________________________________________________________________________________________________________________________________________________________________________________________________________________________________________________________________________________________________________________________________________________________________________________________________________________________\n",
      "\n",
      "\n",
      "---------\n",
      "Attempt: \"rice\" + 0.8\n",
      "---------\n",
      "<t>ricepie: Casirty Vegetha Salad\n",
      "\n",
      "<i>Ingredients:\n",
      "- 12 ounces Chilean Sea Bass (preferably 2 six-ounce fillets)\n",
      "- 1 tablespoon Minced garlic (roughly 3 cloves)\n",
      "- 1 tablespoon Fresh rosemary, minced\n",
      "- 1 tablespoon Chile powder\n",
      "- 1/4 teaspoon salt\n",
      "- 1/4 teaspoon white pepper\n",
      "- olive oil flavored cooking spray\n",
      "\n",
      "<d>Directions: Preheat oven to 325 ° F (165 ° C). Sift together twice: flour, baking powder, and salt and nutmeg at 375° for 10 to 125 minutes. Serve wather at yourf. Bake 15 minutes of thick bol-. Add cherry put ponks. Cook pastare over 45 minutes. Cool serve and the perning ___________________________________________________________________________________________________________________________________________________________________________________________________________________________________________________________________________________________________________________________________________________________________________________________________________________________________\n",
      "\n",
      "\n",
      "---------\n",
      "Attempt: \"rice\" + 0.4\n",
      "---------\n",
      "<t>ricepe: South Of The Border Dip\n",
      "\n",
      "<i>Ingredients:\n",
      "- 1/2 cups Slivered Almonds\n",
      "- 1/2 cups Unsweetened Shredded Coconut Plus Extra For Decorating\n",
      "- 4 ounces, weight Melting Chocolate\n",
      "- 36 Mini Eggs\n",
      "\n",
      "<d>Directions: Place almonds in a skillet and toast over medium-high heat for 3-4 minutes. Add shredded coconut and toast with almonds until lightly golden brown and fragrant. Scoop out about 1 tablespoon toasted coconut for decorating. Set aside. Break up a chocolate bar (or use melting _______________________________________________________________________________________________________________________________________________________________________________________________________________________________________________________________________________________________________________________________________________________________________________________________________________________________________________________________________________________________________________________________________\n",
      "\n",
      "\n",
      "---------\n",
      "Attempt: \"rice\" + 0.2\n",
      "---------\n",
      "<t>rice: Corn Bread\n",
      "\n",
      "<i>Ingredients:\n",
      "- 1/2 slices butter\n",
      "- 1/4 c. sugar\n",
      "- 1 can walnuts, crasserfled paw (I four over of large)\n",
      "- 1/4 small reasons, chopped\n",
      "- 1/4 tsp vanilla in argerdients\n",
      "- 1 tsp. vanilla\n",
      "\n",
      "<d>Directions: Grease an 8-inch square dish. Boil carrots in salted water, uncovered; simmer for 20 minutes or until tender. Drain carrots. Put oleo, eggs, sugar, flour, baking powder and vanilla in blender. Add carrots, a few at a time, and puree. Pour into prepared baking dish. Bake at ______________________________________________________________________________________________________________________________________________________________________________________________________________________________________________________________________________________________________________________________________________________________________________________________________________________________________________________________________________________________________________________________\n",
      "\n",
      "\n",
      "---------\n",
      "Attempt: \"shrimp\" + 1.0\n",
      "---------\n",
      "<t>shrimpe: Sour Cream\n",
      "\n",
      "<i>Ingredients:\n",
      "- 2 c. vanilla wafer crumbs\n",
      "- 1 small can frozen or orange juice\n",
      "- 1 c. lemon juice\n",
      "- 1/2 gg. water\n",
      "- 1 c. sugar\n",
      "- 4 eggs\n",
      "- 1 c. stropp ngeler, ceeder and chopped (1/2 sp.)\n",
      "- 1 1/2 c. sugar\n",
      "- 2 c. sliced romecolie, chopped\n",
      "- 1 cup zesher frozen in to fligr(sters\n",
      "- 1/2 lb slaged brease (rbyellors\n",
      "- 1/4 lb can chopped broccoli\n",
      "- last and grated\n",
      "- 2 1/2 c. fell- water to Jall of leam selies )\n",
      "- 2 tabspesporks cries\n",
      "- 2astacho pepper\n",
      "\n",
      "<d>Directions: Mix together brown broccoli, thar usca netr, grated pinta cheese. Brend sits carbery ta s ake nuttereatel trembersillor oil in dheppers froz. Pur in sala onion, stir conastens in sugar until slozes the the small duffin mox for pork, shreld bakes wheet cream cheese and\thone.\tRello greased. Gan in a serving pett._______________________________________________________________________________________________________________________________________________________________________________________________________________\n",
      "\n",
      "\n",
      "---------\n",
      "Attempt: \"shrimp\" + 0.8\n",
      "---------\n",
      "<t>shrimpe: Six Cup Fruit Salad\n",
      "\n",
      "<i>Ingredients:\n",
      "- 1 cup mandarin orange, drained\n",
      "- 1 cup pineapple chunk, drained\n",
      "- 1 cup angel flake coconut\n",
      "- 1 cup sour cream\n",
      "- 1 cup chopped nuts\n",
      "- 1 cup kinlain and milk\n",
      "- 1/3 to butcep, cornstarch\n",
      "- 1/2 c. meat for eshiving\n",
      "- 1/3 cup cider vinegar\n",
      "- 1/3 cup honey\n",
      "- 1/3 cup olive oil\n",
      "- 2 teaspoons salt\n",
      "- 1/2 teaspoon white pepper\n",
      "\n",
      "<d>Directions: Roll out pie dough on a lightly floured surface and knead 7 to 8 minutes. Grash 8 or notat. meat. Add chicken on tap 1/2-incho_________________________________________________________________________________________________________________________________________________________________________________________________________________________________________________________________________________________________________________________________________________________________________________________________________________________________________________________________________________________________________________\n",
      "\n",
      "\n",
      "---------\n",
      "Attempt: \"shrimp\" + 0.4\n",
      "---------\n",
      "<t>shrimpe: Strawberry \"Ice Cream\"\n",
      "\n",
      "<i>Ingredients:\n",
      "- 2 frozen bananas\n",
      "- 1 c. frozen strawberries\n",
      "- 1 tsp. vanilla ix cranberry 1/2 c. frozen grape (or 1/2 mead manuan\n",
      "- 1 car cream of chicken soup\n",
      "- 1 c. grated Longhorn cheese\n",
      "- 1/2 stick oleo\n",
      "- 4 slices toasted bread, crumbled\n",
      "\n",
      "<d>Directions: Cook chicken and take off of bones. Chop. Cook broccoli, chop up and drain. Butter 9 x 12-inch casserole dish. Put broccoli in dish, cover with the chopped chicken. Mix sour cream, soup and 3/4 cup cheese.____________________________________________________________________________________________________________________________________________________________________________________________________________________________________________________________________________________________________________________________________________________________________________________________________________________________________________________________________________________________________________________________\n",
      "\n",
      "\n",
      "---------\n",
      "Attempt: \"shrimp\" + 0.2\n",
      "---------\n",
      "<t>shrimpe: Sour Cream-Lemon Pie\n",
      "\n",
      "<i>Ingredients:\n",
      "- 1 1/2 cups all-purpose flour\n",
      "- 1 pounds boneless, skinless chicken thighs\n",
      "- 1 1/4 teaspoons salt, divided\n",
      "- 1/2 teaspoon freshly ground black pepper\n",
      "- 1 tablespoon olive oil, divided\n",
      "- 2 tablespoons barbeque seasoning, divided, or to taste\n",
      "- 2 pounds bulk Italian sausage\n",
      "- 1 cup finely shredded Cheddar and Monterey Jack cheese blend\n",
      "- 1/4 cup diced fresh jalapeno pepper (optional)\n",
      "- 2 green onions, thinly sliced\n",
      "- 4 cloves garlic, minced\n",
      "- 1 (12 ounce) bottle barbeque sauce, divided\n",
      "- wood chips, soaked\n",
      "\n",
      "<d>Directions: Stack and weave 1 1/2 pounds bacon slices into a 12-inch square lattice. Spow in strips and bowl. Add eggs, for and pumin. Add masharade onion, har in the bread flour and mix with cake pot. Sprinkle chips on top of caramel. Allow ch________________________________________________________________________________________________________________________________________________________________________________________________________\n",
      "\n",
      "\n",
      "---------\n",
      "Attempt: \"tomato\" + 1.0\n",
      "---------\n",
      "<t>tomatoes: Presheror Jello\n",
      "\n",
      "<i>Ingredients:\n",
      "- 1 1/2 ounces tenders, diced\n",
      "- 1/3 tsp. honey\n",
      "- 1/2 c. colf mushrooms, drained\n",
      "- 6 or. can tomito (oy or eggs, stirr whepper fresh more wite frize)\n",
      "- 1 can tonings (lange steace\n",
      "- 1 1/2 c. sliced fresh carrots\n",
      "- 1 c. may water\n",
      "- 3 c. sugar\n",
      "- 2 Tbsp. sugar\n",
      "- 1 c. sugar\n",
      "- 6 lng. jar seasoning inso sceles in stear for hat (Drineap)\n",
      "- Dres. garonc slarse\n",
      "- 2 Tbsp. raisina drain\n",
      "- 1 1/2 tsp. salt\n",
      "- 1 eggs, well beaten\n",
      "- 1 can chocolate syrup\n",
      "- 1 c. flourz, trained\n",
      "- 8 oz. lestro gill seap, cooked and drained\n",
      "- 1 (14 ounce) jar of hot pickled banana pepper rings, with juice\n",
      "\n",
      "<d>Directions: S. Dre sigerry baking sodaas on a medium spa. Cho bowle stir 1 boun. Boand 15 minutes on Hinghed.__________________________________________________________________________________________________________________________________________________________________________________________________________________________________________________________________________________\n",
      "\n",
      "\n",
      "---------\n",
      "Attempt: \"tomato\" + 0.8\n",
      "---------\n",
      "<t>tomatoes: Broccoli Casserole\n",
      "\n",
      "<i>Ingredients:\n",
      "- 1 whole egg, alvoradel\n",
      "- 1/2 tsp. salt\n",
      "- 1/8 tsp. pepper\n",
      "- 1 unbaked (9-inc) thisk) to rsinch then stals\n",
      "- 6 oz. can plase cheese\n",
      "- 2 1/2 c. flour\n",
      "- 3 c. slaw flour\n",
      "- 1/2 c. whipping cream, whipped\n",
      "- 1 1/2 tsp. vanilla\n",
      "\n",
      "<d>Directions: Grease ave in 1/2-inch thick. lasce ross the seved ad with temel- to te meature, ugrain salt over cream cheese of the dripped tomato all sour souce mixture. Cool bot water together torater harrace cheered over top of cream of heathed carrots and eggs, lemon juice, until urely medter. Add mix and cook for 2 minutes. Add beat. Lemon juices. Pour over fruit and mix.______________________________________________________________________________________________________________________________________________________________________________________________________________________________________________________________________________________________________________________________________________________________________\n",
      "\n",
      "\n",
      "---------\n",
      "Attempt: \"tomato\" + 0.4\n",
      "---------\n",
      "<t>tomatoesalions and Hot Brain Cake\n",
      "\n",
      "<i>Ingredients:\n",
      "- 1/2 c. oleo, melted\n",
      "- 1 c. powdered sugar\n",
      "- 1 angel food cake\n",
      "- 12 oz. carton Cool Whip\n",
      "- 1 can cherry pie filling\n",
      "\n",
      "<d>Directions: Break angel food cake into small pieces in square dish with lid. Add Cool Whip and mix with cake. Mix cream cheese and powdered sugar together and add to cake mixture. Add cherry pie filling on top. Chill._________________________________________________________________________________________________________________________________________________________________________________________________________________________________________________________________________________________________________________________________________________________________________________________________________________________________________________________________________________________________________________________________________________________________________________________________________________________________________\n",
      "\n",
      "\n",
      "---------\n",
      "Attempt: \"tomato\" + 0.2\n",
      "---------\n",
      "<t>tomatoesalions and mold in a diffingg pantage (4 ounchs dier coles, minced seads cheese\n",
      "\n",
      "<d>Directions: Cook fiod in a medium-size bowl, mix until bett and add this 1/8 tup oleo, stick salt pork ins a shellet with cream cheese mixture. Place remainder of pie filling on top.____________________________________________________________________________________________________________________________________________________________________________________________________________________________________________________________________________________________________________________________________________________________________________________________________________________________________________________________________________________________________________________________________________________________________________________________________________________________________________________________________________________________________________________________________________________________\n"
     ]
    }
   ],
   "source": [
    "input_ingredients1 = ['avocado', 'rice', 'shrimp', 'tomato'] \n",
    "generate_combinations(model_1_simplified, input_ingredients1)"
   ],
   "metadata": {
    "collapsed": false,
    "ExecuteTime": {
     "end_time": "2024-04-30T11:17:12.480547Z",
     "start_time": "2024-04-30T11:16:23.848151Z"
    }
   },
   "id": "19edf9b0c8895f5b"
  },
  {
   "cell_type": "code",
   "execution_count": 216,
   "outputs": [
    {
     "name": "stdout",
     "output_type": "stream",
     "text": [
      "---------\n",
      "Attempt: \"Mushroom\" + 1.0\n",
      "---------\n",
      "<t>Mushroomet And spinach Salad\n",
      "\n",
      "<i>Ingredients:\n",
      "- 1/4 pound chopped flour\n",
      "- 1 1/2 teaspoons baking powder\n",
      "- 1/2 teaspoon salt\n",
      "- darted: sout eggut\n",
      "- 1 1/2 cups pervet any olake juice (16 minutes) \n",
      "<t>Directions: Mix all ingredients together in oil in the fir6 laters. Add pasta to diping dish. To nuts your saucepan. Brist with sausage this by brotn side asmext 1 to 10 minutes. Frost bott. Place browning spreat and ole on sterd iet mix.____________________________________________________________________________________________________________________________________________________________________________________________________________________________________________________________________________________________________________________________________________________________________________________________________________________________________________________________________________________________________________________________________________________________________________________________\n",
      "\n",
      "\n",
      "---------\n",
      "Attempt: \"Mushroom\" + 0.8\n",
      "---------\n",
      "<t>Mushroominallaw Salade For Combies\n",
      "\n",
      "<i>Ingredients:\n",
      "- 1 small onion, chopped\n",
      "- 1 lb. mild sausage\n",
      "- 1 lb. Velveeta mild Mexican\n",
      "- 1 lb. Velveeta ice crumble (o live)\n",
      "- 1 (8 oz.) can musaraded crourd for 3 larges (pour salt) in straines)\n",
      "- 1 can mannash peer sald drained\n",
      "- 1 (8 oz.) pkg. cornstarch\n",
      "- 1/2 c. sugar\n",
      "- 2 Tbsp. flour\n",
      "- 1 tsp. baking powder\n",
      "- 1 tsp. salt\n",
      "- 2 eggs\n",
      "- 1 c. sugar (less, if desired\n",
      "- 3 Tbsp. flour\n",
      "- 1 tsp. baking powder\n",
      "- 1 tsp. salt\n",
      "- 2 eggs\n",
      "- 1 c. spring water\n",
      "- 3 c. cook 4 1/2 s. c. frozen carn\n",
      "- 1 c. milk\n",
      "- 1 small can Mandarin oranges, drained\n",
      "- 4 bonins cubars\n",
      "- 1 stalk ceperry dinger\n",
      "- 2 c. sugar\n",
      "- 2 Tbsp. flour\n",
      "- 1 tsp. salt\n",
      "- 1 tsp. vanilla\n",
      "- 1 c. milk (evaporated)\n",
      "\n",
      "<d>Directions: Cream oleo, shortening and sugar; add salt, veated can and onion. Heat stirs and edjuis. Die for baiting warger to a boil. Sit mild. Brend in together and add to cake mixture. Add cherry pie filling on top. Chill.__________________________________________________________________________\n",
      "\n",
      "\n",
      "---------\n",
      "Attempt: \"Mushroom\" + 0.4\n",
      "---------\n",
      "<t>Mushroom Plaute Fruit Spookid Cake\n",
      "\n",
      "<i>Ingredients:\n",
      "- 1 c. butter, slightly leame\n",
      "- 1 c. picken sweess on margarie, creamed\n",
      "- 1 1/2 cups beef stock\n",
      "- 1 jar (12 oz) marinated artichoke hearts, drained and halved\n",
      "- 1/2 cup jarred roasted red bell pepper, drained and thinly sliced\n",
      "- 1/4 cup preserved lemon peel, thinly sliced\n",
      "- 1/4 cup fresh flat-leaf parsley, coarsely ch_____________________________________________________________________________________________________________________________________________________________________________________________________________________________________________________________________________________________________________________________________________________________________________________________________________________________________________________________________________________________________________________________________________________________________________________________________________________________________________________________\n",
      "\n",
      "\n",
      "---------\n",
      "Attempt: \"Mushroom\" + 0.2\n",
      "---------\n",
      "<t>Mushroom Plades And Bored Cake\n",
      "\n",
      "<i>Ingredients:\n",
      "- 1 c. butter, softened\n",
      "- 2 1/2 c. sugar\n",
      "- 6 eggs\n",
      "- 3 c. plain flour\n",
      "- 1/2 c. whipping cream, whipped\n",
      "- 1 1/2 tsp. vanilla\n",
      "\n",
      "<d>Directions: Beat butter and sugar until light and fluffy. Add eggs, one at a time, beating 1 minute after each. Whip cream until stiff peaks form. Add flour and cream alternately, just until combined after each. Beat in vanilla. Pour batter in a greased 10-inch tube pan. Bake at 300° for 1 hour and 15 minutes. Cool for 10 m____________________________________________________________________________________________________________________________________________________________________________________________________________________________________________________________________________________________________________________________________________________________________________________________________________________________________________________________________________________________________________________________\n",
      "\n",
      "\n",
      "---------\n",
      "Attempt: \"Apple\" + 1.0\n",
      "---------\n",
      "<t>Appleions And thimberry And Cake Mix 1 box and powder in a sara no blender pap water and lish with tookes, conkes, and flave butter, ats to firting eggry mix mexture on serves 40.__________________________________________________________________________________________________________________________________________________________________________________________________________________________________________________________________________________________________________________________________________________________________________________________________________________________________________________________________________________________________________________________________________________________________________________________________________________________________________________________________________________________________________________________________________________________________________________________________________________________________________________________\n",
      "\n",
      "\n",
      "---------\n",
      "Attempt: \"Apple\" + 0.8\n",
      "---------\n",
      "<t>Apple: Pound Cake\n",
      "\n",
      "<i>Ingredients:\n",
      "- 1 peavs peas of mushroom soup or cream of chicken\n",
      "- 2 cans water\n",
      "- uncooked rice\n",
      "- 2 boxes chopped broccoli\n",
      "- salt\n",
      "\n",
      "<d>Directions: Cream together butter, cream cheese and\thondey white pasta and out oil ha dis boil. Add cherry put pon soft beats. Add eggs and beat well. Add chop coase flour hanilla chil in bottom of the Chill. Cover with sode side ___________________________________________________________________________________________________________________________________________________________________________________________________________________________________________________________________________________________________________________________________________________________________________________________________________________________________________________________________________________________________________________________________________________________________________________________________________________________________________\n",
      "\n",
      "\n",
      "---------\n",
      "Attempt: \"Apple\" + 0.4\n",
      "---------\n",
      "<t>Appled Poun Ched\n",
      "\n",
      "<i>Ingredients:\n",
      "- 1 cup flour\n",
      "- 1 cup (packed) brown sugar\n",
      "- 1/2 cup unsweetened cocoa powder\n",
      "- 1 Tbsp. instant coffee\n",
      "- 1 1/2 tsp. baking powder\n",
      "- 1/2 tsp. salt\n",
      "- 1/2 cup butterscotch chips\n",
      "- 1/2 cup milk\n",
      "- 2 Tbsp. vegetable oil\n",
      "- 1 tsp. vanilla extract\n",
      "- 1 cup hot water\n",
      "- whipped cream (optional)\n",
      "\n",
      "<d>Directions: Preheat oven to 350. Toss garlic with olive oil and place in oven dish, cover and roast for 15 minutes. Let cool and chop. Mix shrimp, goat cheese, egg _______________________________________________________________________________________________________________________________________________________________________________________________________________________________________________________________________________________________________________________________________________________________________________________________________________________________________________________________________________________________________________________________________\n",
      "\n",
      "\n",
      "---------\n",
      "Attempt: \"Apple\" + 0.2\n",
      "---------\n",
      "<t>Apple: Push Cossagute\n",
      "\n",
      "<i>Ingredients:\n",
      "- 2 lbs frozen chopped broccoli\n",
      "- 1 (8 oz. cart) flour\n",
      "- 1/4 c. white brown sugar\n",
      "- 1 1/2 cups bacon thop\n",
      "- 1 sall tomy to fals\n",
      "- 2 slices thick- bacon asp rass ast acoupen And mararge\n",
      "- 1/4 cup olive oil\n",
      "- 1/4 cup chopped green olives\n",
      "- 1/4 cup Chopped sun dried tomatoes\n",
      "- 1 tablespoon Capers\n",
      "- 2 tablespoons Olive oil\n",
      "\n",
      "<d>Directions: Add all ingredients to a food processor and pulse until you are left with a corse paste. Should be stored in a jar and kept in the fridge. This can be served right away but I recommend waiting a day or too for the flavors to really blend._______________________________________________________________________________________________________________________________________________________________________________________________________________________________________________________________________________________________________________________________________________________________________________________________________\n",
      "\n",
      "\n",
      "---------\n",
      "Attempt: \"Slow\" + 1.0\n",
      "---------\n",
      "<t>Slowece: Lasimar Sauce(Por And Pie Cass (1/2 Tbsp.)\n",
      "- 1 1/4 c. water\n",
      "- 3 eggs\n",
      "\n",
      "<d>Directions: Mix all ingredients together and chill for an hour. Adjust salt and pepper to taste just before serving.______________________________________________________________________________________________________________________________________________________________________________________________________________________________________________________________________________________________________________________________________________________________________________________________________________________________________________________________________________________________________________________________________________________________________________________________________________________________________________________________________________________________________________________________________________________________________________________________________________________________________\n",
      "\n",
      "\n",
      "---------\n",
      "Attempt: \"Slow\" + 0.8\n",
      "---------\n",
      "<t>Sloweece: Pressichoon S/4 1/2 cups (10-5 finute) cans layegh and 1/2 cup sugar\n",
      "- 2 tablespoons oil\n",
      "- 2 eggs, servis, cornstarch\n",
      "- 1/4 cup frozen cranberries, carrot-farsley cubes\n",
      "- 1 teaspoon crushed red pepper flakes (optional)\n",
      "- 4 tablespoons flour\n",
      "- 3 1/2 cups chicken broth\n",
      "- 3/4 cup wat_________________________________________________________________________________________________________________________________________________________________________________________________________________________________________________________________________________________________________________________________________________________________________________________________________________________________________________________________________________________________________________________________________________________________________________________________________________________________________________________________________________________________________________________________________\n",
      "\n",
      "\n",
      "---------\n",
      "Attempt: \"Slow\" + 0.4\n",
      "---------\n",
      "<t>Slowederins: Presher Topest\n",
      "\n",
      "<i>Ingredients:\n",
      "- 1 cup pan water\n",
      "- 1 1/2 c. sugar\n",
      "- 1 1/2 tsp. allord sugar\n",
      "- 1 c. flour\n",
      "- 1 tsp. baking soda\n",
      "- 1 tsp. lay (lay feat for 1 car)\n",
      "- 2 medium onions, chopped\n",
      "- 1 c. flour\n",
      "- 3 tsp. baking soda\n",
      "- 2 tsp. baking powder\n",
      "- 1 tsp. salt\n",
      "- 2 eggs\n",
      "- 1 c. strong black coffee or 2 tsp. instant coffee plus 1 c. boiling water\n",
      "- 1 c. buttermilk\n",
      "- 1/2 c. oil\n",
      "- 1 tsp. vanilla\n",
      "\n",
      "<d>Directions: Cream margarine and sugar together. Add eggs and beat well. Add chocolate syrup. Gradually add flour and salt and beat. Add vanilla. Bake in a 9 x 13-inch pan that has been greased and floured. Bake for 30 minutes at 350°. Let cool._______________________________________________________________________________________________________________________________________________________________________________________________________________________________________________________________________________________________________________________________________________________________\n",
      "\n",
      "\n",
      "---------\n",
      "Attempt: \"Slow\" + 0.2\n",
      "---------\n",
      "<t>Slowered And sauce (about 1/2 heas)\n",
      "- 1 can pineapple juice\n",
      "- 1 can orange juice\n",
      "- 1 c. lemon juice\n",
      "- 1 (1/2 gal.) carton orange sherbet\n",
      "- 1 qt. ginger ale, chilled\n",
      "\n",
      "<d>Directions: Dissolve gelatin in boiling water. Add sugar and stir until dissolved. Add cold water. Combine juices and add to Jell-O mixture. Chill. Spoon sherbet into punch and add ginger ale just before serving. Serves 40.____________________________________________________________________________________________________________________________________________________________________________________________________________________________________________________________________________________________________________________________________________________________________________________________________________________________________________________________________________________________________________________________________________________________________________________________________________________________________\n",
      "\n",
      "\n",
      "---------\n",
      "Attempt: \"Banana\" + 1.0\n",
      "---------\n",
      "<t>Bananay Bulls\n",
      "\n",
      "<i>Ingredients:\n",
      "- 1 lb. ground cheese\n",
      "- 1/4 c. chopped onion\n",
      "- 1/2 tsp. dried basil\n",
      "- 1/2 tsp. salt\n",
      "- 1/8 tsp. corns\n",
      "- 1/2 c. shret enga\n",
      "- 2 c. masim water\n",
      "- 1 c. Bicon tomstish chunks\n",
      "- 1 teaspoon Whiped soy cheese\n",
      "\n",
      "<d>Directions: Grill checreat the potatoes. Mincomaw vegetable or 1 cuples, until seals. Add meltained brown pour and sore dering. Stir botsomi laye che chens._______________________________________________________________________________________________________________________________________________________________________________________________________________________________________________________________________________________________________________________________________________________________________________________________________________________________________________________________________________________________________________________________________________________________________________________________________________________________________\n",
      "\n",
      "\n",
      "---------\n",
      "Attempt: \"Banana\" + 0.8\n",
      "---------\n",
      "<t>Bananas: Prush Tomato pous on walnuspon bake and stir until dissolved. Add fruit and put in oiled mold._______________________________________________________________________________________________________________________________________________________________________________________________________________________________________________________________________________________________________________________________________________________________________________________________________________________________________________________________________________________________________________________________________________________________________________________________________________________________________________________________________________________________________________________________________________________________________________________________________________________________________________________________________________________________________________________________________\n",
      "\n",
      "\n",
      "---------\n",
      "Attempt: \"Banana\" + 0.4\n",
      "---------\n",
      "<t>Bananas: Ita Flish Allot pears (fore for 25 minutes until golden. Add onions and salt pork to saucepan. Add potatoes and water to cover. Cook until potatoes are tender. Add evaporated milk. Heat to serv____________________________________________________________________________________________________________________________________________________________________________________________________________________________________________________________________________________________________________________________________________________________________________________________________________________________________________________________________________________________________________________________________________________________________________________________________________________________________________________________________________________________________________________________________________________________________________________________________________________________________\n",
      "\n",
      "\n",
      "---------\n",
      "Attempt: \"Banana\" + 0.2\n",
      "---------\n",
      "<t>Bananas: Inta File Foll in a medium bowl at mish)\n",
      "- 4 sprays canrots\n",
      "- 1 cup sugar\n",
      "- 2 large eggs\n",
      "- 1 cup buttermilk\n",
      "\n",
      "<d>Directions: Grease a 9-by-13-inch baking pan. Whisk together flour, baking powder, baking soda, salt and 1 tsp. cinnamon in a me_____________________________________________________________________________________________________________________________________________________________________________________________________________________________________________________________________________________________________________________________________________________________________________________________________________________________________________________________________________________________________________________________________________________________________________________________________________________________________________________________________________________________________________________________________________________________________________________\n",
      "\n",
      "\n",
      "---------\n",
      "Attempt: \"Homemade\" + 1.0\n",
      "---------\n",
      "<t>Homemade BunAd Bread With Corezey\n",
      "\n",
      "<i>Ingredients:\n",
      "- 1 pug. (RoT Bowere)\n",
      "\n",
      "<D>Directions: Combine all firling ingredients, steep for 2-mince serve. Mix 1/2 cup flour and mix until nit pan. Cook and flour and sugar to heat ly ground. But an cook form the darill. Stir in ccrambersely slice. Bake in a 95 x 13-inch baking dish. Set aside 1 zour caco and nuts. Mix well. Rus. Pour into 2 greased poat. Wh________________________________________________________________________________________________________________________________________________________________________________________________________________________________________________________________________________________________________________________________________________________________________________________________________________________________________________________________________________________________________________________________________________________________________________________________________________________________\n",
      "\n",
      "\n",
      "---------\n",
      "Attempt: \"Homemade\" + 0.8\n",
      "---------\n",
      "<t>Homemade: Chocolate Chipse\n",
      "\n",
      "<i>Ingredients:\n",
      "- 1 large chopped froun\n",
      "- 1/2 c. white verneap\n",
      "- 1/8 c. mind\n",
      "- 2 Tbsp. cornsalt\n",
      "- 1/2 tsp. salt\n",
      "- 1 tsp. vanilla\n",
      "\n",
      "<d>Directions: Q. Dressing: combine dressing ingredients and whisk until blended. Serves 6 to 8.__________________________________________________________________________________________________________________________________________________________________________________________________________________________________________________________________________________________________________________________________________________________________________________________________________________________________________________________________________________________________________________________________________________________________________________________________________________________________________________________________________________________________________________________________________________________________________________\n",
      "\n",
      "\n",
      "---------\n",
      "Attempt: \"Homemade\" + 0.4\n",
      "---------\n",
      "<t>Homemadelanusa Fruit Rometo\n",
      "\n",
      "<i>Ingredients:\n",
      "- 1 cup milk and vanilla\n",
      "- 1/2 cup KRAFT Light Zesty Italian Dressing\n",
      "- 1 can (12 oz.) or 2 cans (6 oz. each) white tuna in water, drained\n",
      "- 1 cup KRAFT 2% Milk Shredded Sharp Cheddar Cheese, divided\n",
      "\n",
      "<d>Directions: oven to 375°F. vegetables in colander in sink. Cook Macaroni as dire_______________________________________________________________________________________________________________________________________________________________________________________________________________________________________________________________________________________________________________________________________________________________________________________________________________________________________________________________________________________________________________________________________________________________________________________________________________________________________________________________________________________________________\n",
      "\n",
      "\n",
      "---------\n",
      "Attempt: \"Homemade\" + 0.2\n",
      "---------\n",
      "<t>Homemade: Bake Band\n",
      "\n",
      "<i>Ingredients:\n",
      "- 1 c. butter, softened\n",
      "- 2 1/2 c. sugar\n",
      "- 6 eggs\n",
      "- 3 c. plain flour\n",
      "- 1/2 c. whipping cream, whipped\n",
      "- 1 1/2 tsp. vanilla\n",
      "\n",
      "<d>Directions: Beat butter and sugar until light and fluffy. Add eggs, one at a time, beating 1 minute after each. Whip cream until stiff peaks form. Add flour and cream alternately, just until combined after each. Beat in vanilla. Pour batter in a greased 10-inch tube pan. Bake at 300° for 1 hour and 15 minutes. Cool for 10 m_______________________________________________________________________________________________________________________________________________________________________________________________________________________________________________________________________________________________________________________________________________________________________________________________________________________________________________________________________________________________________________________________________\n"
     ]
    }
   ],
   "source": [
    "input_ingredients2 = ['Mushroom', 'Apple', 'Slow', 'Banana', 'Homemade']\n",
    "generate_combinations(model_1_simplified, input_ingredients2)"
   ],
   "metadata": {
    "collapsed": false,
    "ExecuteTime": {
     "start_time": "2024-04-30T11:13:45.753035Z"
    }
   },
   "id": "4954eef4d3a076cd"
  },
  {
   "cell_type": "code",
   "execution_count": null,
   "outputs": [],
   "source": [
    "input_ingredients1 = ['avocado', 'rice', 'shrimp', 'tomato'] \n",
    "generate_combinations(model_1_simplified, input_ingredients1)"
   ],
   "metadata": {
    "collapsed": false
   },
   "id": "5bf61eb027fac57f"
  },
  {
   "cell_type": "markdown",
   "source": [
    "## Save"
   ],
   "metadata": {
    "collapsed": false
   },
   "id": "ba887a464ca4cb81"
  },
  {
   "cell_type": "code",
   "execution_count": 223,
   "outputs": [
    {
     "name": "stdout",
     "output_type": "stream",
     "text": [
      "[NbConvertApp] WARNING | Config option `kernel_spec_manager_class` not recognized by `NbConvertApp`.\r\n",
      "[NbConvertApp] WARNING | pattern './nlp/P2R_T5.ipynb' matched no files\r\n",
      "This application is used to convert notebook files (*.ipynb)\r\n",
      "        to various other formats.\r\n",
      "\r\n",
      "        WARNING: THE COMMANDLINE INTERFACE MAY CHANGE IN FUTURE RELEASES.\r\n",
      "\r\n",
      "Options\r\n",
      "=======\r\n",
      "The options below are convenience aliases to configurable class-options,\r\n",
      "as listed in the \"Equivalent to\" description-line of the aliases.\r\n",
      "To see all configurable class-options for some <cmd>, use:\r\n",
      "    <cmd> --help-all\r\n",
      "\r\n",
      "--debug\r\n",
      "    set log level to logging.DEBUG (maximize logging output)\r\n",
      "    Equivalent to: [--Application.log_level=10]\r\n",
      "--show-config\r\n",
      "    Show the application's configuration (human-readable format)\r\n",
      "    Equivalent to: [--Application.show_config=True]\r\n",
      "--show-config-json\r\n",
      "    Show the application's configuration (json format)\r\n",
      "    Equivalent to: [--Application.show_config_json=True]\r\n",
      "--generate-config\r\n",
      "    generate default config file\r\n",
      "    Equivalent to: [--JupyterApp.generate_config=True]\r\n",
      "-y\r\n",
      "    Answer yes to any questions instead of prompting.\r\n",
      "    Equivalent to: [--JupyterApp.answer_yes=True]\r\n",
      "--execute\r\n",
      "    Execute the notebook prior to export.\r\n",
      "    Equivalent to: [--ExecutePreprocessor.enabled=True]\r\n",
      "--allow-errors\r\n",
      "    Continue notebook execution even if one of the cells throws an error and include the error message in the cell output (the default behaviour is to abort conversion). This flag is only relevant if '--execute' was specified, too.\r\n",
      "    Equivalent to: [--ExecutePreprocessor.allow_errors=True]\r\n",
      "--stdin\r\n",
      "    read a single notebook file from stdin. Write the resulting notebook with default basename 'notebook.*'\r\n",
      "    Equivalent to: [--NbConvertApp.from_stdin=True]\r\n",
      "--stdout\r\n",
      "    Write notebook output to stdout instead of files.\r\n",
      "    Equivalent to: [--NbConvertApp.writer_class=StdoutWriter]\r\n",
      "--inplace\r\n",
      "    Run nbconvert in place, overwriting the existing notebook (only\r\n",
      "            relevant when converting to notebook format)\r\n",
      "    Equivalent to: [--NbConvertApp.use_output_suffix=False --NbConvertApp.export_format=notebook --FilesWriter.build_directory=]\r\n",
      "--clear-output\r\n",
      "    Clear output of current file and save in place,\r\n",
      "            overwriting the existing notebook.\r\n",
      "    Equivalent to: [--NbConvertApp.use_output_suffix=False --NbConvertApp.export_format=notebook --FilesWriter.build_directory= --ClearOutputPreprocessor.enabled=True]\r\n",
      "--no-prompt\r\n",
      "    Exclude input and output prompts from converted document.\r\n",
      "    Equivalent to: [--TemplateExporter.exclude_input_prompt=True --TemplateExporter.exclude_output_prompt=True]\r\n",
      "--no-input\r\n",
      "    Exclude input cells and output prompts from converted document.\r\n",
      "            This mode is ideal for generating code-free reports.\r\n",
      "    Equivalent to: [--TemplateExporter.exclude_output_prompt=True --TemplateExporter.exclude_input=True --TemplateExporter.exclude_input_prompt=True]\r\n",
      "--allow-chromium-download\r\n",
      "    Whether to allow downloading chromium if no suitable version is found on the system.\r\n",
      "    Equivalent to: [--WebPDFExporter.allow_chromium_download=True]\r\n",
      "--disable-chromium-sandbox\r\n",
      "    Disable chromium security sandbox when converting to PDF..\r\n",
      "    Equivalent to: [--WebPDFExporter.disable_sandbox=True]\r\n",
      "--show-input\r\n",
      "    Shows code input. This flag is only useful for dejavu users.\r\n",
      "    Equivalent to: [--TemplateExporter.exclude_input=False]\r\n",
      "--embed-images\r\n",
      "    Embed the images as base64 dataurls in the output. This flag is only useful for the HTML/WebPDF/Slides exports.\r\n",
      "    Equivalent to: [--HTMLExporter.embed_images=True]\r\n",
      "--sanitize-html\r\n",
      "    Whether the HTML in Markdown cells and cell outputs should be sanitized..\r\n",
      "    Equivalent to: [--HTMLExporter.sanitize_html=True]\r\n",
      "--log-level=<Enum>\r\n",
      "    Set the log level by value or name.\r\n",
      "    Choices: any of [0, 10, 20, 30, 40, 50, 'DEBUG', 'INFO', 'WARN', 'ERROR', 'CRITICAL']\r\n",
      "    Default: 30\r\n",
      "    Equivalent to: [--Application.log_level]\r\n",
      "--config=<Unicode>\r\n",
      "    Full path of a config file.\r\n",
      "    Default: ''\r\n",
      "    Equivalent to: [--JupyterApp.config_file]\r\n",
      "--to=<Unicode>\r\n",
      "    The export format to be used, either one of the built-in formats\r\n",
      "            ['PDFviaHTML', 'asciidoc', 'custom', 'html', 'latex', 'markdown', 'notebook', 'pdf', 'pdfviahtml', 'python', 'qtpdf', 'qtpng', 'rst', 'script', 'slides', 'webpdf']\r\n",
      "            or a dotted object name that represents the import path for an\r\n",
      "            ``Exporter`` class\r\n",
      "    Default: ''\r\n",
      "    Equivalent to: [--NbConvertApp.export_format]\r\n",
      "--template=<Unicode>\r\n",
      "    Name of the template to use\r\n",
      "    Default: ''\r\n",
      "    Equivalent to: [--TemplateExporter.template_name]\r\n",
      "--template-file=<Unicode>\r\n",
      "    Name of the template file to use\r\n",
      "    Default: None\r\n",
      "    Equivalent to: [--TemplateExporter.template_file]\r\n",
      "--theme=<Unicode>\r\n",
      "    Template specific theme(e.g. the name of a JupyterLab CSS theme distributed\r\n",
      "    as prebuilt extension for the lab template)\r\n",
      "    Default: 'light'\r\n",
      "    Equivalent to: [--HTMLExporter.theme]\r\n",
      "--sanitize_html=<Bool>\r\n",
      "    Whether the HTML in Markdown cells and cell outputs should be sanitized.This\r\n",
      "    should be set to True by nbviewer or similar tools.\r\n",
      "    Default: False\r\n",
      "    Equivalent to: [--HTMLExporter.sanitize_html]\r\n",
      "--writer=<DottedObjectName>\r\n",
      "    Writer class used to write the\r\n",
      "                                        results of the conversion\r\n",
      "    Default: 'FilesWriter'\r\n",
      "    Equivalent to: [--NbConvertApp.writer_class]\r\n",
      "--post=<DottedOrNone>\r\n",
      "    PostProcessor class used to write the\r\n",
      "                                        results of the conversion\r\n",
      "    Default: ''\r\n",
      "    Equivalent to: [--NbConvertApp.postprocessor_class]\r\n",
      "--output=<Unicode>\r\n",
      "    Overwrite base name use for output files.\r\n",
      "                Supports pattern replacements '{notebook_name}'.\r\n",
      "    Default: '{notebook_name}'\r\n",
      "    Equivalent to: [--NbConvertApp.output_base]\r\n",
      "--output-dir=<Unicode>\r\n",
      "    Directory to write output(s) to. Defaults\r\n",
      "                                  to output to the directory of each notebook. To recover\r\n",
      "                                  previous default behaviour (outputting to the current\r\n",
      "                                  working directory) use . as the flag value.\r\n",
      "    Default: ''\r\n",
      "    Equivalent to: [--FilesWriter.build_directory]\r\n",
      "--reveal-prefix=<Unicode>\r\n",
      "    The URL prefix for reveal.js (version 3.x).\r\n",
      "            This defaults to the reveal CDN, but can be any url pointing to a copy\r\n",
      "            of reveal.js.\r\n",
      "            For speaker notes to work, this must be a relative path to a local\r\n",
      "            copy of reveal.js: e.g., \"reveal.js\".\r\n",
      "            If a relative path is given, it must be a subdirectory of the\r\n",
      "            current directory (from which the server is run).\r\n",
      "            See the usage documentation\r\n",
      "            (https://nbconvert.readthedocs.io/en/latest/usage.html#reveal-js-html-slideshow)\r\n",
      "            for more details.\r\n",
      "    Default: ''\r\n",
      "    Equivalent to: [--SlidesExporter.reveal_url_prefix]\r\n",
      "--nbformat=<Enum>\r\n",
      "    The nbformat version to write.\r\n",
      "            Use this to downgrade notebooks.\r\n",
      "    Choices: any of [1, 2, 3, 4]\r\n",
      "    Default: 4\r\n",
      "    Equivalent to: [--NotebookExporter.nbformat_version]\r\n",
      "\r\n",
      "Examples\r\n",
      "--------\r\n",
      "\r\n",
      "    The simplest way to use nbconvert is\r\n",
      "\r\n",
      "            > jupyter nbconvert mynotebook.ipynb --to html\r\n",
      "\r\n",
      "            Options include ['PDFviaHTML', 'asciidoc', 'custom', 'html', 'latex', 'markdown', 'notebook', 'pdf', 'pdfviahtml', 'python', 'qtpdf', 'qtpng', 'rst', 'script', 'slides', 'webpdf'].\r\n",
      "\r\n",
      "            > jupyter nbconvert --to latex mynotebook.ipynb\r\n",
      "\r\n",
      "            Both HTML and LaTeX support multiple output templates. LaTeX includes\r\n",
      "            'base', 'article' and 'report'.  HTML includes 'basic', 'lab' and\r\n",
      "            'classic'. You can specify the flavor of the format used.\r\n",
      "\r\n",
      "            > jupyter nbconvert --to html --template lab mynotebook.ipynb\r\n",
      "\r\n",
      "            You can also pipe the output to stdout, rather than a file\r\n",
      "\r\n",
      "            > jupyter nbconvert mynotebook.ipynb --stdout\r\n",
      "\r\n",
      "            PDF is generated via latex\r\n",
      "\r\n",
      "            > jupyter nbconvert mynotebook.ipynb --to pdf\r\n",
      "\r\n",
      "            You can get (and serve) a Reveal.js-powered slideshow\r\n",
      "\r\n",
      "            > jupyter nbconvert myslides.ipynb --to slides --post serve\r\n",
      "\r\n",
      "            Multiple notebooks can be given at the command line in a couple of\r\n",
      "            different ways:\r\n",
      "\r\n",
      "            > jupyter nbconvert notebook*.ipynb\r\n",
      "            > jupyter nbconvert notebook1.ipynb notebook2.ipynb\r\n",
      "\r\n",
      "            or you can specify the notebooks list in a config file, containing::\r\n",
      "\r\n",
      "                c.NbConvertApp.notebooks = [\"my_notebook.ipynb\"]\r\n",
      "\r\n",
      "            > jupyter nbconvert --config mycfg.py\r\n",
      "\r\n",
      "To see all available configurables, use `--help-all`.\r\n",
      "\r\n",
      "[NbConvertApp] WARNING | Config option `kernel_spec_manager_class` not recognized by `NbConvertApp`.\r\n",
      "[NbConvertApp] WARNING | pattern './nlp/P2R_T5.ipynb' matched no files\r\n",
      "This application is used to convert notebook files (*.ipynb)\r\n",
      "        to various other formats.\r\n",
      "\r\n",
      "        WARNING: THE COMMANDLINE INTERFACE MAY CHANGE IN FUTURE RELEASES.\r\n",
      "\r\n",
      "Options\r\n",
      "=======\r\n",
      "The options below are convenience aliases to configurable class-options,\r\n",
      "as listed in the \"Equivalent to\" description-line of the aliases.\r\n",
      "To see all configurable class-options for some <cmd>, use:\r\n",
      "    <cmd> --help-all\r\n",
      "\r\n",
      "--debug\r\n",
      "    set log level to logging.DEBUG (maximize logging output)\r\n",
      "    Equivalent to: [--Application.log_level=10]\r\n",
      "--show-config\r\n",
      "    Show the application's configuration (human-readable format)\r\n",
      "    Equivalent to: [--Application.show_config=True]\r\n",
      "--show-config-json\r\n",
      "    Show the application's configuration (json format)\r\n",
      "    Equivalent to: [--Application.show_config_json=True]\r\n",
      "--generate-config\r\n",
      "    generate default config file\r\n",
      "    Equivalent to: [--JupyterApp.generate_config=True]\r\n",
      "-y\r\n",
      "    Answer yes to any questions instead of prompting.\r\n",
      "    Equivalent to: [--JupyterApp.answer_yes=True]\r\n",
      "--execute\r\n",
      "    Execute the notebook prior to export.\r\n",
      "    Equivalent to: [--ExecutePreprocessor.enabled=True]\r\n",
      "--allow-errors\r\n",
      "    Continue notebook execution even if one of the cells throws an error and include the error message in the cell output (the default behaviour is to abort conversion). This flag is only relevant if '--execute' was specified, too.\r\n",
      "    Equivalent to: [--ExecutePreprocessor.allow_errors=True]\r\n",
      "--stdin\r\n",
      "    read a single notebook file from stdin. Write the resulting notebook with default basename 'notebook.*'\r\n",
      "    Equivalent to: [--NbConvertApp.from_stdin=True]\r\n",
      "--stdout\r\n",
      "    Write notebook output to stdout instead of files.\r\n",
      "    Equivalent to: [--NbConvertApp.writer_class=StdoutWriter]\r\n",
      "--inplace\r\n",
      "    Run nbconvert in place, overwriting the existing notebook (only\r\n",
      "            relevant when converting to notebook format)\r\n",
      "    Equivalent to: [--NbConvertApp.use_output_suffix=False --NbConvertApp.export_format=notebook --FilesWriter.build_directory=]\r\n",
      "--clear-output\r\n",
      "    Clear output of current file and save in place,\r\n",
      "            overwriting the existing notebook.\r\n",
      "    Equivalent to: [--NbConvertApp.use_output_suffix=False --NbConvertApp.export_format=notebook --FilesWriter.build_directory= --ClearOutputPreprocessor.enabled=True]\r\n",
      "--no-prompt\r\n",
      "    Exclude input and output prompts from converted document.\r\n",
      "    Equivalent to: [--TemplateExporter.exclude_input_prompt=True --TemplateExporter.exclude_output_prompt=True]\r\n",
      "--no-input\r\n",
      "    Exclude input cells and output prompts from converted document.\r\n",
      "            This mode is ideal for generating code-free reports.\r\n",
      "    Equivalent to: [--TemplateExporter.exclude_output_prompt=True --TemplateExporter.exclude_input=True --TemplateExporter.exclude_input_prompt=True]\r\n",
      "--allow-chromium-download\r\n",
      "    Whether to allow downloading chromium if no suitable version is found on the system.\r\n",
      "    Equivalent to: [--WebPDFExporter.allow_chromium_download=True]\r\n",
      "--disable-chromium-sandbox\r\n",
      "    Disable chromium security sandbox when converting to PDF..\r\n",
      "    Equivalent to: [--WebPDFExporter.disable_sandbox=True]\r\n",
      "--show-input\r\n",
      "    Shows code input. This flag is only useful for dejavu users.\r\n",
      "    Equivalent to: [--TemplateExporter.exclude_input=False]\r\n",
      "--embed-images\r\n",
      "    Embed the images as base64 dataurls in the output. This flag is only useful for the HTML/WebPDF/Slides exports.\r\n",
      "    Equivalent to: [--HTMLExporter.embed_images=True]\r\n",
      "--sanitize-html\r\n",
      "    Whether the HTML in Markdown cells and cell outputs should be sanitized..\r\n",
      "    Equivalent to: [--HTMLExporter.sanitize_html=True]\r\n",
      "--log-level=<Enum>\r\n",
      "    Set the log level by value or name.\r\n",
      "    Choices: any of [0, 10, 20, 30, 40, 50, 'DEBUG', 'INFO', 'WARN', 'ERROR', 'CRITICAL']\r\n",
      "    Default: 30\r\n",
      "    Equivalent to: [--Application.log_level]\r\n",
      "--config=<Unicode>\r\n",
      "    Full path of a config file.\r\n",
      "    Default: ''\r\n",
      "    Equivalent to: [--JupyterApp.config_file]\r\n",
      "--to=<Unicode>\r\n",
      "    The export format to be used, either one of the built-in formats\r\n",
      "            ['PDFviaHTML', 'asciidoc', 'custom', 'html', 'latex', 'markdown', 'notebook', 'pdf', 'pdfviahtml', 'python', 'qtpdf', 'qtpng', 'rst', 'script', 'slides', 'webpdf']\r\n",
      "            or a dotted object name that represents the import path for an\r\n",
      "            ``Exporter`` class\r\n",
      "    Default: ''\r\n",
      "    Equivalent to: [--NbConvertApp.export_format]\r\n",
      "--template=<Unicode>\r\n",
      "    Name of the template to use\r\n",
      "    Default: ''\r\n",
      "    Equivalent to: [--TemplateExporter.template_name]\r\n",
      "--template-file=<Unicode>\r\n",
      "    Name of the template file to use\r\n",
      "    Default: None\r\n",
      "    Equivalent to: [--TemplateExporter.template_file]\r\n",
      "--theme=<Unicode>\r\n",
      "    Template specific theme(e.g. the name of a JupyterLab CSS theme distributed\r\n",
      "    as prebuilt extension for the lab template)\r\n",
      "    Default: 'light'\r\n",
      "    Equivalent to: [--HTMLExporter.theme]\r\n",
      "--sanitize_html=<Bool>\r\n",
      "    Whether the HTML in Markdown cells and cell outputs should be sanitized.This\r\n",
      "    should be set to True by nbviewer or similar tools.\r\n",
      "    Default: False\r\n",
      "    Equivalent to: [--HTMLExporter.sanitize_html]\r\n",
      "--writer=<DottedObjectName>\r\n",
      "    Writer class used to write the\r\n",
      "                                        results of the conversion\r\n",
      "    Default: 'FilesWriter'\r\n",
      "    Equivalent to: [--NbConvertApp.writer_class]\r\n",
      "--post=<DottedOrNone>\r\n",
      "    PostProcessor class used to write the\r\n",
      "                                        results of the conversion\r\n",
      "    Default: ''\r\n",
      "    Equivalent to: [--NbConvertApp.postprocessor_class]\r\n",
      "--output=<Unicode>\r\n",
      "    Overwrite base name use for output files.\r\n",
      "                Supports pattern replacements '{notebook_name}'.\r\n",
      "    Default: '{notebook_name}'\r\n",
      "    Equivalent to: [--NbConvertApp.output_base]\r\n",
      "--output-dir=<Unicode>\r\n",
      "    Directory to write output(s) to. Defaults\r\n",
      "                                  to output to the directory of each notebook. To recover\r\n",
      "                                  previous default behaviour (outputting to the current\r\n",
      "                                  working directory) use . as the flag value.\r\n",
      "    Default: ''\r\n",
      "    Equivalent to: [--FilesWriter.build_directory]\r\n",
      "--reveal-prefix=<Unicode>\r\n",
      "    The URL prefix for reveal.js (version 3.x).\r\n",
      "            This defaults to the reveal CDN, but can be any url pointing to a copy\r\n",
      "            of reveal.js.\r\n",
      "            For speaker notes to work, this must be a relative path to a local\r\n",
      "            copy of reveal.js: e.g., \"reveal.js\".\r\n",
      "            If a relative path is given, it must be a subdirectory of the\r\n",
      "            current directory (from which the server is run).\r\n",
      "            See the usage documentation\r\n",
      "            (https://nbconvert.readthedocs.io/en/latest/usage.html#reveal-js-html-slideshow)\r\n",
      "            for more details.\r\n",
      "    Default: ''\r\n",
      "    Equivalent to: [--SlidesExporter.reveal_url_prefix]\r\n",
      "--nbformat=<Enum>\r\n",
      "    The nbformat version to write.\r\n",
      "            Use this to downgrade notebooks.\r\n",
      "    Choices: any of [1, 2, 3, 4]\r\n",
      "    Default: 4\r\n",
      "    Equivalent to: [--NotebookExporter.nbformat_version]\r\n",
      "\r\n",
      "Examples\r\n",
      "--------\r\n",
      "\r\n",
      "    The simplest way to use nbconvert is\r\n",
      "\r\n",
      "            > jupyter nbconvert mynotebook.ipynb --to html\r\n",
      "\r\n",
      "            Options include ['PDFviaHTML', 'asciidoc', 'custom', 'html', 'latex', 'markdown', 'notebook', 'pdf', 'pdfviahtml', 'python', 'qtpdf', 'qtpng', 'rst', 'script', 'slides', 'webpdf'].\r\n",
      "\r\n",
      "            > jupyter nbconvert --to latex mynotebook.ipynb\r\n",
      "\r\n",
      "            Both HTML and LaTeX support multiple output templates. LaTeX includes\r\n",
      "            'base', 'article' and 'report'.  HTML includes 'basic', 'lab' and\r\n",
      "            'classic'. You can specify the flavor of the format used.\r\n",
      "\r\n",
      "            > jupyter nbconvert --to html --template lab mynotebook.ipynb\r\n",
      "\r\n",
      "            You can also pipe the output to stdout, rather than a file\r\n",
      "\r\n",
      "            > jupyter nbconvert mynotebook.ipynb --stdout\r\n",
      "\r\n",
      "            PDF is generated via latex\r\n",
      "\r\n",
      "            > jupyter nbconvert mynotebook.ipynb --to pdf\r\n",
      "\r\n",
      "            You can get (and serve) a Reveal.js-powered slideshow\r\n",
      "\r\n",
      "            > jupyter nbconvert myslides.ipynb --to slides --post serve\r\n",
      "\r\n",
      "            Multiple notebooks can be given at the command line in a couple of\r\n",
      "            different ways:\r\n",
      "\r\n",
      "            > jupyter nbconvert notebook*.ipynb\r\n",
      "            > jupyter nbconvert notebook1.ipynb notebook2.ipynb\r\n",
      "\r\n",
      "            or you can specify the notebooks list in a config file, containing::\r\n",
      "\r\n",
      "                c.NbConvertApp.notebooks = [\"my_notebook.ipynb\"]\r\n",
      "\r\n",
      "            > jupyter nbconvert --config mycfg.py\r\n",
      "\r\n",
      "To see all available configurables, use `--help-all`.\r\n",
      "\r\n"
     ]
    }
   ],
   "source": [
    "# !pip install -U notebook-as-pdf\n",
    "# !conda install -c conda-forge pandoc\n",
    "\n",
    "nb_name = f\"./nlp/P2R_T5.ipynb\"  # notebook name\n",
    "!jupyter-nbconvert --to pdf ./nlp/P2R_T5.ipynb\n",
    "!jupyter-nbconvert --to html ./nlp/P2R_T5.ipynb"
   ],
   "metadata": {
    "collapsed": false,
    "ExecuteTime": {
     "end_time": "2024-04-30T11:56:38.341287Z",
     "start_time": "2024-04-30T11:56:36.938176Z"
    }
   },
   "id": "298e8ba32d3729c7"
  },
  {
   "cell_type": "code",
   "execution_count": 222,
   "outputs": [
    {
     "name": "stdout",
     "output_type": "stream",
     "text": [
      "[NbConvertApp] WARNING | Config option `kernel_spec_manager_class` not recognized by `NbConvertApp`.\r\n",
      "[NbConvertApp] WARNING | pattern './nlp/P2R_T5.ipynb' matched no files\r\n",
      "This application is used to convert notebook files (*.ipynb)\r\n",
      "        to various other formats.\r\n",
      "\r\n",
      "        WARNING: THE COMMANDLINE INTERFACE MAY CHANGE IN FUTURE RELEASES.\r\n",
      "\r\n",
      "Options\r\n",
      "=======\r\n",
      "The options below are convenience aliases to configurable class-options,\r\n",
      "as listed in the \"Equivalent to\" description-line of the aliases.\r\n",
      "To see all configurable class-options for some <cmd>, use:\r\n",
      "    <cmd> --help-all\r\n",
      "\r\n",
      "--debug\r\n",
      "    set log level to logging.DEBUG (maximize logging output)\r\n",
      "    Equivalent to: [--Application.log_level=10]\r\n",
      "--show-config\r\n",
      "    Show the application's configuration (human-readable format)\r\n",
      "    Equivalent to: [--Application.show_config=True]\r\n",
      "--show-config-json\r\n",
      "    Show the application's configuration (json format)\r\n",
      "    Equivalent to: [--Application.show_config_json=True]\r\n",
      "--generate-config\r\n",
      "    generate default config file\r\n",
      "    Equivalent to: [--JupyterApp.generate_config=True]\r\n",
      "-y\r\n",
      "    Answer yes to any questions instead of prompting.\r\n",
      "    Equivalent to: [--JupyterApp.answer_yes=True]\r\n",
      "--execute\r\n",
      "    Execute the notebook prior to export.\r\n",
      "    Equivalent to: [--ExecutePreprocessor.enabled=True]\r\n",
      "--allow-errors\r\n",
      "    Continue notebook execution even if one of the cells throws an error and include the error message in the cell output (the default behaviour is to abort conversion). This flag is only relevant if '--execute' was specified, too.\r\n",
      "    Equivalent to: [--ExecutePreprocessor.allow_errors=True]\r\n",
      "--stdin\r\n",
      "    read a single notebook file from stdin. Write the resulting notebook with default basename 'notebook.*'\r\n",
      "    Equivalent to: [--NbConvertApp.from_stdin=True]\r\n",
      "--stdout\r\n",
      "    Write notebook output to stdout instead of files.\r\n",
      "    Equivalent to: [--NbConvertApp.writer_class=StdoutWriter]\r\n",
      "--inplace\r\n",
      "    Run nbconvert in place, overwriting the existing notebook (only\r\n",
      "            relevant when converting to notebook format)\r\n",
      "    Equivalent to: [--NbConvertApp.use_output_suffix=False --NbConvertApp.export_format=notebook --FilesWriter.build_directory=]\r\n",
      "--clear-output\r\n",
      "    Clear output of current file and save in place,\r\n",
      "            overwriting the existing notebook.\r\n",
      "    Equivalent to: [--NbConvertApp.use_output_suffix=False --NbConvertApp.export_format=notebook --FilesWriter.build_directory= --ClearOutputPreprocessor.enabled=True]\r\n",
      "--no-prompt\r\n",
      "    Exclude input and output prompts from converted document.\r\n",
      "    Equivalent to: [--TemplateExporter.exclude_input_prompt=True --TemplateExporter.exclude_output_prompt=True]\r\n",
      "--no-input\r\n",
      "    Exclude input cells and output prompts from converted document.\r\n",
      "            This mode is ideal for generating code-free reports.\r\n",
      "    Equivalent to: [--TemplateExporter.exclude_output_prompt=True --TemplateExporter.exclude_input=True --TemplateExporter.exclude_input_prompt=True]\r\n",
      "--allow-chromium-download\r\n",
      "    Whether to allow downloading chromium if no suitable version is found on the system.\r\n",
      "    Equivalent to: [--WebPDFExporter.allow_chromium_download=True]\r\n",
      "--disable-chromium-sandbox\r\n",
      "    Disable chromium security sandbox when converting to PDF..\r\n",
      "    Equivalent to: [--WebPDFExporter.disable_sandbox=True]\r\n",
      "--show-input\r\n",
      "    Shows code input. This flag is only useful for dejavu users.\r\n",
      "    Equivalent to: [--TemplateExporter.exclude_input=False]\r\n",
      "--embed-images\r\n",
      "    Embed the images as base64 dataurls in the output. This flag is only useful for the HTML/WebPDF/Slides exports.\r\n",
      "    Equivalent to: [--HTMLExporter.embed_images=True]\r\n",
      "--sanitize-html\r\n",
      "    Whether the HTML in Markdown cells and cell outputs should be sanitized..\r\n",
      "    Equivalent to: [--HTMLExporter.sanitize_html=True]\r\n",
      "--log-level=<Enum>\r\n",
      "    Set the log level by value or name.\r\n",
      "    Choices: any of [0, 10, 20, 30, 40, 50, 'DEBUG', 'INFO', 'WARN', 'ERROR', 'CRITICAL']\r\n",
      "    Default: 30\r\n",
      "    Equivalent to: [--Application.log_level]\r\n",
      "--config=<Unicode>\r\n",
      "    Full path of a config file.\r\n",
      "    Default: ''\r\n",
      "    Equivalent to: [--JupyterApp.config_file]\r\n",
      "--to=<Unicode>\r\n",
      "    The export format to be used, either one of the built-in formats\r\n",
      "            ['PDFviaHTML', 'asciidoc', 'custom', 'html', 'latex', 'markdown', 'notebook', 'pdf', 'pdfviahtml', 'python', 'qtpdf', 'qtpng', 'rst', 'script', 'slides', 'webpdf']\r\n",
      "            or a dotted object name that represents the import path for an\r\n",
      "            ``Exporter`` class\r\n",
      "    Default: ''\r\n",
      "    Equivalent to: [--NbConvertApp.export_format]\r\n",
      "--template=<Unicode>\r\n",
      "    Name of the template to use\r\n",
      "    Default: ''\r\n",
      "    Equivalent to: [--TemplateExporter.template_name]\r\n",
      "--template-file=<Unicode>\r\n",
      "    Name of the template file to use\r\n",
      "    Default: None\r\n",
      "    Equivalent to: [--TemplateExporter.template_file]\r\n",
      "--theme=<Unicode>\r\n",
      "    Template specific theme(e.g. the name of a JupyterLab CSS theme distributed\r\n",
      "    as prebuilt extension for the lab template)\r\n",
      "    Default: 'light'\r\n",
      "    Equivalent to: [--HTMLExporter.theme]\r\n",
      "--sanitize_html=<Bool>\r\n",
      "    Whether the HTML in Markdown cells and cell outputs should be sanitized.This\r\n",
      "    should be set to True by nbviewer or similar tools.\r\n",
      "    Default: False\r\n",
      "    Equivalent to: [--HTMLExporter.sanitize_html]\r\n",
      "--writer=<DottedObjectName>\r\n",
      "    Writer class used to write the\r\n",
      "                                        results of the conversion\r\n",
      "    Default: 'FilesWriter'\r\n",
      "    Equivalent to: [--NbConvertApp.writer_class]\r\n",
      "--post=<DottedOrNone>\r\n",
      "    PostProcessor class used to write the\r\n",
      "                                        results of the conversion\r\n",
      "    Default: ''\r\n",
      "    Equivalent to: [--NbConvertApp.postprocessor_class]\r\n",
      "--output=<Unicode>\r\n",
      "    Overwrite base name use for output files.\r\n",
      "                Supports pattern replacements '{notebook_name}'.\r\n",
      "    Default: '{notebook_name}'\r\n",
      "    Equivalent to: [--NbConvertApp.output_base]\r\n",
      "--output-dir=<Unicode>\r\n",
      "    Directory to write output(s) to. Defaults\r\n",
      "                                  to output to the directory of each notebook. To recover\r\n",
      "                                  previous default behaviour (outputting to the current\r\n",
      "                                  working directory) use . as the flag value.\r\n",
      "    Default: ''\r\n",
      "    Equivalent to: [--FilesWriter.build_directory]\r\n",
      "--reveal-prefix=<Unicode>\r\n",
      "    The URL prefix for reveal.js (version 3.x).\r\n",
      "            This defaults to the reveal CDN, but can be any url pointing to a copy\r\n",
      "            of reveal.js.\r\n",
      "            For speaker notes to work, this must be a relative path to a local\r\n",
      "            copy of reveal.js: e.g., \"reveal.js\".\r\n",
      "            If a relative path is given, it must be a subdirectory of the\r\n",
      "            current directory (from which the server is run).\r\n",
      "            See the usage documentation\r\n",
      "            (https://nbconvert.readthedocs.io/en/latest/usage.html#reveal-js-html-slideshow)\r\n",
      "            for more details.\r\n",
      "    Default: ''\r\n",
      "    Equivalent to: [--SlidesExporter.reveal_url_prefix]\r\n",
      "--nbformat=<Enum>\r\n",
      "    The nbformat version to write.\r\n",
      "            Use this to downgrade notebooks.\r\n",
      "    Choices: any of [1, 2, 3, 4]\r\n",
      "    Default: 4\r\n",
      "    Equivalent to: [--NotebookExporter.nbformat_version]\r\n",
      "\r\n",
      "Examples\r\n",
      "--------\r\n",
      "\r\n",
      "    The simplest way to use nbconvert is\r\n",
      "\r\n",
      "            > jupyter nbconvert mynotebook.ipynb --to html\r\n",
      "\r\n",
      "            Options include ['PDFviaHTML', 'asciidoc', 'custom', 'html', 'latex', 'markdown', 'notebook', 'pdf', 'pdfviahtml', 'python', 'qtpdf', 'qtpng', 'rst', 'script', 'slides', 'webpdf'].\r\n",
      "\r\n",
      "            > jupyter nbconvert --to latex mynotebook.ipynb\r\n",
      "\r\n",
      "            Both HTML and LaTeX support multiple output templates. LaTeX includes\r\n",
      "            'base', 'article' and 'report'.  HTML includes 'basic', 'lab' and\r\n",
      "            'classic'. You can specify the flavor of the format used.\r\n",
      "\r\n",
      "            > jupyter nbconvert --to html --template lab mynotebook.ipynb\r\n",
      "\r\n",
      "            You can also pipe the output to stdout, rather than a file\r\n",
      "\r\n",
      "            > jupyter nbconvert mynotebook.ipynb --stdout\r\n",
      "\r\n",
      "            PDF is generated via latex\r\n",
      "\r\n",
      "            > jupyter nbconvert mynotebook.ipynb --to pdf\r\n",
      "\r\n",
      "            You can get (and serve) a Reveal.js-powered slideshow\r\n",
      "\r\n",
      "            > jupyter nbconvert myslides.ipynb --to slides --post serve\r\n",
      "\r\n",
      "            Multiple notebooks can be given at the command line in a couple of\r\n",
      "            different ways:\r\n",
      "\r\n",
      "            > jupyter nbconvert notebook*.ipynb\r\n",
      "            > jupyter nbconvert notebook1.ipynb notebook2.ipynb\r\n",
      "\r\n",
      "            or you can specify the notebooks list in a config file, containing::\r\n",
      "\r\n",
      "                c.NbConvertApp.notebooks = [\"my_notebook.ipynb\"]\r\n",
      "\r\n",
      "            > jupyter nbconvert --config mycfg.py\r\n",
      "\r\n",
      "To see all available configurables, use `--help-all`.\r\n",
      "\r\n"
     ]
    }
   ],
   "source": [
    "\n",
    "# --TemplateExporter.exclude_input=True ./nlp/P2R_T5.ipynb"
   ],
   "metadata": {
    "collapsed": false,
    "ExecuteTime": {
     "end_time": "2024-04-30T11:46:08.222628Z",
     "start_time": "2024-04-30T11:46:07.353633Z"
    }
   },
   "id": "ff3172edaef50b7"
  },
  {
   "cell_type": "code",
   "execution_count": null,
   "outputs": [],
   "source": [],
   "metadata": {
    "collapsed": false
   },
   "id": "2bb1836af78b38d5"
  }
 ],
 "metadata": {
  "kernelspec": {
   "display_name": "Python 3",
   "language": "python",
   "name": "python3"
  },
  "language_info": {
   "codemirror_mode": {
    "name": "ipython",
    "version": 2
   },
   "file_extension": ".py",
   "mimetype": "text/x-python",
   "name": "python",
   "nbconvert_exporter": "python",
   "pygments_lexer": "ipython2",
   "version": "2.7.6"
  }
 },
 "nbformat": 4,
 "nbformat_minor": 5
}
