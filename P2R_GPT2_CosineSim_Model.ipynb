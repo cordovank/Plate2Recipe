{
 "cells": [
  {
   "cell_type": "markdown",
   "source": [
    "# Plate2Recipe NLP Model: \n",
    "Recipe Generation from Ingredients List using GPT-2 and TF-IDF Similarity Matching\n",
    "\n",
    "@Author: Nellie Cordova"
   ],
   "metadata": {
    "collapsed": false
   }
  },
  {
   "cell_type": "markdown",
   "source": [
    "### NLP Model\n",
    "- Assume list of ingredients is provided, use this to generate the recipe. \n",
    "- Match input list of ingredients with the ingredients in the dataset and generate the recipe\n",
    "- Approach:\n",
    "        -- TF-IDF: Vectorization of ingredients.\n",
    "        -- Cosine Similarity: to find the recipe in the dataset that has the highest similarity to the provided ingredients.\n",
    "        -- GPT2 model: Generate the recipe based on the matched recipe."
   ],
   "metadata": {
    "collapsed": false
   }
  },
  {
   "cell_type": "code",
   "execution_count": null,
   "outputs": [],
   "source": [
    "import sys\n",
    "\n",
    "print(\"Python version\")\n",
    "print(sys.version)\n",
    "print(\"Version info.\")\n",
    "print(sys.version_info)"
   ],
   "metadata": {
    "collapsed": false,
    "is_executing": true
   }
  },
  {
   "cell_type": "code",
   "execution_count": 23,
   "outputs": [],
   "source": [
    "import random\n",
    "import pandas as pd\n",
    "from sklearn.feature_extraction.text import TfidfVectorizer\n",
    "from sklearn.model_selection import train_test_split\n",
    "from sklearn.metrics.pairwise import cosine_similarity\n",
    "from transformers import GPT2Tokenizer\n",
    "from transformers import GPT2LMHeadModel, AdamW, get_linear_schedule_with_warmup\n",
    "import torch\n",
    "from torch.utils.data import Dataset, DataLoader\n",
    "\n",
    "!pip install bayesian-optimization\n",
    "from bayes_opt import BayesianOptimization"
   ],
   "metadata": {
    "collapsed": false,
    "ExecuteTime": {
     "end_time": "2024-04-25T00:21:39.732161Z",
     "start_time": "2024-04-25T00:21:39.718262Z"
    }
   }
  },
  {
   "cell_type": "markdown",
   "source": [
    "### Data Collection and Preprocessing\n",
    "\n",
    "- Data loading: *use full_dataset.csv for NLP* (https://drive.google.com/drive/folders/1ui_zS11_ENZTCNLUsgg_UwAYr-ZaLbac)\n",
    "- Data cleaning\n",
    "- Data augmentation"
   ],
   "metadata": {
    "collapsed": false
   }
  },
  {
   "cell_type": "code",
   "execution_count": 10,
   "outputs": [],
   "source": [
    "user_ingredients = ['avocado', 'rice', 'shrimp', 'tomato']\n",
    "dataset_path = './data/sample.csv'\n",
    "model_path = './models/nc_model'\n",
    "best_model_path = './models/best_gpt2_model'\n",
    "model_logpath = './logs/gpt2_model_log'"
   ],
   "metadata": {
    "collapsed": false,
    "ExecuteTime": {
     "end_time": "2024-04-25T00:14:10.107642Z",
     "start_time": "2024-04-25T00:14:10.103999Z"
    }
   }
  },
  {
   "cell_type": "code",
   "execution_count": 11,
   "outputs": [],
   "source": [
    "device = torch.device(\"cuda\" if torch.cuda.is_available() else \"cpu\")"
   ],
   "metadata": {
    "collapsed": false,
    "ExecuteTime": {
     "end_time": "2024-04-25T00:14:10.485341Z",
     "start_time": "2024-04-25T00:14:10.473064Z"
    }
   }
  },
  {
   "cell_type": "code",
   "execution_count": 12,
   "outputs": [
    {
     "data": {
      "text/plain": "              title                                        ingredients  \\\n0       Creamy Corn  [\"2 (16 oz.) pkg. frozen corn\", \"1 (8 oz.) pkg...   \n1     Chicken Funny  [\"1 large whole chicken\", \"2 (10 1/2 oz.) cans...   \n2  Summer Spaghetti  [\"1 lb. very thin spaghetti\", \"1/2 bottle McCo...   \n3      Chicken Stew  [\"3 lb. chicken, boiled\", \"4 medium potatoes, ...   \n4           Ceviche  [\"1 lb. whitefish fillets (raw)\", \"juice of 1 ...   \n\n                                          directions  \\\n0  [\"In a slow cooker, combine all ingredients. C...   \n1  [\"Boil and debone chicken.\", \"Put bite size pi...   \n2  [\"Prepare spaghetti per package.\", \"Drain.\", \"...   \n3  [\"Remove chicken from bone.\", \"Use the broth.\"...   \n4  [\"Cut uncooked fish into small pieces.\", \"Add ...   \n\n                                              link    source  \\\n0   www.cookbooks.com/Recipe-Details.aspx?id=10570  Gathered   \n1  www.cookbooks.com/Recipe-Details.aspx?id=897570  Gathered   \n2  www.cookbooks.com/Recipe-Details.aspx?id=841144  Gathered   \n3  www.cookbooks.com/Recipe-Details.aspx?id=284237  Gathered   \n4    www.cookbooks.com/Recipe-Details.aspx?id=1920  Gathered   \n\n                                                 NER  \n0  [\"frozen corn\", \"cream cheese\", \"butter\", \"gar...  \n1  [\"chicken\", \"chicken gravy\", \"cream of mushroo...  \n2              [\"Salad Supreme\", \"Italian dressing\"]  \n3  [\"chicken\", \"potatoes\", \"onions\", \"corn\", \"Eng...  \n4  [\"whitefish\", \"lime\", \"tomatoes\", \"green chili...  ",
      "text/html": "<div>\n<style scoped>\n    .dataframe tbody tr th:only-of-type {\n        vertical-align: middle;\n    }\n\n    .dataframe tbody tr th {\n        vertical-align: top;\n    }\n\n    .dataframe thead th {\n        text-align: right;\n    }\n</style>\n<table border=\"1\" class=\"dataframe\">\n  <thead>\n    <tr style=\"text-align: right;\">\n      <th></th>\n      <th>title</th>\n      <th>ingredients</th>\n      <th>directions</th>\n      <th>link</th>\n      <th>source</th>\n      <th>NER</th>\n    </tr>\n  </thead>\n  <tbody>\n    <tr>\n      <th>0</th>\n      <td>Creamy Corn</td>\n      <td>[\"2 (16 oz.) pkg. frozen corn\", \"1 (8 oz.) pkg...</td>\n      <td>[\"In a slow cooker, combine all ingredients. C...</td>\n      <td>www.cookbooks.com/Recipe-Details.aspx?id=10570</td>\n      <td>Gathered</td>\n      <td>[\"frozen corn\", \"cream cheese\", \"butter\", \"gar...</td>\n    </tr>\n    <tr>\n      <th>1</th>\n      <td>Chicken Funny</td>\n      <td>[\"1 large whole chicken\", \"2 (10 1/2 oz.) cans...</td>\n      <td>[\"Boil and debone chicken.\", \"Put bite size pi...</td>\n      <td>www.cookbooks.com/Recipe-Details.aspx?id=897570</td>\n      <td>Gathered</td>\n      <td>[\"chicken\", \"chicken gravy\", \"cream of mushroo...</td>\n    </tr>\n    <tr>\n      <th>2</th>\n      <td>Summer Spaghetti</td>\n      <td>[\"1 lb. very thin spaghetti\", \"1/2 bottle McCo...</td>\n      <td>[\"Prepare spaghetti per package.\", \"Drain.\", \"...</td>\n      <td>www.cookbooks.com/Recipe-Details.aspx?id=841144</td>\n      <td>Gathered</td>\n      <td>[\"Salad Supreme\", \"Italian dressing\"]</td>\n    </tr>\n    <tr>\n      <th>3</th>\n      <td>Chicken Stew</td>\n      <td>[\"3 lb. chicken, boiled\", \"4 medium potatoes, ...</td>\n      <td>[\"Remove chicken from bone.\", \"Use the broth.\"...</td>\n      <td>www.cookbooks.com/Recipe-Details.aspx?id=284237</td>\n      <td>Gathered</td>\n      <td>[\"chicken\", \"potatoes\", \"onions\", \"corn\", \"Eng...</td>\n    </tr>\n    <tr>\n      <th>4</th>\n      <td>Ceviche</td>\n      <td>[\"1 lb. whitefish fillets (raw)\", \"juice of 1 ...</td>\n      <td>[\"Cut uncooked fish into small pieces.\", \"Add ...</td>\n      <td>www.cookbooks.com/Recipe-Details.aspx?id=1920</td>\n      <td>Gathered</td>\n      <td>[\"whitefish\", \"lime\", \"tomatoes\", \"green chili...</td>\n    </tr>\n  </tbody>\n</table>\n</div>"
     },
     "execution_count": 12,
     "metadata": {},
     "output_type": "execute_result"
    }
   ],
   "source": [
    "# Load the dataset\n",
    "def load_data(filepath):\n",
    "    return pd.read_csv(filepath).drop(['Unnamed: 0'], axis=1)\n",
    "\n",
    "recipes = load_data(dataset_path)"
   ],
   "metadata": {
    "collapsed": false,
    "ExecuteTime": {
     "end_time": "2024-04-25T00:14:11.387596Z",
     "start_time": "2024-04-25T00:14:11.376807Z"
    }
   }
  },
  {
   "cell_type": "code",
   "execution_count": 14,
   "outputs": [
    {
     "name": "stdout",
     "output_type": "stream",
     "text": [
      "title          0\n",
      "ingredients    0\n",
      "directions     0\n",
      "link           0\n",
      "source         0\n",
      "NER            0\n",
      "dtype: int64\n"
     ]
    }
   ],
   "source": [
    "# Set a seed for reproducibility\n",
    "random.seed(42)\n",
    "\n",
    "# Shuffle the DataFrame\n",
    "recipes_shuffled = recipes.sample(frac=1).reset_index(drop=True)\n",
    "\n",
    "# Select 50% of the recipes randomly\n",
    "num_recipes_to_keep = 500000 #int(len(recipes_shuffled) * 0.5)\n",
    "recipes = recipes_shuffled[:num_recipes_to_keep]\n",
    "\n",
    "# Print the new DataFrame\n",
    "recipes.head(5)"
   ],
   "metadata": {
    "collapsed": false,
    "ExecuteTime": {
     "end_time": "2024-04-25T00:14:21.060447Z",
     "start_time": "2024-04-25T00:14:21.052664Z"
    }
   }
  },
  {
   "cell_type": "code",
   "execution_count": 13,
   "outputs": [
    {
     "name": "stdout",
     "output_type": "stream",
     "text": [
      "<class 'pandas.core.frame.DataFrame'>\n",
      "RangeIndex: 9 entries, 0 to 8\n",
      "Data columns (total 6 columns):\n",
      " #   Column       Non-Null Count  Dtype \n",
      "---  ------       --------------  ----- \n",
      " 0   title        9 non-null      object\n",
      " 1   ingredients  9 non-null      object\n",
      " 2   directions   9 non-null      object\n",
      " 3   link         9 non-null      object\n",
      " 4   source       9 non-null      object\n",
      " 5   NER          9 non-null      object\n",
      "dtypes: object(6)\n",
      "memory usage: 560.0+ bytes\n",
      "None\n"
     ]
    }
   ],
   "source": [
    "print(recipes.info())"
   ],
   "metadata": {
    "collapsed": false,
    "ExecuteTime": {
     "start_time": "2024-04-25T00:14:20.010461Z"
    }
   }
  },
  {
   "cell_type": "markdown",
   "source": [
    "#### Tokenize, compute TF-IDF and prepare the similarity measure"
   ],
   "metadata": {
    "collapsed": false
   }
  },
  {
   "cell_type": "code",
   "execution_count": 101,
   "outputs": [],
   "source": [
    "def load_model(model_path):\n",
    "    model = GPT2LMHeadModel.from_pretrained(model_path)\n",
    "    tokenizer = GPT2Tokenizer.from_pretrained(model_path)\n",
    "    return model, tokenizer"
   ],
   "metadata": {
    "collapsed": false,
    "ExecuteTime": {
     "end_time": "2024-04-25T06:36:15.374897Z",
     "start_time": "2024-04-25T06:36:15.358356Z"
    }
   }
  },
  {
   "cell_type": "code",
   "execution_count": 102,
   "outputs": [],
   "source": [
    "def prepare_similarity_matrix(recipes):\n",
    "    tfidf_vectorizer = TfidfVectorizer()\n",
    "    tfidf_matrix = tfidf_vectorizer.fit_transform(recipes['NER'])\n",
    "    return tfidf_vectorizer, tfidf_matrix\n",
    "\n",
    "tfidf_vectorizer, tfidf_matrix = prepare_similarity_matrix(recipes)"
   ],
   "metadata": {
    "collapsed": false,
    "ExecuteTime": {
     "end_time": "2024-04-25T06:36:15.925335Z",
     "start_time": "2024-04-25T06:36:15.909362Z"
    }
   }
  },
  {
   "cell_type": "code",
   "execution_count": 103,
   "outputs": [],
   "source": [
    "import ast\n",
    "\n",
    "def find_best_match(user_ingredients, recipes, tfidf_vectorizer, tfidf_matrix):\n",
    "    \"\"\"Calculate cosine similarity and return the best recipe match.\"\"\"\n",
    "    user_input_tfidf = tfidf_vectorizer.transform([' '.join(user_ingredients)])\n",
    "    cos_similarities = cosine_similarity(user_input_tfidf, tfidf_matrix)\n",
    "    best_recipe_index = cos_similarities.argmax()\n",
    "    return recipes.iloc[best_recipe_index]\n",
    "\n",
    "def remove_repetitions(text):\n",
    "    \"\"\"Helper function to remove repeated sentences in a list of directions.\"\"\"\n",
    "    seen = set()\n",
    "    result = []\n",
    "    for item in text:\n",
    "        if item not in seen:\n",
    "            seen.add(item)\n",
    "            result.append(item)\n",
    "    return result\n",
    "\n",
    "def generate_recipe_text(user_ingredients, recipes, tfidf_vectorizer, tfidf_matrix, model, tokenizer):\n",
    "    # Find the recipe that matches the user ingredients\n",
    "    best_recipe = find_best_match(user_ingredients, recipes, tfidf_vectorizer, tfidf_matrix)\n",
    "\n",
    "    # Parse ingredients and directions from the dataframe\n",
    "    ingredients_list = ast.literal_eval(best_recipe['ingredients'])\n",
    "    directions_list = ast.literal_eval(best_recipe['directions'])\n",
    "\n",
    "    # Reformat input to the model\n",
    "    ingredients_text = \"Ingredients:\\n\" + \"\\n\".join([f\"- {ingredient}\" for ingredient in ingredients_list])\n",
    "    directions_text = \"Directions:\\n\" + \"\\n\".join([f\"Step {i+1}: {step}\" for i, step in enumerate(directions_list)])\n",
    "    prompt_text = f\"Recipe Title: {best_recipe['title']}\\n\\n{ingredients_text}\\n\\n{directions_text}\"\n",
    "\n",
    "    # Generate the recipe text\n",
    "    encoded = tokenizer.encode_plus(prompt_text, return_tensors=\"pt\", padding='max_length', truncation=True)\n",
    "    input_ids = encoded['input_ids'].to(device)\n",
    "    attention_mask = encoded['attention_mask'].to(device)\n",
    "    pad_token_id = tokenizer.pad_token_id\n",
    "    outputs = model.generate(input_ids, attention_mask=attention_mask, pad_token_id=pad_token_id, max_length=1024, num_return_sequences=1, no_repeat_ngram_size=2)\n",
    "    generated_text = tokenizer.decode(outputs[0], skip_special_tokens=True)\n",
    "\n",
    "    # Remove repetitions from the directions in the generated text\n",
    "    final_text_lines = generated_text.split('\\n')\n",
    "    final_text_lines = remove_repetitions(final_text_lines)\n",
    "\n",
    "    return \"\\n\".join(final_text_lines)"
   ],
   "metadata": {
    "collapsed": false,
    "ExecuteTime": {
     "end_time": "2024-04-25T06:36:16.545681Z",
     "start_time": "2024-04-25T06:36:16.521224Z"
    }
   }
  },
  {
   "cell_type": "markdown",
   "source": [
    "- Prepare data for training the GPT-2 model.\n",
    "- DataLoader creation for training and validation sets.\n",
    "- Model Training & Validation methods"
   ],
   "metadata": {
    "collapsed": false
   }
  },
  {
   "cell_type": "code",
   "execution_count": 104,
   "outputs": [],
   "source": [
    "class RecipeDataset(Dataset):\n",
    "    def __init__(self, texts, tokenizer, max_length):\n",
    "        self.tokenizer = tokenizer\n",
    "        self.texts = texts\n",
    "        self.max_length = max_length\n",
    "\n",
    "    def __len__(self):\n",
    "        return len(self.texts)\n",
    "\n",
    "    def __getitem__(self, idx):\n",
    "        text = self.texts[idx]\n",
    "        encoded = self.tokenizer.encode_plus(\n",
    "            text,\n",
    "            add_special_tokens=True,\n",
    "            max_length=self.max_length,\n",
    "            return_token_type_ids=False,\n",
    "            padding='max_length',\n",
    "            return_attention_mask=True,\n",
    "            return_tensors='pt',\n",
    "            truncation=True\n",
    "        )\n",
    "        return {\n",
    "            'input_ids': encoded['input_ids'].flatten(),\n",
    "            'attention_mask': encoded['attention_mask'].flatten(),\n",
    "            'labels': encoded['input_ids'].flatten()  # Labels for language modeling\n",
    "        }\n",
    "\n",
    "\n",
    "def create_data_loaders(recipes, batch_size, tokenizer, max_length):\n",
    "    # Combine title, ingredients, and directions into a single text input for each recipe\n",
    "    combined_texts = recipes.apply(lambda row: f\"Recipe Title: {row['title']} Ingredients: {row['ingredients']} Directions: {row['directions']}\", axis=1)\n",
    "    \n",
    "    # Split data into training and validation sets\n",
    "    train_texts, val_texts = train_test_split(combined_texts, test_size=0.2, random_state=42)\n",
    "\n",
    "    # Create Dataset objects\n",
    "    train_dataset = RecipeDataset(train_texts.tolist(), tokenizer, max_length)\n",
    "    val_dataset = RecipeDataset(val_texts.tolist(), tokenizer, max_length)\n",
    "    \n",
    "    # Create DataLoaders\n",
    "    train_loader = DataLoader(train_dataset, batch_size=batch_size, shuffle=True)\n",
    "    val_loader = DataLoader(val_dataset, batch_size=batch_size, shuffle=False)\n",
    "    \n",
    "    return train_loader, val_loader"
   ],
   "metadata": {
    "collapsed": false,
    "ExecuteTime": {
     "end_time": "2024-04-25T06:36:18.399024Z",
     "start_time": "2024-04-25T06:36:18.385114Z"
    }
   }
  },
  {
   "cell_type": "markdown",
   "source": [
    "### Model Training and Validation"
   ],
   "metadata": {
    "collapsed": false
   }
  },
  {
   "cell_type": "code",
   "execution_count": 105,
   "outputs": [],
   "source": [
    "def train_and_validate(model, recipes, tokenizer, device, best_params):\n",
    "    # Cast batch size and num_train_epochs from best_params\n",
    "    batch_size = int(best_params.get('batch_size', 8))\n",
    "    num_train_epochs = int(best_params.get('num_train_epochs', 10))\n",
    "    learning_rate = best_params.get('learning_rate', 1e-5)\n",
    "    weight_decay = best_params.get('weight_decay', 0)  # Default to 0 if not specified\n",
    "    warmup_steps = int(best_params.get('warmup_steps', 0))  # Default to 0 if not specified\n",
    "\n",
    "\n",
    "    # Create data loaders with the best batch size\n",
    "    train_loader, val_loader = create_data_loaders(recipes, batch_size, tokenizer, max_length=512)\n",
    "\n",
    "    # Set up the optimizer and scheduler using the best learning rate\n",
    "    optimizer = AdamW(model.parameters(), lr=learning_rate, weight_decay=weight_decay, no_deprecation_warning=True)\n",
    "    total_steps = len(train_loader) * num_train_epochs\n",
    "    scheduler = get_linear_schedule_with_warmup(optimizer, num_warmup_steps=warmup_steps, num_training_steps=total_steps)\n",
    "\n",
    "    # Lists to store per-epoch metrics\n",
    "    training_losses = []\n",
    "    validation_losses = []\n",
    "    training_perplexities = []\n",
    "    validation_perplexities = []\n",
    "\n",
    "    for epoch in range(num_train_epochs):\n",
    "        model.train()\n",
    "        total_loss = 0\n",
    "        for batch in train_loader:\n",
    "            input_ids = batch['input_ids'].to(device)\n",
    "            attention_mask = batch['attention_mask'].to(device)\n",
    "            labels = batch['labels'].to(device)\n",
    "\n",
    "            model.zero_grad()\n",
    "            outputs = model(input_ids, attention_mask=attention_mask, labels=labels)\n",
    "            loss = outputs.loss\n",
    "            total_loss += loss.item()\n",
    "\n",
    "            loss.backward()\n",
    "            optimizer.step()\n",
    "            scheduler.step()\n",
    "\n",
    "        avg_train_loss = total_loss / len(train_loader)\n",
    "        train_ppl = torch.exp(torch.tensor(avg_train_loss)).item()\n",
    "        training_losses.append(avg_train_loss)\n",
    "        training_perplexities.append(train_ppl)\n",
    "\n",
    "        model.eval()\n",
    "        val_loss = 0\n",
    "        with torch.no_grad():\n",
    "            for batch in val_loader:\n",
    "                input_ids = batch['input_ids'].to(device)\n",
    "                attention_mask = batch['attention_mask'].to(device)\n",
    "                labels = batch['labels'].to(device)\n",
    "                outputs = model(input_ids, attention_mask=attention_mask, labels=labels)\n",
    "                loss = outputs.loss\n",
    "                val_loss += loss.item()\n",
    "\n",
    "        avg_val_loss = val_loss / len(val_loader)\n",
    "        val_ppl = torch.exp(torch.tensor(avg_val_loss)).item()\n",
    "        validation_losses.append(avg_val_loss)\n",
    "        validation_perplexities.append(val_ppl)\n",
    "\n",
    "        print(f\"Epoch {epoch + 1}/{num_train_epochs} | Train Loss: {avg_train_loss:.3f} | Train PPL: {train_ppl:.3f} | Val Loss: {avg_val_loss:.3f} | Val PPL: {val_ppl:.3f}\")\n",
    "\n",
    "    return training_losses, validation_losses, training_perplexities, validation_perplexities"
   ],
   "metadata": {
    "collapsed": false,
    "ExecuteTime": {
     "end_time": "2024-04-25T06:36:19.162621Z",
     "start_time": "2024-04-25T06:36:19.146254Z"
    }
   }
  },
  {
   "cell_type": "markdown",
   "source": [
    "### Visualizing Results"
   ],
   "metadata": {
    "collapsed": false
   }
  },
  {
   "cell_type": "code",
   "execution_count": 106,
   "outputs": [],
   "source": [
    "import matplotlib.pyplot as plt\n",
    "\n",
    "def plot_validation_curves(training_losses, validation_losses, training_perplexities, validation_perplexities):\n",
    "    epochs = range(1, len(training_losses) + 1)\n",
    "    \n",
    "    plt.figure(figsize=(12, 6))\n",
    "    plt.subplot(1, 2, 1)\n",
    "    plt.plot(epochs, training_losses, 'bo-', label='Training Loss')\n",
    "    plt.plot(epochs, validation_losses, 'ro-', label='Validation Loss')\n",
    "    plt.title('Training and Validation Loss')\n",
    "    plt.xlabel('Epochs')\n",
    "    plt.ylabel('Loss')\n",
    "    plt.grid()\n",
    "    plt.legend()\n",
    "\n",
    "    plt.subplot(1, 2, 2)\n",
    "    plt.plot(epochs, training_perplexities, 'bo-', label='Training Perplexity')\n",
    "    plt.plot(epochs, validation_perplexities, 'ro-', label='Validation Perplexity')\n",
    "    plt.title('Training and Validation Perplexity')\n",
    "    plt.xlabel('Epochs')\n",
    "    plt.ylabel('Perplexity')\n",
    "    plt.grid()\n",
    "    plt.legend()\n",
    "\n",
    "    plt.tight_layout()\n",
    "    plt.show()"
   ],
   "metadata": {
    "collapsed": false,
    "ExecuteTime": {
     "end_time": "2024-04-25T06:36:19.950617Z",
     "start_time": "2024-04-25T06:36:19.928808Z"
    }
   }
  },
  {
   "cell_type": "markdown",
   "source": [
    "# Model Setup"
   ],
   "metadata": {
    "collapsed": false
   }
  },
  {
   "cell_type": "markdown",
   "source": [
    "### Pre-trained GPT-2 Model"
   ],
   "metadata": {
    "collapsed": false
   }
  },
  {
   "cell_type": "code",
   "execution_count": 107,
   "outputs": [
    {
     "data": {
      "text/plain": "GPT2LMHeadModel(\n  (transformer): GPT2Model(\n    (wte): Embedding(50257, 768)\n    (wpe): Embedding(1024, 768)\n    (drop): Dropout(p=0.1, inplace=False)\n    (h): ModuleList(\n      (0-11): 12 x GPT2Block(\n        (ln_1): LayerNorm((768,), eps=1e-05, elementwise_affine=True)\n        (attn): GPT2Attention(\n          (c_attn): Conv1D()\n          (c_proj): Conv1D()\n          (attn_dropout): Dropout(p=0.1, inplace=False)\n          (resid_dropout): Dropout(p=0.1, inplace=False)\n        )\n        (ln_2): LayerNorm((768,), eps=1e-05, elementwise_affine=True)\n        (mlp): GPT2MLP(\n          (c_fc): Conv1D()\n          (c_proj): Conv1D()\n          (act): NewGELUActivation()\n          (dropout): Dropout(p=0.1, inplace=False)\n        )\n      )\n    )\n    (ln_f): LayerNorm((768,), eps=1e-05, elementwise_affine=True)\n  )\n  (lm_head): Linear(in_features=768, out_features=50257, bias=False)\n)"
     },
     "execution_count": 107,
     "metadata": {},
     "output_type": "execute_result"
    }
   ],
   "source": [
    "# Load the GPT-2 model and tokenizer\n",
    "# model = GPT2LMHeadModel.from_pretrained('gpt2')\n",
    "# tokenizer = GPT2Tokenizer.from_pretrained('gpt2')\n",
    "model, tokenizer = load_model('gpt2')\n",
    "tokenizer.pad_token = tokenizer.eos_token  # Set padding token as EOS token\n",
    "model.to(device)"
   ],
   "metadata": {
    "collapsed": false,
    "ExecuteTime": {
     "end_time": "2024-04-25T06:36:24.941690Z",
     "start_time": "2024-04-25T06:36:23.744253Z"
    }
   }
  },
  {
   "cell_type": "code",
   "execution_count": 108,
   "outputs": [
    {
     "name": "stdout",
     "output_type": "stream",
     "text": [
      "Epoch 1/10 | Train Loss: 8.519 | Train PPL: 5008.445 | Val Loss: 9.123 | Val PPL: 9166.904\n",
      "Epoch 2/10 | Train Loss: 7.488 | Train PPL: 1787.018 | Val Loss: 7.867 | Val PPL: 2610.239\n",
      "Epoch 3/10 | Train Loss: 6.311 | Train PPL: 550.632 | Val Loss: 6.710 | Val PPL: 820.532\n",
      "Epoch 4/10 | Train Loss: 5.549 | Train PPL: 257.033 | Val Loss: 5.941 | Val PPL: 380.501\n",
      "Epoch 5/10 | Train Loss: 5.076 | Train PPL: 160.077 | Val Loss: 5.437 | Val PPL: 229.695\n",
      "Epoch 6/10 | Train Loss: 4.567 | Train PPL: 96.265 | Val Loss: 5.044 | Val PPL: 155.096\n",
      "Epoch 7/10 | Train Loss: 4.142 | Train PPL: 62.937 | Val Loss: 4.725 | Val PPL: 112.750\n",
      "Epoch 8/10 | Train Loss: 3.874 | Train PPL: 48.128 | Val Loss: 4.478 | Val PPL: 88.057\n",
      "Epoch 9/10 | Train Loss: 3.714 | Train PPL: 41.018 | Val Loss: 4.309 | Val PPL: 74.385\n",
      "Epoch 10/10 | Train Loss: 3.575 | Train PPL: 35.699 | Val Loss: 4.223 | Val PPL: 68.264\n"
     ]
    }
   ],
   "source": [
    "batch_size = 8\n",
    "train_loader, val_loader = create_data_loaders(recipes, batch_size, tokenizer, max_length=512)\n",
    "params = {}\n",
    "training_losses, validation_losses, training_perplexities, validation_perplexities = train_and_validate(model, recipes, tokenizer, device, params)"
   ],
   "metadata": {
    "collapsed": false,
    "ExecuteTime": {
     "end_time": "2024-04-25T06:38:49.075952Z",
     "start_time": "2024-04-25T06:36:33.772060Z"
    }
   }
  },
  {
   "cell_type": "code",
   "execution_count": 95,
   "outputs": [
    {
     "data": {
      "text/plain": "<Figure size 1200x600 with 2 Axes>",
      "image/png": "[encoded data removed]"
     },
     "metadata": {},
     "output_type": "display_data"
    }
   ],
   "source": [
    "plot_validation_curves(training_losses, validation_losses, training_perplexities, validation_perplexities)"
   ],
   "metadata": {
    "collapsed": false,
    "ExecuteTime": {
     "end_time": "2024-04-25T06:29:12.903225Z",
     "start_time": "2024-04-25T06:29:12.703224Z"
    }
   }
  },
  {
   "cell_type": "markdown",
   "source": [
    "#### Example: Using pretrained GPT-2 with Cosine Similarity for Recipe Generation"
   ],
   "metadata": {
    "collapsed": false
   }
  },
  {
   "cell_type": "code",
   "execution_count": 96,
   "outputs": [
    {
     "name": "stderr",
     "output_type": "stream",
     "text": [
      "A decoder-only architecture is being used, but right-padding was detected! For correct generation results, please set `padding_side='left'` when initializing the tokenizer.\n",
      "/Applications/anaconda3/envs/p2r/lib/python3.8/site-packages/transformers/generation/utils.py:1141: UserWarning: Input length of input_ids is 1024, but `max_length` is set to 1024. This can lead to unexpected behavior. You should consider increasing `max_new_tokens`.\n",
      "  warnings.warn(\n"
     ]
    },
    {
     "name": "stdout",
     "output_type": "stream",
     "text": [
      "Recipe Title: Ceviche\n",
      "\n",
      "Ingredients:\n",
      "- 1 lb. whitefish fillets (raw)\n",
      "- juice of 1 lime\n",
      "- 2 medium size tomatoes, peeled\n",
      "- 2 green chilies, chopped\n",
      "- 1 small onion, thinly sliced\n",
      "- 1/4 tsp. oregano\n",
      "- 3 sprigs cilantro, chopped\n",
      "- slices of 1 avocado\n",
      "- wedges of 1 tomato\n",
      "Directions:\n",
      "Step 1: Cut uncooked fish into small pieces.\n",
      "Step 2: Add lime juice to cover fish; cover and refrigerate 3 to 4 hours, or until fish become opaque.\n",
      "Step 3: Stir occasionally.\n"
     ]
    }
   ],
   "source": [
    "recipe_text = generate_recipe_text(user_ingredients, recipes, tfidf_vectorizer, tfidf_matrix, model, tokenizer)\n",
    "print(recipe_text)"
   ],
   "metadata": {
    "collapsed": false,
    "ExecuteTime": {
     "end_time": "2024-04-25T06:35:05.823811Z",
     "start_time": "2024-04-25T06:35:05.024937Z"
    }
   }
  },
  {
   "cell_type": "markdown",
   "source": [
    "## Finding Optimal Model: \n",
    "This approach combines traditional NLP techniques for ingredient matching with advanced language generation capabilities of GPT-2\n",
    "\n",
    "- Prepare data for fine-tuning: tokenize and format the data suitable for GPT-2\n",
    "- Hyperparameter Tuning: Explore different learning rates, batch sizes, and number of epochs\n",
    "- Training: Train the model with recipes data, monitoring for convergence and performance.\n",
    "- Evaluation: Evaluate the model using validation data and metrics like perplexity.\n",
    "- Visualization of Results: Use plots to show training losses and evaluation metrics.\n",
    "- Provide Examples of generated recipes vs. actual recipes to visually inspect the quality of generation."
   ],
   "metadata": {
    "collapsed": false
   }
  },
  {
   "cell_type": "markdown",
   "source": [
    "#### Model optimization with Bayesian Optimization \n",
    "\n",
    "Bayesian Optimization uses a probabilistic model to guide the search for the best hyperparameters."
   ],
   "metadata": {
    "collapsed": false
   }
  },
  {
   "cell_type": "markdown",
   "source": [
    "### Hyperparameter Tuning\n",
    "\n",
    "Optimizer Selection\n",
    "- Adam is a popular choice due to its effectiveness in handling sparse gradients and adaptive learning rate techniques.\n",
    "\n",
    "Learning Rates\n",
    "- Initial Value: Starting learning rate in the range of 2e-5 to 5e-5, which are common starting points for fine-tuning language models.\n",
    "- Decay Strategy: Reduce the learning rate gradually as training progresses. This helps in fine-tuning the model to achieve better performance as it converges.\n",
    "- Warm-up Steps: Implementing a warm-up period for the learning rate can help stabilize the model's training early in the process, gradually increasing the learning rate from zero to the initial set learning rate.\n",
    "\n",
    "Batch Sizes\n",
    "- Size Range: Experiment with batch sizes, starting from smaller batches like 4 or 8, up to larger batches if your hardware supports it (e.g., 16, 32). Larger batch sizes provide a more stable gradient, but they require more memory.\n",
    "- Gradient Accumulation: If memory limits batch size, use gradient accumulation to simulate larger batches. This means updating model weights less frequently, accumulating gradients over multiple forward passes.\n",
    "\n",
    "Number of Epochs\n",
    "- Epoch Count: See how quickly the model learns. Number of epochs is increased based on the initial results and if the model has not started overfitting.\n",
    "- Early Stopping: Halt training when the validation metric (like perplexity or validation loss) stops improving. This prevents overfitting and saves computational resources.\n",
    "\n",
    "Weight Decay \n",
    "- (L2 Regularization): Prevents overfitting by penalizing large weights. Helps maintain a balance between model complexity and dataset simplicity.\n",
    "\n",
    "Gradient Clipping: \n",
    "- Prevents exploding gradients. By setting a threshold for gradient clipping, you can ensure that gradients exceeding this threshold are scaled down to maintain stability in the training process.\n",
    "\n",
    "Number of Layers and Hidden Units:\n",
    "- Adjusting the depth (number of layers) and the width (number of neurons per layer) can impact the learning capabilities and efficiency of the model.\n",
    "- For transformer models like GPT-2, modifying the number of transformer blocks (layers) and the size of the hidden layers (dimensionality) can influence both performance and training time.\n"
   ],
   "metadata": {
    "collapsed": false
   }
  },
  {
   "cell_type": "code",
   "execution_count": 97,
   "outputs": [],
   "source": [
    "def tune_model(learning_rate, weight_decay, num_train_epochs, warmup_steps, batch_size):\n",
    "    batch_size = int(batch_size)\n",
    "    num_train_epochs = int(num_train_epochs)\n",
    "    warmup_steps = int(warmup_steps)\n",
    "    \n",
    "    train_loader, val_loader = create_data_loaders(recipes, batch_size, tokenizer, max_length=512)\n",
    "    \n",
    "    optimizer = AdamW(model.parameters(), lr=learning_rate, weight_decay=weight_decay, no_deprecation_warning=True)\n",
    "    total_steps = len(train_loader) * num_train_epochs\n",
    "    scheduler = get_linear_schedule_with_warmup(optimizer, num_warmup_steps=warmup_steps, num_training_steps=total_steps)\n",
    "\n",
    "    model.train()\n",
    "    min_val_loss = float('inf')\n",
    "    patience = 0\n",
    "    patience_limit = 3  # Number of epochs to wait after val loss has stopped improving\n",
    "\n",
    "    for epoch in range(num_train_epochs):\n",
    "        total_loss = 0\n",
    "        for batch in train_loader:\n",
    "            input_ids = batch['input_ids'].to(device)\n",
    "            attention_mask = batch['attention_mask'].to(device)\n",
    "            labels = batch['labels'].to(device)\n",
    "\n",
    "            model.zero_grad()\n",
    "            outputs = model(input_ids, attention_mask=attention_mask, labels=labels)\n",
    "            loss = outputs.loss\n",
    "            total_loss += loss.item()\n",
    "\n",
    "            loss.backward()\n",
    "            torch.nn.utils.clip_grad_norm_(model.parameters(), 1.0)\n",
    "            optimizer.step()\n",
    "            scheduler.step()\n",
    "\n",
    "        avg_train_loss = total_loss / len(train_loader)\n",
    "\n",
    "        # Validation phase\n",
    "        model.eval()\n",
    "        val_loss = 0\n",
    "        with torch.no_grad():\n",
    "            for batch in val_loader:\n",
    "                input_ids = batch['input_ids'].to(device)\n",
    "                attention_mask = batch['attention_mask'].to(device)\n",
    "                labels = batch['labels'].to(device)\n",
    "                \n",
    "                outputs = model(input_ids=input_ids, attention_mask=attention_mask, labels=labels)\n",
    "                loss = outputs.loss\n",
    "                val_loss += loss.item()\n",
    "\n",
    "        avg_val_loss = val_loss / len(val_loader)\n",
    "\n",
    "        # Early stopping logic\n",
    "        if avg_val_loss < min_val_loss:\n",
    "            min_val_loss = avg_val_loss\n",
    "            patience = 0\n",
    "        else:\n",
    "            patience += 1\n",
    "            if patience >= patience_limit:\n",
    "                print(f\"Stopping early at epoch {epoch+1}\")\n",
    "                break\n",
    "\n",
    "        print(f\"Epoch {epoch+1}: Train Loss: {avg_train_loss:.3f}, Val Loss: {avg_val_loss:.3f}\")\n",
    "\n",
    "    return -min_val_loss  # Maximizing the negative loss"
   ],
   "metadata": {
    "collapsed": false,
    "ExecuteTime": {
     "end_time": "2024-04-25T06:35:23.930118Z",
     "start_time": "2024-04-25T06:35:23.919095Z"
    }
   }
  },
  {
   "cell_type": "code",
   "execution_count": 98,
   "outputs": [
    {
     "name": "stdout",
     "output_type": "stream",
     "text": [
      "|   iter    |  target   | batch_... | learni... | num_tr... | warmup... | weight... |\n",
      "-------------------------------------------------------------------------------------\n"
     ]
    },
    {
     "name": "stderr",
     "output_type": "stream",
     "text": [
      "/Applications/anaconda3/envs/p2r/lib/python3.8/site-packages/transformers/tokenization_utils_base.py:2619: FutureWarning: The `pad_to_max_length` argument is deprecated and will be removed in a future version, use `padding=True` or `padding='longest'` to pad to the longest sequence in the batch, or use `padding='max_length'` to pad to a max length. In this case, you can give a specific length with `max_length` (e.g. `max_length=45`) or leave max_length to None to pad to the maximal input size of the model (e.g. 512 for Bert).\n",
      "  warnings.warn(\n"
     ]
    },
    {
     "name": "stdout",
     "output_type": "stream",
     "text": [
      "Epoch 1: Train Loss: 3.287, Val Loss: 4.262\n",
      "| \u001B[0m1        \u001B[0m | \u001B[0m-4.262   \u001B[0m | \u001B[0m62.71    \u001B[0m | \u001B[0m7.231e-05\u001B[0m | \u001B[0m1.001    \u001B[0m | \u001B[0m3.023e+03\u001B[0m | \u001B[0m0.001553 \u001B[0m |\n",
      "Epoch 1: Train Loss: 3.607, Val Loss: 4.262\n"
     ]
    },
    {
     "ename": "KeyboardInterrupt",
     "evalue": "",
     "output_type": "error",
     "traceback": [
      "\u001B[0;31m---------------------------------------------------------------------------\u001B[0m",
      "\u001B[0;31mKeyboardInterrupt\u001B[0m                         Traceback (most recent call last)",
      "Cell \u001B[0;32mIn[98], line 16\u001B[0m\n\u001B[1;32m      2\u001B[0m pbounds \u001B[38;5;241m=\u001B[39m {\n\u001B[1;32m      3\u001B[0m     \u001B[38;5;124m'\u001B[39m\u001B[38;5;124mlearning_rate\u001B[39m\u001B[38;5;124m'\u001B[39m: (\u001B[38;5;241m1e-6\u001B[39m, \u001B[38;5;241m1e-4\u001B[39m),\n\u001B[1;32m      4\u001B[0m     \u001B[38;5;124m'\u001B[39m\u001B[38;5;124mbatch_size\u001B[39m\u001B[38;5;124m'\u001B[39m: (\u001B[38;5;241m16\u001B[39m, \u001B[38;5;241m128\u001B[39m),\n\u001B[0;32m   (...)\u001B[0m\n\u001B[1;32m      7\u001B[0m     \u001B[38;5;124m'\u001B[39m\u001B[38;5;124mwarmup_steps\u001B[39m\u001B[38;5;124m'\u001B[39m: (\u001B[38;5;241m0\u001B[39m, \u001B[38;5;241m10000\u001B[39m),\n\u001B[1;32m      8\u001B[0m }\n\u001B[1;32m     10\u001B[0m optimizer \u001B[38;5;241m=\u001B[39m BayesianOptimization(\n\u001B[1;32m     11\u001B[0m     f\u001B[38;5;241m=\u001B[39mtune_model,\n\u001B[1;32m     12\u001B[0m     pbounds\u001B[38;5;241m=\u001B[39mpbounds,\n\u001B[1;32m     13\u001B[0m     random_state\u001B[38;5;241m=\u001B[39m\u001B[38;5;241m1\u001B[39m,\n\u001B[1;32m     14\u001B[0m )\n\u001B[0;32m---> 16\u001B[0m \u001B[43moptimizer\u001B[49m\u001B[38;5;241;43m.\u001B[39;49m\u001B[43mmaximize\u001B[49m\u001B[43m(\u001B[49m\n\u001B[1;32m     17\u001B[0m \u001B[43m    \u001B[49m\u001B[43minit_points\u001B[49m\u001B[38;5;241;43m=\u001B[39;49m\u001B[38;5;241;43m2\u001B[39;49m\u001B[43m,\u001B[49m\n\u001B[1;32m     18\u001B[0m \u001B[43m    \u001B[49m\u001B[43mn_iter\u001B[49m\u001B[38;5;241;43m=\u001B[39;49m\u001B[38;5;241;43m10\u001B[39;49m\u001B[43m,\u001B[49m\n\u001B[1;32m     19\u001B[0m \u001B[43m)\u001B[49m\n",
      "File \u001B[0;32m/Applications/anaconda3/envs/p2r/lib/python3.8/site-packages/bayes_opt/bayesian_optimization.py:310\u001B[0m, in \u001B[0;36mBayesianOptimization.maximize\u001B[0;34m(self, init_points, n_iter, acquisition_function, acq, kappa, kappa_decay, kappa_decay_delay, xi, **gp_params)\u001B[0m\n\u001B[1;32m    308\u001B[0m     x_probe \u001B[38;5;241m=\u001B[39m \u001B[38;5;28mself\u001B[39m\u001B[38;5;241m.\u001B[39msuggest(util)\n\u001B[1;32m    309\u001B[0m     iteration \u001B[38;5;241m+\u001B[39m\u001B[38;5;241m=\u001B[39m \u001B[38;5;241m1\u001B[39m\n\u001B[0;32m--> 310\u001B[0m \u001B[38;5;28;43mself\u001B[39;49m\u001B[38;5;241;43m.\u001B[39;49m\u001B[43mprobe\u001B[49m\u001B[43m(\u001B[49m\u001B[43mx_probe\u001B[49m\u001B[43m,\u001B[49m\u001B[43m \u001B[49m\u001B[43mlazy\u001B[49m\u001B[38;5;241;43m=\u001B[39;49m\u001B[38;5;28;43;01mFalse\u001B[39;49;00m\u001B[43m)\u001B[49m\n\u001B[1;32m    312\u001B[0m \u001B[38;5;28;01mif\u001B[39;00m \u001B[38;5;28mself\u001B[39m\u001B[38;5;241m.\u001B[39m_bounds_transformer \u001B[38;5;129;01mand\u001B[39;00m iteration \u001B[38;5;241m>\u001B[39m \u001B[38;5;241m0\u001B[39m:\n\u001B[1;32m    313\u001B[0m     \u001B[38;5;66;03m# The bounds transformer should only modify the bounds after\u001B[39;00m\n\u001B[1;32m    314\u001B[0m     \u001B[38;5;66;03m# the init_points points (only for the true iterations)\u001B[39;00m\n\u001B[1;32m    315\u001B[0m     \u001B[38;5;28mself\u001B[39m\u001B[38;5;241m.\u001B[39mset_bounds(\n\u001B[1;32m    316\u001B[0m         \u001B[38;5;28mself\u001B[39m\u001B[38;5;241m.\u001B[39m_bounds_transformer\u001B[38;5;241m.\u001B[39mtransform(\u001B[38;5;28mself\u001B[39m\u001B[38;5;241m.\u001B[39m_space))\n",
      "File \u001B[0;32m/Applications/anaconda3/envs/p2r/lib/python3.8/site-packages/bayes_opt/bayesian_optimization.py:208\u001B[0m, in \u001B[0;36mBayesianOptimization.probe\u001B[0;34m(self, params, lazy)\u001B[0m\n\u001B[1;32m    206\u001B[0m     \u001B[38;5;28mself\u001B[39m\u001B[38;5;241m.\u001B[39m_queue\u001B[38;5;241m.\u001B[39madd(params)\n\u001B[1;32m    207\u001B[0m \u001B[38;5;28;01melse\u001B[39;00m:\n\u001B[0;32m--> 208\u001B[0m     \u001B[38;5;28;43mself\u001B[39;49m\u001B[38;5;241;43m.\u001B[39;49m\u001B[43m_space\u001B[49m\u001B[38;5;241;43m.\u001B[39;49m\u001B[43mprobe\u001B[49m\u001B[43m(\u001B[49m\u001B[43mparams\u001B[49m\u001B[43m)\u001B[49m\n\u001B[1;32m    209\u001B[0m     \u001B[38;5;28mself\u001B[39m\u001B[38;5;241m.\u001B[39mdispatch(Events\u001B[38;5;241m.\u001B[39mOPTIMIZATION_STEP)\n",
      "File \u001B[0;32m/Applications/anaconda3/envs/p2r/lib/python3.8/site-packages/bayes_opt/target_space.py:236\u001B[0m, in \u001B[0;36mTargetSpace.probe\u001B[0;34m(self, params)\u001B[0m\n\u001B[1;32m    234\u001B[0m x \u001B[38;5;241m=\u001B[39m \u001B[38;5;28mself\u001B[39m\u001B[38;5;241m.\u001B[39m_as_array(params)\n\u001B[1;32m    235\u001B[0m params \u001B[38;5;241m=\u001B[39m \u001B[38;5;28mdict\u001B[39m(\u001B[38;5;28mzip\u001B[39m(\u001B[38;5;28mself\u001B[39m\u001B[38;5;241m.\u001B[39m_keys, x))\n\u001B[0;32m--> 236\u001B[0m target \u001B[38;5;241m=\u001B[39m \u001B[38;5;28;43mself\u001B[39;49m\u001B[38;5;241;43m.\u001B[39;49m\u001B[43mtarget_func\u001B[49m\u001B[43m(\u001B[49m\u001B[38;5;241;43m*\u001B[39;49m\u001B[38;5;241;43m*\u001B[39;49m\u001B[43mparams\u001B[49m\u001B[43m)\u001B[49m\n\u001B[1;32m    238\u001B[0m \u001B[38;5;28;01mif\u001B[39;00m \u001B[38;5;28mself\u001B[39m\u001B[38;5;241m.\u001B[39m_constraint \u001B[38;5;129;01mis\u001B[39;00m \u001B[38;5;28;01mNone\u001B[39;00m:\n\u001B[1;32m    239\u001B[0m     \u001B[38;5;28mself\u001B[39m\u001B[38;5;241m.\u001B[39mregister(x, target)\n",
      "Cell \u001B[0;32mIn[97], line 29\u001B[0m, in \u001B[0;36mtune_model\u001B[0;34m(learning_rate, weight_decay, num_train_epochs, warmup_steps, batch_size)\u001B[0m\n\u001B[1;32m     26\u001B[0m loss \u001B[38;5;241m=\u001B[39m outputs\u001B[38;5;241m.\u001B[39mloss\n\u001B[1;32m     27\u001B[0m total_loss \u001B[38;5;241m+\u001B[39m\u001B[38;5;241m=\u001B[39m loss\u001B[38;5;241m.\u001B[39mitem()\n\u001B[0;32m---> 29\u001B[0m \u001B[43mloss\u001B[49m\u001B[38;5;241;43m.\u001B[39;49m\u001B[43mbackward\u001B[49m\u001B[43m(\u001B[49m\u001B[43m)\u001B[49m\n\u001B[1;32m     30\u001B[0m torch\u001B[38;5;241m.\u001B[39mnn\u001B[38;5;241m.\u001B[39mutils\u001B[38;5;241m.\u001B[39mclip_grad_norm_(model\u001B[38;5;241m.\u001B[39mparameters(), \u001B[38;5;241m1.0\u001B[39m)\n\u001B[1;32m     31\u001B[0m optimizer\u001B[38;5;241m.\u001B[39mstep()\n",
      "File \u001B[0;32m/Applications/anaconda3/envs/p2r/lib/python3.8/site-packages/torch/_tensor.py:522\u001B[0m, in \u001B[0;36mTensor.backward\u001B[0;34m(self, gradient, retain_graph, create_graph, inputs)\u001B[0m\n\u001B[1;32m    512\u001B[0m \u001B[38;5;28;01mif\u001B[39;00m has_torch_function_unary(\u001B[38;5;28mself\u001B[39m):\n\u001B[1;32m    513\u001B[0m     \u001B[38;5;28;01mreturn\u001B[39;00m handle_torch_function(\n\u001B[1;32m    514\u001B[0m         Tensor\u001B[38;5;241m.\u001B[39mbackward,\n\u001B[1;32m    515\u001B[0m         (\u001B[38;5;28mself\u001B[39m,),\n\u001B[0;32m   (...)\u001B[0m\n\u001B[1;32m    520\u001B[0m         inputs\u001B[38;5;241m=\u001B[39minputs,\n\u001B[1;32m    521\u001B[0m     )\n\u001B[0;32m--> 522\u001B[0m \u001B[43mtorch\u001B[49m\u001B[38;5;241;43m.\u001B[39;49m\u001B[43mautograd\u001B[49m\u001B[38;5;241;43m.\u001B[39;49m\u001B[43mbackward\u001B[49m\u001B[43m(\u001B[49m\n\u001B[1;32m    523\u001B[0m \u001B[43m    \u001B[49m\u001B[38;5;28;43mself\u001B[39;49m\u001B[43m,\u001B[49m\u001B[43m \u001B[49m\u001B[43mgradient\u001B[49m\u001B[43m,\u001B[49m\u001B[43m \u001B[49m\u001B[43mretain_graph\u001B[49m\u001B[43m,\u001B[49m\u001B[43m \u001B[49m\u001B[43mcreate_graph\u001B[49m\u001B[43m,\u001B[49m\u001B[43m \u001B[49m\u001B[43minputs\u001B[49m\u001B[38;5;241;43m=\u001B[39;49m\u001B[43minputs\u001B[49m\n\u001B[1;32m    524\u001B[0m \u001B[43m\u001B[49m\u001B[43m)\u001B[49m\n",
      "File \u001B[0;32m/Applications/anaconda3/envs/p2r/lib/python3.8/site-packages/torch/autograd/__init__.py:266\u001B[0m, in \u001B[0;36mbackward\u001B[0;34m(tensors, grad_tensors, retain_graph, create_graph, grad_variables, inputs)\u001B[0m\n\u001B[1;32m    261\u001B[0m     retain_graph \u001B[38;5;241m=\u001B[39m create_graph\n\u001B[1;32m    263\u001B[0m \u001B[38;5;66;03m# The reason we repeat the same comment below is that\u001B[39;00m\n\u001B[1;32m    264\u001B[0m \u001B[38;5;66;03m# some Python versions print out the first line of a multi-line function\u001B[39;00m\n\u001B[1;32m    265\u001B[0m \u001B[38;5;66;03m# calls in the traceback and some print out the last line\u001B[39;00m\n\u001B[0;32m--> 266\u001B[0m \u001B[43mVariable\u001B[49m\u001B[38;5;241;43m.\u001B[39;49m\u001B[43m_execution_engine\u001B[49m\u001B[38;5;241;43m.\u001B[39;49m\u001B[43mrun_backward\u001B[49m\u001B[43m(\u001B[49m\u001B[43m  \u001B[49m\u001B[38;5;66;43;03m# Calls into the C++ engine to run the backward pass\u001B[39;49;00m\n\u001B[1;32m    267\u001B[0m \u001B[43m    \u001B[49m\u001B[43mtensors\u001B[49m\u001B[43m,\u001B[49m\n\u001B[1;32m    268\u001B[0m \u001B[43m    \u001B[49m\u001B[43mgrad_tensors_\u001B[49m\u001B[43m,\u001B[49m\n\u001B[1;32m    269\u001B[0m \u001B[43m    \u001B[49m\u001B[43mretain_graph\u001B[49m\u001B[43m,\u001B[49m\n\u001B[1;32m    270\u001B[0m \u001B[43m    \u001B[49m\u001B[43mcreate_graph\u001B[49m\u001B[43m,\u001B[49m\n\u001B[1;32m    271\u001B[0m \u001B[43m    \u001B[49m\u001B[43minputs\u001B[49m\u001B[43m,\u001B[49m\n\u001B[1;32m    272\u001B[0m \u001B[43m    \u001B[49m\u001B[43mallow_unreachable\u001B[49m\u001B[38;5;241;43m=\u001B[39;49m\u001B[38;5;28;43;01mTrue\u001B[39;49;00m\u001B[43m,\u001B[49m\n\u001B[1;32m    273\u001B[0m \u001B[43m    \u001B[49m\u001B[43maccumulate_grad\u001B[49m\u001B[38;5;241;43m=\u001B[39;49m\u001B[38;5;28;43;01mTrue\u001B[39;49;00m\u001B[43m,\u001B[49m\n\u001B[1;32m    274\u001B[0m \u001B[43m\u001B[49m\u001B[43m)\u001B[49m\n",
      "\u001B[0;31mKeyboardInterrupt\u001B[0m: "
     ]
    }
   ],
   "source": [
    "# Define parameter bounds\n",
    "pbounds = {\n",
    "    'learning_rate': (1e-6, 1e-4),\n",
    "    'batch_size': (16, 128),\n",
    "    'num_train_epochs': (1, 10),\n",
    "    'weight_decay': (1e-4, 1e-2),\n",
    "    'warmup_steps': (0, 10000),\n",
    "}\n",
    "\n",
    "optimizer = BayesianOptimization(\n",
    "    f=tune_model,\n",
    "    pbounds=pbounds,\n",
    "    random_state=1,\n",
    ")\n",
    "\n",
    "optimizer.maximize(\n",
    "    init_points=2,\n",
    "    n_iter=10,\n",
    ")"
   ],
   "metadata": {
    "collapsed": false,
    "ExecuteTime": {
     "end_time": "2024-04-25T06:36:01.022216Z",
     "start_time": "2024-04-25T06:35:26.046643Z"
    }
   }
  },
  {
   "cell_type": "code",
   "execution_count": 84,
   "outputs": [
    {
     "name": "stdout",
     "output_type": "stream",
     "text": [
      "Best hyperparameters found:\n",
      "- Learning Rate: 0.00036295900178665746\n",
      "- Batch Size: 18\n",
      "- Training Epochs: 2\n",
      "- Weight Decay: 0.014675589081711305\n",
      "- Warmup Steps: 151\n"
     ]
    }
   ],
   "source": [
    "best_params = optimizer.max['params']\n",
    "print(\"Best hyperparameters found:\")\n",
    "print(f\"- Learning Rate: {best_params['learning_rate']}\")\n",
    "print(f\"- Batch Size: {int(best_params['batch_size'])}\")\n",
    "print(f\"- Training Epochs: {int(best_params['num_train_epochs'])}\")\n",
    "print(f\"- Weight Decay: {best_params['weight_decay']}\")\n",
    "print(f\"- Warmup Steps: {int(best_params['warmup_steps'])}\")"
   ],
   "metadata": {
    "collapsed": false,
    "ExecuteTime": {
     "start_time": "2024-04-25T05:53:27.095615Z"
    }
   }
  },
  {
   "cell_type": "markdown",
   "source": [
    "#### Optimized Model Training and Validation"
   ],
   "metadata": {
    "collapsed": false
   }
  },
  {
   "cell_type": "code",
   "execution_count": 87,
   "outputs": [
    {
     "data": {
      "text/plain": "GPT2LMHeadModel(\n  (transformer): GPT2Model(\n    (wte): Embedding(50257, 768)\n    (wpe): Embedding(1024, 768)\n    (drop): Dropout(p=0.1, inplace=False)\n    (h): ModuleList(\n      (0-11): 12 x GPT2Block(\n        (ln_1): LayerNorm((768,), eps=1e-05, elementwise_affine=True)\n        (attn): GPT2Attention(\n          (c_attn): Conv1D()\n          (c_proj): Conv1D()\n          (attn_dropout): Dropout(p=0.1, inplace=False)\n          (resid_dropout): Dropout(p=0.1, inplace=False)\n        )\n        (ln_2): LayerNorm((768,), eps=1e-05, elementwise_affine=True)\n        (mlp): GPT2MLP(\n          (c_fc): Conv1D()\n          (c_proj): Conv1D()\n          (act): NewGELUActivation()\n          (dropout): Dropout(p=0.1, inplace=False)\n        )\n      )\n    )\n    (ln_f): LayerNorm((768,), eps=1e-05, elementwise_affine=True)\n  )\n  (lm_head): Linear(in_features=768, out_features=50257, bias=False)\n)"
     },
     "execution_count": 87,
     "metadata": {},
     "output_type": "execute_result"
    }
   ],
   "source": [
    "best_model, tokenizer = load_model(best_model_path)\n",
    "best_model.to(device)"
   ],
   "metadata": {
    "collapsed": false,
    "ExecuteTime": {
     "start_time": "2024-04-25T05:56:09.232041Z"
    }
   }
  },
  {
   "cell_type": "markdown",
   "source": [],
   "metadata": {
    "collapsed": false
   }
  },
  {
   "cell_type": "code",
   "execution_count": 88,
   "outputs": [
    {
     "name": "stderr",
     "output_type": "stream",
     "text": [
      "/Applications/anaconda3/envs/p2r/lib/python3.8/site-packages/transformers/optimization.py:429: FutureWarning: This implementation of AdamW is deprecated and will be removed in a future version. Use the PyTorch implementation torch.optim.AdamW instead, or set `no_deprecation_warning=True` to disable this warning\n",
      "  warnings.warn(\n",
      "/Applications/anaconda3/envs/p2r/lib/python3.8/site-packages/transformers/tokenization_utils_base.py:2619: FutureWarning: The `pad_to_max_length` argument is deprecated and will be removed in a future version, use `padding=True` or `padding='longest'` to pad to the longest sequence in the batch, or use `padding='max_length'` to pad to a max length. In this case, you can give a specific length with `max_length` (e.g. `max_length=45`) or leave max_length to None to pad to the maximal input size of the model (e.g. 512 for Bert).\n",
      "  warnings.warn(\n"
     ]
    },
    {
     "name": "stdout",
     "output_type": "stream",
     "text": [
      "Epoch 1/2 | Train Loss: 0.447 | Train PPL: 1.564 | Val Loss: 0.392 | Val PPL: 1.481\n",
      "Epoch 2/2 | Train Loss: 0.445 | Train PPL: 1.560 | Val Loss: 0.392 | Val PPL: 1.480\n"
     ]
    }
   ],
   "source": [
    "best_batch_size = int(best_params['batch_size'])\n",
    "train_loader, val_loader = create_data_loaders(recipes, best_batch_size, tokenizer, max_length=512)\n",
    "\n",
    "training_losses, validation_losses, training_perplexities, validation_perplexities = train_and_validate(best_model, recipes, tokenizer, device, best_params)"
   ],
   "metadata": {
    "collapsed": false,
    "ExecuteTime": {
     "start_time": "2024-04-25T05:56:16.744534Z"
    }
   }
  },
  {
   "cell_type": "markdown",
   "source": [
    "### Visualizing Results\n",
    "\n",
    "- Training Loss: Plot the training and validation loss over epochs to visualize learning progress and diagnose issues like overfitting or underfitting.\n",
    "- BLEU Scores or Perplexity Over Time: Similarly, track and plot BLEU scores or perplexity over epochs to assess language model performance improvements."
   ],
   "metadata": {
    "collapsed": false
   }
  },
  {
   "cell_type": "code",
   "execution_count": 71,
   "outputs": [
    {
     "data": {
      "text/plain": "<Figure size 1200x600 with 2 Axes>",
      "image/png": "[encoded data removed]"
     },
     "metadata": {},
     "output_type": "display_data"
    }
   ],
   "source": [
    "plot_validation_curves(training_losses, validation_losses, training_perplexities, validation_perplexities)"
   ],
   "metadata": {
    "collapsed": false,
    "ExecuteTime": {
     "start_time": "2024-04-25T05:00:51.346074Z"
    }
   }
  },
  {
   "cell_type": "markdown",
   "source": [
    "### Example: Generating a Recipe with Optimized model"
   ],
   "metadata": {
    "collapsed": false
   }
  },
  {
   "cell_type": "code",
   "execution_count": 74,
   "outputs": [],
   "source": [
    "# Load the best model\n",
    "best_model, tokenizer = load_model(best_model_path)\n",
    "tokenizer.pad_token = tokenizer.eos_token\n",
    "best_model.to(device)\n",
    "\n",
    "tfidf_vectorizer, tfidf_matrix = prepare_similarity_matrix(recipes)"
   ],
   "metadata": {
    "collapsed": false,
    "ExecuteTime": {
     "start_time": "2024-04-25T05:07:00.605764Z"
    }
   }
  },
  {
   "cell_type": "code",
   "execution_count": 79,
   "outputs": [
    {
     "name": "stderr",
     "output_type": "stream",
     "text": [
      "A decoder-only architecture is being used, but right-padding was detected! For correct generation results, please set `padding_side='left'` when initializing the tokenizer.\n",
      "/Applications/anaconda3/envs/p2r/lib/python3.8/site-packages/transformers/generation/utils.py:1141: UserWarning: Input length of input_ids is 1024, but `max_length` is set to 1024. This can lead to unexpected behavior. You should consider increasing `max_new_tokens`.\n",
      "  warnings.warn(\n"
     ]
    },
    {
     "name": "stdout",
     "output_type": "stream",
     "text": [
      "Recipe Title: Ceviche\n",
      "\n",
      "Ingredients:\n",
      "- 1 lb. whitefish fillets (raw)\n",
      "- juice of 1 lime\n",
      "- 2 medium size tomatoes, peeled\n",
      "- 2 green chilies, chopped\n",
      "- 1 small onion, thinly sliced\n",
      "- 1/4 tsp. oregano\n",
      "- 3 sprigs cilantro, chopped\n",
      "- slices of 1 avocado\n",
      "- wedges of 1 tomato\n",
      "Directions:\n",
      "Step 1: Cut uncooked fish into small pieces.\n",
      "Step 2: Add lime juice to cover fish; cover and refrigerate 3 to 4 hours, or until fish become opaque.\n",
      "Step 3: Stir occasionally.\n"
     ]
    }
   ],
   "source": [
    "# Generate the recipe\n",
    "recipe_text = generate_recipe_text(user_ingredients, recipes, tfidf_vectorizer, tfidf_matrix, best_model, tokenizer)\n",
    "\n",
    "print(recipe_text)"
   ],
   "metadata": {
    "collapsed": false,
    "ExecuteTime": {
     "start_time": "2024-04-25T05:13:17.653617Z"
    }
   }
  }
 ],
 "metadata": {
  "kernelspec": {
   "name": "conda-env-p2r-py",
   "language": "python",
   "display_name": "Python [conda env:p2r] *"
  },
  "language_info": {
   "codemirror_mode": {
    "name": "ipython",
    "version": 3
   },
   "file_extension": ".py",
   "mimetype": "text/x-python",
   "name": "python",
   "nbconvert_exporter": "python",
   "pygments_lexer": "ipython3",
   "version": "3.8.19"
  }
 },
 "nbformat": 4,
 "nbformat_minor": 2
}
